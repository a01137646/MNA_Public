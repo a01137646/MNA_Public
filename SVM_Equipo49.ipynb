{
  "nbformat": 4,
  "nbformat_minor": 0,
  "metadata": {
    "colab": {
      "provenance": [],
      "collapsed_sections": [],
      "include_colab_link": true
    },
    "kernelspec": {
      "display_name": "Python 3",
      "name": "python3"
    }
  },
  "cells": [
    {
      "cell_type": "markdown",
      "metadata": {
        "id": "view-in-github",
        "colab_type": "text"
      },
      "source": [
        "<a href=\"https://colab.research.google.com/github/a01137646/MNA_Public/blob/main/SVM_Equipo49.ipynb\" target=\"_parent\"><img src=\"https://colab.research.google.com/assets/colab-badge.svg\" alt=\"Open In Colab\"/></a>"
      ]
    },
    {
      "cell_type": "markdown",
      "source": [
        "#**Maestría en Inteligencia Artificial Aplicada**\n",
        "##**Curso: Inteligencia Artificial y Aprendizaje Automático**\n",
        "###Tecnológico de Monterrey\n",
        "###Prof Luis Eduardo Falcón Morales\n",
        "\n",
        "## **Adtividad de la Semana 8**\n",
        "###**Máquina de Vector Soporte - Support Vector Machine(SVM)**\n"
      ],
      "metadata": {
        "id": "VFj0sSM06dYa"
      }
    },
    {
      "cell_type": "markdown",
      "source": [
        "**Nombres y matrículas de los integrantes del equipo:**\n",
        "\n",
        "* Gerardo Aaron Castañeda Jaramillo - A01137646\n",
        "* Dalina Aidee Villa Ocelotl - A01793258\n",
        "* Yocelin Juárez Arroyo - A00819828\n",
        "* Victor Hugo Avila Felipe - A01794425\n"
      ],
      "metadata": {
        "id": "Qgrvy0RGB9XI"
      }
    },
    {
      "cell_type": "markdown",
      "source": [
        "En cada sección deberás incluir todas las líneas de código necesarias para responder a cada uno de los ejercicios."
      ],
      "metadata": {
        "id": "FrJ2ahMODVj1"
      }
    },
    {
      "cell_type": "code",
      "source": [
        "# Incluye aquí todos módulos, librerías y paquetes que requieras.\n",
        "import numpy as np\n",
        "import pandas as pd\n",
        "import seaborn as sns \n",
        "import matplotlib.pyplot as plt \n",
        "\n",
        "from sklearn.model_selection import train_test_split\n",
        "\n",
        "from sklearn.pipeline import Pipeline\n",
        "from sklearn.compose import ColumnTransformer\n",
        "\n",
        "from sklearn.impute import SimpleImputer\n",
        "from sklearn.preprocessing import MinMaxScaler, OneHotEncoder\n",
        "\n",
        "from sklearn.preprocessing import FunctionTransformer\n",
        "\n",
        "from sklearn.metrics import accuracy_score, f1_score, precision_score, recall_score\n",
        "\n",
        "from sklearn.dummy import DummyClassifier\n",
        "\n",
        "from sklearn import svm\n",
        "\n",
        "from sklearn.model_selection import cross_val_score\n",
        "from sklearn.model_selection import RepeatedStratifiedKFold, cross_validate, StratifiedKFold\n",
        "\n",
        "from sklearn.model_selection import GridSearchCV\n",
        "from sklearn.metrics import get_scorer\n",
        "from sklearn.metrics import confusion_matrix\n",
        "\n",
        "from sklearn.metrics import classification_report, make_scorer\n",
        "\n",
        "from sklearn.model_selection import learning_curve\n",
        "from sklearn.model_selection import validation_curve\n",
        "\n",
        "from sklearn import metrics\n",
        "from sklearn.metrics import RocCurveDisplay, precision_recall_curve"
      ],
      "metadata": {
        "id": "exXsscs-Dh-2"
      },
      "execution_count": null,
      "outputs": []
    },
    {
      "cell_type": "code",
      "source": [
        "mypath = \"https://archive.ics.uci.edu/ml/machine-learning-databases/statlog/australian/australian.dat\"\n",
        "\n",
        "data = pd.read_csv(mypath, sep=\" \", header=None)\n",
        "\n",
        "data.columns = ['A1','A2','A3','A4','A5','A6','A7','A8','A9','A10','A11','A12','A13','A14','class']\n",
        "\n",
        "print(data.shape)\n",
        "data.head()"
      ],
      "metadata": {
        "colab": {
          "base_uri": "https://localhost:8080/",
          "height": 224
        },
        "id": "-MD8hMdZjJ6-",
        "outputId": "5b708644-13f0-4cae-fc68-301b7be9d6a8"
      },
      "execution_count": null,
      "outputs": [
        {
          "output_type": "stream",
          "name": "stdout",
          "text": [
            "(690, 15)\n"
          ]
        },
        {
          "output_type": "execute_result",
          "data": {
            "text/plain": [
              "   A1     A2     A3  A4  A5  A6     A7  A8  A9  A10  A11  A12  A13   A14  \\\n",
              "0   1  22.08  11.46   2   4   4  1.585   0   0    0    1    2  100  1213   \n",
              "1   0  22.67   7.00   2   8   4  0.165   0   0    0    0    2  160     1   \n",
              "2   0  29.58   1.75   1   4   4  1.250   0   0    0    1    2  280     1   \n",
              "3   0  21.67  11.50   1   5   3  0.000   1   1   11    1    2    0     1   \n",
              "4   1  20.17   8.17   2   6   4  1.960   1   1   14    0    2   60   159   \n",
              "\n",
              "   class  \n",
              "0      0  \n",
              "1      0  \n",
              "2      0  \n",
              "3      1  \n",
              "4      1  "
            ],
            "text/html": [
              "\n",
              "  <div id=\"df-8328609f-15eb-48e3-8b50-b7003b32c5b3\">\n",
              "    <div class=\"colab-df-container\">\n",
              "      <div>\n",
              "<style scoped>\n",
              "    .dataframe tbody tr th:only-of-type {\n",
              "        vertical-align: middle;\n",
              "    }\n",
              "\n",
              "    .dataframe tbody tr th {\n",
              "        vertical-align: top;\n",
              "    }\n",
              "\n",
              "    .dataframe thead th {\n",
              "        text-align: right;\n",
              "    }\n",
              "</style>\n",
              "<table border=\"1\" class=\"dataframe\">\n",
              "  <thead>\n",
              "    <tr style=\"text-align: right;\">\n",
              "      <th></th>\n",
              "      <th>A1</th>\n",
              "      <th>A2</th>\n",
              "      <th>A3</th>\n",
              "      <th>A4</th>\n",
              "      <th>A5</th>\n",
              "      <th>A6</th>\n",
              "      <th>A7</th>\n",
              "      <th>A8</th>\n",
              "      <th>A9</th>\n",
              "      <th>A10</th>\n",
              "      <th>A11</th>\n",
              "      <th>A12</th>\n",
              "      <th>A13</th>\n",
              "      <th>A14</th>\n",
              "      <th>class</th>\n",
              "    </tr>\n",
              "  </thead>\n",
              "  <tbody>\n",
              "    <tr>\n",
              "      <th>0</th>\n",
              "      <td>1</td>\n",
              "      <td>22.08</td>\n",
              "      <td>11.46</td>\n",
              "      <td>2</td>\n",
              "      <td>4</td>\n",
              "      <td>4</td>\n",
              "      <td>1.585</td>\n",
              "      <td>0</td>\n",
              "      <td>0</td>\n",
              "      <td>0</td>\n",
              "      <td>1</td>\n",
              "      <td>2</td>\n",
              "      <td>100</td>\n",
              "      <td>1213</td>\n",
              "      <td>0</td>\n",
              "    </tr>\n",
              "    <tr>\n",
              "      <th>1</th>\n",
              "      <td>0</td>\n",
              "      <td>22.67</td>\n",
              "      <td>7.00</td>\n",
              "      <td>2</td>\n",
              "      <td>8</td>\n",
              "      <td>4</td>\n",
              "      <td>0.165</td>\n",
              "      <td>0</td>\n",
              "      <td>0</td>\n",
              "      <td>0</td>\n",
              "      <td>0</td>\n",
              "      <td>2</td>\n",
              "      <td>160</td>\n",
              "      <td>1</td>\n",
              "      <td>0</td>\n",
              "    </tr>\n",
              "    <tr>\n",
              "      <th>2</th>\n",
              "      <td>0</td>\n",
              "      <td>29.58</td>\n",
              "      <td>1.75</td>\n",
              "      <td>1</td>\n",
              "      <td>4</td>\n",
              "      <td>4</td>\n",
              "      <td>1.250</td>\n",
              "      <td>0</td>\n",
              "      <td>0</td>\n",
              "      <td>0</td>\n",
              "      <td>1</td>\n",
              "      <td>2</td>\n",
              "      <td>280</td>\n",
              "      <td>1</td>\n",
              "      <td>0</td>\n",
              "    </tr>\n",
              "    <tr>\n",
              "      <th>3</th>\n",
              "      <td>0</td>\n",
              "      <td>21.67</td>\n",
              "      <td>11.50</td>\n",
              "      <td>1</td>\n",
              "      <td>5</td>\n",
              "      <td>3</td>\n",
              "      <td>0.000</td>\n",
              "      <td>1</td>\n",
              "      <td>1</td>\n",
              "      <td>11</td>\n",
              "      <td>1</td>\n",
              "      <td>2</td>\n",
              "      <td>0</td>\n",
              "      <td>1</td>\n",
              "      <td>1</td>\n",
              "    </tr>\n",
              "    <tr>\n",
              "      <th>4</th>\n",
              "      <td>1</td>\n",
              "      <td>20.17</td>\n",
              "      <td>8.17</td>\n",
              "      <td>2</td>\n",
              "      <td>6</td>\n",
              "      <td>4</td>\n",
              "      <td>1.960</td>\n",
              "      <td>1</td>\n",
              "      <td>1</td>\n",
              "      <td>14</td>\n",
              "      <td>0</td>\n",
              "      <td>2</td>\n",
              "      <td>60</td>\n",
              "      <td>159</td>\n",
              "      <td>1</td>\n",
              "    </tr>\n",
              "  </tbody>\n",
              "</table>\n",
              "</div>\n",
              "      <button class=\"colab-df-convert\" onclick=\"convertToInteractive('df-8328609f-15eb-48e3-8b50-b7003b32c5b3')\"\n",
              "              title=\"Convert this dataframe to an interactive table.\"\n",
              "              style=\"display:none;\">\n",
              "        \n",
              "  <svg xmlns=\"http://www.w3.org/2000/svg\" height=\"24px\"viewBox=\"0 0 24 24\"\n",
              "       width=\"24px\">\n",
              "    <path d=\"M0 0h24v24H0V0z\" fill=\"none\"/>\n",
              "    <path d=\"M18.56 5.44l.94 2.06.94-2.06 2.06-.94-2.06-.94-.94-2.06-.94 2.06-2.06.94zm-11 1L8.5 8.5l.94-2.06 2.06-.94-2.06-.94L8.5 2.5l-.94 2.06-2.06.94zm10 10l.94 2.06.94-2.06 2.06-.94-2.06-.94-.94-2.06-.94 2.06-2.06.94z\"/><path d=\"M17.41 7.96l-1.37-1.37c-.4-.4-.92-.59-1.43-.59-.52 0-1.04.2-1.43.59L10.3 9.45l-7.72 7.72c-.78.78-.78 2.05 0 2.83L4 21.41c.39.39.9.59 1.41.59.51 0 1.02-.2 1.41-.59l7.78-7.78 2.81-2.81c.8-.78.8-2.07 0-2.86zM5.41 20L4 18.59l7.72-7.72 1.47 1.35L5.41 20z\"/>\n",
              "  </svg>\n",
              "      </button>\n",
              "      \n",
              "  <style>\n",
              "    .colab-df-container {\n",
              "      display:flex;\n",
              "      flex-wrap:wrap;\n",
              "      gap: 12px;\n",
              "    }\n",
              "\n",
              "    .colab-df-convert {\n",
              "      background-color: #E8F0FE;\n",
              "      border: none;\n",
              "      border-radius: 50%;\n",
              "      cursor: pointer;\n",
              "      display: none;\n",
              "      fill: #1967D2;\n",
              "      height: 32px;\n",
              "      padding: 0 0 0 0;\n",
              "      width: 32px;\n",
              "    }\n",
              "\n",
              "    .colab-df-convert:hover {\n",
              "      background-color: #E2EBFA;\n",
              "      box-shadow: 0px 1px 2px rgba(60, 64, 67, 0.3), 0px 1px 3px 1px rgba(60, 64, 67, 0.15);\n",
              "      fill: #174EA6;\n",
              "    }\n",
              "\n",
              "    [theme=dark] .colab-df-convert {\n",
              "      background-color: #3B4455;\n",
              "      fill: #D2E3FC;\n",
              "    }\n",
              "\n",
              "    [theme=dark] .colab-df-convert:hover {\n",
              "      background-color: #434B5C;\n",
              "      box-shadow: 0px 1px 3px 1px rgba(0, 0, 0, 0.15);\n",
              "      filter: drop-shadow(0px 1px 2px rgba(0, 0, 0, 0.3));\n",
              "      fill: #FFFFFF;\n",
              "    }\n",
              "  </style>\n",
              "\n",
              "      <script>\n",
              "        const buttonEl =\n",
              "          document.querySelector('#df-8328609f-15eb-48e3-8b50-b7003b32c5b3 button.colab-df-convert');\n",
              "        buttonEl.style.display =\n",
              "          google.colab.kernel.accessAllowed ? 'block' : 'none';\n",
              "\n",
              "        async function convertToInteractive(key) {\n",
              "          const element = document.querySelector('#df-8328609f-15eb-48e3-8b50-b7003b32c5b3');\n",
              "          const dataTable =\n",
              "            await google.colab.kernel.invokeFunction('convertToInteractive',\n",
              "                                                     [key], {});\n",
              "          if (!dataTable) return;\n",
              "\n",
              "          const docLinkHtml = 'Like what you see? Visit the ' +\n",
              "            '<a target=\"_blank\" href=https://colab.research.google.com/notebooks/data_table.ipynb>data table notebook</a>'\n",
              "            + ' to learn more about interactive tables.';\n",
              "          element.innerHTML = '';\n",
              "          dataTable['output_type'] = 'display_data';\n",
              "          await google.colab.output.renderOutput(dataTable, element);\n",
              "          const docLink = document.createElement('div');\n",
              "          docLink.innerHTML = docLinkHtml;\n",
              "          element.appendChild(docLink);\n",
              "        }\n",
              "      </script>\n",
              "    </div>\n",
              "  </div>\n",
              "  "
            ]
          },
          "metadata": {},
          "execution_count": 2
        }
      ]
    },
    {
      "cell_type": "code",
      "source": [
        "Y = data[['class']]\n",
        "X = data.drop(labels='class',axis=1)"
      ],
      "metadata": {
        "id": "chlpFrnRj4xd"
      },
      "execution_count": null,
      "outputs": []
    },
    {
      "cell_type": "markdown",
      "metadata": {
        "id": "X25brD-gQdZM"
      },
      "source": [
        "#**Ejercicio-1.** "
      ]
    },
    {
      "cell_type": "markdown",
      "source": [
        "Realiza una partición de los datos con 15% en el conjunto de prueba y el resto para entrenamiento y validación. Usa un random_state=0. "
      ],
      "metadata": {
        "id": "SkweNrzwjy-0"
      }
    },
    {
      "cell_type": "code",
      "source": [
        "Xtv, Xtest, ytv, ytest = train_test_split(X, Y, test_size=0.15, stratify=Y, random_state=0)  \n",
        "\n",
        "print(Xtv.shape, ': dimensión de datos de entrada para entrenamiento y validación')\n",
        "print(Xtest.shape, ': dimensión de datos de entrada para prueba')  \n",
        "\n",
        "print(ytv.shape, ': dimensión de variable de salida para entrenamiento y validación')\n",
        "print(ytest.shape, ': dimensión de variable de salida para prueba')"
      ],
      "metadata": {
        "id": "3nU2GuWYCy6C",
        "colab": {
          "base_uri": "https://localhost:8080/"
        },
        "outputId": "5c494e91-9fed-41ef-89a3-4c8032d8c05b"
      },
      "execution_count": null,
      "outputs": [
        {
          "output_type": "stream",
          "name": "stdout",
          "text": [
            "(586, 14) : dimensión de datos de entrada para entrenamiento y validación\n",
            "(104, 14) : dimensión de datos de entrada para prueba\n",
            "(586, 1) : dimensión de variable de salida para entrenamiento y validación\n",
            "(104, 1) : dimensión de variable de salida para prueba\n"
          ]
        }
      ]
    },
    {
      "cell_type": "markdown",
      "source": [
        "#**Ejercicio-2.**"
      ],
      "metadata": {
        "id": "xZhr2hkECzVv"
      }
    },
    {
      "cell_type": "markdown",
      "source": [
        "Hacer una análisis de los datos y llevar a cabo las transformaciones que consideres adecuadas. Utiliza un Pipeline para evitar el filtrado de información"
      ],
      "metadata": {
        "id": "9cxv4U1qk308"
      }
    },
    {
      "cell_type": "markdown",
      "source": [
        "Observando lo que nos dice la documentación:\n",
        "* A1:\t0,1    CATEGORICAL a,b\n",
        "* A2:\tcontinuous.\n",
        "* A3:\tcontinuous.\n",
        "* A4:\t1,2,3         CATEGORICAL p,g,gg\n",
        "* A5:  1, 2,3,4,5, 6,7,8,9,10,11,12,13,14    CATEGORICAL ff,d,i,k,j,aa,m,c,w, e, q, r,cc, x \n",
        "* A6:\t 1, 2,3, 4,5,6,7,8,9    CATEGORICAL ff,dd,j,bb,v,n,o,h,z \n",
        "* A7:\tcontinuous.\n",
        "* A8:\t1, 0       CATEGORICAL t, f.\n",
        "* A9: 1, 0\t    CATEGORICAL t, f.\n",
        "* A10:\tcontinuous.\n",
        "* A11:  1, 0\t    CATEGORICAL t, f.\n",
        "* A12:    1, 2, 3    CATEGORICAL s, g, p \n",
        "* A13:\tcontinuous.\n",
        "* A14:\tcontinuous.\n",
        "* A15:   1,2 +,-         (class attribute)\n"
      ],
      "metadata": {
        "id": "7X-cO6feu6Kc"
      }
    },
    {
      "cell_type": "code",
      "source": [
        "data.info()"
      ],
      "metadata": {
        "colab": {
          "base_uri": "https://localhost:8080/"
        },
        "id": "ZfeFfBWTv1-L",
        "outputId": "c270e874-9df0-4081-cc77-a4c47bfaa38f"
      },
      "execution_count": null,
      "outputs": [
        {
          "output_type": "stream",
          "name": "stdout",
          "text": [
            "<class 'pandas.core.frame.DataFrame'>\n",
            "RangeIndex: 690 entries, 0 to 689\n",
            "Data columns (total 15 columns):\n",
            " #   Column  Non-Null Count  Dtype  \n",
            "---  ------  --------------  -----  \n",
            " 0   A1      690 non-null    int64  \n",
            " 1   A2      690 non-null    float64\n",
            " 2   A3      690 non-null    float64\n",
            " 3   A4      690 non-null    int64  \n",
            " 4   A5      690 non-null    int64  \n",
            " 5   A6      690 non-null    int64  \n",
            " 6   A7      690 non-null    float64\n",
            " 7   A8      690 non-null    int64  \n",
            " 8   A9      690 non-null    int64  \n",
            " 9   A10     690 non-null    int64  \n",
            " 10  A11     690 non-null    int64  \n",
            " 11  A12     690 non-null    int64  \n",
            " 12  A13     690 non-null    int64  \n",
            " 13  A14     690 non-null    int64  \n",
            " 14  class   690 non-null    int64  \n",
            "dtypes: float64(3), int64(12)\n",
            "memory usage: 81.0 KB\n"
          ]
        }
      ]
    },
    {
      "cell_type": "code",
      "source": [
        "data.isnull().values.any()"
      ],
      "metadata": {
        "colab": {
          "base_uri": "https://localhost:8080/"
        },
        "id": "lWFQiqxZwR_0",
        "outputId": "7dc6f07c-2eea-4ec8-d0d4-60176efbfb98"
      },
      "execution_count": null,
      "outputs": [
        {
          "output_type": "execute_result",
          "data": {
            "text/plain": [
              "False"
            ]
          },
          "metadata": {},
          "execution_count": 8
        }
      ]
    },
    {
      "cell_type": "markdown",
      "source": [
        "Definimos variables por sus tipos en base a la documentación:"
      ],
      "metadata": {
        "id": "xPiySKKvwkVc"
      }
    },
    {
      "cell_type": "code",
      "source": [
        "#definimos variables numéricas\n",
        "num_nom = ['A2','A3','A7','A10','A13','A14']\n",
        "#definimos variables categóricas\n",
        "cat_nom = ['A1', 'A4', 'A5', 'A6', 'A8', 'A9', 'A11', 'A12']"
      ],
      "metadata": {
        "id": "st6FhHVZxBj8"
      },
      "execution_count": null,
      "outputs": []
    },
    {
      "cell_type": "markdown",
      "source": [
        "Observamos la frecuencia de cada nivel de las variables categóricas:"
      ],
      "metadata": {
        "id": "jFvEmE-vxVwN"
      }
    },
    {
      "cell_type": "code",
      "source": [
        "for col in cat_nom:\n",
        "  print(data[col].value_counts(),'\\n')"
      ],
      "metadata": {
        "colab": {
          "base_uri": "https://localhost:8080/"
        },
        "id": "Tj-hea-sxY2z",
        "outputId": "4de88c7c-a2e7-4db8-e630-e640f3962280"
      },
      "execution_count": null,
      "outputs": [
        {
          "output_type": "stream",
          "name": "stdout",
          "text": [
            "1    468\n",
            "0    222\n",
            "Name: A1, dtype: int64 \n",
            "\n",
            "2    525\n",
            "1    163\n",
            "3      2\n",
            "Name: A4, dtype: int64 \n",
            "\n",
            "8     146\n",
            "11     78\n",
            "9      64\n",
            "3      59\n",
            "6      54\n",
            "1      53\n",
            "4      51\n",
            "13     41\n",
            "14     38\n",
            "7      38\n",
            "2      30\n",
            "10     25\n",
            "5      10\n",
            "12      3\n",
            "Name: A5, dtype: int64 \n",
            "\n",
            "4    408\n",
            "8    138\n",
            "5     59\n",
            "1     57\n",
            "3      8\n",
            "9      8\n",
            "2      6\n",
            "7      6\n",
            "Name: A6, dtype: int64 \n",
            "\n",
            "1    361\n",
            "0    329\n",
            "Name: A8, dtype: int64 \n",
            "\n",
            "0    395\n",
            "1    295\n",
            "Name: A9, dtype: int64 \n",
            "\n",
            "0    374\n",
            "1    316\n",
            "Name: A11, dtype: int64 \n",
            "\n",
            "2    625\n",
            "1     57\n",
            "3      8\n",
            "Name: A12, dtype: int64 \n",
            "\n"
          ]
        }
      ]
    },
    {
      "cell_type": "markdown",
      "source": [
        "Observamos que algunos efectivamente, tienen niveles muy bajos. Una regla empírica para esto es que sean al menos 5% de la información. Así que transformamos aquellos que no lo cumplen. "
      ],
      "metadata": {
        "id": "H4h1m1jOx7tr"
      }
    },
    {
      "cell_type": "markdown",
      "source": [
        "Una función para remplazar valores menores a cierto porcentaje del total de información con otro valor, para así poder agrupar: "
      ],
      "metadata": {
        "id": "muLmardC5qOM"
      }
    },
    {
      "cell_type": "code",
      "source": [
        "def freq_group(df,n,tres):\n",
        "  x = df.copy()\n",
        "  for indx in x.value_counts().index.tolist():\n",
        "    if (x.value_counts()[indx]/x.value_counts().sum()) < tres:\n",
        "      x = x.replace(to_replace=indx,value=n)\n",
        "  return x"
      ],
      "metadata": {
        "id": "kP6AEH4M1Kxk"
      },
      "execution_count": null,
      "outputs": []
    },
    {
      "cell_type": "markdown",
      "source": [
        "Vemos específicamente cada caso, y hacemos sus sustituciones: "
      ],
      "metadata": {
        "id": "_HoE50fB5z8T"
      }
    },
    {
      "cell_type": "code",
      "source": [
        "#agrupamos todos los menores a 5% en un solo grupo\n",
        "for var in ['A4','A5','A6','A12']:\n",
        "  data[var] = freq_group(data[var],0,0.05)"
      ],
      "metadata": {
        "id": "AyWdl-YsRPlI"
      },
      "execution_count": null,
      "outputs": []
    },
    {
      "cell_type": "markdown",
      "source": [
        "Observamos la frecuencia de cada nivel de las variables categóricas:"
      ],
      "metadata": {
        "id": "q9-GmCDg5pWc"
      }
    },
    {
      "cell_type": "code",
      "source": [
        "for col in cat_nom:\n",
        "  print(data[col].value_counts(),'\\n')"
      ],
      "metadata": {
        "colab": {
          "base_uri": "https://localhost:8080/"
        },
        "id": "2HtgsHsY6q-F",
        "outputId": "08c73d3a-fba0-4e62-e9dd-c1e1217fb556"
      },
      "execution_count": null,
      "outputs": [
        {
          "output_type": "stream",
          "name": "stdout",
          "text": [
            "1    468\n",
            "0    222\n",
            "Name: A1, dtype: int64 \n",
            "\n",
            "2    525\n",
            "1    163\n",
            "0      2\n",
            "Name: A4, dtype: int64 \n",
            "\n",
            "8     146\n",
            "11     78\n",
            "0      68\n",
            "9      64\n",
            "3      59\n",
            "6      54\n",
            "1      53\n",
            "4      51\n",
            "13     41\n",
            "14     38\n",
            "7      38\n",
            "Name: A5, dtype: int64 \n",
            "\n",
            "4    408\n",
            "8    138\n",
            "5     59\n",
            "1     57\n",
            "0     28\n",
            "Name: A6, dtype: int64 \n",
            "\n",
            "1    361\n",
            "0    329\n",
            "Name: A8, dtype: int64 \n",
            "\n",
            "0    395\n",
            "1    295\n",
            "Name: A9, dtype: int64 \n",
            "\n",
            "0    374\n",
            "1    316\n",
            "Name: A11, dtype: int64 \n",
            "\n",
            "2    625\n",
            "1     57\n",
            "0      8\n",
            "Name: A12, dtype: int64 \n",
            "\n"
          ]
        }
      ]
    },
    {
      "cell_type": "markdown",
      "source": [
        "Observamos las variables numéricas:"
      ],
      "metadata": {
        "id": "BFTTgG_tHeAT"
      }
    },
    {
      "cell_type": "code",
      "source": [
        "data[num_nom].describe()"
      ],
      "metadata": {
        "colab": {
          "base_uri": "https://localhost:8080/"
        },
        "id": "hTVFLfOCHeJE",
        "outputId": "6d38bcd6-cd34-4bef-9ef6-497dc590ff35"
      },
      "execution_count": null,
      "outputs": [
        {
          "output_type": "execute_result",
          "data": {
            "text/plain": [
              "               A2          A3          A7        A10          A13  \\\n",
              "count  690.000000  690.000000  690.000000  690.00000   690.000000   \n",
              "mean    31.568203    4.758725    2.223406    2.40000   184.014493   \n",
              "std     11.853273    4.978163    3.346513    4.86294   172.159274   \n",
              "min     13.750000    0.000000    0.000000    0.00000     0.000000   \n",
              "25%     22.670000    1.000000    0.165000    0.00000    80.000000   \n",
              "50%     28.625000    2.750000    1.000000    0.00000   160.000000   \n",
              "75%     37.707500    7.207500    2.625000    3.00000   272.000000   \n",
              "max     80.250000   28.000000   28.500000   67.00000  2000.000000   \n",
              "\n",
              "                 A14  \n",
              "count     690.000000  \n",
              "mean     1018.385507  \n",
              "std      5210.102598  \n",
              "min         1.000000  \n",
              "25%         1.000000  \n",
              "50%         6.000000  \n",
              "75%       396.500000  \n",
              "max    100001.000000  "
            ],
            "text/html": [
              "\n",
              "  <div id=\"df-f9ae6b46-1b24-4a8b-8c13-e450df0463a8\">\n",
              "    <div class=\"colab-df-container\">\n",
              "      <div>\n",
              "<style scoped>\n",
              "    .dataframe tbody tr th:only-of-type {\n",
              "        vertical-align: middle;\n",
              "    }\n",
              "\n",
              "    .dataframe tbody tr th {\n",
              "        vertical-align: top;\n",
              "    }\n",
              "\n",
              "    .dataframe thead th {\n",
              "        text-align: right;\n",
              "    }\n",
              "</style>\n",
              "<table border=\"1\" class=\"dataframe\">\n",
              "  <thead>\n",
              "    <tr style=\"text-align: right;\">\n",
              "      <th></th>\n",
              "      <th>A2</th>\n",
              "      <th>A3</th>\n",
              "      <th>A7</th>\n",
              "      <th>A10</th>\n",
              "      <th>A13</th>\n",
              "      <th>A14</th>\n",
              "    </tr>\n",
              "  </thead>\n",
              "  <tbody>\n",
              "    <tr>\n",
              "      <th>count</th>\n",
              "      <td>690.000000</td>\n",
              "      <td>690.000000</td>\n",
              "      <td>690.000000</td>\n",
              "      <td>690.00000</td>\n",
              "      <td>690.000000</td>\n",
              "      <td>690.000000</td>\n",
              "    </tr>\n",
              "    <tr>\n",
              "      <th>mean</th>\n",
              "      <td>31.568203</td>\n",
              "      <td>4.758725</td>\n",
              "      <td>2.223406</td>\n",
              "      <td>2.40000</td>\n",
              "      <td>184.014493</td>\n",
              "      <td>1018.385507</td>\n",
              "    </tr>\n",
              "    <tr>\n",
              "      <th>std</th>\n",
              "      <td>11.853273</td>\n",
              "      <td>4.978163</td>\n",
              "      <td>3.346513</td>\n",
              "      <td>4.86294</td>\n",
              "      <td>172.159274</td>\n",
              "      <td>5210.102598</td>\n",
              "    </tr>\n",
              "    <tr>\n",
              "      <th>min</th>\n",
              "      <td>13.750000</td>\n",
              "      <td>0.000000</td>\n",
              "      <td>0.000000</td>\n",
              "      <td>0.00000</td>\n",
              "      <td>0.000000</td>\n",
              "      <td>1.000000</td>\n",
              "    </tr>\n",
              "    <tr>\n",
              "      <th>25%</th>\n",
              "      <td>22.670000</td>\n",
              "      <td>1.000000</td>\n",
              "      <td>0.165000</td>\n",
              "      <td>0.00000</td>\n",
              "      <td>80.000000</td>\n",
              "      <td>1.000000</td>\n",
              "    </tr>\n",
              "    <tr>\n",
              "      <th>50%</th>\n",
              "      <td>28.625000</td>\n",
              "      <td>2.750000</td>\n",
              "      <td>1.000000</td>\n",
              "      <td>0.00000</td>\n",
              "      <td>160.000000</td>\n",
              "      <td>6.000000</td>\n",
              "    </tr>\n",
              "    <tr>\n",
              "      <th>75%</th>\n",
              "      <td>37.707500</td>\n",
              "      <td>7.207500</td>\n",
              "      <td>2.625000</td>\n",
              "      <td>3.00000</td>\n",
              "      <td>272.000000</td>\n",
              "      <td>396.500000</td>\n",
              "    </tr>\n",
              "    <tr>\n",
              "      <th>max</th>\n",
              "      <td>80.250000</td>\n",
              "      <td>28.000000</td>\n",
              "      <td>28.500000</td>\n",
              "      <td>67.00000</td>\n",
              "      <td>2000.000000</td>\n",
              "      <td>100001.000000</td>\n",
              "    </tr>\n",
              "  </tbody>\n",
              "</table>\n",
              "</div>\n",
              "      <button class=\"colab-df-convert\" onclick=\"convertToInteractive('df-f9ae6b46-1b24-4a8b-8c13-e450df0463a8')\"\n",
              "              title=\"Convert this dataframe to an interactive table.\"\n",
              "              style=\"display:none;\">\n",
              "        \n",
              "  <svg xmlns=\"http://www.w3.org/2000/svg\" height=\"24px\"viewBox=\"0 0 24 24\"\n",
              "       width=\"24px\">\n",
              "    <path d=\"M0 0h24v24H0V0z\" fill=\"none\"/>\n",
              "    <path d=\"M18.56 5.44l.94 2.06.94-2.06 2.06-.94-2.06-.94-.94-2.06-.94 2.06-2.06.94zm-11 1L8.5 8.5l.94-2.06 2.06-.94-2.06-.94L8.5 2.5l-.94 2.06-2.06.94zm10 10l.94 2.06.94-2.06 2.06-.94-2.06-.94-.94-2.06-.94 2.06-2.06.94z\"/><path d=\"M17.41 7.96l-1.37-1.37c-.4-.4-.92-.59-1.43-.59-.52 0-1.04.2-1.43.59L10.3 9.45l-7.72 7.72c-.78.78-.78 2.05 0 2.83L4 21.41c.39.39.9.59 1.41.59.51 0 1.02-.2 1.41-.59l7.78-7.78 2.81-2.81c.8-.78.8-2.07 0-2.86zM5.41 20L4 18.59l7.72-7.72 1.47 1.35L5.41 20z\"/>\n",
              "  </svg>\n",
              "      </button>\n",
              "      \n",
              "  <style>\n",
              "    .colab-df-container {\n",
              "      display:flex;\n",
              "      flex-wrap:wrap;\n",
              "      gap: 12px;\n",
              "    }\n",
              "\n",
              "    .colab-df-convert {\n",
              "      background-color: #E8F0FE;\n",
              "      border: none;\n",
              "      border-radius: 50%;\n",
              "      cursor: pointer;\n",
              "      display: none;\n",
              "      fill: #1967D2;\n",
              "      height: 32px;\n",
              "      padding: 0 0 0 0;\n",
              "      width: 32px;\n",
              "    }\n",
              "\n",
              "    .colab-df-convert:hover {\n",
              "      background-color: #E2EBFA;\n",
              "      box-shadow: 0px 1px 2px rgba(60, 64, 67, 0.3), 0px 1px 3px 1px rgba(60, 64, 67, 0.15);\n",
              "      fill: #174EA6;\n",
              "    }\n",
              "\n",
              "    [theme=dark] .colab-df-convert {\n",
              "      background-color: #3B4455;\n",
              "      fill: #D2E3FC;\n",
              "    }\n",
              "\n",
              "    [theme=dark] .colab-df-convert:hover {\n",
              "      background-color: #434B5C;\n",
              "      box-shadow: 0px 1px 3px 1px rgba(0, 0, 0, 0.15);\n",
              "      filter: drop-shadow(0px 1px 2px rgba(0, 0, 0, 0.3));\n",
              "      fill: #FFFFFF;\n",
              "    }\n",
              "  </style>\n",
              "\n",
              "      <script>\n",
              "        const buttonEl =\n",
              "          document.querySelector('#df-f9ae6b46-1b24-4a8b-8c13-e450df0463a8 button.colab-df-convert');\n",
              "        buttonEl.style.display =\n",
              "          google.colab.kernel.accessAllowed ? 'block' : 'none';\n",
              "\n",
              "        async function convertToInteractive(key) {\n",
              "          const element = document.querySelector('#df-f9ae6b46-1b24-4a8b-8c13-e450df0463a8');\n",
              "          const dataTable =\n",
              "            await google.colab.kernel.invokeFunction('convertToInteractive',\n",
              "                                                     [key], {});\n",
              "          if (!dataTable) return;\n",
              "\n",
              "          const docLinkHtml = 'Like what you see? Visit the ' +\n",
              "            '<a target=\"_blank\" href=https://colab.research.google.com/notebooks/data_table.ipynb>data table notebook</a>'\n",
              "            + ' to learn more about interactive tables.';\n",
              "          element.innerHTML = '';\n",
              "          dataTable['output_type'] = 'display_data';\n",
              "          await google.colab.output.renderOutput(dataTable, element);\n",
              "          const docLink = document.createElement('div');\n",
              "          docLink.innerHTML = docLinkHtml;\n",
              "          element.appendChild(docLink);\n",
              "        }\n",
              "      </script>\n",
              "    </div>\n",
              "  </div>\n",
              "  "
            ]
          },
          "metadata": {},
          "execution_count": 14
        }
      ]
    },
    {
      "cell_type": "markdown",
      "source": [
        "Graficamos los histogramas de la variables numéricas con sus posibles transformaciones:"
      ],
      "metadata": {
        "id": "9L7cO__IHwvc"
      }
    },
    {
      "cell_type": "code",
      "source": [
        "def Sqrt_cx(x):\n",
        "  c = x.max()\n",
        "  tmp = np.power(c+1-x,1/2)\n",
        "  return tmp"
      ],
      "metadata": {
        "id": "DSc-6XCEJSG0"
      },
      "execution_count": null,
      "outputs": []
    },
    {
      "cell_type": "code",
      "source": [
        "df_transform = data[num_nom]\n",
        "nvar = len(data[num_nom].columns)\n",
        "nplots = 5\n",
        "sns.set(rc={'figure.figsize':(nvar*5,15)})\n",
        "k=0\n",
        "fig, axes = plt.subplots(nplots, nvar)   \n",
        "for k in range(0,nvar):  \n",
        "  plt.subplot(nplots, nvar,k+1) \n",
        "\n",
        "  Transf0 = df_transform.iloc[:,k].to_numpy().reshape(-1, 1) \n",
        "  plt.hist(Transf0, bins=30) \n",
        "  plt.xlabel(df_transform.columns[k])\n",
        "  if k==0:\n",
        "    plt.ylabel('Sin transformación')\n",
        "  \n",
        "  plt.subplot(nplots, nvar,k+1+nvar*1)    \n",
        "  Transf1 = np.sqrt(Transf0)       \n",
        "  plt.hist(Transf1, bins=30)                      \n",
        "  plt.xlabel(df_transform.columns[k])\n",
        "  if k==0:\n",
        "    plt.ylabel('Raíz Cuadrada')\n",
        "\n",
        "  plt.subplot(nplots, nvar,k+1+nvar*2)  \n",
        "  Transf2 = np.power(Transf0,2)     \n",
        "  plt.hist(Transf2, bins=30)                   \n",
        "  plt.xlabel(df_transform.columns[k])\n",
        "  if k==0:\n",
        "    plt.ylabel('Potencia 2')\n",
        "\n",
        "  plt.subplot(nplots, nvar,k+1+nvar*3)    \n",
        "  Transf3 = Sqrt_cx(df_transform.iloc[:,k])        \n",
        "  plt.hist(Transf3, bins=30)                   \n",
        "  plt.xlabel(df_transform.columns[k])\n",
        "  if k==0:\n",
        "    plt.ylabel('Raiz de (C-X)')  \n",
        "\n",
        "  plt.subplot(nplots, nvar,k+1+nvar*4)  \n",
        "  Transf4 = np.power(Transf0,1/3)     \n",
        "  plt.hist(Transf4, bins=30)                   \n",
        "  plt.xlabel(df_transform.columns[k])\n",
        "  if k==0:\n",
        "    plt.ylabel('Raíz Cubica')"
      ],
      "metadata": {
        "colab": {
          "base_uri": "https://localhost:8080/"
        },
        "id": "IZzu3axpHylz",
        "outputId": "993c4a92-b450-4610-8c81-3cc3d11f6465"
      },
      "execution_count": null,
      "outputs": [
        {
          "output_type": "display_data",
          "data": {
            "text/plain": [
              "<Figure size 2160x1080 with 30 Axes>"
            ],
            "image/png": "[encoded data removed]"
          },
          "metadata": {}
        }
      ]
    },
    {
      "cell_type": "markdown",
      "source": [
        "Donde observamos que, aunque existe para A10, A13 y A14 existe un gran numero de valores de valor 1, la transformación que mejor distribución nos da es la raíz cubica"
      ],
      "metadata": {
        "id": "XMc0HmwuOnCV"
      }
    },
    {
      "cell_type": "markdown",
      "source": [
        "Verificamos que no existan clases desbalanceadas en y:"
      ],
      "metadata": {
        "id": "yhaXdtv5q3-U"
      }
    },
    {
      "cell_type": "code",
      "source": [
        "data['class'].sum() / data['class'].shape[0]"
      ],
      "metadata": {
        "colab": {
          "base_uri": "https://localhost:8080/"
        },
        "id": "yfxGDVCEqxaE",
        "outputId": "d624fc95-e4d3-4471-ced2-0486ff4663be"
      },
      "execution_count": null,
      "outputs": [
        {
          "output_type": "execute_result",
          "data": {
            "text/plain": [
              "0.4449275362318841"
            ]
          },
          "metadata": {},
          "execution_count": 17
        }
      ]
    },
    {
      "cell_type": "markdown",
      "source": [
        "Finalmente, creamos nuestro pipeline con todas nuestras transformaciones y escalamiento:"
      ],
      "metadata": {
        "id": "uM_sXX6cO5OU"
      }
    },
    {
      "cell_type": "code",
      "source": [
        "def x_tran(X):\n",
        "  X_ = X.copy() \n",
        "  X_ = np.power(X_,1/3)    \n",
        "  return X_"
      ],
      "metadata": {
        "id": "kmGBtCT_SkrF"
      },
      "execution_count": null,
      "outputs": []
    },
    {
      "cell_type": "code",
      "source": [
        "# Transformaciones a factores numéricos de entrada:\n",
        "num_pipeline = Pipeline(steps = [('impMediana', SimpleImputer(strategy='median')),\n",
        "                                 ('CubicRoot', FunctionTransformer(x_tran)),\n",
        "                                 ('escalaNum', MinMaxScaler(feature_range=(1,2)))])   \n",
        "num_pipeline_nombres = ['A2','A3','A7','A10','A13','A14']\n",
        "\n",
        "# Transformaciones a factores categóricos de entrada:\n",
        "catImp_pipeline = Pipeline(steps = [('impModa', SimpleImputer(strategy='most_frequent'))])  \n",
        "catImp_pipeline_nombres = ['A1', 'A4', 'A5', 'A6', 'A8', 'A9', 'A11', 'A12']\n",
        "\n",
        "catOHE_pipeline = Pipeline(steps = [('OneHotE', OneHotEncoder(drop='first'))])\n",
        "#catOHE_pipeline = Pipeline(steps = [('OneHotE', OneHotEncoder())])\n",
        "catOHE_pipeline_nombres = [ 'A4','A5','A6','A12']\n",
        "\n",
        "\n",
        "# Conjuntamos las transformaciones numéricas y categóricas que se estarán aplicando a los datos de entrada:\n",
        "columnasTransformer = ColumnTransformer(transformers = [('numpipe', num_pipeline, num_pipeline_nombres),\n",
        "                                                        ('catimp', catImp_pipeline, catImp_pipeline_nombres),\n",
        "                                                        ('catohe', catOHE_pipeline, catOHE_pipeline_nombres)],\n",
        "                                        remainder='passthrough')"
      ],
      "metadata": {
        "id": "ory-YYuUPBzU"
      },
      "execution_count": null,
      "outputs": []
    },
    {
      "cell_type": "markdown",
      "source": [
        "Dado que se hicieron cambios en el dataframe de ‘data’ para eliminar valores categóricos debajo del 5%, se vuelve a particionar el dataset"
      ],
      "metadata": {
        "id": "0An4cR-hTepT"
      }
    },
    {
      "cell_type": "code",
      "source": [
        "X = data.iloc[:,:-1]  \n",
        "Y = data.iloc[:,-1]"
      ],
      "metadata": {
        "id": "Rj3rMp40TTR0"
      },
      "execution_count": null,
      "outputs": []
    },
    {
      "cell_type": "code",
      "source": [
        "Xtv, Xtest, ytv, ytest = train_test_split(X, Y, test_size=0.15, random_state=0)  \n",
        "\n",
        "print(Xtv.shape, ': dimensión de datos de entrada para entrenamiento y validación')\n",
        "print(Xtest.shape, ': dimensión de datos de entrada para prueba')  \n",
        "print(ytv.shape, ': dimensión de variable de salida para entrenamiento y validación')\n",
        "print(ytest.shape, ': dimensión de variable de salida para prueba')"
      ],
      "metadata": {
        "colab": {
          "base_uri": "https://localhost:8080/"
        },
        "id": "CY-b_uNcTMu_",
        "outputId": "a5a1e29e-51e2-479e-8904-6bde02a9f866"
      },
      "execution_count": null,
      "outputs": [
        {
          "output_type": "stream",
          "name": "stdout",
          "text": [
            "(586, 14) : dimensión de datos de entrada para entrenamiento y validación\n",
            "(104, 14) : dimensión de datos de entrada para prueba\n",
            "(586,) : dimensión de variable de salida para entrenamiento y validación\n",
            "(104,) : dimensión de variable de salida para prueba\n"
          ]
        }
      ]
    },
    {
      "cell_type": "markdown",
      "source": [
        "#**Ejercicio-3.**"
      ],
      "metadata": {
        "id": "NCunuooTC2W3"
      }
    },
    {
      "cell_type": "markdown",
      "source": [
        "Utiliza la función Dummy para modelos de clasificación con la estrategia “stratified” con el conjunto\n",
        "que tienes de datos de entrenamiento y validación. Obtener los valores de partida (baseline) de las\n",
        "siguientes métricas: accuracy, f1-score, precision y recall. ¿Por qué consideras que es adecuado usar\n",
        "la estrategia “stratified” en este caso? \n"
      ],
      "metadata": {
        "id": "enBoQwxOTlBL"
      }
    },
    {
      "cell_type": "code",
      "source": [
        "#creamos el modelo dummy\n",
        "dummy_class = DummyClassifier(strategy='stratified')\n",
        "\n",
        "#transformamos los datos en X\n",
        "Xct = columnasTransformer.fit(Xtv)\n",
        "Xtvt = Xct.transform(Xtv)\n",
        "Xpt = Xct.transform(Xtest)\n",
        "\n",
        "#entrenamos el modelo\n",
        "dummy_class.fit(Xtvt, np.ravel(ytv))"
      ],
      "metadata": {
        "id": "YXlcSWA-C4Dj",
        "colab": {
          "base_uri": "https://localhost:8080/"
        },
        "outputId": "31148312-9ebb-4cae-a446-2eac9055a19b"
      },
      "execution_count": null,
      "outputs": [
        {
          "output_type": "execute_result",
          "data": {
            "text/plain": [
              "DummyClassifier(strategy='stratified')"
            ]
          },
          "metadata": {},
          "execution_count": 22
        }
      ]
    },
    {
      "cell_type": "markdown",
      "source": [
        "Utilizamos ‘stratified’ porque indica al modelo que sus predicciones sean sobre la base de la distribución de clases del conjunto de datos de entrenamiento. En este caso, genera para nuestra clase ‘1’ una probabilidad cercana al 44% en base a lo visto previamente en nuestro set de entrenamiento. "
      ],
      "metadata": {
        "id": "TR3I2h5gbgQ0"
      }
    },
    {
      "cell_type": "code",
      "source": [
        "#realizamos las predicciones\n",
        "yhat = dummy_class.predict(Xtvt)\n",
        "\n",
        "print('Accuracy:', accuracy_score(ytv,yhat))\n",
        "print('f1_score:', f1_score(ytv,yhat))\n",
        "print('Precision:', precision_score(ytv,yhat))\n",
        "print('Recall:', recall_score(ytv,yhat))"
      ],
      "metadata": {
        "id": "BKI80-YdC4HN",
        "colab": {
          "base_uri": "https://localhost:8080/"
        },
        "outputId": "bb950d3b-3493-4df1-b14e-8b4a58b1842a"
      },
      "execution_count": null,
      "outputs": [
        {
          "output_type": "stream",
          "name": "stdout",
          "text": [
            "Accuracy: 0.49658703071672355\n",
            "f1_score: 0.45065176908752325\n",
            "Precision: 0.4384057971014493\n",
            "Recall: 0.46360153256704983\n"
          ]
        }
      ]
    },
    {
      "cell_type": "markdown",
      "source": [
        "Lo cual se reafirma con las métricas de score al tener todas valores cercanos a esa probabilidad. "
      ],
      "metadata": {
        "id": "-axNMlk2boxd"
      }
    },
    {
      "cell_type": "markdown",
      "source": [
        "#**Ejercicio-4.**"
      ],
      "metadata": {
        "id": "chqk9jIDC5Pq"
      }
    },
    {
      "cell_type": "markdown",
      "source": [
        "Usando el modelo de máquina de vector soporte (SVM) encuentra sus mejores hiperparámetros con una búsqueda de malla y validación cruzada, desplegando los errores indicados en el ejercicio anterior"
      ],
      "metadata": {
        "id": "NTFofrRZbyrs"
      }
    },
    {
      "cell_type": "code",
      "source": [
        "#desactivamos warnings porque métrica precisión levanta warning de utilizar zero_division = 0 en gridsearch\n",
        "import warnings\n",
        "warnings.filterwarnings('ignore')"
      ],
      "metadata": {
        "id": "luGzZoW29rG8"
      },
      "execution_count": null,
      "outputs": []
    },
    {
      "cell_type": "code",
      "source": [
        "#obtenemos el modelo y los parámetros\n",
        "modeloSVM_iter = svm.SVC()\n",
        "cvSVM = RepeatedStratifiedKFold(n_splits=5, n_repeats=3, random_state=0)\n",
        "\n",
        "dicc_grid = [\n",
        "              {'C':[0.01, 0.1, 1, 10, 100, 1000], \n",
        "               'gamma':[1, 0.1, 0.01, 0.001, 0.0001,'scale','auto'],\n",
        "               'kernel':['linear','poly','rbf','sigmoid'],\n",
        "               'class_weight':['balanced',None]}\n",
        "             ]\n",
        "\n",
        "scoring = ['accuracy','f1','precision','recall']\n",
        "\n",
        "grid = GridSearchCV(estimator=modeloSVM_iter, \n",
        "                    param_grid=dicc_grid, \n",
        "                    cv=cvSVM, \n",
        "                    scoring=scoring,\n",
        "                    refit='accuracy',\n",
        "                    n_jobs=-1,\n",
        "                    error_score='raise')"
      ],
      "metadata": {
        "id": "RBVSFwK4C6g9"
      },
      "execution_count": null,
      "outputs": []
    },
    {
      "cell_type": "code",
      "source": [
        "grid.fit(Xtvt, np.ravel(ytv))\n",
        "\n",
        "print('Mejor valor de accuracy obtenido con la mejor combinación:', grid.best_score_)\n",
        "print('Mejor combinación de valores encontrados de los hiperparámetros:', grid.best_params_)\n",
        "print('Métrica utilizada:', grid.scoring)\n",
        "print('Mejor Index:',grid.best_index_)     #obtenemos el índice sobre la corrida con el mejor promedio de su cross validation para f1-score"
      ],
      "metadata": {
        "id": "7KXnlNzAC69Y",
        "colab": {
          "base_uri": "https://localhost:8080/"
        },
        "outputId": "006a94a4-d983-40c9-8965-f2d863934cec"
      },
      "execution_count": null,
      "outputs": [
        {
          "output_type": "stream",
          "name": "stdout",
          "text": [
            "Mejor valor de accuracy obtenido con la mejor combinación: 0.8578202713795934\n",
            "Mejor combinación de valores encontrados de los hiperparámetros: {'C': 0.01, 'class_weight': None, 'gamma': 1, 'kernel': 'linear'}\n",
            "Métrica utilizada: ['accuracy', 'f1', 'precision', 'recall']\n",
            "Mejor Index: 28\n"
          ]
        }
      ]
    },
    {
      "cell_type": "code",
      "source": [
        "#reactivamos warnings\n",
        "warnings.filterwarnings('always')"
      ],
      "metadata": {
        "id": "-3wJrB2Z9wYt"
      },
      "execution_count": null,
      "outputs": []
    },
    {
      "cell_type": "markdown",
      "source": [
        "El método de gridsearchCV nos arroja todos los valores de todas las métricas que corre para todos los parámetros. Por lo que es posible obtener de una sólida corrida del método los máximos de cada métrica, y sus respectivos hiperparametros:"
      ],
      "metadata": {
        "id": "IsoldD4Pv3JW"
      }
    },
    {
      "cell_type": "code",
      "source": [
        "max_resultados = list() \n",
        "max_indexes = list()\n",
        "max_params = list()\n",
        "scores = ['accuracy','f1','precision','recall']\n",
        "for score in scores:\n",
        "  resultados_mean = list()     #lista para guardar los valores de las métricas\n",
        "  index = np.argmin(grid.cv_results_['rank_test_' + score])\n",
        "  max_indexes.append(index)\n",
        "  max_params.append(grid.cv_results_['params'][index])\n",
        "  for score in scores:\n",
        "    resultados_mean.append(grid.cv_results_['mean_test_' + score][index])\n",
        "  max_resultados.append(resultados_mean)"
      ],
      "metadata": {
        "id": "26qFe0OHml8s"
      },
      "execution_count": null,
      "outputs": []
    },
    {
      "cell_type": "markdown",
      "source": [
        "Y desplegamos los hiperparametros, sus índices, y los resultados de cada métrica, para el máximo de cada metrica"
      ],
      "metadata": {
        "id": "NklYsla3xrG8"
      }
    },
    {
      "cell_type": "code",
      "source": [
        "i = 0\n",
        "for score in scores:\n",
        "  j = 0\n",
        "  print(score, 'mejores parámetros:', max_params[i], 'indice:', max_indexes[i])\n",
        "  for score2 in scores:\n",
        "    print(score2, ':', max_resultados[i][j])\n",
        "    j = j + 1\n",
        "  i = i + 1"
      ],
      "metadata": {
        "colab": {
          "base_uri": "https://localhost:8080/"
        },
        "id": "eFldABhlv4CF",
        "outputId": "6ded1ae4-e38b-4183-f1e3-4a8efc381b9c"
      },
      "execution_count": null,
      "outputs": [
        {
          "output_type": "stream",
          "name": "stdout",
          "text": [
            "accuracy mejores parámetros: {'C': 0.01, 'class_weight': None, 'gamma': 1, 'kernel': 'linear'} indice: 28\n",
            "accuracy : 0.8578202713795934\n",
            "f1 : 0.8401362280150738\n",
            "precision : 0.8410450649898584\n",
            "recall : 0.8416787614900823\n",
            "f1 mejores parámetros: {'C': 10, 'class_weight': 'balanced', 'gamma': 0.001, 'kernel': 'rbf'} indice: 182\n",
            "accuracy : 0.8526534357042832\n",
            "f1 : 0.8498209422242304\n",
            "precision : 0.7795975338002114\n",
            "recall : 0.9348814707305272\n",
            "precision mejores parámetros: {'C': 0.1, 'class_weight': 'balanced', 'gamma': 1, 'kernel': 'rbf'} indice: 58\n",
            "accuracy : 0.7030856149500216\n",
            "f1 : 0.5119387990940171\n",
            "precision : 0.916370011253288\n",
            "recall : 0.37428640541848085\n",
            "recall mejores parámetros: {'C': 1, 'class_weight': 'balanced', 'gamma': 1, 'kernel': 'linear'} indice: 112\n",
            "accuracy : 0.8492298034670916\n",
            "f1 : 0.8472060572071783\n",
            "precision : 0.7737037607316277\n",
            "recall : 0.9373971940009673\n"
          ]
        }
      ]
    },
    {
      "cell_type": "markdown",
      "source": [
        "Entrenamos modelo con hiperparametros para el mejor resultado de accuracy:"
      ],
      "metadata": {
        "id": "YoUm-M9zKA-G"
      }
    },
    {
      "cell_type": "code",
      "source": [
        "#entrenamos modelo con hiperparametros y calculamos errores\n",
        "modelo_SVM = svm.SVC(C=grid.best_params_['C'],\n",
        "                      gamma=grid.best_params_['gamma'],\n",
        "                      kernel=grid.best_params_['kernel'],\n",
        "                      class_weight=grid.best_params_['class_weight'],\n",
        "                      probability = True)   #se le agrega para ejercicio 8 donde se ocupa predict_proba()\n",
        "\n",
        "modelo_SVM.fit(Xtvt, np.ravel(ytv))"
      ],
      "metadata": {
        "colab": {
          "base_uri": "https://localhost:8080/"
        },
        "id": "HRCijD4mmyGz",
        "outputId": "d318ba61-c168-4172-f2be-5f40252b9017"
      },
      "execution_count": null,
      "outputs": [
        {
          "output_type": "execute_result",
          "data": {
            "text/plain": [
              "SVC(C=0.01, gamma=1, kernel='linear', probability=True)"
            ]
          },
          "metadata": {},
          "execution_count": 41
        }
      ]
    },
    {
      "cell_type": "markdown",
      "source": [
        "Calculamos los errores para el conjunto de prueba:"
      ],
      "metadata": {
        "id": "tqutt0RJKF0l"
      }
    },
    {
      "cell_type": "code",
      "source": [
        "#realizamos las predicciones\n",
        "yhat = modelo_SVM.predict(Xpt)\n",
        "\n",
        "print('Accuracy:', accuracy_score(ytest,yhat))\n",
        "print('f1_score:', f1_score(ytest,yhat))\n",
        "print('Precision:', precision_score(ytest,yhat))\n",
        "print('Recall:', recall_score(ytest,yhat))"
      ],
      "metadata": {
        "colab": {
          "base_uri": "https://localhost:8080/"
        },
        "id": "_j2EWQ-FnO2f",
        "outputId": "bc0c03f9-c41b-4cae-e57e-66bffc87f369"
      },
      "execution_count": null,
      "outputs": [
        {
          "output_type": "stream",
          "name": "stdout",
          "text": [
            "Accuracy: 0.8653846153846154\n",
            "f1_score: 0.8444444444444444\n",
            "Precision: 0.8636363636363636\n",
            "Recall: 0.8260869565217391\n"
          ]
        }
      ]
    },
    {
      "cell_type": "markdown",
      "source": [
        "#**Ejercicio-5.**"
      ],
      "metadata": {
        "id": "Rv7KFq-mC7PS"
      }
    },
    {
      "cell_type": "markdown",
      "source": [
        "Obtener además los diagramas de caja y bigote del mejor modelo con todas las métricas calculadas. Incluye tus conclusiones. "
      ],
      "metadata": {
        "id": "o0krN_aIDKYc"
      }
    },
    {
      "cell_type": "markdown",
      "source": [
        "Generamos listas con los valores de cada métrica en cada split del crossvalidation en el gridsearch, para tener los valores necesarios para generar un diagrama de bigotes:"
      ],
      "metadata": {
        "id": "7E9-GGYcKh-l"
      }
    },
    {
      "cell_type": "code",
      "source": [
        "nom_resultados_todos = list() #lista para guardiar las listas, de las listas con los valores de la metrica\n",
        "for index_up in max_indexes:\n",
        "  nom_resultados = list()    #lista para guardar las listas con los valores de las métrica\n",
        "  index = index_up  #obtenemos el índice que dio la mejor métrica\n",
        "  scores = ['accuracy','f1','precision','recall']   #nombres de las métricas\n",
        "  for score in scores:\n",
        "    resultados = list()     #lista para guardar los valores de las métricas\n",
        "    for i in range(15):\n",
        "      resultados.append(grid.cv_results_['split' + str(i) + '_test_' + score][index])\n",
        "    nom_resultados.append(resultados)\n",
        "  nom_resultados_todos.append(nom_resultados)"
      ],
      "metadata": {
        "id": "OzIj9Mn0zmwM"
      },
      "execution_count": null,
      "outputs": []
    },
    {
      "cell_type": "markdown",
      "source": [
        "Confirmamos que estemos calculando correctamente las métricas, comparando con los 'mean_test' del gridsearch:"
      ],
      "metadata": {
        "id": "9azi0iolLKKl"
      }
    },
    {
      "cell_type": "code",
      "source": [
        "#confirmamos que estemos calculando correctamente las metricas, comparando con los 'mean_test' del gridsearch\n",
        "i = 0\n",
        "for i in range(len(scores)):\n",
        "  print(scores[i] + ':', np.mean(nom_resultados_todos[0][i]))\n",
        "  i = i + 1"
      ],
      "metadata": {
        "colab": {
          "base_uri": "https://localhost:8080/"
        },
        "id": "JfnPmEKrBfF0",
        "outputId": "24f7d0c6-180f-4e6c-c3e8-3e3bfebc4d69"
      },
      "execution_count": null,
      "outputs": [
        {
          "output_type": "stream",
          "name": "stdout",
          "text": [
            "accuracy: 0.8578202713795934\n",
            "f1: 0.8401362280150738\n",
            "precision: 0.8410450649898584\n",
            "recall: 0.8416787614900823\n"
          ]
        }
      ]
    },
    {
      "cell_type": "markdown",
      "source": [
        "Y finalmente las graficamos:"
      ],
      "metadata": {
        "id": "Ci_uZDlOOCYl"
      }
    },
    {
      "cell_type": "code",
      "source": [
        "i = 0\n",
        "for score in scores:\n",
        "  print('Boxplot para mejores parametros de mejor resultado de', score)\n",
        "  sns.set(rc={'figure.figsize':(8,4)})\n",
        "  plt.boxplot(nom_resultados_todos[i], labels=scores, showmeans=True)\n",
        "  plt.show()\n",
        "  i = i + 1"
      ],
      "metadata": {
        "colab": {
          "base_uri": "https://localhost:8080/",
          "height": 1000
        },
        "id": "Oeba_fCxCRoE",
        "outputId": "2c9f0511-0302-48a7-9b52-6dc93b508809"
      },
      "execution_count": null,
      "outputs": [
        {
          "output_type": "stream",
          "name": "stdout",
          "text": [
            "Boxplot para mejores parametros de mejor resultado de accuracy\n"
          ]
        },
        {
          "output_type": "display_data",
          "data": {
            "text/plain": [
              "<Figure size 576x288 with 1 Axes>"
            ],
            "image/png": "[encoded data removed]"
          },
          "metadata": {}
        },
        {
          "output_type": "stream",
          "name": "stdout",
          "text": [
            "Boxplot para mejores parametros de mejor resultado de f1\n"
          ]
        },
        {
          "output_type": "display_data",
          "data": {
            "text/plain": [
              "<Figure size 576x288 with 1 Axes>"
            ],
            "image/png": "[encoded data removed]"
          },
          "metadata": {}
        },
        {
          "output_type": "stream",
          "name": "stdout",
          "text": [
            "Boxplot para mejores parametros de mejor resultado de precision\n"
          ]
        },
        {
          "output_type": "display_data",
          "data": {
            "text/plain": [
              "<Figure size 576x288 with 1 Axes>"
            ],
            "image/png": "[encoded data removed]"
          },
          "metadata": {}
        },
        {
          "output_type": "stream",
          "name": "stdout",
          "text": [
            "Boxplot para mejores parametros de mejor resultado de recall\n"
          ]
        },
        {
          "output_type": "display_data",
          "data": {
            "text/plain": [
              "<Figure size 576x288 with 1 Axes>"
            ],
            "image/png": "[encoded data removed]"
          },
          "metadata": {}
        }
      ]
    },
    {
      "cell_type": "markdown",
      "source": [
        "Observando los boxplots de los hiperparametros para el mejor resultado de:\n",
        "* accuracy podemos ver que todos dan resultados aceptables, aunque su varianza es un poco alta, especialmente para recall\n",
        "* f1-score podemos ver que la varianza en todos es baja, y que el valor de recall es especialmente alto. Sin embargo, el valor promedio de precision baja de 0.8\n",
        "* precision podemos ver que la varianza para acurracy y para precision son muy bajas, y que el valor promedio de precision es especialmente alto. Sin embargo, los valores promedios de las otras 3 métricas son muy bajos\n",
        "* recall podemos ver que recall llega alto, y que las varianzas de los 4 son bajas. Sini embargo precision es bajo.\n",
        "\n",
        "Por lo que decidimos quedarnos con los hiperparametros para el mejor resultado de accuracy, ya que son los que sus valores son consistentes en las 4 métricas como aceptables. \n"
      ],
      "metadata": {
        "id": "9IieMqjqDOHU"
      }
    },
    {
      "cell_type": "markdown",
      "source": [
        "#**Ejercicio-6.**"
      ],
      "metadata": {
        "id": "W2S7LI0NC9wE"
      }
    },
    {
      "cell_type": "markdown",
      "source": [
        "Verifica que el modelo no esté subentrenado o sobreentrenado mediante alguna de las gráficas de curvas de entrenamiento (aumentando la complejidad o aumentando el conjunto de entrenamiento, la que consideres más adecuada). De ser necesario, realiza los ajustes necesarios para evitar alguno de estos problemas. \n"
      ],
      "metadata": {
        "id": "A6dfqAL0DTAE"
      }
    },
    {
      "cell_type": "markdown",
      "source": [
        "Primero corremos la curva de aprendizaje aumentando el tamaño del conjunto:"
      ],
      "metadata": {
        "id": "To_ve7grPMNO"
      }
    },
    {
      "cell_type": "code",
      "source": [
        "#obtenemos el modelo y los parametros de cross validation\n",
        "modeloLC = modelo_SVM\n",
        "cvLC = RepeatedStratifiedKFold(n_splits=5, n_repeats=3, random_state=0)\n",
        "#definimos los al menos 20 puntos de particion\n",
        "delta_train_sz = np.linspace(0.1, 1.0, 20)\n",
        "\n",
        "#obtenemos los datos de X transformados\n",
        "Xx = Xtvt\n",
        "\n",
        "#obtenemos la learning curve\n",
        "train_sizes, train_scores, valid_scores = learning_curve(estimator=modeloLC, \n",
        "                                                        X=Xx, \n",
        "                                                        y=np.ravel(ytv),\n",
        "                                                        cv=cvLC, \n",
        "                                                        train_sizes=delta_train_sz,\n",
        "                                                        scoring='accuracy')     #utilizamos f1 como métrica\n",
        "\n",
        "# Obtengamos la gráfica de las curvas de aprendizaje \n",
        "# cuando se incrementa el tamaño de la muestra:\n",
        "\n",
        "train_mean = np.mean(train_scores, axis=1)\n",
        "train_std = np.std(train_scores, axis=1)\n",
        "valid_mean = np.mean(valid_scores, axis=1)\n",
        "valid_std = np.std(valid_scores, axis=1)\n",
        "\n",
        "sns.set(rc={'figure.figsize':(10,7.5)})\n",
        "\n",
        "plt.plot(train_sizes, train_mean, color='blue', marker='o', markersize=5, label='Training')\n",
        "\n",
        "plt.plot(train_sizes, valid_mean, color='red', marker='o', markersize=5, label='Validation')\n",
        "\n",
        "plt.title('Función learning_curve() para ' + 'SVM')\n",
        "plt.xlabel('Tamaño del conjunto de entrenamiento')\n",
        "plt.ylabel('accuracy')\n",
        "plt.grid(b=True)\n",
        "plt.legend(loc='lower right')\n",
        "plt.show()"
      ],
      "metadata": {
        "id": "x6uBleJUC_AU",
        "colab": {
          "base_uri": "https://localhost:8080/",
          "height": 491
        },
        "outputId": "80bed8e1-fb6c-4fbb-c82b-0fc49b5ee47b"
      },
      "execution_count": null,
      "outputs": [
        {
          "output_type": "display_data",
          "data": {
            "text/plain": [
              "<Figure size 720x540 with 1 Axes>"
            ],
            "image/png": "[encoded data removed]"
          },
          "metadata": {}
        }
      ]
    },
    {
      "cell_type": "markdown",
      "source": [
        "A primera vista, observamos que entre mayor el conjunto de entrenamiento, mejor el accuracy. Así mismo, el sesgo entre entrenamiento y validación es mínimo. Por lo que parece ser un buen modelo, que no esta subentrenado ni sobrentrenado. "
      ],
      "metadata": {
        "id": "xKg8uVDjPiAN"
      }
    },
    {
      "cell_type": "markdown",
      "source": [
        "Seguido, creamos la curva de aprendizaje variando el parámetro C: "
      ],
      "metadata": {
        "id": "WKfr75yaSagO"
      }
    },
    {
      "cell_type": "code",
      "source": [
        "#obtenemos el modelo y los parametros de cross validation\n",
        "modeloVC = modelo_SVM\n",
        "cvVC = RepeatedStratifiedKFold(n_splits=5, n_repeats=3, random_state=0)\n",
        "\n",
        "delta_C = np.linspace(0.001, 20, 20)\n",
        "\n",
        "train_scores, valid_scores = validation_curve(modeloVC, \n",
        "                                              Xx, \n",
        "                                              np.ravel(ytv), \n",
        "                                              param_name=\"C\", \n",
        "                                              param_range=delta_C,\n",
        "                                              cv=cvVC,\n",
        "                                              scoring='accuracy')\n",
        "\n",
        "train_mean = np.mean(train_scores, axis=1)\n",
        "train_std = np.std(train_scores, axis=1)\n",
        "valid_mean = np.mean(valid_scores, axis=1)\n",
        "valid_std = np.std(valid_scores, axis=1)\n",
        "\n",
        "# Curva de entrenamiento con la métrica de exactitud (accuracy):\n",
        "plt.plot(delta_C, train_mean, color='blue', marker='o', markersize=5, label='Training')\n",
        "\n",
        "# Curva de validación:\n",
        "plt.plot(delta_C, valid_mean, color='red', marker='o', markersize=5, label='Validation')\n",
        "\n",
        "plt.title('Función validation_curve() para ' + 'SVM')\n",
        "plt.xlabel('Valores del parámetro C')\n",
        "plt.ylabel('accuracy')\n",
        "plt.grid(b=True)\n",
        "plt.legend(loc='lower right')\n",
        "plt.show()"
      ],
      "metadata": {
        "id": "n0P_AcyjC_Dh",
        "colab": {
          "base_uri": "https://localhost:8080/",
          "height": 491
        },
        "outputId": "391217d1-4cc0-4383-dacf-aafb820031b7"
      },
      "execution_count": null,
      "outputs": [
        {
          "output_type": "display_data",
          "data": {
            "text/plain": [
              "<Figure size 720x540 with 1 Axes>"
            ],
            "image/png": "[encoded data removed]"
          },
          "metadata": {}
        }
      ]
    },
    {
      "cell_type": "markdown",
      "source": [
        "Donde lo primero a observar es que, al aumentar el valor de C, aumenta el sesgo. El cual luego se mantiene constante."
      ],
      "metadata": {
        "id": "c55Y40jNSrit"
      }
    },
    {
      "cell_type": "markdown",
      "source": [
        "Seguido, creamos la curva de aprendizaje variando el parámetro gamma: "
      ],
      "metadata": {
        "id": "ZgH2EYnkT6r-"
      }
    },
    {
      "cell_type": "code",
      "source": [
        "#obtenemos el modelo y los parametros de cross validation\n",
        "modeloVC = modelo_SVM\n",
        "cvVC = RepeatedStratifiedKFold(n_splits=5, n_repeats=3, random_state=0)\n",
        "\n",
        "delta_gamma = np.linspace(0.001, 20, 20)\n",
        "\n",
        "train_scores, valid_scores = validation_curve(modeloVC, \n",
        "                                              Xx, \n",
        "                                              np.ravel(ytv), \n",
        "                                              param_name=\"gamma\", \n",
        "                                              param_range=delta_gamma,\n",
        "                                              cv=cvVC,\n",
        "                                              scoring='accuracy')\n",
        "\n",
        "train_mean = np.mean(train_scores, axis=1)\n",
        "train_std = np.std(train_scores, axis=1)\n",
        "valid_mean = np.mean(valid_scores, axis=1)\n",
        "valid_std = np.std(valid_scores, axis=1)\n",
        "\n",
        "# Curva de entrenamiento con la métrica de exactitud (accuracy):\n",
        "plt.plot(delta_C, train_mean, color='blue', marker='o', markersize=5, label='Training')\n",
        "\n",
        "# Curva de validación:\n",
        "plt.plot(delta_C, valid_mean, color='red', marker='o', markersize=5, label='Validation')\n",
        "\n",
        "plt.title('Función validation_curve() para ' + 'SVM')\n",
        "plt.xlabel('Valores del parámetro gamma')\n",
        "plt.ylabel('accuracy')\n",
        "plt.grid(b=True)\n",
        "plt.legend(loc='lower right')\n",
        "plt.show()"
      ],
      "metadata": {
        "id": "7AkKqlmyTuzP",
        "outputId": "d93cb3be-4954-4d1f-8372-a8ee133da654",
        "colab": {
          "base_uri": "https://localhost:8080/",
          "height": 491
        }
      },
      "execution_count": null,
      "outputs": [
        {
          "output_type": "display_data",
          "data": {
            "text/plain": [
              "<Figure size 720x540 with 1 Axes>"
            ],
            "image/png": "[encoded data removed]"
          },
          "metadata": {}
        }
      ]
    },
    {
      "cell_type": "markdown",
      "source": [
        "Donde observamos que gamma no esta teniendo ningún efecto en el sesgo del modelo. "
      ],
      "metadata": {
        "id": "KJmhd8w1UYC-"
      }
    },
    {
      "cell_type": "markdown",
      "source": [
        "Sabemos que entre mas disminuya el valor de C, mas “se contrae” la frontera de vectores de soporte, por lo que estos últimos generalmente aumentan.  Así mismo, sabemos que entre mas grande se hace gamma, suelen generarse mas irregularidades en las fronteras separadoras, y va aumentando el sobreentrenamiento. \n",
        "\n",
        "Concluyendo así, de las ultimas dos gráficas, que el parámetro que este caso tiene mayor influencia es el de C. Donde nuestro hiperparametro es el de C=0.01. Observando la grafica vemos que el menor sesgo es para cuando C es menor. Así que nos quedamos con C=0.01."
      ],
      "metadata": {
        "id": "4_mtZSdRSsL-"
      }
    },
    {
      "cell_type": "markdown",
      "source": [
        "#**Ejercicio-7.**"
      ],
      "metadata": {
        "id": "iCNGx4TQ8CFI"
      }
    },
    {
      "cell_type": "markdown",
      "source": [
        "Con los mejores hiperparámetros entontrados encontrar la gráfica de la curva ROC y su área bajo la curva. "
      ],
      "metadata": {
        "id": "LJYEbppRGSTE"
      }
    },
    {
      "cell_type": "code",
      "source": [
        "# Obtenemos las predicciones del modelo:\n",
        "yhat = modelo_SVM.predict(Xpt)\n",
        "\n",
        "# Obtenemos la tasa de falsos positivos (fpr) y la tasa de verdaderos positivos (tpr):\n",
        "fpr, tpr, thresholds = metrics.roc_curve(ytest, yhat)\n",
        "\n",
        "metrics.RocCurveDisplay.from_estimator(modelo_SVM, Xpt, ytest)\n",
        "\n",
        "plt.plot([0,0,1,0],[0,1,1,0], 'y--')\n",
        "\n",
        "plt.hlines(tpr, 0, fpr, colors='r', linestyles='dotted')  # Se calcula TPrate y FPrate con base a threshold=0.5\n",
        "plt.vlines(fpr, 0, tpr, colors='r', linestyles='dotted')  # como valor predeteminado\n",
        "plt.show() "
      ],
      "metadata": {
        "id": "ewvwUcJX78y1",
        "colab": {
          "base_uri": "https://localhost:8080/",
          "height": 475
        },
        "outputId": "989af920-16ba-4ac1-f828-c6ae40d8605c"
      },
      "execution_count": null,
      "outputs": [
        {
          "output_type": "display_data",
          "data": {
            "text/plain": [
              "<Figure size 720x540 with 1 Axes>"
            ],
            "image/png": "[encoded data removed]"
          },
          "metadata": {}
        }
      ]
    },
    {
      "cell_type": "markdown",
      "source": [
        "Donde observamos una área bajo la curva de 0.89"
      ],
      "metadata": {
        "id": "3KYrFO76Izck"
      }
    },
    {
      "cell_type": "markdown",
      "source": [
        "#**Ejercicio-8.**"
      ],
      "metadata": {
        "id": "tzQn5NR78GFg"
      }
    },
    {
      "cell_type": "markdown",
      "source": [
        "Encontrar el valor del mejor umbral de predicción del modelo que maximice el valor de la métrica f1-score. \n"
      ],
      "metadata": {
        "id": "ZIdJnp1CIAzF"
      }
    },
    {
      "cell_type": "code",
      "source": [
        "# regresa los TP para un umbral deseado:\n",
        "def fun_thTPrate(th, modelo, x, y):   \n",
        "  p = modelo.predict_proba(x)   # shape (231x2)\n",
        "  my1s = (y['class']==1) \n",
        "  pred1s  = p[my1s][:,1]\n",
        "  return (pred1s > th).sum() / my1s.sum()"
      ],
      "metadata": {
        "id": "utimpH7GwSCw"
      },
      "execution_count": null,
      "outputs": []
    },
    {
      "cell_type": "code",
      "source": [
        "# Análogo ahora con los FP:\n",
        "def fun_thFPrate(th, modelo, x, y):   \n",
        "  p = modelo.predict_proba(x)\n",
        "  my0s = (y['class']==0) \n",
        "  pred0s  = p[my0s][:,1]\n",
        "  return (pred0s>th).sum() / my0s.sum()"
      ],
      "metadata": {
        "id": "dKv9uzPJwSCx"
      },
      "execution_count": null,
      "outputs": []
    },
    {
      "cell_type": "markdown",
      "source": [
        "Utilizamos el método de precision_recall_curve() para obtener los valores de precision, recall, y sus respectivos thresholds:"
      ],
      "metadata": {
        "id": "_C6OjgKyVH42"
      }
    },
    {
      "cell_type": "code",
      "source": [
        "# Obtenemos las predicciones del modelo:\n",
        "yhat = modelo_SVM.predict_proba(Xpt)\n",
        "yhat = yhat[:, 1]\n",
        "\n",
        "# Obtenemos la tasa de falsos positivos (fpr) y la tasa de verdaderos positivos (tpr) y los thresholds:\n",
        "precision, recall, thresholds = precision_recall_curve(ytest, yhat)"
      ],
      "metadata": {
        "id": "6e5-0DDSvGeh"
      },
      "execution_count": null,
      "outputs": []
    },
    {
      "cell_type": "markdown",
      "source": [
        "Conociendo la formula de f1_score, obtenemos los valores de f1_score de cada threshold, y obtenemos el mayor. Utilizando este threshold que nos da el máximo de nuestro f1_score, generamos el true positive rate, y el false positive rate con las funciones definidas arriba:"
      ],
      "metadata": {
        "id": "g7n56UQDVq71"
      }
    },
    {
      "cell_type": "code",
      "source": [
        "# se obtienen los threshold\n",
        "f1score = (2 * precision * recall) / (precision + recall)\n",
        "# localizamos el mayor\n",
        "ix = np.argmax(f1score)\n",
        "\n",
        "best_thresh = thresholds[ix]\n",
        "best_TPrate = fun_thTPrate(best_thresh, modelo_SVM, Xpt, ytest.to_frame())\n",
        "best_FPrate = fun_thFPrate(best_thresh, modelo_SVM, Xpt, ytest.to_frame())\n",
        "\n",
        "print('Best Threshold=%f, F-Score=%.3f' % (thresholds[ix], f1score[ix]))\n",
        "print('Best TPrate = %f' % (best_TPrate))\n",
        "print('Best FPrate = %f' % (best_FPrate))"
      ],
      "metadata": {
        "colab": {
          "base_uri": "https://localhost:8080/"
        },
        "outputId": "6f7c2e70-ff84-4040-c6ca-c8fa85e40dc6",
        "id": "XBygBstXvGej"
      },
      "execution_count": null,
      "outputs": [
        {
          "output_type": "stream",
          "name": "stdout",
          "text": [
            "Best Threshold=0.376260, F-Score=0.857\n",
            "Best TPrate = 0.826087\n",
            "Best FPrate = 0.103448\n"
          ]
        }
      ]
    },
    {
      "cell_type": "markdown",
      "source": [
        "Graficamos la curva ROC con el threshold que maximice el valor de f1_score:"
      ],
      "metadata": {
        "id": "kHASNh9qWJ4G"
      }
    },
    {
      "cell_type": "code",
      "source": [
        "new_th = best_thresh\n",
        "\n",
        "RocCurveDisplay.from_estimator(modelo_SVM, Xpt, ytest)\n",
        "plt.plot([0,0,1,0],[0,1,1,0], 'y--')\n",
        "plt.hlines(best_TPrate, 0, best_FPrate, colors='r', linestyles='dotted')  \n",
        "plt.vlines(best_FPrate, 0, best_TPrate, colors='r', linestyles='dotted')  "
      ],
      "metadata": {
        "colab": {
          "base_uri": "https://localhost:8080/",
          "height": 493
        },
        "outputId": "db6c9cc1-0b11-420d-e511-a525d56137c4",
        "id": "8zp2MeCPvGek"
      },
      "execution_count": null,
      "outputs": [
        {
          "output_type": "execute_result",
          "data": {
            "text/plain": [
              "<matplotlib.collections.LineCollection at 0x7f0704182450>"
            ]
          },
          "metadata": {},
          "execution_count": 59
        },
        {
          "output_type": "display_data",
          "data": {
            "text/plain": [
              "<Figure size 720x540 with 1 Axes>"
            ],
            "image/png": "[encoded data removed]"
          },
          "metadata": {}
        }
      ]
    },
    {
      "cell_type": "markdown",
      "source": [
        "Para ejemplificarlo mejor, obtenemos la grafica de precision vs recall, donde identificamos el threshold obtenido:"
      ],
      "metadata": {
        "id": "nsbxpw9pWaZN"
      }
    },
    {
      "cell_type": "code",
      "source": [
        "no_skill = len(ytest[ytest==1]) / len(ytest)\n",
        "plt.plot([0,1], [no_skill,no_skill], linestyle='--', label='No Skill')\n",
        "plt.plot(recall, precision, marker='.', label='Logistic')\n",
        "plt.scatter(recall[ix], precision[ix], marker='o', color='black', label='Best')\n",
        "# axis labels\n",
        "plt.xlabel('Recall')\n",
        "plt.ylabel('Precision')\n",
        "plt.legend()\n",
        "# show the plot\n",
        "plt.show()"
      ],
      "metadata": {
        "colab": {
          "base_uri": "https://localhost:8080/",
          "height": 475
        },
        "id": "HKzsJJDZw1wY",
        "outputId": "6765afba-625b-4d1a-e37f-a4b828faad94"
      },
      "execution_count": null,
      "outputs": [
        {
          "output_type": "display_data",
          "data": {
            "text/plain": [
              "<Figure size 720x540 with 1 Axes>"
            ],
            "image/png": "[encoded data removed]"
          },
          "metadata": {}
        }
      ]
    },
    {
      "cell_type": "markdown",
      "source": [
        "#**Ejercicio-9.**"
      ],
      "metadata": {
        "id": "mASNrZWs8JTh"
      }
    },
    {
      "cell_type": "markdown",
      "source": [
        "Encontrar el valor del mejor umbral de predicción del modelo que maximice el valor de la métrica gmean. "
      ],
      "metadata": {
        "id": "wjnlxiLnIEH8"
      }
    },
    {
      "cell_type": "markdown",
      "source": [
        "Utilizamos la metrica de roc_curve() para obtener los false positive rate, true positive rate, y sus respectivoso thresholds:"
      ],
      "metadata": {
        "id": "BTp_eX7wWqcG"
      }
    },
    {
      "cell_type": "code",
      "source": [
        "# Obtenemos las predicciones del modelo:\n",
        "yhat = modelo_SVM.predict_proba(Xpt)\n",
        "yhat = yhat[:, 1]\n",
        "\n",
        "# Obtenemos la tasa de falsos positivos (fpr) y la tasa de verdaderos positivos (tpr) y los thresholds:\n",
        "fpr, tpr, thresholds = metrics.roc_curve(ytest, yhat)"
      ],
      "metadata": {
        "id": "Xr6oe1VF8K_A"
      },
      "execution_count": null,
      "outputs": []
    },
    {
      "cell_type": "markdown",
      "source": [
        "Sabemos que gmean = sqrt(sensivity*specificity). Donde sensivity=TP/(TP+FN), y specificity=TN/(FP+TN). Por lo que sensivity equivale a la true positive rate, y specificity equivale a 1 – false positive rate. Sustituyendo, obtenemos que gmean = sqrt(TPr * (1-FPr))\n",
        "\n",
        "Obteniendo ahora los gmean de cada threshold, seleccionamos el que nos de el valor mayor, y obtenemos sus respectivos TPrate y FPrate:"
      ],
      "metadata": {
        "id": "rnKINI6YpaVy"
      }
    },
    {
      "cell_type": "code",
      "source": [
        "gmean = np.sqrt(tpr*(1-fpr))\n",
        "ix = np.argmax(gmean)\n",
        "\n",
        "best_thresh = thresholds[ix]\n",
        "best_TPrate = fun_thTPrate(best_thresh, modelo_SVM, Xpt, ytest.to_frame())\n",
        "best_FPrate = fun_thFPrate(best_thresh, modelo_SVM, Xpt, ytest.to_frame())\n",
        "\n",
        "print('Best Threshold = %f' % (best_thresh))\n",
        "print('Best TPrate = %f' % (best_TPrate))\n",
        "print('Best FPrate = %f' % (best_FPrate))"
      ],
      "metadata": {
        "id": "X6HJP9hb8LCp",
        "colab": {
          "base_uri": "https://localhost:8080/"
        },
        "outputId": "eee686c0-a11e-4ba1-c30e-04c43612d48f"
      },
      "execution_count": null,
      "outputs": [
        {
          "output_type": "stream",
          "name": "stdout",
          "text": [
            "Best Threshold = 0.376260\n",
            "Best TPrate = 0.826087\n",
            "Best FPrate = 0.103448\n"
          ]
        }
      ]
    },
    {
      "cell_type": "markdown",
      "source": [
        "Graficamos la curva ROC con el threshold que maximice el valor de gmean:"
      ],
      "metadata": {
        "id": "ZR3MMKN7Y-1G"
      }
    },
    {
      "cell_type": "code",
      "source": [
        "new_th = best_thresh\n",
        "\n",
        "RocCurveDisplay.from_estimator(modelo_SVM, Xpt, ytest)\n",
        "plt.plot([0,0,1,0],[0,1,1,0], 'y--')\n",
        "plt.hlines(best_TPrate, 0, best_FPrate, colors='r', linestyles='dotted')  \n",
        "plt.vlines(best_FPrate, 0, best_TPrate, colors='r', linestyles='dotted')  "
      ],
      "metadata": {
        "colab": {
          "base_uri": "https://localhost:8080/",
          "height": 493
        },
        "id": "1Atq8EzFpsi3",
        "outputId": "075ac41e-cb2b-491c-b815-ef1d650fd2c1"
      },
      "execution_count": null,
      "outputs": [
        {
          "output_type": "execute_result",
          "data": {
            "text/plain": [
              "<matplotlib.collections.LineCollection at 0x7f0704141750>"
            ]
          },
          "metadata": {},
          "execution_count": 63
        },
        {
          "output_type": "display_data",
          "data": {
            "text/plain": [
              "<Figure size 720x540 with 1 Axes>"
            ],
            "image/png": "[encoded data removed]"
          },
          "metadata": {}
        }
      ]
    },
    {
      "cell_type": "markdown",
      "source": [
        "#**Ejercicio-10.**"
      ],
      "metadata": {
        "id": "VUIcDshs8MzG"
      }
    },
    {
      "cell_type": "markdown",
      "source": [
        "Incluye tus conclusiones finales de la actividad."
      ],
      "metadata": {
        "id": "GLTP6RndIHc1"
      }
    },
    {
      "cell_type": "markdown",
      "source": [
        "El modelo de maquina de vector soporte (SVM) nos dio un resultado aceptable, hablando de las métricas utilizadas al inicio, o del área bajo la curva en la curva de ROC. Se obtuvieron:\n",
        "\n",
        "* Mejor valor de Accuracy obtenido con la mejor combinación de parametros para accuracy: 0.8578202713795934\n",
        "* Mejor valor de f1_score obtenido con la mejor combinación de parametros para accuracy: 0.8401362280150738\n",
        "* Mejor valor de precision obtenido con la mejor combinación de parametros para accuracy: 0.8410450649898584\n",
        "* Mejor valor de recall obtenido con la mejor combinación de parametros para accuracy: 0.8416787614900823\n",
        "* SVC área bajo la curva: 0.89\n",
        "\n",
        "Así mismo, nuestras curvas de aprendizaje, así como las métricas con los datos de prueba, nos muestran que nuestro modelo no esta ni sobreentrenado, ni subentrenado. "
      ],
      "metadata": {
        "id": "YWLIp4eieiFm"
      }
    },
    {
      "cell_type": "markdown",
      "source": [
        "Ahora hablando del threshold, este se puede utilizar para darle prioridad a algún tipo de métrica. Que, en otras palabras, significa tratar de evitar algún tipo de error en especifico al darle mayor importancia. \n",
        "\n",
        "Generamos una grafica de splatter para poder visualizar mejor los resultados del modelo:"
      ],
      "metadata": {
        "id": "VWt3xFV5buum"
      }
    },
    {
      "cell_type": "code",
      "source": [
        "pred = modelo_SVM.predict_proba(Xpt)\n",
        "\n",
        "my0s = (ytest.to_frame()['class']==0)   # Se genera el vector Booleano, my0s, con TRUE para las entradas con 0s y FALSE para los 1s. Buscamos quedarnos solo con los negativos.\n",
        "my1s = (ytest.to_frame()['class']==1)   # De manera complemtaria, ahora \"my1s\" es el vector Booleanco con TRUE para los 1s - FALSE para los 0s. Ahora buscamos solo los positivos.\n",
        "\n",
        "pred0s  = pred[my0s][:,1]\n",
        "pred1s  = pred[my1s][:,1]\n",
        "\n",
        "r0 = np.random.uniform(-0.442,0.442, size=pred0s.shape[0])    # Generamos aleatorios uniforme para el eje x\n",
        "r1 = np.random.uniform(0.558,1.442, size=pred1s.shape[0])     # El análogo para 1-TRUEs de Xtest"
      ],
      "metadata": {
        "id": "0lKNJNIt8N88"
      },
      "execution_count": null,
      "outputs": []
    },
    {
      "cell_type": "markdown",
      "source": [
        "Donde definimos la línea punteada verde como el threshold de 0.5, y la línea punteada roja como el threshold de 0.37 obtenido en el ejercicio 8 y 9:"
      ],
      "metadata": {
        "id": "88jjpEYrbx0F"
      }
    },
    {
      "cell_type": "code",
      "source": [
        "plt.scatter(x=r0, y=pred0s)   # En teoría todos estos debieran ser menores a 0.5.\n",
        "plt.scatter(x=r1, y=pred1s)   # Y todos estos debieran ser mayores a 0.5.\n",
        "\n",
        "plt.hlines(0.5, -0.5, 1.5, color='g', linestyles='dashed')\n",
        "plt.hlines(0.375249, -0.5,1.5,color='r',linestyles='dashed')\n",
        "\n",
        "plt.show()"
      ],
      "metadata": {
        "id": "LzsFtclOaxBu",
        "outputId": "3b5c0bf8-9d81-4acb-bb44-604184bd44b2",
        "colab": {
          "base_uri": "https://localhost:8080/",
          "height": 458
        }
      },
      "execution_count": null,
      "outputs": [
        {
          "output_type": "display_data",
          "data": {
            "text/plain": [
              "<Figure size 720x540 with 1 Axes>"
            ],
            "image/png": "[encoded data removed]"
          },
          "metadata": {}
        }
      ]
    },
    {
      "cell_type": "markdown",
      "source": [
        "Donde dividiendo la grafica en 4 cuadrantes, divididos por la línea de threshold, arriba a la derecha son TP, arriba a la izquierda FP, abajo a la izquierda TN, y abajo a la derecha FN. \n",
        "\n",
        "Lo que podemos observar es que el threshold al 0.5 nos da prácticamente los mismos resultados que el threshold obtenido. La diferencia es que posiciona a un valor de la clase 1 en la frontera. Esto se interpreta, y se confirma, checando el balanceo de clases. Donde se observa que las clases están balanceadas:\n"
      ],
      "metadata": {
        "id": "561pdO8zc37u"
      }
    },
    {
      "cell_type": "code",
      "source": [
        "data['class'].sum() / data['class'].shape[0]"
      ],
      "metadata": {
        "id": "OL6RkhxQdBkP",
        "outputId": "57c62d2f-5d17-497f-a132-b33faef9104a",
        "colab": {
          "base_uri": "https://localhost:8080/"
        }
      },
      "execution_count": null,
      "outputs": [
        {
          "output_type": "execute_result",
          "data": {
            "text/plain": [
              "0.4449275362318841"
            ]
          },
          "metadata": {},
          "execution_count": 66
        }
      ]
    },
    {
      "cell_type": "markdown",
      "source": [
        "Mientras que se puede modificar el threshold para buscar maximizar o minimizar algún tipo de error o acierto, para las metricas f1-score y gmean, el threshold que maximiza sus resultados resulto ser el mismo en este caso. "
      ],
      "metadata": {
        "id": "PKX-U6UWdwh2"
      }
    },
    {
      "cell_type": "markdown",
      "source": [
        "Referencias:\n",
        "\n",
        "* A Gentle Introduction to Threshold-Moving for Imbalanced Classification. (2020). Retrieved from Machine Learning Mastery: [https://machinelearningmastery.com/threshold-moving-for-imbalanced-classification/](https://machinelearningmastery.com/threshold-moving-for-imbalanced-classification/)"
      ],
      "metadata": {
        "id": "ojKhGWr7VlVt"
      }
    },
    {
      "cell_type": "markdown",
      "source": [
        "###**Fin de la Actividad de la semana 8.**"
      ],
      "metadata": {
        "id": "7ql_r2G-DB_m"
      }
    }
  ]
}