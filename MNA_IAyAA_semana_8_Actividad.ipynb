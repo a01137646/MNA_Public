{
  "nbformat": 4,
  "nbformat_minor": 0,
  "metadata": {
    "colab": {
      "provenance": [],
      "collapsed_sections": [],
      "include_colab_link": true
    },
    "kernelspec": {
      "display_name": "Python 3",
      "name": "python3"
    }
  },
  "cells": [
    {
      "cell_type": "markdown",
      "metadata": {
        "id": "view-in-github",
        "colab_type": "text"
      },
      "source": [
        "<a href=\"https://colab.research.google.com/github/a01137646/MNA_Public/blob/main/MNA_IAyAA_semana_8_Actividad.ipynb\" target=\"_parent\"><img src=\"https://colab.research.google.com/assets/colab-badge.svg\" alt=\"Open In Colab\"/></a>"
      ]
    },
    {
      "cell_type": "markdown",
      "source": [
        "#**Maestría en Inteligencia Artificial Aplicada**\n",
        "##**Curso: Inteligencia Artificial y Aprendizaje Automático**\n",
        "###Tecnológico de Monterrey\n",
        "###Prof Luis Eduardo Falcón Morales\n",
        "\n",
        "## **Adtividad de la Semana 8**\n",
        "###**Máquina de Vector Soporte - Support Vector Machine(SVM)**\n"
      ],
      "metadata": {
        "id": "VFj0sSM06dYa"
      }
    },
    {
      "cell_type": "markdown",
      "source": [
        "**Nombres y matrículas de los integrantes del equipo:**\n",
        "\n",
        "* Gerardo Aaron Castañeda Jaramillo - A01137646\n",
        "* Dalina Aidee Villa Ocelotl - A01793258\n",
        "* Yocelin Juárez Arroyo - A00819828\n",
        "* Victor Hugo Avila Felipe - A01794425\n"
      ],
      "metadata": {
        "id": "Qgrvy0RGB9XI"
      }
    },
    {
      "cell_type": "markdown",
      "source": [
        "En cada sección deberás incluir todas las líneas de código necesarias para responder a cada uno de los ejercicios."
      ],
      "metadata": {
        "id": "FrJ2ahMODVj1"
      }
    },
    {
      "cell_type": "code",
      "source": [
        "# Incluye aquí todos módulos, librerías y paquetes que requieras.\n",
        "import numpy as np\n",
        "import pandas as pd\n",
        "import seaborn as sns \n",
        "import matplotlib.pyplot as plt \n",
        "\n",
        "from sklearn.model_selection import train_test_split\n",
        "\n",
        "from sklearn.pipeline import Pipeline\n",
        "from sklearn.compose import ColumnTransformer\n",
        "\n",
        "from sklearn.impute import SimpleImputer\n",
        "from sklearn.preprocessing import MinMaxScaler, OneHotEncoder\n",
        "\n",
        "from sklearn.preprocessing import FunctionTransformer\n",
        "\n",
        "from sklearn.metrics import accuracy_score, f1_score, precision_score, recall_score\n",
        "\n",
        "from sklearn.dummy import DummyClassifier\n",
        "\n",
        "from sklearn import svm\n",
        "\n",
        "from sklearn.model_selection import cross_val_score\n",
        "from sklearn.model_selection import RepeatedStratifiedKFold, cross_validate, StratifiedKFold\n",
        "\n",
        "from sklearn.model_selection import GridSearchCV\n",
        "from sklearn.metrics import get_scorer\n",
        "from sklearn.metrics import confusion_matrix\n",
        "\n",
        "from sklearn.metrics import classification_report, make_scorer\n",
        "\n",
        "from sklearn.model_selection import learning_curve\n",
        "from sklearn.model_selection import validation_curve\n",
        "\n",
        "from sklearn import metrics"
      ],
      "metadata": {
        "id": "exXsscs-Dh-2"
      },
      "execution_count": 339,
      "outputs": []
    },
    {
      "cell_type": "code",
      "source": [
        "mypath = \"https://archive.ics.uci.edu/ml/machine-learning-databases/statlog/australian/australian.dat\"\n",
        "\n",
        "data = pd.read_csv(mypath, sep=\" \", header=None)\n",
        "\n",
        "data.columns = ['A1','A2','A3','A4','A5','A6','A7','A8','A9','A10','A11','A12','A13','A14','class']\n",
        "\n",
        "print(data.shape)\n",
        "data.head()"
      ],
      "metadata": {
        "colab": {
          "base_uri": "https://localhost:8080/",
          "height": 224
        },
        "id": "-MD8hMdZjJ6-",
        "outputId": "7189c951-99b2-40bf-9d57-33c7d957afce"
      },
      "execution_count": 78,
      "outputs": [
        {
          "output_type": "stream",
          "name": "stdout",
          "text": [
            "(690, 15)\n"
          ]
        },
        {
          "output_type": "execute_result",
          "data": {
            "text/plain": [
              "   A1     A2     A3  A4  A5  A6     A7  A8  A9  A10  A11  A12  A13   A14  \\\n",
              "0   1  22.08  11.46   2   4   4  1.585   0   0    0    1    2  100  1213   \n",
              "1   0  22.67   7.00   2   8   4  0.165   0   0    0    0    2  160     1   \n",
              "2   0  29.58   1.75   1   4   4  1.250   0   0    0    1    2  280     1   \n",
              "3   0  21.67  11.50   1   5   3  0.000   1   1   11    1    2    0     1   \n",
              "4   1  20.17   8.17   2   6   4  1.960   1   1   14    0    2   60   159   \n",
              "\n",
              "   class  \n",
              "0      0  \n",
              "1      0  \n",
              "2      0  \n",
              "3      1  \n",
              "4      1  "
            ],
            "text/html": [
              "\n",
              "  <div id=\"df-9246e772-4b1b-4693-b387-c5b811a59a58\">\n",
              "    <div class=\"colab-df-container\">\n",
              "      <div>\n",
              "<style scoped>\n",
              "    .dataframe tbody tr th:only-of-type {\n",
              "        vertical-align: middle;\n",
              "    }\n",
              "\n",
              "    .dataframe tbody tr th {\n",
              "        vertical-align: top;\n",
              "    }\n",
              "\n",
              "    .dataframe thead th {\n",
              "        text-align: right;\n",
              "    }\n",
              "</style>\n",
              "<table border=\"1\" class=\"dataframe\">\n",
              "  <thead>\n",
              "    <tr style=\"text-align: right;\">\n",
              "      <th></th>\n",
              "      <th>A1</th>\n",
              "      <th>A2</th>\n",
              "      <th>A3</th>\n",
              "      <th>A4</th>\n",
              "      <th>A5</th>\n",
              "      <th>A6</th>\n",
              "      <th>A7</th>\n",
              "      <th>A8</th>\n",
              "      <th>A9</th>\n",
              "      <th>A10</th>\n",
              "      <th>A11</th>\n",
              "      <th>A12</th>\n",
              "      <th>A13</th>\n",
              "      <th>A14</th>\n",
              "      <th>class</th>\n",
              "    </tr>\n",
              "  </thead>\n",
              "  <tbody>\n",
              "    <tr>\n",
              "      <th>0</th>\n",
              "      <td>1</td>\n",
              "      <td>22.08</td>\n",
              "      <td>11.46</td>\n",
              "      <td>2</td>\n",
              "      <td>4</td>\n",
              "      <td>4</td>\n",
              "      <td>1.585</td>\n",
              "      <td>0</td>\n",
              "      <td>0</td>\n",
              "      <td>0</td>\n",
              "      <td>1</td>\n",
              "      <td>2</td>\n",
              "      <td>100</td>\n",
              "      <td>1213</td>\n",
              "      <td>0</td>\n",
              "    </tr>\n",
              "    <tr>\n",
              "      <th>1</th>\n",
              "      <td>0</td>\n",
              "      <td>22.67</td>\n",
              "      <td>7.00</td>\n",
              "      <td>2</td>\n",
              "      <td>8</td>\n",
              "      <td>4</td>\n",
              "      <td>0.165</td>\n",
              "      <td>0</td>\n",
              "      <td>0</td>\n",
              "      <td>0</td>\n",
              "      <td>0</td>\n",
              "      <td>2</td>\n",
              "      <td>160</td>\n",
              "      <td>1</td>\n",
              "      <td>0</td>\n",
              "    </tr>\n",
              "    <tr>\n",
              "      <th>2</th>\n",
              "      <td>0</td>\n",
              "      <td>29.58</td>\n",
              "      <td>1.75</td>\n",
              "      <td>1</td>\n",
              "      <td>4</td>\n",
              "      <td>4</td>\n",
              "      <td>1.250</td>\n",
              "      <td>0</td>\n",
              "      <td>0</td>\n",
              "      <td>0</td>\n",
              "      <td>1</td>\n",
              "      <td>2</td>\n",
              "      <td>280</td>\n",
              "      <td>1</td>\n",
              "      <td>0</td>\n",
              "    </tr>\n",
              "    <tr>\n",
              "      <th>3</th>\n",
              "      <td>0</td>\n",
              "      <td>21.67</td>\n",
              "      <td>11.50</td>\n",
              "      <td>1</td>\n",
              "      <td>5</td>\n",
              "      <td>3</td>\n",
              "      <td>0.000</td>\n",
              "      <td>1</td>\n",
              "      <td>1</td>\n",
              "      <td>11</td>\n",
              "      <td>1</td>\n",
              "      <td>2</td>\n",
              "      <td>0</td>\n",
              "      <td>1</td>\n",
              "      <td>1</td>\n",
              "    </tr>\n",
              "    <tr>\n",
              "      <th>4</th>\n",
              "      <td>1</td>\n",
              "      <td>20.17</td>\n",
              "      <td>8.17</td>\n",
              "      <td>2</td>\n",
              "      <td>6</td>\n",
              "      <td>4</td>\n",
              "      <td>1.960</td>\n",
              "      <td>1</td>\n",
              "      <td>1</td>\n",
              "      <td>14</td>\n",
              "      <td>0</td>\n",
              "      <td>2</td>\n",
              "      <td>60</td>\n",
              "      <td>159</td>\n",
              "      <td>1</td>\n",
              "    </tr>\n",
              "  </tbody>\n",
              "</table>\n",
              "</div>\n",
              "      <button class=\"colab-df-convert\" onclick=\"convertToInteractive('df-9246e772-4b1b-4693-b387-c5b811a59a58')\"\n",
              "              title=\"Convert this dataframe to an interactive table.\"\n",
              "              style=\"display:none;\">\n",
              "        \n",
              "  <svg xmlns=\"http://www.w3.org/2000/svg\" height=\"24px\"viewBox=\"0 0 24 24\"\n",
              "       width=\"24px\">\n",
              "    <path d=\"M0 0h24v24H0V0z\" fill=\"none\"/>\n",
              "    <path d=\"M18.56 5.44l.94 2.06.94-2.06 2.06-.94-2.06-.94-.94-2.06-.94 2.06-2.06.94zm-11 1L8.5 8.5l.94-2.06 2.06-.94-2.06-.94L8.5 2.5l-.94 2.06-2.06.94zm10 10l.94 2.06.94-2.06 2.06-.94-2.06-.94-.94-2.06-.94 2.06-2.06.94z\"/><path d=\"M17.41 7.96l-1.37-1.37c-.4-.4-.92-.59-1.43-.59-.52 0-1.04.2-1.43.59L10.3 9.45l-7.72 7.72c-.78.78-.78 2.05 0 2.83L4 21.41c.39.39.9.59 1.41.59.51 0 1.02-.2 1.41-.59l7.78-7.78 2.81-2.81c.8-.78.8-2.07 0-2.86zM5.41 20L4 18.59l7.72-7.72 1.47 1.35L5.41 20z\"/>\n",
              "  </svg>\n",
              "      </button>\n",
              "      \n",
              "  <style>\n",
              "    .colab-df-container {\n",
              "      display:flex;\n",
              "      flex-wrap:wrap;\n",
              "      gap: 12px;\n",
              "    }\n",
              "\n",
              "    .colab-df-convert {\n",
              "      background-color: #E8F0FE;\n",
              "      border: none;\n",
              "      border-radius: 50%;\n",
              "      cursor: pointer;\n",
              "      display: none;\n",
              "      fill: #1967D2;\n",
              "      height: 32px;\n",
              "      padding: 0 0 0 0;\n",
              "      width: 32px;\n",
              "    }\n",
              "\n",
              "    .colab-df-convert:hover {\n",
              "      background-color: #E2EBFA;\n",
              "      box-shadow: 0px 1px 2px rgba(60, 64, 67, 0.3), 0px 1px 3px 1px rgba(60, 64, 67, 0.15);\n",
              "      fill: #174EA6;\n",
              "    }\n",
              "\n",
              "    [theme=dark] .colab-df-convert {\n",
              "      background-color: #3B4455;\n",
              "      fill: #D2E3FC;\n",
              "    }\n",
              "\n",
              "    [theme=dark] .colab-df-convert:hover {\n",
              "      background-color: #434B5C;\n",
              "      box-shadow: 0px 1px 3px 1px rgba(0, 0, 0, 0.15);\n",
              "      filter: drop-shadow(0px 1px 2px rgba(0, 0, 0, 0.3));\n",
              "      fill: #FFFFFF;\n",
              "    }\n",
              "  </style>\n",
              "\n",
              "      <script>\n",
              "        const buttonEl =\n",
              "          document.querySelector('#df-9246e772-4b1b-4693-b387-c5b811a59a58 button.colab-df-convert');\n",
              "        buttonEl.style.display =\n",
              "          google.colab.kernel.accessAllowed ? 'block' : 'none';\n",
              "\n",
              "        async function convertToInteractive(key) {\n",
              "          const element = document.querySelector('#df-9246e772-4b1b-4693-b387-c5b811a59a58');\n",
              "          const dataTable =\n",
              "            await google.colab.kernel.invokeFunction('convertToInteractive',\n",
              "                                                     [key], {});\n",
              "          if (!dataTable) return;\n",
              "\n",
              "          const docLinkHtml = 'Like what you see? Visit the ' +\n",
              "            '<a target=\"_blank\" href=https://colab.research.google.com/notebooks/data_table.ipynb>data table notebook</a>'\n",
              "            + ' to learn more about interactive tables.';\n",
              "          element.innerHTML = '';\n",
              "          dataTable['output_type'] = 'display_data';\n",
              "          await google.colab.output.renderOutput(dataTable, element);\n",
              "          const docLink = document.createElement('div');\n",
              "          docLink.innerHTML = docLinkHtml;\n",
              "          element.appendChild(docLink);\n",
              "        }\n",
              "      </script>\n",
              "    </div>\n",
              "  </div>\n",
              "  "
            ]
          },
          "metadata": {},
          "execution_count": 78
        }
      ]
    },
    {
      "cell_type": "code",
      "source": [
        "Y = data[['class']]\n",
        "X = data.drop(labels='class',axis=1)"
      ],
      "metadata": {
        "id": "chlpFrnRj4xd"
      },
      "execution_count": 37,
      "outputs": []
    },
    {
      "cell_type": "markdown",
      "metadata": {
        "id": "X25brD-gQdZM"
      },
      "source": [
        "#**Ejercicio-1.** "
      ]
    },
    {
      "cell_type": "markdown",
      "source": [
        "Realiza una partición de los datos con 15% en el conjunto de prueba y el resto para entrenamiento y validación. Usa un random_state=0. "
      ],
      "metadata": {
        "id": "SkweNrzwjy-0"
      }
    },
    {
      "cell_type": "code",
      "source": [
        "Xtv, Xtest, ytv, ytest = train_test_split(X, Y, test_size=0.15, stratify=Y, random_state=0)  \n",
        "\n",
        "print(Xtv.shape, ': dimensión de datos de entrada para entrenamiento y validación')\n",
        "print(Xtest.shape, ': dimensión de datos de entrada para prueba')  \n",
        "\n",
        "print(ytv.shape, ': dimensión de variable de salida para entrenamiento y validación')\n",
        "print(ytest.shape, ': dimensión de variable de salida para prueba')"
      ],
      "metadata": {
        "id": "3nU2GuWYCy6C",
        "colab": {
          "base_uri": "https://localhost:8080/"
        },
        "outputId": "a92d613e-fabb-416a-c48d-d74fcad1e005"
      },
      "execution_count": 79,
      "outputs": [
        {
          "output_type": "stream",
          "name": "stdout",
          "text": [
            "(586, 14) : dimensión de datos de entrada para entrenamiento y validación\n",
            "(104, 14) : dimensión de datos de entrada para prueba\n",
            "(586, 1) : dimensión de variable de salida para entrenamiento y validación\n",
            "(104, 1) : dimensión de variable de salida para prueba\n"
          ]
        }
      ]
    },
    {
      "cell_type": "markdown",
      "source": [
        "#**Ejercicio-2.**"
      ],
      "metadata": {
        "id": "xZhr2hkECzVv"
      }
    },
    {
      "cell_type": "markdown",
      "source": [
        "Hacer una análisis de los datos y llevar a cabo las transformaciones que consideres adecuadas. Utiliza un Pipeline para evitar el filtrado de información"
      ],
      "metadata": {
        "id": "9cxv4U1qk308"
      }
    },
    {
      "cell_type": "markdown",
      "source": [
        "Observando lo que nos dice la documentación:\n",
        "* A1:\t0,1    CATEGORICAL a,b\n",
        "* A2:\tcontinuous.\n",
        "* A3:\tcontinuous.\n",
        "* A4:\t1,2,3         CATEGORICAL p,g,gg\n",
        "* A5:  1, 2,3,4,5, 6,7,8,9,10,11,12,13,14    CATEGORICAL ff,d,i,k,j,aa,m,c,w, e, q, r,cc, x \n",
        "* A6:\t 1, 2,3, 4,5,6,7,8,9    CATEGORICAL ff,dd,j,bb,v,n,o,h,z \n",
        "* A7:\tcontinuous.\n",
        "* A8:\t1, 0       CATEGORICAL t, f.\n",
        "* A9: 1, 0\t    CATEGORICAL t, f.\n",
        "* A10:\tcontinuous.\n",
        "* A11:  1, 0\t    CATEGORICAL t, f.\n",
        "* A12:    1, 2, 3    CATEGORICAL s, g, p \n",
        "* A13:\tcontinuous.\n",
        "* A14:\tcontinuous.\n",
        "* A15:   1,2 +,-         (class attribute)\n"
      ],
      "metadata": {
        "id": "7X-cO6feu6Kc"
      }
    },
    {
      "cell_type": "code",
      "source": [
        "data.info()"
      ],
      "metadata": {
        "colab": {
          "base_uri": "https://localhost:8080/"
        },
        "id": "ZfeFfBWTv1-L",
        "outputId": "438d6c9c-d512-4544-e796-f06b2870ffb2"
      },
      "execution_count": 22,
      "outputs": [
        {
          "output_type": "stream",
          "name": "stdout",
          "text": [
            "<class 'pandas.core.frame.DataFrame'>\n",
            "RangeIndex: 690 entries, 0 to 689\n",
            "Data columns (total 15 columns):\n",
            " #   Column  Non-Null Count  Dtype  \n",
            "---  ------  --------------  -----  \n",
            " 0   A1      690 non-null    int64  \n",
            " 1   A2      690 non-null    float64\n",
            " 2   A3      690 non-null    float64\n",
            " 3   A4      690 non-null    int64  \n",
            " 4   A5      690 non-null    int64  \n",
            " 5   A6      690 non-null    int64  \n",
            " 6   A7      690 non-null    float64\n",
            " 7   A8      690 non-null    int64  \n",
            " 8   A9      690 non-null    int64  \n",
            " 9   A10     690 non-null    int64  \n",
            " 10  A11     690 non-null    int64  \n",
            " 11  A12     690 non-null    int64  \n",
            " 12  A13     690 non-null    int64  \n",
            " 13  A14     690 non-null    int64  \n",
            " 14  class   690 non-null    int64  \n",
            "dtypes: float64(3), int64(12)\n",
            "memory usage: 81.0 KB\n"
          ]
        }
      ]
    },
    {
      "cell_type": "code",
      "source": [
        "data.isnull().values.any()"
      ],
      "metadata": {
        "colab": {
          "base_uri": "https://localhost:8080/"
        },
        "id": "lWFQiqxZwR_0",
        "outputId": "16c026bd-bf0b-4229-aac7-99f42bb9479b"
      },
      "execution_count": 23,
      "outputs": [
        {
          "output_type": "execute_result",
          "data": {
            "text/plain": [
              "False"
            ]
          },
          "metadata": {},
          "execution_count": 23
        }
      ]
    },
    {
      "cell_type": "markdown",
      "source": [
        "Definimos variables por sus tipos en base a la documentación:"
      ],
      "metadata": {
        "id": "xPiySKKvwkVc"
      }
    },
    {
      "cell_type": "code",
      "source": [
        "#definimos variables numéricas\n",
        "num_nom = ['A2','A3','A7','A10','A13','A14']\n",
        "#definimos variables categóricas\n",
        "cat_nom = ['A1', 'A4', 'A5', 'A6', 'A8', 'A9', 'A11', 'A12']"
      ],
      "metadata": {
        "id": "st6FhHVZxBj8"
      },
      "execution_count": 80,
      "outputs": []
    },
    {
      "cell_type": "markdown",
      "source": [
        "Observamos la frecuencia de cada nivel de las variables categóricas:"
      ],
      "metadata": {
        "id": "jFvEmE-vxVwN"
      }
    },
    {
      "cell_type": "code",
      "source": [
        "for col in cat_nom:\n",
        "  print(data[col].value_counts(),'\\n')"
      ],
      "metadata": {
        "colab": {
          "base_uri": "https://localhost:8080/"
        },
        "id": "Tj-hea-sxY2z",
        "outputId": "2e20c501-819c-4b2d-bb39-58ecaddd010c"
      },
      "execution_count": 81,
      "outputs": [
        {
          "output_type": "stream",
          "name": "stdout",
          "text": [
            "1    468\n",
            "0    222\n",
            "Name: A1, dtype: int64 \n",
            "\n",
            "2    525\n",
            "1    163\n",
            "3      2\n",
            "Name: A4, dtype: int64 \n",
            "\n",
            "8     146\n",
            "11     78\n",
            "9      64\n",
            "3      59\n",
            "6      54\n",
            "1      53\n",
            "4      51\n",
            "13     41\n",
            "14     38\n",
            "7      38\n",
            "2      30\n",
            "10     25\n",
            "5      10\n",
            "12      3\n",
            "Name: A5, dtype: int64 \n",
            "\n",
            "4    408\n",
            "8    138\n",
            "5     59\n",
            "1     57\n",
            "3      8\n",
            "9      8\n",
            "2      6\n",
            "7      6\n",
            "Name: A6, dtype: int64 \n",
            "\n",
            "1    361\n",
            "0    329\n",
            "Name: A8, dtype: int64 \n",
            "\n",
            "0    395\n",
            "1    295\n",
            "Name: A9, dtype: int64 \n",
            "\n",
            "0    374\n",
            "1    316\n",
            "Name: A11, dtype: int64 \n",
            "\n",
            "2    625\n",
            "1     57\n",
            "3      8\n",
            "Name: A12, dtype: int64 \n",
            "\n"
          ]
        }
      ]
    },
    {
      "cell_type": "markdown",
      "source": [
        "Observamos que algunos efectivamente, tienen niveles muy bajos. Una regla empírica para esto es que sean al menos 5% de la información. Así que transformamos aquellos que no lo cumplen. "
      ],
      "metadata": {
        "id": "H4h1m1jOx7tr"
      }
    },
    {
      "cell_type": "markdown",
      "source": [
        "Una función para remplazar valores menores a cierto porcentaje del total de información con otro valor, para así poder agrupar: "
      ],
      "metadata": {
        "id": "muLmardC5qOM"
      }
    },
    {
      "cell_type": "code",
      "source": [
        "def freq_group(df,n,tres):\n",
        "  x = df.copy()\n",
        "  for indx in x.value_counts().index.tolist():\n",
        "    if (x.value_counts()[indx]/x.value_counts().sum()) < tres:\n",
        "      x = x.replace(to_replace=indx,value=n)\n",
        "  return x"
      ],
      "metadata": {
        "id": "kP6AEH4M1Kxk"
      },
      "execution_count": 82,
      "outputs": []
    },
    {
      "cell_type": "markdown",
      "source": [
        "Vemos específicamente cada caso, y hacemos sus sustituciones: "
      ],
      "metadata": {
        "id": "_HoE50fB5z8T"
      }
    },
    {
      "cell_type": "code",
      "source": [
        "#CASO 1\n",
        "\n",
        "#Para A4, agrupamos el valor menor de la categoria mas baja junto con el de la segunda mas baja, que se encuentra arriba del 20%\n",
        "for var in ['A4','A12']:\n",
        "  data[var] = freq_group(data[var],0,0.25)\n",
        "#Para A5, A6, y A12 agrupamos todos los menores a 5% en un solo grupo\n",
        "for var in ['A5','A6']:\n",
        "  data[var] = freq_group(data[var],0,0.05)"
      ],
      "metadata": {
        "id": "mhbcFUqQ5-rE"
      },
      "execution_count": 53,
      "outputs": []
    },
    {
      "cell_type": "code",
      "source": [
        "#CASO 2\n",
        "\n",
        "#agrupamos todos los menores a 5% en un solo grupo\n",
        "for var in ['A4','A5','A6','A12']:\n",
        "  data[var] = freq_group(data[var],0,0.05)"
      ],
      "metadata": {
        "id": "AyWdl-YsRPlI"
      },
      "execution_count": 83,
      "outputs": []
    },
    {
      "cell_type": "markdown",
      "source": [
        "Observamos la frecuencia de cada nivel de las variables categóricas:"
      ],
      "metadata": {
        "id": "q9-GmCDg5pWc"
      }
    },
    {
      "cell_type": "code",
      "source": [
        "for col in cat_nom:\n",
        "  print(data[col].value_counts(),'\\n')"
      ],
      "metadata": {
        "colab": {
          "base_uri": "https://localhost:8080/"
        },
        "id": "2HtgsHsY6q-F",
        "outputId": "5f1b75c2-b1c8-42e5-8fd2-6b182a43846b"
      },
      "execution_count": 84,
      "outputs": [
        {
          "output_type": "stream",
          "name": "stdout",
          "text": [
            "1    468\n",
            "0    222\n",
            "Name: A1, dtype: int64 \n",
            "\n",
            "2    525\n",
            "1    163\n",
            "0      2\n",
            "Name: A4, dtype: int64 \n",
            "\n",
            "8     146\n",
            "11     78\n",
            "0      68\n",
            "9      64\n",
            "3      59\n",
            "6      54\n",
            "1      53\n",
            "4      51\n",
            "13     41\n",
            "14     38\n",
            "7      38\n",
            "Name: A5, dtype: int64 \n",
            "\n",
            "4    408\n",
            "8    138\n",
            "5     59\n",
            "1     57\n",
            "0     28\n",
            "Name: A6, dtype: int64 \n",
            "\n",
            "1    361\n",
            "0    329\n",
            "Name: A8, dtype: int64 \n",
            "\n",
            "0    395\n",
            "1    295\n",
            "Name: A9, dtype: int64 \n",
            "\n",
            "0    374\n",
            "1    316\n",
            "Name: A11, dtype: int64 \n",
            "\n",
            "2    625\n",
            "1     57\n",
            "0      8\n",
            "Name: A12, dtype: int64 \n",
            "\n"
          ]
        }
      ]
    },
    {
      "cell_type": "markdown",
      "source": [
        "Observamos las variables numéricas:"
      ],
      "metadata": {
        "id": "BFTTgG_tHeAT"
      }
    },
    {
      "cell_type": "code",
      "source": [
        "data[num_nom].describe()"
      ],
      "metadata": {
        "colab": {
          "base_uri": "https://localhost:8080/",
          "height": 300
        },
        "id": "hTVFLfOCHeJE",
        "outputId": "bde577e6-8687-4c0f-c20c-f0d898cc3b42"
      },
      "execution_count": 55,
      "outputs": [
        {
          "output_type": "execute_result",
          "data": {
            "text/plain": [
              "               A2          A3          A7        A10          A13  \\\n",
              "count  690.000000  690.000000  690.000000  690.00000   690.000000   \n",
              "mean    31.568203    4.758725    2.223406    2.40000   184.014493   \n",
              "std     11.853273    4.978163    3.346513    4.86294   172.159274   \n",
              "min     13.750000    0.000000    0.000000    0.00000     0.000000   \n",
              "25%     22.670000    1.000000    0.165000    0.00000    80.000000   \n",
              "50%     28.625000    2.750000    1.000000    0.00000   160.000000   \n",
              "75%     37.707500    7.207500    2.625000    3.00000   272.000000   \n",
              "max     80.250000   28.000000   28.500000   67.00000  2000.000000   \n",
              "\n",
              "                 A14  \n",
              "count     690.000000  \n",
              "mean     1018.385507  \n",
              "std      5210.102598  \n",
              "min         1.000000  \n",
              "25%         1.000000  \n",
              "50%         6.000000  \n",
              "75%       396.500000  \n",
              "max    100001.000000  "
            ],
            "text/html": [
              "\n",
              "  <div id=\"df-be4dc28e-2cc2-4221-996f-a8ed0ab9c7a2\">\n",
              "    <div class=\"colab-df-container\">\n",
              "      <div>\n",
              "<style scoped>\n",
              "    .dataframe tbody tr th:only-of-type {\n",
              "        vertical-align: middle;\n",
              "    }\n",
              "\n",
              "    .dataframe tbody tr th {\n",
              "        vertical-align: top;\n",
              "    }\n",
              "\n",
              "    .dataframe thead th {\n",
              "        text-align: right;\n",
              "    }\n",
              "</style>\n",
              "<table border=\"1\" class=\"dataframe\">\n",
              "  <thead>\n",
              "    <tr style=\"text-align: right;\">\n",
              "      <th></th>\n",
              "      <th>A2</th>\n",
              "      <th>A3</th>\n",
              "      <th>A7</th>\n",
              "      <th>A10</th>\n",
              "      <th>A13</th>\n",
              "      <th>A14</th>\n",
              "    </tr>\n",
              "  </thead>\n",
              "  <tbody>\n",
              "    <tr>\n",
              "      <th>count</th>\n",
              "      <td>690.000000</td>\n",
              "      <td>690.000000</td>\n",
              "      <td>690.000000</td>\n",
              "      <td>690.00000</td>\n",
              "      <td>690.000000</td>\n",
              "      <td>690.000000</td>\n",
              "    </tr>\n",
              "    <tr>\n",
              "      <th>mean</th>\n",
              "      <td>31.568203</td>\n",
              "      <td>4.758725</td>\n",
              "      <td>2.223406</td>\n",
              "      <td>2.40000</td>\n",
              "      <td>184.014493</td>\n",
              "      <td>1018.385507</td>\n",
              "    </tr>\n",
              "    <tr>\n",
              "      <th>std</th>\n",
              "      <td>11.853273</td>\n",
              "      <td>4.978163</td>\n",
              "      <td>3.346513</td>\n",
              "      <td>4.86294</td>\n",
              "      <td>172.159274</td>\n",
              "      <td>5210.102598</td>\n",
              "    </tr>\n",
              "    <tr>\n",
              "      <th>min</th>\n",
              "      <td>13.750000</td>\n",
              "      <td>0.000000</td>\n",
              "      <td>0.000000</td>\n",
              "      <td>0.00000</td>\n",
              "      <td>0.000000</td>\n",
              "      <td>1.000000</td>\n",
              "    </tr>\n",
              "    <tr>\n",
              "      <th>25%</th>\n",
              "      <td>22.670000</td>\n",
              "      <td>1.000000</td>\n",
              "      <td>0.165000</td>\n",
              "      <td>0.00000</td>\n",
              "      <td>80.000000</td>\n",
              "      <td>1.000000</td>\n",
              "    </tr>\n",
              "    <tr>\n",
              "      <th>50%</th>\n",
              "      <td>28.625000</td>\n",
              "      <td>2.750000</td>\n",
              "      <td>1.000000</td>\n",
              "      <td>0.00000</td>\n",
              "      <td>160.000000</td>\n",
              "      <td>6.000000</td>\n",
              "    </tr>\n",
              "    <tr>\n",
              "      <th>75%</th>\n",
              "      <td>37.707500</td>\n",
              "      <td>7.207500</td>\n",
              "      <td>2.625000</td>\n",
              "      <td>3.00000</td>\n",
              "      <td>272.000000</td>\n",
              "      <td>396.500000</td>\n",
              "    </tr>\n",
              "    <tr>\n",
              "      <th>max</th>\n",
              "      <td>80.250000</td>\n",
              "      <td>28.000000</td>\n",
              "      <td>28.500000</td>\n",
              "      <td>67.00000</td>\n",
              "      <td>2000.000000</td>\n",
              "      <td>100001.000000</td>\n",
              "    </tr>\n",
              "  </tbody>\n",
              "</table>\n",
              "</div>\n",
              "      <button class=\"colab-df-convert\" onclick=\"convertToInteractive('df-be4dc28e-2cc2-4221-996f-a8ed0ab9c7a2')\"\n",
              "              title=\"Convert this dataframe to an interactive table.\"\n",
              "              style=\"display:none;\">\n",
              "        \n",
              "  <svg xmlns=\"http://www.w3.org/2000/svg\" height=\"24px\"viewBox=\"0 0 24 24\"\n",
              "       width=\"24px\">\n",
              "    <path d=\"M0 0h24v24H0V0z\" fill=\"none\"/>\n",
              "    <path d=\"M18.56 5.44l.94 2.06.94-2.06 2.06-.94-2.06-.94-.94-2.06-.94 2.06-2.06.94zm-11 1L8.5 8.5l.94-2.06 2.06-.94-2.06-.94L8.5 2.5l-.94 2.06-2.06.94zm10 10l.94 2.06.94-2.06 2.06-.94-2.06-.94-.94-2.06-.94 2.06-2.06.94z\"/><path d=\"M17.41 7.96l-1.37-1.37c-.4-.4-.92-.59-1.43-.59-.52 0-1.04.2-1.43.59L10.3 9.45l-7.72 7.72c-.78.78-.78 2.05 0 2.83L4 21.41c.39.39.9.59 1.41.59.51 0 1.02-.2 1.41-.59l7.78-7.78 2.81-2.81c.8-.78.8-2.07 0-2.86zM5.41 20L4 18.59l7.72-7.72 1.47 1.35L5.41 20z\"/>\n",
              "  </svg>\n",
              "      </button>\n",
              "      \n",
              "  <style>\n",
              "    .colab-df-container {\n",
              "      display:flex;\n",
              "      flex-wrap:wrap;\n",
              "      gap: 12px;\n",
              "    }\n",
              "\n",
              "    .colab-df-convert {\n",
              "      background-color: #E8F0FE;\n",
              "      border: none;\n",
              "      border-radius: 50%;\n",
              "      cursor: pointer;\n",
              "      display: none;\n",
              "      fill: #1967D2;\n",
              "      height: 32px;\n",
              "      padding: 0 0 0 0;\n",
              "      width: 32px;\n",
              "    }\n",
              "\n",
              "    .colab-df-convert:hover {\n",
              "      background-color: #E2EBFA;\n",
              "      box-shadow: 0px 1px 2px rgba(60, 64, 67, 0.3), 0px 1px 3px 1px rgba(60, 64, 67, 0.15);\n",
              "      fill: #174EA6;\n",
              "    }\n",
              "\n",
              "    [theme=dark] .colab-df-convert {\n",
              "      background-color: #3B4455;\n",
              "      fill: #D2E3FC;\n",
              "    }\n",
              "\n",
              "    [theme=dark] .colab-df-convert:hover {\n",
              "      background-color: #434B5C;\n",
              "      box-shadow: 0px 1px 3px 1px rgba(0, 0, 0, 0.15);\n",
              "      filter: drop-shadow(0px 1px 2px rgba(0, 0, 0, 0.3));\n",
              "      fill: #FFFFFF;\n",
              "    }\n",
              "  </style>\n",
              "\n",
              "      <script>\n",
              "        const buttonEl =\n",
              "          document.querySelector('#df-be4dc28e-2cc2-4221-996f-a8ed0ab9c7a2 button.colab-df-convert');\n",
              "        buttonEl.style.display =\n",
              "          google.colab.kernel.accessAllowed ? 'block' : 'none';\n",
              "\n",
              "        async function convertToInteractive(key) {\n",
              "          const element = document.querySelector('#df-be4dc28e-2cc2-4221-996f-a8ed0ab9c7a2');\n",
              "          const dataTable =\n",
              "            await google.colab.kernel.invokeFunction('convertToInteractive',\n",
              "                                                     [key], {});\n",
              "          if (!dataTable) return;\n",
              "\n",
              "          const docLinkHtml = 'Like what you see? Visit the ' +\n",
              "            '<a target=\"_blank\" href=https://colab.research.google.com/notebooks/data_table.ipynb>data table notebook</a>'\n",
              "            + ' to learn more about interactive tables.';\n",
              "          element.innerHTML = '';\n",
              "          dataTable['output_type'] = 'display_data';\n",
              "          await google.colab.output.renderOutput(dataTable, element);\n",
              "          const docLink = document.createElement('div');\n",
              "          docLink.innerHTML = docLinkHtml;\n",
              "          element.appendChild(docLink);\n",
              "        }\n",
              "      </script>\n",
              "    </div>\n",
              "  </div>\n",
              "  "
            ]
          },
          "metadata": {},
          "execution_count": 55
        }
      ]
    },
    {
      "cell_type": "markdown",
      "source": [
        "Graficamos los histogramas de la variables numéricas con sus posibles transformaciones:"
      ],
      "metadata": {
        "id": "9L7cO__IHwvc"
      }
    },
    {
      "cell_type": "code",
      "source": [
        "def Sqrt_cx(x):\n",
        "  c = x.max()\n",
        "  tmp = np.power(c+1-x,1/2)\n",
        "  return tmp"
      ],
      "metadata": {
        "id": "DSc-6XCEJSG0"
      },
      "execution_count": 74,
      "outputs": []
    },
    {
      "cell_type": "code",
      "source": [
        "df_transform = data[num_nom]\n",
        "nvar = len(data[num_nom].columns)\n",
        "nplots = 5\n",
        "sns.set(rc={'figure.figsize':(nvar*5,15)})\n",
        "k=0\n",
        "fig, axes = plt.subplots(nplots, nvar)   \n",
        "for k in range(0,nvar):  \n",
        "  plt.subplot(nplots, nvar,k+1) \n",
        "\n",
        "  Transf0 = df_transform.iloc[:,k].to_numpy().reshape(-1, 1) \n",
        "  plt.hist(Transf0, bins=30) \n",
        "  plt.xlabel(df_transform.columns[k])\n",
        "  if k==0:\n",
        "    plt.ylabel('Sin transformación')\n",
        "  \n",
        "  plt.subplot(nplots, nvar,k+1+nvar*1)    \n",
        "  Transf1 = np.sqrt(Transf0)       \n",
        "  plt.hist(Transf1, bins=30)                      \n",
        "  plt.xlabel(df_transform.columns[k])\n",
        "  if k==0:\n",
        "    plt.ylabel('Raíz Cuadrada')\n",
        "\n",
        "  plt.subplot(nplots, nvar,k+1+nvar*2)  \n",
        "  Transf2 = np.power(Transf0,2)     \n",
        "  plt.hist(Transf2, bins=30)                   \n",
        "  plt.xlabel(df_transform.columns[k])\n",
        "  if k==0:\n",
        "    plt.ylabel('Potencia 2')\n",
        "\n",
        "  plt.subplot(nplots, nvar,k+1+nvar*3)    \n",
        "  Transf3 = Sqrt_cx(df_transform.iloc[:,k])        \n",
        "  plt.hist(Transf3, bins=30)                   \n",
        "  plt.xlabel(df_transform.columns[k])\n",
        "  if k==0:\n",
        "    plt.ylabel('Raiz de (C-X)')  \n",
        "\n",
        "  plt.subplot(nplots, nvar,k+1+nvar*4)  \n",
        "  Transf4 = np.power(Transf0,1/3)     \n",
        "  plt.hist(Transf4, bins=30)                   \n",
        "  plt.xlabel(df_transform.columns[k])\n",
        "  if k==0:\n",
        "    plt.ylabel('Raíz Cubica')"
      ],
      "metadata": {
        "colab": {
          "base_uri": "https://localhost:8080/",
          "height": 883
        },
        "id": "IZzu3axpHylz",
        "outputId": "c9d193f9-83c5-4268-bce1-f96484cff260"
      },
      "execution_count": 85,
      "outputs": [
        {
          "output_type": "display_data",
          "data": {
            "text/plain": [
              "<Figure size 2160x1080 with 30 Axes>"
            ],
            "image/png": "[encoded data removed]"
          },
          "metadata": {}
        }
      ]
    },
    {
      "cell_type": "markdown",
      "source": [
        "Donde observamos que, aunque existe para A10, A13 y A14 existe un gran numero de valores de valor 1, la transformación que mejor distribución nos da es la raíz cubica"
      ],
      "metadata": {
        "id": "XMc0HmwuOnCV"
      }
    },
    {
      "cell_type": "markdown",
      "source": [
        "Verificamos que no existan clases desbalanceadas en y:"
      ],
      "metadata": {
        "id": "yhaXdtv5q3-U"
      }
    },
    {
      "cell_type": "code",
      "source": [
        "data['class'].sum() / data['class'].shape[0]"
      ],
      "metadata": {
        "colab": {
          "base_uri": "https://localhost:8080/"
        },
        "id": "yfxGDVCEqxaE",
        "outputId": "f749cc5c-063a-46c7-9932-c0e7680ff798"
      },
      "execution_count": 86,
      "outputs": [
        {
          "output_type": "execute_result",
          "data": {
            "text/plain": [
              "0.4449275362318841"
            ]
          },
          "metadata": {},
          "execution_count": 86
        }
      ]
    },
    {
      "cell_type": "markdown",
      "source": [
        "Finalmente, creamos nuestro pipeline con todas nuestras transformaciones y escalamiento:"
      ],
      "metadata": {
        "id": "uM_sXX6cO5OU"
      }
    },
    {
      "cell_type": "code",
      "source": [
        "def x_tran(X):\n",
        "  X_ = X.copy() \n",
        "  X_ = np.power(X_,1/3)    \n",
        "  return X_"
      ],
      "metadata": {
        "id": "kmGBtCT_SkrF"
      },
      "execution_count": 138,
      "outputs": []
    },
    {
      "cell_type": "code",
      "source": [
        "# Transformaciones a factores numéricos de entrada:\n",
        "num_pipeline = Pipeline(steps = [('impMediana', SimpleImputer(strategy='median')),\n",
        "                                 ('CubicRoot', FunctionTransformer(x_tran)),\n",
        "                                 ('escalaNum', MinMaxScaler(feature_range=(1,2)))])   \n",
        "num_pipeline_nombres = ['A2','A3','A7','A10','A13','A14']\n",
        "\n",
        "# Transformaciones a factores categóricos de entrada:\n",
        "catImp_pipeline = Pipeline(steps = [('impModa', SimpleImputer(strategy='most_frequent'))])  \n",
        "catImp_pipeline_nombres = ['A1', 'A4', 'A5', 'A6', 'A8', 'A9', 'A11', 'A12']\n",
        "\n",
        "catOHE_pipeline = Pipeline(steps = [('OneHotE', OneHotEncoder(drop='first'))])\n",
        "#catOHE_pipeline = Pipeline(steps = [('OneHotE', OneHotEncoder())])\n",
        "catOHE_pipeline_nombres = [ 'A4','A5','A6','A12']\n",
        "\n",
        "\n",
        "# Conjuntamos las transformaciones numéricas y categóricas que se estarán aplicando a los datos de entrada:\n",
        "columnasTransformer = ColumnTransformer(transformers = [('numpipe', num_pipeline, num_pipeline_nombres),\n",
        "                                                        ('catimp', catImp_pipeline, catImp_pipeline_nombres),\n",
        "                                                        ('catohe', catOHE_pipeline, catOHE_pipeline_nombres)],\n",
        "                                        remainder='passthrough')"
      ],
      "metadata": {
        "id": "ory-YYuUPBzU"
      },
      "execution_count": 139,
      "outputs": []
    },
    {
      "cell_type": "markdown",
      "source": [
        "Dado que se hicieron cambios en el dataframe de ‘data’ para eliminar valores categóricos debajo del 5%, se vuelve a particionar el dataset"
      ],
      "metadata": {
        "id": "0An4cR-hTepT"
      }
    },
    {
      "cell_type": "code",
      "source": [
        "X = data.iloc[:,:-1]  \n",
        "Y = data.iloc[:,-1]"
      ],
      "metadata": {
        "id": "Rj3rMp40TTR0"
      },
      "execution_count": 140,
      "outputs": []
    },
    {
      "cell_type": "code",
      "source": [
        "Xtv, Xtest, ytv, ytest = train_test_split(X, Y, test_size=0.15, random_state=0)  \n",
        "\n",
        "print(Xtv.shape, ': dimensión de datos de entrada para entrenamiento y validación')\n",
        "print(Xtest.shape, ': dimensión de datos de entrada para prueba')  \n",
        "print(ytv.shape, ': dimensión de variable de salida para entrenamiento y validación')\n",
        "print(ytest.shape, ': dimensión de variable de salida para prueba')"
      ],
      "metadata": {
        "colab": {
          "base_uri": "https://localhost:8080/"
        },
        "id": "CY-b_uNcTMu_",
        "outputId": "61596b7b-296b-47ec-e307-8c162e93d431"
      },
      "execution_count": 143,
      "outputs": [
        {
          "output_type": "stream",
          "name": "stdout",
          "text": [
            "(586, 14) : dimensión de datos de entrada para entrenamiento y validación\n",
            "(104, 14) : dimensión de datos de entrada para prueba\n",
            "(586,) : dimensión de variable de salida para entrenamiento y validación\n",
            "(104,) : dimensión de variable de salida para prueba\n"
          ]
        }
      ]
    },
    {
      "cell_type": "markdown",
      "source": [
        "#**Ejercicio-3.**"
      ],
      "metadata": {
        "id": "NCunuooTC2W3"
      }
    },
    {
      "cell_type": "markdown",
      "source": [
        "Utiliza la función Dummy para modelos de clasificación con la estrategia “stratified” con el conjunto\n",
        "que tienes de datos de entrenamiento y validación. Obtener los valores de partida (baseline) de las\n",
        "siguientes métricas: accuracy, f1-score, precision y recall. ¿Por qué consideras que es adecuado usar\n",
        "la estrategia “stratified” en este caso? \n"
      ],
      "metadata": {
        "id": "enBoQwxOTlBL"
      }
    },
    {
      "cell_type": "code",
      "source": [
        "#creamos el modelo dummy\n",
        "dummy_class = DummyClassifier(strategy='stratified')\n",
        "\n",
        "#transformamos los datos en X\n",
        "Xct = columnasTransformer.fit(Xtv)\n",
        "Xtvt = Xct.transform(Xtv)\n",
        "Xpt = Xct.transform(Xtest)\n",
        "\n",
        "#entrenamos el modelo\n",
        "dummy_class.fit(Xtvt, np.ravel(ytv))"
      ],
      "metadata": {
        "id": "YXlcSWA-C4Dj",
        "colab": {
          "base_uri": "https://localhost:8080/"
        },
        "outputId": "8e7e82eb-23c8-4697-954d-b6331a3360f2"
      },
      "execution_count": 145,
      "outputs": [
        {
          "output_type": "execute_result",
          "data": {
            "text/plain": [
              "DummyClassifier(strategy='stratified')"
            ]
          },
          "metadata": {},
          "execution_count": 145
        }
      ]
    },
    {
      "cell_type": "markdown",
      "source": [
        "Utilizamos ‘stratified’ porque indica al modelo que sus predicciones sean sobre la base de la distribución de clases del conjunto de datos de entrenamiento. En este caso, genera para nuestra clase ‘1’ una probabilidad cercana al 44% en base a lo visto previamente en nuestro set de entrenamiento. "
      ],
      "metadata": {
        "id": "TR3I2h5gbgQ0"
      }
    },
    {
      "cell_type": "code",
      "source": [
        "#realizamos las predicciones\n",
        "yhat = dummy_class.predict(Xtvt)\n",
        "\n",
        "print('Accuracy:', accuracy_score(ytv,yhat))\n",
        "print('f1_score:', f1_score(ytv,yhat))\n",
        "print('Precision:', precision_score(ytv,yhat))\n",
        "print('Recall:', recall_score(ytv,yhat))"
      ],
      "metadata": {
        "id": "BKI80-YdC4HN",
        "colab": {
          "base_uri": "https://localhost:8080/"
        },
        "outputId": "3351b9df-6192-43c4-d07c-3dccfc53e730"
      },
      "execution_count": 162,
      "outputs": [
        {
          "output_type": "stream",
          "name": "stdout",
          "text": [
            "Accuracy: 0.46757679180887374\n",
            "f1_score: 0.4113207547169811\n",
            "Precision: 0.4052044609665427\n",
            "Recall: 0.41762452107279696\n"
          ]
        }
      ]
    },
    {
      "cell_type": "markdown",
      "source": [
        "Lo cual se reafirma con las métricas de score al tener todas valores cercanos a esa probabilidad. "
      ],
      "metadata": {
        "id": "-axNMlk2boxd"
      }
    },
    {
      "cell_type": "markdown",
      "source": [
        "#**Ejercicio-4.**"
      ],
      "metadata": {
        "id": "chqk9jIDC5Pq"
      }
    },
    {
      "cell_type": "markdown",
      "source": [
        "Usando el modelo de máquina de vector soporte (SVM) encuentra sus mejores hiperparámetros con una búsqueda de malla y validación cruzada, desplegando los errores indicados en el ejercicio anterior"
      ],
      "metadata": {
        "id": "NTFofrRZbyrs"
      }
    },
    {
      "cell_type": "code",
      "source": [
        "#desactivamos warnings porque metrica precision levanta warning en gridsearch\n",
        "import warnings\n",
        "warnings.filterwarnings('ignore')"
      ],
      "metadata": {
        "id": "luGzZoW29rG8"
      },
      "execution_count": 270,
      "outputs": []
    },
    {
      "cell_type": "code",
      "source": [
        "#obtenemos el modelo y los parámetros\n",
        "modeloSVM_iter = svm.SVC()\n",
        "cvSVM = RepeatedStratifiedKFold(n_splits=5, n_repeats=3, random_state=0)\n",
        "\n",
        "dicc_grid = [{'C':[0.01, 0.1, 1, 10, 100, 1000], \n",
        "              'gamma':[1, 0.1, 0.01, 0.001, 0.0001,'scale','auto'],\n",
        "              'kernel':['linear','poly','rbf','sigmoid']\n",
        "              }]\n",
        "\n",
        "scoring = ['accuracy','f1','precision','recall']   #zero_division = 0 para evitar warnings\n",
        "\n",
        "grid = GridSearchCV(estimator=modeloSVM_iter, \n",
        "                    param_grid=dicc_grid, \n",
        "                    cv=cvSVM, \n",
        "                    scoring=scoring,\n",
        "                    refit='accuracy',\n",
        "                    error_score='raise')"
      ],
      "metadata": {
        "id": "RBVSFwK4C6g9"
      },
      "execution_count": 271,
      "outputs": []
    },
    {
      "cell_type": "code",
      "source": [
        "#X y Y ya se transformaron previamente\n",
        "grid.fit(Xtvt, np.ravel(ytv))\n",
        "\n",
        "print('Mejor valor de Accuracy obtenido con la mejor combinación:', grid.best_score_)\n",
        "print('Mejor combinación de valores encontrados de los hiperparámetros:', grid.best_params_)\n",
        "print('Métrica utilizada:', grid.scoring)\n",
        "print('Mejor Index:',grid.best_index_)"
      ],
      "metadata": {
        "id": "7KXnlNzAC69Y",
        "colab": {
          "base_uri": "https://localhost:8080/"
        },
        "outputId": "15340b52-ccc2-4d2e-adb3-9b3f392c07ab"
      },
      "execution_count": 272,
      "outputs": [
        {
          "output_type": "stream",
          "name": "stdout",
          "text": [
            "Mejor valor de Accuracy obtenido con la mejor combinación: 0.8578202713795934\n",
            "Mejor combinación de valores encontrados de los hiperparámetros: {'C': 0.01, 'gamma': 1, 'kernel': 'linear'}\n",
            "Métrica utilizada: ['accuracy', 'f1', 'precision', 'recall']\n"
          ]
        }
      ]
    },
    {
      "cell_type": "code",
      "source": [
        "#reactivamos warnings\n",
        "warnings.filterwarnings('always')"
      ],
      "metadata": {
        "id": "-3wJrB2Z9wYt"
      },
      "execution_count": 273,
      "outputs": []
    },
    {
      "cell_type": "code",
      "source": [
        "print('Mejor valor de Accuracy obtenido con la mejor combinación:', grid.cv_results_['mean_test_accuracy'][grid.best_index_])\n",
        "print('Mejor valor de f1_score obtenido con la mejor combinación:', grid.cv_results_['mean_test_f1'][grid.best_index_])\n",
        "print('Mejor valor de precision obtenido con la mejor combinación:', grid.cv_results_['mean_test_precision'][grid.best_index_])\n",
        "print('Mejor valor de recall obtenido con la mejor combinación:', grid.cv_results_['mean_test_recall'][grid.best_index_])"
      ],
      "metadata": {
        "colab": {
          "base_uri": "https://localhost:8080/"
        },
        "id": "XRC_fHEiA4hM",
        "outputId": "afff5f47-4374-4f91-885a-b465ad5a4610"
      },
      "execution_count": 314,
      "outputs": [
        {
          "output_type": "stream",
          "name": "stdout",
          "text": [
            "Mejor valor de Accuracy obtenido con la mejor combinación: 0.8578202713795934\n",
            "Mejor valor de f1_score obtenido con la mejor combinación: 0.8401362280150738\n",
            "Mejor valor de precision obtenido con la mejor combinación: 0.8410450649898584\n",
            "Mejor valor de recall obtenido con la mejor combinación: 0.8416787614900823\n"
          ]
        }
      ]
    },
    {
      "cell_type": "code",
      "source": [
        "#entrenamos modelo con hiperparametros y calculamos errores\n",
        "modelo_SVM = svm.SVC(C=0.01,\n",
        "                      gamma=1,\n",
        "                      kernel='linear')  \n",
        "\n",
        "modelo_SVM.fit(Xtvt, np.ravel(ytv))"
      ],
      "metadata": {
        "colab": {
          "base_uri": "https://localhost:8080/"
        },
        "id": "HRCijD4mmyGz",
        "outputId": "3c82ad81-199a-4722-b7ac-c76f3ce53cdc"
      },
      "execution_count": 326,
      "outputs": [
        {
          "output_type": "execute_result",
          "data": {
            "text/plain": [
              "SVC(C=0.01, gamma=1, kernel='linear')"
            ]
          },
          "metadata": {},
          "execution_count": 326
        }
      ]
    },
    {
      "cell_type": "code",
      "source": [
        "#realizamos las predicciones\n",
        "yhat = modelo_SVM.predict(Xtvt)\n",
        "\n",
        "print('Accuracy:', accuracy_score(ytv,yhat))\n",
        "print('f1_score:', f1_score(ytv,yhat))\n",
        "print('Precision:', precision_score(ytv,yhat))\n",
        "print('Recall:', recall_score(ytv,yhat))"
      ],
      "metadata": {
        "colab": {
          "base_uri": "https://localhost:8080/"
        },
        "id": "_j2EWQ-FnO2f",
        "outputId": "fda09e1c-52ee-4235-f242-778df4ba7db2"
      },
      "execution_count": 327,
      "outputs": [
        {
          "output_type": "stream",
          "name": "stdout",
          "text": [
            "Accuracy: 0.863481228668942\n",
            "f1_score: 0.855072463768116\n",
            "Precision: 0.8109965635738832\n",
            "Recall: 0.9042145593869731\n"
          ]
        }
      ]
    },
    {
      "cell_type": "markdown",
      "source": [
        "#**Ejercicio-5.**"
      ],
      "metadata": {
        "id": "Rv7KFq-mC7PS"
      }
    },
    {
      "cell_type": "markdown",
      "source": [
        "Obtener además los diagramas de caja y bigote del mejor modelo con todas las métricas calculadas. Incluye tus conclusiones. "
      ],
      "metadata": {
        "id": "o0krN_aIDKYc"
      }
    },
    {
      "cell_type": "code",
      "source": [
        "#obtenemos listas de de cada split para cada metrica para poder graficarlas en diagrama de bigote\n",
        "nom_resultados = list()\n",
        "index = grid.best_index_\n",
        "resultados = list()\n",
        "scores = ['accuracy','f1','precision','recall']\n",
        "for score in scores:\n",
        "  resultados = list()\n",
        "  for i in range(15):\n",
        "    resultados.append(grid.cv_results_['split' + str(i) + '_test_' + score][index])\n",
        "  nom_resultados.append(resultados)"
      ],
      "metadata": {
        "id": "OzIj9Mn0zmwM"
      },
      "execution_count": 315,
      "outputs": []
    },
    {
      "cell_type": "code",
      "source": [
        "#confirmamos que estemos calculando correctamente\n",
        "i = 0\n",
        "for i in range(len(scores)):\n",
        "  print(scores[i] + ':', np.mean(nom_resultados[i]))\n",
        "  i = i + 1"
      ],
      "metadata": {
        "colab": {
          "base_uri": "https://localhost:8080/"
        },
        "id": "JfnPmEKrBfF0",
        "outputId": "41d6f57c-d9d1-49bd-8212-1660b846ca58"
      },
      "execution_count": 320,
      "outputs": [
        {
          "output_type": "stream",
          "name": "stdout",
          "text": [
            "accuracy: 0.8578202713795934\n",
            "f1: 0.8401362280150738\n",
            "precision: 0.8410450649898584\n",
            "recall: 0.8416787614900823\n"
          ]
        }
      ]
    },
    {
      "cell_type": "code",
      "source": [
        "sns.set(rc={'figure.figsize':(8,4)})\n",
        "\n",
        "plt.boxplot(nom_resultados, labels=scores, showmeans=True)\n",
        "\n",
        "plt.show()"
      ],
      "metadata": {
        "colab": {
          "base_uri": "https://localhost:8080/",
          "height": 269
        },
        "id": "Oeba_fCxCRoE",
        "outputId": "911dbb31-f4c1-4b61-a754-aaed09c1da9a"
      },
      "execution_count": 321,
      "outputs": [
        {
          "output_type": "display_data",
          "data": {
            "text/plain": [
              "<Figure size 576x288 with 1 Axes>"
            ],
            "image/png": "[encoded data removed]"
          },
          "metadata": {}
        }
      ]
    },
    {
      "cell_type": "markdown",
      "source": [
        "**PENDIENTE CONCLUSIONES**"
      ],
      "metadata": {
        "id": "9IieMqjqDOHU"
      }
    },
    {
      "cell_type": "markdown",
      "source": [
        "#**Ejercicio-6.**"
      ],
      "metadata": {
        "id": "W2S7LI0NC9wE"
      }
    },
    {
      "cell_type": "markdown",
      "source": [
        "Verifica que el modelo no esté subentrenado o sobreentrenado mediante alguna de las gráficas de curvas de entrenamiento (aumentando la complejidad o aumentando el conjunto de entrenamiento, la que consideres más adecuada). De ser necesario, realiza los ajustes necesarios para evitar alguno de estos problemas. \n"
      ],
      "metadata": {
        "id": "A6dfqAL0DTAE"
      }
    },
    {
      "cell_type": "code",
      "source": [
        "#obtenemos el modelo y los parametros de cross validation\n",
        "modeloLC = modelo_SVM\n",
        "cvLC = RepeatedStratifiedKFold(n_splits=5, n_repeats=3, random_state=0)\n",
        "#definimos los al menos 20 puntos de particion\n",
        "delta_train_sz = np.linspace(0.1, 1.0, 20)\n",
        "\n",
        "#obtenemos los datos de X transformados\n",
        "Xx = Xtvt\n",
        "\n",
        "#obtenemos la learning curve\n",
        "train_sizes, train_scores, valid_scores = learning_curve(estimator=modeloLC, \n",
        "                                                        X=Xx, \n",
        "                                                        y=np.ravel(ytv),\n",
        "                                                        cv=cvLC, \n",
        "                                                        train_sizes=delta_train_sz,\n",
        "                                                        scoring='f1')\n",
        "\n",
        "# Obtengamos la gráfica de las curvas de aprendizaje \n",
        "# cuando se incrementa el tamaño de la muestra:\n",
        "\n",
        "train_mean = np.mean(train_scores, axis=1)\n",
        "train_std = np.std(train_scores, axis=1)\n",
        "valid_mean = np.mean(valid_scores, axis=1)\n",
        "valid_std = np.std(valid_scores, axis=1)\n",
        "\n",
        "sns.set(rc={'figure.figsize':(10,7.5)})\n",
        "\n",
        "plt.plot(train_sizes, train_mean, color='blue', marker='o', markersize=5, label='Training')\n",
        "\n",
        "plt.plot(train_sizes, valid_mean, color='red', marker='o', markersize=5, label='Validation')\n",
        "\n",
        "plt.title('Función learning_curve() para ' + 'SVM')\n",
        "plt.xlabel('Tamaño del conjunto de entrenamiento')\n",
        "plt.ylabel('f1_score')\n",
        "plt.grid(b=True)\n",
        "plt.legend(loc='lower right')\n",
        "plt.show()"
      ],
      "metadata": {
        "id": "x6uBleJUC_AU",
        "colab": {
          "base_uri": "https://localhost:8080/",
          "height": 491
        },
        "outputId": "845a3089-d275-41de-f44d-12724602aacf"
      },
      "execution_count": 331,
      "outputs": [
        {
          "output_type": "display_data",
          "data": {
            "text/plain": [
              "<Figure size 720x540 with 1 Axes>"
            ],
            "image/png": "[encoded data removed]"
          },
          "metadata": {}
        }
      ]
    },
    {
      "cell_type": "code",
      "source": [
        "#obtenemos el modelo y los parametros de cross validation\n",
        "modeloVC = modelo_SVM\n",
        "cvVC = RepeatedStratifiedKFold(n_splits=5, n_repeats=3, random_state=0)\n",
        "\n",
        "delta_C = np.linspace(0.01, 100, 20)\n",
        "\n",
        "train_scores, valid_scores = validation_curve(modeloVC, \n",
        "                                              Xx, \n",
        "                                              np.ravel(ytv), \n",
        "                                              param_name=\"C\", \n",
        "                                              param_range=delta_C,\n",
        "                                              cv=cvVC,\n",
        "                                              scoring='f1')\n",
        "\n",
        "train_mean = np.mean(train_scores, axis=1)\n",
        "train_std = np.std(train_scores, axis=1)\n",
        "valid_mean = np.mean(valid_scores, axis=1)\n",
        "valid_std = np.std(valid_scores, axis=1)\n",
        "\n",
        "# Curva de entrenamiento con la métrica de exactitud (accuracy):\n",
        "plt.plot(delta_C, train_mean, color='blue', marker='o', markersize=5, label='Training')\n",
        "\n",
        "# Curva de validación:\n",
        "plt.plot(delta_C, valid_mean, color='red', marker='o', markersize=5, label='Validation')\n",
        "\n",
        "plt.title('Función validation_curve() para ' + 'SVM')\n",
        "plt.xlabel('Valores del parámetro C')\n",
        "plt.ylabel('f1_score')\n",
        "plt.grid(b=True)\n",
        "plt.legend(loc='lower right')\n",
        "plt.show()"
      ],
      "metadata": {
        "id": "n0P_AcyjC_Dh",
        "colab": {
          "base_uri": "https://localhost:8080/",
          "height": 491
        },
        "outputId": "6841efea-459f-4fa5-b9e7-2583df77e7d4"
      },
      "execution_count": 338,
      "outputs": [
        {
          "output_type": "display_data",
          "data": {
            "text/plain": [
              "<Figure size 720x540 with 1 Axes>"
            ],
            "image/png": "[encoded data removed]"
          },
          "metadata": {}
        }
      ]
    },
    {
      "cell_type": "markdown",
      "source": [
        "#**Ejercicio-7.**"
      ],
      "metadata": {
        "id": "iCNGx4TQ8CFI"
      }
    },
    {
      "cell_type": "markdown",
      "source": [
        "Con los mejores hiperparámetros entontrados encontrar la gráfica de la curva ROC y su área bajo la curva. "
      ],
      "metadata": {
        "id": "LJYEbppRGSTE"
      }
    },
    {
      "cell_type": "code",
      "source": [
        "# Obtenemos las predicciones del modelo:\n",
        "yhat = modelo_SVM.predict(Xpt)\n",
        "\n",
        "# Obtenemos la tasa de falsos positivos (fpr) y la tasa de verdaderos positivos (tpr):\n",
        "fpr, tpr, _ = metrics.roc_curve(ytest, yhat)\n",
        "\n",
        "metrics.RocCurveDisplay.from_estimator(modelo_SVM, Xpt, ytest)\n",
        "\n",
        "plt.plot([0,0,1,0],[0,1,1,0], 'y--')\n",
        "\n",
        "plt.hlines(tpr, 0, fpr, colors='r', linestyles='dotted')  # Se calcula TPrate y FPrate con base a threshold=0.5\n",
        "plt.vlines(fpr, 0, tpr, colors='r', linestyles='dotted')  # como valor predeteminado\n",
        "plt.show() "
      ],
      "metadata": {
        "id": "ewvwUcJX78y1",
        "colab": {
          "base_uri": "https://localhost:8080/",
          "height": 475
        },
        "outputId": "c4d0631b-de61-4852-c8d8-7199ae4ec19c"
      },
      "execution_count": 344,
      "outputs": [
        {
          "output_type": "display_data",
          "data": {
            "text/plain": [
              "<Figure size 720x540 with 1 Axes>"
            ],
            "image/png": "[encoded data removed]"
          },
          "metadata": {}
        }
      ]
    },
    {
      "cell_type": "markdown",
      "source": [
        "Donde observamos una área bajo la curva de 0.89"
      ],
      "metadata": {
        "id": "3KYrFO76Izck"
      }
    },
    {
      "cell_type": "markdown",
      "source": [
        "#**Ejercicio-8.**"
      ],
      "metadata": {
        "id": "tzQn5NR78GFg"
      }
    },
    {
      "cell_type": "markdown",
      "source": [
        "Encontrar el valor del mejor umbral de predicción del modelo que maximice el valor de la métrica f1-score. \n"
      ],
      "metadata": {
        "id": "ZIdJnp1CIAzF"
      }
    },
    {
      "cell_type": "code",
      "source": [
        "None"
      ],
      "metadata": {
        "id": "EBKcp0278IQV"
      },
      "execution_count": null,
      "outputs": []
    },
    {
      "cell_type": "code",
      "source": [],
      "metadata": {
        "id": "vp8S0PFs8IMR"
      },
      "execution_count": null,
      "outputs": []
    },
    {
      "cell_type": "markdown",
      "source": [
        "#**Ejercicio-9.**"
      ],
      "metadata": {
        "id": "mASNrZWs8JTh"
      }
    },
    {
      "cell_type": "markdown",
      "source": [
        "Encontrar el valor del mejor umbral de predicción del modelo que maximice el valor de la métrica gmean. "
      ],
      "metadata": {
        "id": "wjnlxiLnIEH8"
      }
    },
    {
      "cell_type": "code",
      "source": [
        "None"
      ],
      "metadata": {
        "id": "X6HJP9hb8LCp"
      },
      "execution_count": null,
      "outputs": []
    },
    {
      "cell_type": "code",
      "source": [],
      "metadata": {
        "id": "Xr6oe1VF8K_A"
      },
      "execution_count": null,
      "outputs": []
    },
    {
      "cell_type": "markdown",
      "source": [
        "#**Ejercicio-10.**"
      ],
      "metadata": {
        "id": "VUIcDshs8MzG"
      }
    },
    {
      "cell_type": "markdown",
      "source": [
        "Incluye tus conclusiones finales de la actividad."
      ],
      "metadata": {
        "id": "GLTP6RndIHc1"
      }
    },
    {
      "cell_type": "code",
      "source": [
        "None"
      ],
      "metadata": {
        "id": "0lKNJNIt8N88"
      },
      "execution_count": null,
      "outputs": []
    },
    {
      "cell_type": "code",
      "source": [],
      "metadata": {
        "id": "Inkq5YQe8PED"
      },
      "execution_count": null,
      "outputs": []
    },
    {
      "cell_type": "markdown",
      "source": [
        "###**Fin de la Actividad de la semana 8.**"
      ],
      "metadata": {
        "id": "7ql_r2G-DB_m"
      }
    }
  ]
}