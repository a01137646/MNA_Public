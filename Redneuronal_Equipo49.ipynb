{
  "nbformat": 4,
  "nbformat_minor": 0,
  "metadata": {
    "colab": {
      "provenance": [],
      "collapsed_sections": [],
      "include_colab_link": true
    },
    "kernelspec": {
      "display_name": "Python 3",
      "name": "python3"
    }
  },
  "cells": [
    {
      "cell_type": "markdown",
      "metadata": {
        "id": "view-in-github",
        "colab_type": "text"
      },
      "source": [
        "<a href=\"https://colab.research.google.com/github/a01137646/MNA_Public/blob/main/Redneuronal_Equipo49.ipynb\" target=\"_parent\"><img src=\"https://colab.research.google.com/assets/colab-badge.svg\" alt=\"Open In Colab\"/></a>"
      ]
    },
    {
      "cell_type": "markdown",
      "source": [
        "#**Maestría en Inteligencia Artificial Aplicada**\n",
        "##**Curso: Inteligencia Artificial y Aprendizaje Automático**\n",
        "###Tecnológico de Monterrey\n",
        "###Prof Luis Eduardo Falcón Morales\n",
        "\n",
        "## **Adtividad de la Semana 7**\n",
        "###**Red Neuronal Artificial - Perceptrón Multicapa : Multilayer Perceptrón (MLP)**\n"
      ],
      "metadata": {
        "id": "VFj0sSM06dYa"
      }
    },
    {
      "cell_type": "markdown",
      "source": [
        "**Nombres y matrículas de los integrantes del equipo:**\n",
        "\n",
        "* Gerardo Aaron Castañeda Jaramillo - A01137646\n",
        "* Dalina Aidee Villa Ocelotl - A01793258\n",
        "* Yocelin Juárez Arroyo - A00819828\n",
        "* Victor Hugo Avila Felipe - A01794425\n"
      ],
      "metadata": {
        "id": "Qgrvy0RGB9XI"
      }
    },
    {
      "cell_type": "markdown",
      "source": [
        "En cada sección deberás incluir todas las líneas de código necesarias para responder a cada uno de los ejercicios."
      ],
      "metadata": {
        "id": "FrJ2ahMODVj1"
      }
    },
    {
      "cell_type": "code",
      "source": [
        "# Incluye aquí todos módulos, librerías y paquetes que requieras.\n",
        "import pandas as pd\n",
        "import numpy as np\n",
        "from scipy import stats\n",
        "\n",
        "import matplotlib.pyplot as plt \n",
        "import seaborn as sns \n",
        "\n",
        "import requests\n",
        "import zipfile as zf\n",
        "from io import BytesIO\n",
        "\n",
        "from sklearn.model_selection import train_test_split\n",
        "from sklearn.preprocessing import power_transform\n",
        "from sklearn.preprocessing import FunctionTransformer\n",
        "from sklearn.pipeline import Pipeline\n",
        "from sklearn.compose import ColumnTransformer\n",
        "from sklearn.impute import SimpleImputer\n",
        "from sklearn.preprocessing import MinMaxScaler, OneHotEncoder, StandardScaler, OrdinalEncoder\n",
        "\n",
        "from sklearn.dummy import DummyRegressor\n",
        "\n",
        "from sklearn.linear_model import LinearRegression\n",
        "from sklearn.ensemble import RandomForestRegressor\n",
        "from sklearn.neural_network import MLPRegressor\n",
        "\n",
        "from sklearn.model_selection import cross_val_score\n",
        "from sklearn.model_selection import RepeatedKFold, cross_validate\n",
        "from sklearn.metrics import classification_report, make_scorer\n",
        "\n",
        "from sklearn.model_selection import learning_curve\n",
        "from sklearn.model_selection import validation_curve\n",
        "\n",
        "from sklearn.model_selection import GridSearchCV\n",
        "from sklearn.metrics import get_scorer\n",
        "\n",
        "from sklearn.inspection import permutation_importance\n",
        "\n",
        "from sklearn.metrics import mean_squared_error, mean_absolute_percentage_error"
      ],
      "metadata": {
        "id": "exXsscs-Dh-2"
      },
      "execution_count": 1,
      "outputs": []
    },
    {
      "cell_type": "code",
      "source": [
        "def zip_to_df(url, filename, separator):\n",
        "\n",
        "  print('Downloading started')\n",
        "  # Split URL to get the file name\n",
        "  req = requests.get(url)\n",
        "\n",
        "  foldername = url.split('/')[-1].split('.')[-2]\n",
        "  print('Downloading Completed') \n",
        "\n",
        "  # extracting the zip file contents\n",
        "  zipfile= zf.ZipFile(BytesIO(req.content))\n",
        "  zipfile.extractall('/content/sample_data/' + foldername)\n",
        "  df = pd.read_csv(\"/content/sample_data/\" + foldername + '/' + filename,sep=separator)\n",
        "\n",
        "  return df"
      ],
      "metadata": {
        "id": "O-HpZWm5Erwj"
      },
      "execution_count": 2,
      "outputs": []
    },
    {
      "cell_type": "markdown",
      "source": [
        "Funcion para extrar .zip y convertirlo a dataframe"
      ],
      "metadata": {
        "id": "ko1-H83SHWqC"
      }
    },
    {
      "cell_type": "markdown",
      "source": [
        "Obtenemos nuestro dataframe"
      ],
      "metadata": {
        "id": "Xo-C3bteHaYr"
      }
    },
    {
      "cell_type": "code",
      "source": [
        "url = 'https://archive.ics.uci.edu/ml/machine-learning-databases/00368/Facebook_metrics.zip'\n",
        "\n",
        "df = zip_to_df(url,'dataset_Facebook.csv',';')\n",
        "df.head()"
      ],
      "metadata": {
        "colab": {
          "base_uri": "https://localhost:8080/",
          "height": 337
        },
        "id": "a7GBxaJ2ElAU",
        "outputId": "efd8906d-c113-4a02-ad94-c22053cdd7ae"
      },
      "execution_count": 3,
      "outputs": [
        {
          "output_type": "stream",
          "name": "stdout",
          "text": [
            "Downloading started\n",
            "Downloading Completed\n"
          ]
        },
        {
          "output_type": "execute_result",
          "data": {
            "text/plain": [
              "   Page total likes    Type  Category  Post Month  Post Weekday  Post Hour  \\\n",
              "0            139441   Photo         2          12             4          3   \n",
              "1            139441  Status         2          12             3         10   \n",
              "2            139441   Photo         3          12             3          3   \n",
              "3            139441   Photo         2          12             2         10   \n",
              "4            139441   Photo         2          12             2          3   \n",
              "\n",
              "   Paid  Lifetime Post Total Reach  Lifetime Post Total Impressions  \\\n",
              "0   0.0                       2752                             5091   \n",
              "1   0.0                      10460                            19057   \n",
              "2   0.0                       2413                             4373   \n",
              "3   1.0                      50128                            87991   \n",
              "4   0.0                       7244                            13594   \n",
              "\n",
              "   Lifetime Engaged Users  Lifetime Post Consumers  \\\n",
              "0                     178                      109   \n",
              "1                    1457                     1361   \n",
              "2                     177                      113   \n",
              "3                    2211                      790   \n",
              "4                     671                      410   \n",
              "\n",
              "   Lifetime Post Consumptions  \\\n",
              "0                         159   \n",
              "1                        1674   \n",
              "2                         154   \n",
              "3                        1119   \n",
              "4                         580   \n",
              "\n",
              "   Lifetime Post Impressions by people who have liked your Page  \\\n",
              "0                                               3078              \n",
              "1                                              11710              \n",
              "2                                               2812              \n",
              "3                                              61027              \n",
              "4                                               6228              \n",
              "\n",
              "   Lifetime Post reach by people who like your Page  \\\n",
              "0                                              1640   \n",
              "1                                              6112   \n",
              "2                                              1503   \n",
              "3                                             32048   \n",
              "4                                              3200   \n",
              "\n",
              "   Lifetime People who have liked your Page and engaged with your post  \\\n",
              "0                                                119                     \n",
              "1                                               1108                     \n",
              "2                                                132                     \n",
              "3                                               1386                     \n",
              "4                                                396                     \n",
              "\n",
              "   comment    like  share  Total Interactions  \n",
              "0        4    79.0   17.0                 100  \n",
              "1        5   130.0   29.0                 164  \n",
              "2        0    66.0   14.0                  80  \n",
              "3       58  1572.0  147.0                1777  \n",
              "4       19   325.0   49.0                 393  "
            ],
            "text/html": [
              "\n",
              "  <div id=\"df-ecf89025-e3f8-4dcc-a536-879492b3a7ee\">\n",
              "    <div class=\"colab-df-container\">\n",
              "      <div>\n",
              "<style scoped>\n",
              "    .dataframe tbody tr th:only-of-type {\n",
              "        vertical-align: middle;\n",
              "    }\n",
              "\n",
              "    .dataframe tbody tr th {\n",
              "        vertical-align: top;\n",
              "    }\n",
              "\n",
              "    .dataframe thead th {\n",
              "        text-align: right;\n",
              "    }\n",
              "</style>\n",
              "<table border=\"1\" class=\"dataframe\">\n",
              "  <thead>\n",
              "    <tr style=\"text-align: right;\">\n",
              "      <th></th>\n",
              "      <th>Page total likes</th>\n",
              "      <th>Type</th>\n",
              "      <th>Category</th>\n",
              "      <th>Post Month</th>\n",
              "      <th>Post Weekday</th>\n",
              "      <th>Post Hour</th>\n",
              "      <th>Paid</th>\n",
              "      <th>Lifetime Post Total Reach</th>\n",
              "      <th>Lifetime Post Total Impressions</th>\n",
              "      <th>Lifetime Engaged Users</th>\n",
              "      <th>Lifetime Post Consumers</th>\n",
              "      <th>Lifetime Post Consumptions</th>\n",
              "      <th>Lifetime Post Impressions by people who have liked your Page</th>\n",
              "      <th>Lifetime Post reach by people who like your Page</th>\n",
              "      <th>Lifetime People who have liked your Page and engaged with your post</th>\n",
              "      <th>comment</th>\n",
              "      <th>like</th>\n",
              "      <th>share</th>\n",
              "      <th>Total Interactions</th>\n",
              "    </tr>\n",
              "  </thead>\n",
              "  <tbody>\n",
              "    <tr>\n",
              "      <th>0</th>\n",
              "      <td>139441</td>\n",
              "      <td>Photo</td>\n",
              "      <td>2</td>\n",
              "      <td>12</td>\n",
              "      <td>4</td>\n",
              "      <td>3</td>\n",
              "      <td>0.0</td>\n",
              "      <td>2752</td>\n",
              "      <td>5091</td>\n",
              "      <td>178</td>\n",
              "      <td>109</td>\n",
              "      <td>159</td>\n",
              "      <td>3078</td>\n",
              "      <td>1640</td>\n",
              "      <td>119</td>\n",
              "      <td>4</td>\n",
              "      <td>79.0</td>\n",
              "      <td>17.0</td>\n",
              "      <td>100</td>\n",
              "    </tr>\n",
              "    <tr>\n",
              "      <th>1</th>\n",
              "      <td>139441</td>\n",
              "      <td>Status</td>\n",
              "      <td>2</td>\n",
              "      <td>12</td>\n",
              "      <td>3</td>\n",
              "      <td>10</td>\n",
              "      <td>0.0</td>\n",
              "      <td>10460</td>\n",
              "      <td>19057</td>\n",
              "      <td>1457</td>\n",
              "      <td>1361</td>\n",
              "      <td>1674</td>\n",
              "      <td>11710</td>\n",
              "      <td>6112</td>\n",
              "      <td>1108</td>\n",
              "      <td>5</td>\n",
              "      <td>130.0</td>\n",
              "      <td>29.0</td>\n",
              "      <td>164</td>\n",
              "    </tr>\n",
              "    <tr>\n",
              "      <th>2</th>\n",
              "      <td>139441</td>\n",
              "      <td>Photo</td>\n",
              "      <td>3</td>\n",
              "      <td>12</td>\n",
              "      <td>3</td>\n",
              "      <td>3</td>\n",
              "      <td>0.0</td>\n",
              "      <td>2413</td>\n",
              "      <td>4373</td>\n",
              "      <td>177</td>\n",
              "      <td>113</td>\n",
              "      <td>154</td>\n",
              "      <td>2812</td>\n",
              "      <td>1503</td>\n",
              "      <td>132</td>\n",
              "      <td>0</td>\n",
              "      <td>66.0</td>\n",
              "      <td>14.0</td>\n",
              "      <td>80</td>\n",
              "    </tr>\n",
              "    <tr>\n",
              "      <th>3</th>\n",
              "      <td>139441</td>\n",
              "      <td>Photo</td>\n",
              "      <td>2</td>\n",
              "      <td>12</td>\n",
              "      <td>2</td>\n",
              "      <td>10</td>\n",
              "      <td>1.0</td>\n",
              "      <td>50128</td>\n",
              "      <td>87991</td>\n",
              "      <td>2211</td>\n",
              "      <td>790</td>\n",
              "      <td>1119</td>\n",
              "      <td>61027</td>\n",
              "      <td>32048</td>\n",
              "      <td>1386</td>\n",
              "      <td>58</td>\n",
              "      <td>1572.0</td>\n",
              "      <td>147.0</td>\n",
              "      <td>1777</td>\n",
              "    </tr>\n",
              "    <tr>\n",
              "      <th>4</th>\n",
              "      <td>139441</td>\n",
              "      <td>Photo</td>\n",
              "      <td>2</td>\n",
              "      <td>12</td>\n",
              "      <td>2</td>\n",
              "      <td>3</td>\n",
              "      <td>0.0</td>\n",
              "      <td>7244</td>\n",
              "      <td>13594</td>\n",
              "      <td>671</td>\n",
              "      <td>410</td>\n",
              "      <td>580</td>\n",
              "      <td>6228</td>\n",
              "      <td>3200</td>\n",
              "      <td>396</td>\n",
              "      <td>19</td>\n",
              "      <td>325.0</td>\n",
              "      <td>49.0</td>\n",
              "      <td>393</td>\n",
              "    </tr>\n",
              "  </tbody>\n",
              "</table>\n",
              "</div>\n",
              "      <button class=\"colab-df-convert\" onclick=\"convertToInteractive('df-ecf89025-e3f8-4dcc-a536-879492b3a7ee')\"\n",
              "              title=\"Convert this dataframe to an interactive table.\"\n",
              "              style=\"display:none;\">\n",
              "        \n",
              "  <svg xmlns=\"http://www.w3.org/2000/svg\" height=\"24px\"viewBox=\"0 0 24 24\"\n",
              "       width=\"24px\">\n",
              "    <path d=\"M0 0h24v24H0V0z\" fill=\"none\"/>\n",
              "    <path d=\"M18.56 5.44l.94 2.06.94-2.06 2.06-.94-2.06-.94-.94-2.06-.94 2.06-2.06.94zm-11 1L8.5 8.5l.94-2.06 2.06-.94-2.06-.94L8.5 2.5l-.94 2.06-2.06.94zm10 10l.94 2.06.94-2.06 2.06-.94-2.06-.94-.94-2.06-.94 2.06-2.06.94z\"/><path d=\"M17.41 7.96l-1.37-1.37c-.4-.4-.92-.59-1.43-.59-.52 0-1.04.2-1.43.59L10.3 9.45l-7.72 7.72c-.78.78-.78 2.05 0 2.83L4 21.41c.39.39.9.59 1.41.59.51 0 1.02-.2 1.41-.59l7.78-7.78 2.81-2.81c.8-.78.8-2.07 0-2.86zM5.41 20L4 18.59l7.72-7.72 1.47 1.35L5.41 20z\"/>\n",
              "  </svg>\n",
              "      </button>\n",
              "      \n",
              "  <style>\n",
              "    .colab-df-container {\n",
              "      display:flex;\n",
              "      flex-wrap:wrap;\n",
              "      gap: 12px;\n",
              "    }\n",
              "\n",
              "    .colab-df-convert {\n",
              "      background-color: #E8F0FE;\n",
              "      border: none;\n",
              "      border-radius: 50%;\n",
              "      cursor: pointer;\n",
              "      display: none;\n",
              "      fill: #1967D2;\n",
              "      height: 32px;\n",
              "      padding: 0 0 0 0;\n",
              "      width: 32px;\n",
              "    }\n",
              "\n",
              "    .colab-df-convert:hover {\n",
              "      background-color: #E2EBFA;\n",
              "      box-shadow: 0px 1px 2px rgba(60, 64, 67, 0.3), 0px 1px 3px 1px rgba(60, 64, 67, 0.15);\n",
              "      fill: #174EA6;\n",
              "    }\n",
              "\n",
              "    [theme=dark] .colab-df-convert {\n",
              "      background-color: #3B4455;\n",
              "      fill: #D2E3FC;\n",
              "    }\n",
              "\n",
              "    [theme=dark] .colab-df-convert:hover {\n",
              "      background-color: #434B5C;\n",
              "      box-shadow: 0px 1px 3px 1px rgba(0, 0, 0, 0.15);\n",
              "      filter: drop-shadow(0px 1px 2px rgba(0, 0, 0, 0.3));\n",
              "      fill: #FFFFFF;\n",
              "    }\n",
              "  </style>\n",
              "\n",
              "      <script>\n",
              "        const buttonEl =\n",
              "          document.querySelector('#df-ecf89025-e3f8-4dcc-a536-879492b3a7ee button.colab-df-convert');\n",
              "        buttonEl.style.display =\n",
              "          google.colab.kernel.accessAllowed ? 'block' : 'none';\n",
              "\n",
              "        async function convertToInteractive(key) {\n",
              "          const element = document.querySelector('#df-ecf89025-e3f8-4dcc-a536-879492b3a7ee');\n",
              "          const dataTable =\n",
              "            await google.colab.kernel.invokeFunction('convertToInteractive',\n",
              "                                                     [key], {});\n",
              "          if (!dataTable) return;\n",
              "\n",
              "          const docLinkHtml = 'Like what you see? Visit the ' +\n",
              "            '<a target=\"_blank\" href=https://colab.research.google.com/notebooks/data_table.ipynb>data table notebook</a>'\n",
              "            + ' to learn more about interactive tables.';\n",
              "          element.innerHTML = '';\n",
              "          dataTable['output_type'] = 'display_data';\n",
              "          await google.colab.output.renderOutput(dataTable, element);\n",
              "          const docLink = document.createElement('div');\n",
              "          docLink.innerHTML = docLinkHtml;\n",
              "          element.appendChild(docLink);\n",
              "        }\n",
              "      </script>\n",
              "    </div>\n",
              "  </div>\n",
              "  "
            ]
          },
          "metadata": {},
          "execution_count": 3
        }
      ]
    },
    {
      "cell_type": "markdown",
      "source": [
        "Las variables de entrada unicamente seran aquellas indicadas en la tabla 3 del siguiente [articulo](https://www.semanticscholar.org/paper/Predicting-social-media-performance-metrics-and-of-Moro-Rita/dec55692590820754b53c916e29bb2b42c0e5104)"
      ],
      "metadata": {
        "id": "oc6YitgyId_0"
      }
    },
    {
      "cell_type": "markdown",
      "source": [
        "![table 3.PNG](data:image/png;base64,iVBORw0KGgoAAAANSUhEUgAAAh0AAAEmCAYAAADGNSIUAAAAAXNSR0IArs4c6QAAAARnQU1BAACxjwv8YQUAAAAJcEhZcwAAEnQAABJ0Ad5mH3gAAPGfSURBVHhe7P2HX1RHG/eP//6T547AwgILSLOgCBKVJiCKgiCCSFPEghiTYCH2bowmsd52VASMxIKIEhUwilgiHW+pX2kPsJR199nd1+c35+zZ3kCRmDjvvDZyds+ZMzPXNdd8Zk6Z/x8oFAqFQqFQxgAqOigUCoVCoYwJVHRQKBQKhUIZE6jooFAoFAqFMiZQ0UGhUCgUCmVMoKKDQqFQKBTKmEBFB4VCoVAolDGBig4KhUKhUChjAhUdFAqFQqFQxgQqOigUCoVCoYwJVHRQKBQKhUIZE6jooFAoFAqFMiZQ0UGhUCgUCmVM+GSiQz7YhtfFvyH/SSfk3HdaSHvx9mkBrhbWQMJ9RaFQKBQK5d+LUdEha8nG+rkhCA02/FmwpRCD3L7ayNFVtAn+/K9g8X8s4bfnFaTcL0pk9ReRNNGS/P4f8JdkY4D7fjhIW+7h5/QYhM7wguckD/j4L8Tan4rRpnsSCoVCoVAonxXGRUfDEYRNScB/SypRfnAerIlAsLBfijN/vcK9/eGYHHsZQm5fPWS1+CmQERWGRQcgRtFaV1iOWHSI8ei7SbD6jxMWHS5DTfE2BFmSfP0fAZZceMftQ6FQKBQK5XPEqOiQ9z5HSUUPe2mk+9wi2BCBYClIxe335AvZOzwuqSESgOwnbMCjnP/i6JGjuHDjOTqZayWyRhwLVYqOCrRW/I4LJ87gtyct7DGMeCj53gNWOqJD3PIU+Wd+xc8//xd5JW8NipHB6ps4dfoemhglIy7G9+7jyHks4LvzuWIHCoVCoVAonyXDuqdDT3RwSOsuYfVsb3hPdobdV8yMgwU8Vt1E9/9Tio5xmBAYgWB3W/CYmZJx7ki61AiZnuiQo70gA362tvBL3Y99id6w+Y8dZu8sMzkLIms+iUhrJl1PbHgwkos0FAqFQqFQxpqPEh2Qy7mbRGVovRADp/+QfVzScHdQc6bjFaSyd7iW7M6KDJ7PDlRIdETH0ANkeIyDhVU0LnYTMfNqD/wtmPMtQ76haziScpxIjUWIOw92kyOx4/c33AwKhUKhUCiUz5WPEx0aiMs2Y/q4/8DClgiFAR3RQX4fzEuEgKTBCIusHm3R0VO+DV8zx1p6Y/HKRCwKmAR7ImAsLIJxpE6mOIEm0noU/Lof21eGYAI5zsY9HIf/NHqHCYVCoVAolM+AjxAdErzN34IlfpPh4jQZfjOJUGBEBT/ZoOgQF6yBGyMkrBbhYre26OguXAt35jdeGPbdfYSSR9ynpAJNhh+RUSDvxMVF1uQ8/4FdzCXuSwqFQqFQKJ8jHy46Bm9gpeNXsPhqMtYXCSF+8gN8mNkKfhKu64kOOdrPLASfpGE16Ts8EhuZ6Rj3NXY+G8FbO+StOB3OY0WHTdgJ7ksKhUKhUCifI8MQHXJ0EsHAiA4LQQpuiLiv+7KRwNzE+R8HRO4vRMmZJExmbiblxeByt1p0+O56joF3xdjmz8xIWGL6pjKIIMbDbycqREfMJQhFZcicxuz/FRxnrMSv1+7j8ZMy3H9QiR6NN4vJ2h4g60weCh+UovT+7zizeQEmsDew2iH8aD23F4VCoVAolM8Rs6JD1lyALSGO7Ds1LL5yx6JDpehmhIC8G/c2+cLxP/+Blc0ULNn6HcLtv4KFhRNCd13Dsbl8OE6cidDAaXBiZjEsBPBZ+gvK+5gnaq9hlScjMv4DS+dInK6RoK/8KJJ9BIqnXP6PBRynRWPX7Rbtd3zIe1F+ag3mTuCzgoURKXynrxG/5y5aDdz6QaFQKBQK5fNhWJdXjCOHuKcTfdyjI5K+drzrZTakGBoUc0+2kH36OtA9OBxVIEF/RwtaO4RmXo3O7NeKtu4hUK1BoVAoFMo/g48UHRQKhUKhUCjDg4oOCoVCoVAoYwIVHRQKhUKhUMYEKjooFAqFQqGMCVR0UCgUCoVCGROo6KBQKBQKhTImfLjoGGrCi4ommHpL+Wgw+PYRck4cxuFfsvG0Q/sB2aGm53hu8j3pY4upvFI4JN2of3wTOfffGH3c+Z9RjxJ01z3GravF+J+5LIq7UPvgGorrlG+dGULTczOv+KdQKJR/ISZFh7QuG99FzsHceQnYebtJq5PouxwHO6sF+G+rxitDRxnx8wOY55OA47+dwMpZ0/HNjR7uF4Y+ZC+xAX/BSbR9uiwMG9N5pSgRVZ5GnLsFXFcVGFwZ+B9Tj6JKnImZAJ7TahQYWQRRgRS1F5diyjgbJOVxr/Ptu4J4ax4Wnmzl3mVDoVAoXwZmZjpEyE+2h03or2jUHc2JO1Bf12lmSXkRSnal4HDFCNZTUSHBn5unwZ5Z+p77RhdxRz3qO8ZiUXtz5TCf12EheoQ9y3/C8w+prn8MQmTH8oyIjlGqxzGi//IS8M2KDoLoBlIFfLXoICXvqKtH51i4LoVCoXxGmBEdYtxcIQA//JSB2QQR2qvqoJ79lqO/qQJ/FNzEneJyvO2TY6jqOKLHT8CKs2Uof/oMtUYEgqi9EiV3CvDHswZ0c7vIu6pwPEYA2/AfUVpeiVZDU9GidlTXdXAzMOR8bVVo6JRioPUVSoqK8bJVGeQJ8kG0VZH0JX1ofPYAxWU16NTsLGRCNFe90VjrRYKehmo0k97PXDmM5lXcieqSOygoLEN9j4ZqI9/XkO9vF5Dve5XfD6H6WBTc3JfjfNlTlJfXgDmNTNiM6jc96hGxpAdvqpu5Tlld5v7Gp/jjSRNJhUGMzqoSFN4qxOO6Hq0ZKrmwCRXFBbhVUIzyt0LuW01k6G+uwv80Fr2R9DSghqkIDmNpiDuqUHrnNu6W1UOzuAyS7jo8LizAvaeVOBtrbVB0GK1HYufKR3eIX1XgjdJBGORDrE27pEI0Pi3G0yZF6TWRD7Whur4T0oFW/PWoEPfLm9lLgvLBNlSWFKKg+DXadTNi7HwMkm7UlZHjip6i6swS2OqKDkM2f38DK7VEB3OKKtRxjUc7j0X440UraV2aEHtWl+He3RJUE6Ui7m1B7fNadNJpEgqF8g/jw0SHtAbnYybA2joB19joKEXdmVjMCv0GPx87gDR/VyRl16NgdwSmWAgwOzEDmzdk4lRJL3u4GjGqzyRgukco1m7fi+3JfpjktQJX30ghrjiLpOk8WE9bjA2bf8KdZu1eTFpzDnHulrBLyCMBWopacv7JFnYIS9+O9ckJiA1wB5/vi52lpCN6/xonFrrCWjAf6zetRFJMGKYLLOA0ewceMgvJ9P2J/SECWHtsRBnTx8g7UJQxC3YWgThU+dZsOQzlVVJ/Bav9A7E0Ywe2rQiEm0skTtVIyUC/AhcyUpGamoLYGU6wcVmCi40ydo2bveGTYG3vj2UZG7E58yQKi/ZirsAS0zaUsR20vOMuNs60gXXAQdRKlWW2x/x125AS4AZbwTLkE4GQnRqA4NgM7NyyAsHOrlh0ooZdw0ZadwZxPnPx7eHjOLgqABMSctj8qxHiyd4QOFlMweZS9ozouJsBP2tLBB80lYYEDZdXIihgCTZu34KVAS5wX3iS5JFJU4amvHXwdZyIsNRN2L0rE0umWhoUHYbqUVxFvpvmgbA1O7Bv6zIEunlj5ZU3kBIfPMf4oN08fEu+D3a1hlPyda0ZEmnNWdZHHOd9h73fpCA5OhCTeHz4pu7BnvXEBomL4OdkCafQI6jkZpeMno/8Jmu6hvXEZh5zUpG5cxe2xHjCWkN0GLW5luggdjvL2E1xuUWZR4fQddiRvgxJbB5t4b+9TCEg5W24ud4PMyI24+fDmYicwCPnT0By3D78oVuBFAqF8pnzwTMdovwUONlwokPWgF9CbBFzoVvx40A96lpkJF6eQiRP2YHpI2s+jSi7CVhbwI2W5a04E2ELt+XX0cud254VFYYQ4fflGr+L8rWnsCWvsd+XB+9NZaRLBAazl5JOeQVuch2EqOowwmysEHKolnSLcrQcCwNfKToI0ld74c8jooN0GubKoawnVV7k73ApZjxCfqxlOyvImFV3eZia8Ui7o+3JRoKtLZLZPMvRdiocthp5gLwFJ+bxVKKD6bD+2uMLW1Z0kE2tMosgFIrwLisWrrN/VHX4jb/OBX9yBkrEMrw5EgLBogtQWGkA9XUt7F+ayJuPY4FmWaWvsG+WNSc6DKchf5eFOKcg/KQ4KSnurwjjeWDjIzHknblIdhIg6tRbRV2QrjQnzvBMh149ylqIP9hj8poC9LO/kzo6vRCC8SnIJ7pPywdFQvTrJajjI8QTXu/1A98zE084kTH04Dt4WgXix2qSO1Pn+7+dyEscD8eIU3irKAiGrhKfUooOUzbXnenQsZvBPE7djMckj9KqAwgifqioWyJYDgZCMP8EdDQ4hUKh/CP4YNEhvrFCHfDJCPnO2ongT4zCrrxKKK8YmOushVfjYW+1GJdUEwdSvNo9EzYeGSgVmxMdOr/rTWF3I2uRNSam32M7N1FeAuw1RAfToZ+cbwW7+BwMGujwpdWKYP9BokOYhyQ7WwSv2Y89md8hPWUpGYlbgB91nuusOd4XYp2LNeIuMaLLkOhow+lway3RUbM/QC069MosxLUEewgC03BgVyYy0lKQEOAGntUiXCQnFhashQdvEqJ3XEOl6rKONnpllVbjoL9SdBhOo5/UrSN/NtbuI6P/79KQGheIieN4WHy+G4PXl8OJF40sVcFHIDr6riLRhofYLPXMkvTlbvhaEkFTItbxQUPo+1D3hWjYuq7Dfc4PZHWHEMybjh3lpIc3db6iXKwQ8NTCmqAlOkzZXNdOWtum8yh5ugU+vLk4xt5UJUPz0TDY+e5DJSd8KBQK5Z/EKIkOwkA18n6IhKe1JdzmbENRu9xMZ0062RMLYGO3DPnKNEhQbTgcAhvnNBS+1w/G2uj8rtcB9+HSYkZ0FJE9DYgO0kFfieGBH3OZ/DW6okPeehIRVi5IzW5Ac3Oz6tPCrJ7bUYbTm4gYWJKI1BULSYfCGz3RIW/Fqfk8uKVk443GeZubO9DP6oMB1OT+gEUeNrB2noMdd9vZwzQxJzr00/j/WDvynVOQ06B5zhZ0CP+f4jeHlbitqvfhiw62Hi3tkXJdaVPiIfVHEGrpgrV3Pkx09GUtJh16Ou4pRUcDSY/nje1EdJg6X1rWUWJTR6y+qc61pugwZXPZCEWHVh5F5dgXMB4B32aj5FEONvi7Y8HPlezsHYVCofzTGD3RwSF+ex3pXtbw3fVC3YGRUakh+nMT4MCNwhVIUL7VG/yZu/FKqh+MtdH5faSiQ1qFA/7Kyy/KDn8D1H2tAdFhpBx6eenLRoKNNZaop3AUyLuRl+gIh/CjqGd2fH/X4EyHSttwosMzo4Qtg1nRQcp8NY4P25hL0DmzNu/fIj/NG7Zf7+K+UKMoqwc2KcuqJzo4NNLou7IU9rwYXDZw0h7SgfKtFuJsh9KBRjDTIcxFkq1ixkSJpHwrfKxmYe9L6aiLDpPne3gBsUQgRp3pIJZSoDXTYczmDB8jOgiyllysT0jH/p9OIresxUC9USgUyj8DM6JDhJsp2qKj//lxrN56G103UuBkHY885m43aSVu5r3kbuIbwI0UF/gxoqPrPKJ5TkjNVz/hoIm87SKWCMYj6Uq7IpAPVWC3ry0C97wgQkBxbubyh/4zCQzK33MVv7OPJdogKVe5dw+yonlwTytkg7S26JCho2AdplvPxO5yRQjvJR2nwGYBjjcoxpDil7vhz5uJPS+I6DBTDnVeuLzKmtl7Axxm70Rpp/IyhhSigXocnWOF8UuvgO2DRXew1lk5ZS9H97ko8B1T8LvqNL1ERNjCfv4xvGGzJcar3b7gz9gF0ueqy5yjLLMMzacXwtE2CLtKOsmWAqlIROpTisobeXjF3Wk58HsK3Gbqiw70ks6Tz0fE0QbFaFr8Entn8VgRKTWShuLeHDuE7ChBl/qkEJEEZLWHSafOQ+DmB1BUhWKGyXFZvqqTVaNTj0R0ZcU4wDU+G+0KB8HznX4Q+O3FS5K2iPNBlcn10PERQs+FaPBd0nBX2aHX/YQQnhe2Mjd5mDqfqBZHgnng+2XiIffUifBSLPj2y/E7UxBjNmcqQdc3tbbN5VGG2h9D4L38HEqfMk81leNFTbuBuqNQKJTPH5Oig3k5WLKHBSwF0zAndC7CgmdikjUPkccf4UqiB3hfTUDcmUqI39/DencHzIxORVrCfIQs3In7zPN80hqcinCGtWAK5sRuQk61bqiUovF6BuZN8cbcxUsQ6euN4NUXUU2ir/LcVq6ROFSiHl0qUf3uHouzlYOov5IIz3HjMDnmDKpIsB56eQyLnMfB2jMFeQ0yVnTYWXkhIjEOMXN9MMnVD2vOV6oCvbynGDsCHWHNc4a3bzjWblkOX74rwrbeQ6fEdDkM5VVcfxXrA1zAZ9LzmYmg8HU4V/F/0ZS3Gj42VnCeGojYb7ZiuZclnIJIR9UjJ9V1ElHjybZHMJZuzEaNSI6e4u0IdrCE7XhPBISvwbZlMyFwmYvtRf8farkyT1x4EKXKmQRxA3LSA+FmZQ23qV/D1z8C689UoE8uxv30CRjvE41VqxIQPjsSu4s6FcdoIu/BH9tmw9mCOd4Pkau3YMUMW7iHbsX9DpGRNMRouLoOwURAMfmcNSMAkeln8byPydMAXp6Ih7c1KYPTNIQmbsX6UAGcZqQiW/WGTgWG6lHaeB0b50yFT8hiLA33g0/AGmRVMQ5Sj6usD7ph0cEShYjTQdtHiLgceonjC11gZTENqbkNkJGyPt4zB07/sYbf94WssDZ6PsLAi5NImmpDfGQ8pgcnYnv6XDgKZmLV5Xr2d8M271bZSeGbUi1f/eu1mTwSeVF9ZDGme03HjOnk4+UBVyLifDY+/ORvA6ZQKJTRxsxMxwiQCNHR0oKOPnZ8rIZ0dr0d3Rgy0CmokA2iixzbOaDdCY0mqpkOoRDtre0Q6mSTheS1r6MLA8xAVTqEIc157OGUQw8ZBjtb0Mrcy8F9wyAb6kYXV0/Svi70cqNuBrm4F53dQ1oiSy7uQ2fXADtzIR0aGtb0umywE60tHejXKqcE/R36+dFHDnFfJ7oVFYEhrYowkQZnxw5DlUv8o7tXkY54SKSahRkeynocILkZC0ydTwJhF/NsFeH9EER6BTFs8w9Dipqj4fBfV8Q9TcPAPUEU/l+9S54UCoXyuTN6ouMzZyA7DnzbZI2bVimUzx0RClaOh3P4z3jJPikkRW9NPjJDZmDVtTa92T8KhUL53PkyRIe4BpfS5iPIfwHSjj8B8z4wCuWfgOxdCU5tSEZ0WBgiI2ORnL4LWU/ax2jGh0KhUEaXL2amg0KhUCgUyt8LFR0UCoVCoVDGBCo6KBQKhUKhjAlUdFAoFAqFQhkTqOigUCgUCoUyJlDRQaFQKBQKZUygooNCoVAoFMqYQEUHhUKhUCiUMcGk6LD4P/+hH/qhH/qhH/qhH/ox+hkJVHTQD/3QD/3QD/3Qzwd/RgK9vEKhUCgUCmVMoKKDQqFQKBTKmEBFB4VCoVAolDGBig4KhUKhUChjAhUdFAqFQqFQxgQqOigUCoVCoYwJVHRQ/haGmp7jedMgt/UhDKHpeQU+KgkKhUKhjCmjKzqk9cj5JgrzQkIxf/4CRMyfj7A5IZgbvhuPxNw+lL8PpX2CiU1CQjBvzlyEh8cidcNRFNYNcDuNBX3IXmID/oKTaJNzX42UviuIt+Zh4clWfGgSFAqFQhlbRn2mQ3R9GRytwnGa602kHcXYNn8tfhexmx+ACCW7UnC4QsJtUz4G1j6WC3CyWQbIROiqe4hz6f5wsp+NPY+F3F6fHnFHPeo7hqtEDfmAGB119eikYpZCoVD+MYy66BDfWAEnDdHBIH8vJl2EAnFHFUrv3Mbdsnr0kH5PjRhd1aUovFmAsrpeKH8aqjqO6PETsOJsGcqfPkMt21HJ0N9chf/1qM8h6WlATbNytC7HUFsVGjql6G98ij+eNGGI+8X4+b8MDNkHskacWSgA3/8AqqTcd8QenVUlKLxViMd1PSp7MMiFTagoLsCtgmKUv9UQKvIBtDx/gAJiw0ev3hGpwH5p2BaidlTXdajSlQ+2orqhC5K+RlQ8uI/HNZ0qnzHsA0wSVajr0MgZSbPy0R3cKa7Am25tNSIfakN1fSekA63461ER/njRyuWPQqFQKGPFJxcd8t5WtLFaQIKGyysRFLAEG7dvwcoAF7gvPIlatpMT4vm5DVi1PBWp0TPhYumKpecbIZO1oGB3BKZYCDA7MQObN2TiVEkznuwNgZPFFGwuZToWOTruZsDP2hLBB2sgJf/VnonFZAt7zF+3DSkBbrAVLEP+gKnzfzkYFB2kDrsuRMPOIgS/vCGduKQB2akBCI7NwM4tKxDs7IpFJ5i6BaR1ZxDnMxffHj6Og6sCMCEhR5FC+11sn+eP6IyDOLwhHJMsnJF2W2jQFtcqziHO3RJ2CXlsxy/+6zgWuVjCKWwdMlPjsWSeF5zGCRCy/QG6/58hH+hC7VkmXRsk5Smkg7jqLJKmeSBszQ7s27oMgW7eWHnljSLPNWfZ8zmErsOO9GVIig7EJJ4t/LeXqcQohUKhUD49n0Z0WEzF0q0HcHDvFizzC8auZxLI32UhzikIP3G9vKzxV4TxPLBR72aPHlyNs4Mg8RrbIcnbTiGSpxQYCuTNx7FA8zvpK+ybZc2JDoIoH6kCPtchiSAUikdw/n83hkUH+b74W3hYkPooEeFdVixcZ//ICTIZGn+dC/7kDJSIZXhzJASCRRfQzR41gPq6FmKQbuQvd8OU9CLyDYMILa+rwU5IGLAF8+/vywWw50QHMIicOGs4rbjBzW6IUP3TXNhbBuFwrcygD2ilS8TpmQh7TF5TgH72RznaTi+EYHwK8nvZnXXOJ8HrvX7gT92Mx/SqHYVCoYwZn0h0+GFDTiGKbufgUEI09hHR0Z+XAEf+bKzdtwtbvktDalwgJo7jYfF5RfelRoy7a11hG3MZzMS9QdGh+520Ggf9NUTH+xtYqeroFAz//P9ujIqO++sx2cILW59041qCPQSBaTiwKxMZaSlICHADz2oRLpKqEhashQdvEqJ3XENlL3dpY/A6VgjskJxn4FESA7ZgbHxzhaYIEJFz8jVEB7FxywlEWNogKWfQsOjQTLfvKhJteIjNYhUGi/TlbvhaMiKKOUb3fED3hWjYuq7D/ffcFxQKhUL55Hz6ezrkMsjkZOR5YgH4zinIaWhGc7Py04IOIem4ZB0oO7WZCIE4JC9fgSgva/BHVXSYOf8XhGHRIUfX+WjY8aJw/l0LTs3nwS0lG29U9cR8OtDPVtUAanJ/wCIPG1g7z8GOu+2Qt57EQitnrC3QEAVKPlB0oO8y4qx4iLskNCs6mPNHWNoj5br6HLL6Iwi1dMHaO8wx+qKjL2sxER3puEdFB4VCoYwZY3IjKUPflaWw58XgsnowyiFHd24inG3DcayO6RLEKDI008GOWBUovvPAJuV3w5jpMH7+LwuD9pG3ImuxAI6RZ9Ai78PVOD6p/0swWVXv3yI/zRu2X+8ilZuNBBsrw4+vfqDokFbtx2wrT2SWSQz6gFa6wlwk2WrPWknKt8LHahb2vmQ8gooOCoVC+RwYddEhupFCOrUFONmi3f3Imk8jys4OITtK0KWcXJCKIJLI0PhLKGwE8cjuYI4RoXCNC/jcfQPyrvOI5jkhNV/jKYle0snx+Yg42gD2krz4JfbO4sF31wvuno4bSBUwU/Pq2wSNn5/7+wtBYR8N0SFqwf294ZjgHI7jr5lOXYbm0wvhaBuEXSWdqqdLpCIRqWspKm/k4RX3kNDA7ylwm0lEh7wF56MEsPFej8J3rAUIUkiYujVgC8bGN1MEsIvP5W7k1BEdsg7cSfeC3YydeEa+MOgDynRzSQryNmTFOMA1PhvtbLGG8HynHwR+e/GSta/u+YCeC9Hgu6ThLhUdFAqFMmaMruiQ1uNqogd4/3HA3MwCMK+CUCNGw9V1CHbmwXa8J2bNCEBk+lk875MTQZCHNC8+bBw8ERy9HtuTvGEtCMbukh7IpTU4FeFMtqdgTuwm5FSTsaq8B39smw1nC2u4TfVD5OotWDHDFu6hW3G/Q4L6K4nwHDcOExceRCkrZEyf/4tBZR8BvALnYcHcEATNCkTUmoO4XachCsQNyEkPhJsVU79fw9c/AuvPVKBPLsb99AkY7xONVasSED47EruLOtlDpE038UOoK/g8F3jPCkbM2iMobhEbtIW0LhvJHhawco/F2UpGZjCiwwb8aQuQvCQa833cMcF3FS6+5vKk5wP9qnQnx5xBFREO0sbr2DhnKnxCFmNpuB98AtYgq0pxvN75hl7i+EIXWFlMQ2pug9bjwBQKhUL5dIz6TIdZZIPoamHupdCZYpANobtTqJi5kArR3cuOeRWQzq63oxtDWvpADnFfJ7oHmC5DiqEhjf1NYez8FD1kg51obelAv1ZVSdDf0YLWDs5WWkjJb23oGhxpN66e6egXtqOt3UDaBn1AFxkGO5m8DShmvCgUCoXyWTH2ooNC0WMAOUt4cEi6TuQHhUKhUP6tUNFB+dsR12QhPSwAQfNX4+STbv2bUSkUCoXyr4CKDgqFQqFQKGMCFR0UCoVCoVDGBCo6KBQKhUKhjAlUdFAoFAqFQhkTqOigUCgUCoUyJpgUHRb/5z/0Qz/0Qz/0Qz/0Qz9GPyOBig76oR/6oR/6oR/6+eDPSKCXVygUCoVCoYwJVHRQKBQKhUIZE6jooFAoFAqFMiZQ0UGhUCgUCmVMoKKDQqFQKBTKmEBFB4VCoVAolDGBig7KZ4gY3TUP8Nu9Oki5b74kxF01eJh3H3X/+MIPoel5BZoGuc1R41Ol+2kZanqO55840+KmMjxuEHNbY8nwbfLR/j34FiXZJ3Hk0C+4+qQDMt1tbrfPEwm66x7j1tVi/O/zzugng4qOLwlpPXK+icK8kBCEJZ1ElV6jF6J4x0L298iV/8WrvymoS2svImGiBewS8iDivvtikNYiK24SeNYJuPZPL3zfFcRb87DwZCvk3FejwqdK95PSh+wlNuAvOIm2T5RpSd15JAUsxrEKIffNGDJcm3ysf79/jh/n+CDp6HWcXOGLGWuOYKfmdvoN9HC7fpaIKnEmZgJ4TqtR8J777guDio4vDNH1ZRjvMQ2eVtOxo1zCfcvRk4cUH29Mt+Mh+mzn3xjQRbiZIoD9GIsO0aNdSD1UQcYio8OHpie6kQInm79bdIhQsisFhys+pjbE6KirR+dHDrz163F00v2kiB5hz/Kf8Fyj+sQd9ajv+ESZljXi7OIAfF/U+ze12+Hb5GP8W/I4E9Nt4pAzYHj7n0D/5SXgU9FB+VIQ31iBCTHbsGUmD14by0ioUCJH56V4BHyzHSkOPMRe7OW+J4g7UVNyB7cLylDfqzEnKB9CW1UDuqQDaHv1CPeKX6BNM5DIhGiueoMeVRSUoKehGs0aAULcWY3SO7dwp7Qe6qTFuLnCjOiQD6Dl+QMU3CzAo1fvNPYTof31IxQWFKOioVujfEx221Bd3wnpQCv+elSEP160qo8bqsKJSGdMXnYOj58+xbOaDtWx4o4qksfbuFtWjx6t4n9YeloYKAdjIzYoDw2i7a8S3H/wUrteGczaRIjGp8V42jSk+N7Y/gwG8jBUdRzR4ydgxdkylD99hlpVZylGZ1UJCm8V4nFdj3oq28h5Re1VqOtQ7CV+V4VnpC7KVZ9yvG5WTqeJ0VVdikKSh7K6XnW6RupRM10FH2h3gqyrEn88qES3id7asJ8qkA+04MWDAty+/RB/vWNrD9XHouDmvhzny0g5y2vAVp+oHdV12tP/ovZKlNwpwB/PGtCtnWnTbUsHaeV+zF3wq/6UvVyIpmfFuEPq9Y/ytxCyZZRjsLUKb7ok6GuswMN7ZRr2VWLEzgxG2p6eTYz4nMq/jZbHiC3lXag+GgMnXjh+KilHZVOT9naL2pcM512OobYqNHRK0d/4FH88aSKWYr42VEf6GPWB4dhK0o26skIUFD1F1ZklsKWig/KlwIqOuEuoOBgI/sT1KFY2DnkbzpOR0vaSfKzRFB3CClzISEVqagpiZzjBxmUJLjaSFietwbmYCbC2nYv129YhJSEawW48CGbtQBnTkvv+xP4QAaw9NqKMiRryDhRlzIKdRSAO1Siu6/RXnMcmku6q5dHwdbSCe+x5MEkzQcOU6JC338X2ef6IzjiIwxvCMcnCGWm3yUnfV+Fcghc856Rh556tSPFzh8+KbPyPnE5acxZx7pZwCF2HHenLkBQdiEk8W/hvLyOBR4aW27sROdESjv5J2LhhI7acKEWvXIKGyysRFLAEG7dvwcoAF7gvPInaD06PKwCHsXKwQdkqGN/s+RapXL06KOuVwZxN7Obh263LEOxqDafk6xgwtj/BYB5u1qFgdwSmWAgwOzEDmzdk4lQJ8QdJA7JTAxAcm4GdW1Yg2NkVi07UQGrwvHl4fjYWky1skJTHWFGGN4dDMSkgCd9vysSWDQnw5VshaH8VUyA8P7eB+AHJY/RMuFi6Yun5RnKEoXp8iKdnNNMlfLDdGSQo3+oN3jgf7DQyq2PcT+Vov7sVC/yjsOngIWwOd4f1+NW4VVeAveGTYG3vj2UZG7E58yQePlXkQ33JUIzqMwmY7hGKtdv3YnuyHyZ5rcDVN2ymTbctPeRoOxmFsB9rSY1pIK3D2ZivEbbuCE7sX40g1wTkisR4fSwS7sS24embsTo+BgumCcATBGHng26SEsGYnclPhn1WiFotWxNM+JxJ0WHClhBX4Fz8dPAtvBD7fSYO/34bZzS3C1ogM5p3KWpZv7HH/HXbkBLgBlvBMuT3GqojRVY0MeoDw7CVrOka1pM68JiTisydu7AlxhPWVHRQvhQUoiMbwoZfEMZzw9rbimkHWdNJRM3eg1cDt7VFhyY92UiwtUUyF1hE+drTpJK/9iHAyhOZZUzwlqPlWBj4StFBkL7aC3+eWnRo0nNlKRz4ifiNTcuE6JB3I3+5G6akF0GRcxFaXleTkSTpoE4vhKN7Gu5wl7TlracRxXdG6nWmLCL8vlwzTQle7/UDf+pmPGaz24bT4daYtkE9+yN/l4U4pyD8xKgMgqzxV1JnHtj4iNlj5OlpYbQc+kFZUa9e2PrEQKdoyiYiIfp1T665v4k8yNtOIZI3BZtLlQnI8S4rFq6zf2RFFyMiGn+dC/7kDJSQXQyeV5SPVAFf1RH1177G/9g/xfjrxxA4TUnHnS7dYWUPrsbZQZB4TVGvhupRK92PtDthsPI3/PLLDdQqdjCJpp/Ku68j1XUy1hdxU3eiFlRWMzMxRAScCoethu/r5kPWTPJoNwFrC1SZxpkIW7gtvw421ybbli5ilG7ww+ob2gWQNfyMufxoZHUrtgfq6tDKdJSDxAd4Aqy8wWVOVIUjoXzYzD6EWpkJO4uM+4uurbXQ8VHjosOcLfWP1d427aPaeRRBKBQbryMTaMcqJlkTtpJ3Ii9xPBwjTuEtF/aGri6lMx2ULwel6BiQtZBgzocrCXJ9pHE2/LwAYQfJiOC9CdHxvhDrXKwRd0kREfSCR/cFxBAhs76IaeH6gVdafQBBRkSHuHAt3HmxuNLHbhkXHYPXsUJgRwKY7l2uQuQs5YO/OIsN2izSl9g7wwqeGSVkQz/N7gvRsHVdh/tM4zfQufXnJcCRPxtr95HRyXdpSI0LxMRxPCw+z0SokaenhdFyGKtXd65edTBnE1009zeRB33RIcS1BHsIAtNwYFcmMtJSkEBGizyrRbhIqsPged/fwEoDHdFg+S4E2Xtjw31D9x+IcXetK2xjLpMzEgzVo1a6H2n3EaLpp4PXl8PJlnQ+etVnSHRo50N4NR72VotxSZ1pvNo9EzYeGWCq3HTb0kWMgjX+2PBA57e+AqybwMOUyJ347bXGJStRHpJsNEQHyW/r8QWwsY5H7qAJOzcb9xdjtmYZto+as6X+sdrbpn3UYB6N1ZEJtGOVgfJo2optYzzEXOBUDYGKDsoXBdNAWNFBAk07Cb6OggTkdFThxzkLcPQNaXI6okPWUYbTm0jjXZKI1BUL4cPjGQ8efVmIJY3tm2GJDhk6Sk8hM2Up4hNTsDLCG7bDEB3y1pNYaOVMRog6AZaMFE/Nt4Jj8nX1MbIG/BxsBbc1d8iGfpp9WYtJ55OOewZFAsn/iQXgO6cgp6EZzc3KTws6hExoGml62hgtB8F0vY7QJgRj+5vKg57oYOuXB7eUbLxR1QXz6UA/qQ5D5zUc5Euw5Wt7zNpcgn7uK5JBlJ3aTERdHJKXr0CUlzX4wxUdH2t3sxjzU84/xq/BHb10zIkOxbE2dsuQr840Gg6HwMY5DYUkPXM+oI0Yt1bOQoau6CAMVOdi60IP2Fm4YN7Wu2hnVJ6e6CDd9aVY8K1IuXqM27mv2bi/6Np6pD7KYtaW+sdqbZvxUWPCyGAdaWEqVpm2FdPGIqwcsfqmus6o6KB8UTANRCE6SBvtykaSwB4xmd8hOPIUWpjGpik65N3IS3SEQ/hR1DMN6v1d0yMWg6JjAztyY9AUHfLuXCQ72CHyaD0bYMR3hznT0ZeNBBsrA4/mCZGXYAd+1HmoxhSScmz34sFv90uyMVyRUEr2VNB3ZSnseTG4rBp2aTLy9LQwWg4z9TpSm5ja30QeVKKDnZdm6MPVOD5sYy6pR6Ea6J2XQTfIy3twb70XHHx34IlqsCxHd24inG3DcayO2U+MIoMzHRr1qJXuR9rdDKb8lPUPywX4b6te7alEh2qiSCcf/bkJcFCOwFkU95bwZ+7GK6LJTbctXcQoXu+LtbcM/cYgxtvraaTjn4E9L0jieqJDiup9/twlJxN2NuEv2kJwhD6qwpwt9Y/V3jbto8ZEhwKdOtLAdKwyUB5NW/Uwf/MQdaZDVWdUdFC+KJjH1dyXKEQH00jzlzsT1T4esRfaFY3i/U2sEhDRcaGHCPxGHJ1jhfFLr6CD+VF0B2ud1VOF7KNv1vHIU97c1nOBNDBXpBcqglkvCcoCmwU43qC4Di1+uRv+vJlso5Y1/oIwSwckXlY0RtGdNLjxlNdWFY/M2sXncjf7aSBvwfkoAWy816PwnTI4SCGRkEB/MQbjneJxlRuqDFXsRADfD/teMOfXT7PnQjT4Lmm4y4qELlyI5MElJV81Aldcd7dDyI4SdCnnXaUiiNjijDw9LYyWw0y9DtMmucpjTe1vIg/yrvOI5jkhNV/RUTCjvWbmerttEHaVdJItBVKRiHSXBs7LILqBVIENktgv5ei4sRpT7QKx/xkXnYfqcPNaGRp/CYWNIB7ZigyicI0L+IsuKDoeQ/Wok+5H2Z0w8DIbB/Zl4y8DVw1M+am85RwW21vh62/uQF19ElIfREidiwLfMQW/K6tPJx/ytotYIhiPpCtcuxuqwG5fWwTueaFVn8baljYy1B2ai8jjLYq0OKSvb+DaS0VLx8DvSHWeZVB0yDoKsH6aDXx3PiNdrwk7m/AXLZuMNG6oMGdL9bFKP9PeNu2jqjzmqE9stI40MB2rDJRHq73W4kgwD3y/TDzknuxhZ5Xsl+N3Q9rnC4CKji8JaT2uJnrA2m0xTr9WePzA7TWY5BCPHPaGPinqLifCc9w4TIg6jleDMrTkrYYPGd04Tw1E7DdbsdzLEk5BO1HaWcumxftqAuLOVJJgNYRXRyPh9pUlpi/PBXOlRt5TjB2BjrDmOcPbNxxrtyyHL98VYVvvofP/teDaKm8yUnSEd0A0vtuaDB8LAebsLEFnbTaSPSxg5R6Ls5X6QVbadBM/hLqCz3OB96xgxKw9guIWckJpI/Iz5sDLKwSxsREI8ArE2otVbJCX1umkOfQSxxe6wMpiGlJzG0iAkqL2xEK4kTxMC1qCzOxq0k2I0XB1HYJJwLQd74lZMwIQmX4Wz/vkH5ieNgbL8bbGTL0OxyZuWHSwRBHwSU6M7t9DymG0LmtwKsIZ1oIpmBO7CTnVJPfiBuSkB8LNyhpuU7+Gr38E1p+pQJ9E4Vfa55Wi/orClybHnEHVUAfORljByulrhIdHIDJ8AYInCeC9sYyIuzykefFh4+CJ4Oj12J7kTc4bjN0lPSTI69bja7zWTJcRDh9ld2aGYTp442Zg93PtzoZFZtxPe+RSNN3MRJgL8Q9nT/gHRWPd4fvsjYjSmpOIGk/q2SMYSzdmo/IvXZ+WovF6BuZN8cbcxUsQ6euN4NUXUc1mWlmfxtuWLuL738J32TWtEb64aB0mC3wQm7oaSWFBWLTzHthmzogOax6mz09E/KJ5mOnmioCV51Gp7DSN2Zkca9hfxNq2fj+SuKGDCVuq64XzM0N+ZzTvan+cuPAgShVOaryONDHlA6o8GLfVwIuTSJpqQ+LgeEwPTsT29LlwFMzEqsv13Am+LKjooJhFNtSNrj7FSEPa14XekUwLysXo6+jCABMopUMY0ooyMgx1d0LIJi2FsKtXPwgZRYr+jjZ0EWGki2ywE60tnRgw0IeYRg5xbye6h3SijmwQXS3MvRyKOhg+RtLTwng5TDFSm5je30geiO16O7qhXx1M/Xagf6TVYQrZELo7hYoRqVSI7l5NTxhOPSrzNXK7y3tqUfa4wej7GUjKpv2U5LejrRP61deLzu4hdnRsFM63OkfurNq8L0OmfzTONGlnQiLsYG2l5bqqmQ4h+ttb0c75hS7G7Tw8n/2YuPHhbVjBSHzUYB3p8TGxikGiPub9EEQja+7/KqjooFAolH88cnTeSENw9K/4i7taYJSBbMTz7LBc+cwnhTKGUNFBoVAo/wpEqLm8BT8Wci/5MogYtVlpCPcPQMSqE3hq6jWsFMongIoOCoVCoVAoYwIVHRQKhUKhUMYEKjooFAqFQqGMCVR0UCgUCoVCGROo6KD8MxmoRGm59jLhfy8SdNc9xq2rxfrLi38q3jehrKzByKN7BvIz1IQXFU0w8A6szwZJdz3+vHkVxYZeRvGJGGp6judNn3OtfH6Iu2rwMO8+6rhHWodbhyOqa/kg2l7ex7Wbz/VWaB4TJN2of3wTOffffEZxZjQYQFVJObh3lY05n0Z0DDag8JfvkbQgCEF+MzFzRiAiU0/jr2E8M02hDAd5RzF2hM3G+pvvTL8HYawQVeJMzATwxur1xpJ6XIwPROyvFYbfeGogP32X42BnZei13Z8LIlSdjsXkceORdntkb0H4cPqQvcQG/AUn0UYf5Bge0lpkxU0Cz1r9+vHh1eHI6lreXowtAXzYhPw8dkJeA1HlacS5W8B1VcEI38nxmSPvxB/b5iM4/Sbe/Q0+P/qio68Me4NcMT3pBEpbFK+466/KQlroegMLI2kjerQLqYcqFC8IovyjGB3biVCyKwWHK4aXirzlMpL803HH4EILY0//5SXgj4boED3CnuU/4bnRapCh8cxiBK0vMjkC1MuPuAP1dZ2fIICOzG4mEV7BUt6nEx2G/FTcUY96dn32fwKjWNcfAfvqb801UIZZh7r7mY4bEpRv8Qb/bxIdxBmRHcsbc9Ex2v2gwfTkLbiSEIBvCsY+eI6y6BDj2bavwffOxJ/KV+pyyMViVaHFndUovXMLd0rr0at0pqEqnIh0xuRl5/D46VM8q+lQGVrcUUX2v427ZfXo0XI+MTqry3DvbgmqO8UQ97ag9nktOrlALGqvRMmdAvzxrAHdWl4jx1BbFRo6pehvfIo/ntSgobIc5U/L8VeTUDFylnejvvwpyssr0fZve4eOfAAtzx+g4GYBHr16R8KYEhHaXz9CYUExKhq6tRqafKgN1fWdkA604q9HRfjjRav6uA+wnVzYhIriAtwi5yp/q1igYqjqOKLHT8CKs2XEFs9QywYnOfqbKvBHwU3cKS7HW+ZdzCrEeLolEPEXufUrTCLHYGsV3nRJ0NdYgYf3yrj0OeRDaKtqQJdUiManxXjapHRg43XCIulGXVkhCoqeourMEq2FnGTCZlS/YV7lzSHpwZvqZm7dGwXygRa8eFCA27cf4q93TI0OofpYFNzcl+N8GeN/NdCL5dJKHAhZgGOGLkGYyA9blqo61bSqyqbCRpQXP4GqyEy7qipB4a1CPK7r0Z5aNuA7hu2mixhd1aUoJMeV1ekuIc5cCirD3dtFKK88oxYdQ62oYtvga7RwlSbvrsczxsdqOxVfGM2rbhtvwpAxPxW1o7pOfanOkG8qMH+ugdZXKCm8h2fNzCUE4nNtlSgtJDHor3bFuVQMM62iYrxsVbfQ4dW1NvptUI6+t8/J8aRuK96wwlXSUcvWa/nrFsXlN+bSBmkP3ZI+ND57gOKyGnRqiGm9Rc506pBB37cJmvuZiBsKJKjY5gNbIjreDHWituw+Hj1vRr9GYzfmwwb7GILJOMYh6a7DY2Kze08rcTbW2rTo+NtjqWl/MZneky0IXnLRwKq6n5bRFR2SJ9jqZQWfreVGVVp/xXlsSk3BquXR8HW0gnvseTQy60nc3o3IiZZw9E/Cxg0bseVEKWkMEjRcXomggCXYuH0LVga4wH3hSdQy1xHlbbi53g8zIjbj58OZiJzAg8ecBCTH7cMfROBUn0nAdI9QrN2+F9uT/TDJawWuvmEOlKL2TCwmW9hj/rptSAlwg60gET/vDoH9VxOw9jan/IgSPB3OB99/Nyp0BNQ/GXn7XWyf54/ojIM4vCEckyycSYAnBXxfhXMJXvCck4ade7Yixc8dPiuy8T9SZdKas4hzt4RD6DrsSF+GpOhATOLZwn97GekiR247ad0ZxPnMxbeHj+PgqgBMSMghPXQLCnZHYIqFALMTM7B5QyZOlXShjthqVug3+PnYAaT5uyIpRztEiB9+j4DUG4q1GYwixutjkXAnaYenb8bq+BgsmCYATxCEnQ+6IZfW4FzMBFjbzcO3W5ch2NUaTsnXMWCiThhkTdewfoYT8btUZO7chS0xnrDmOnnhn/swV2CpWpJd3nEXG2fawDrgoMJ/SbBov7sVC/yjsOngIWwOd4f1+NW4VVeAveGTYG3vj2UZG7E58yRKdaYz5G0nET3nR9RqRniCqfwwa6mcZ8rITYkrbeo49xvsSA7ERJ4AKb+Rnl3SgOzUAATHZmDnlhUIdnbFohM1pNUY8Z2bdQbspjt6EuL5uQ2kzaciNXomXCxdsfR8o6LjkTXht3Ty3YRQrNq4E3syY+BtwYkO0SscCrYBb8p3KOb6fnnLaUTZOiLmzBsTeTXUxpNx+pq+n3ZVnWPrwY5b/dWgbzIM41wLvt2N75YnIjbAHXybmVi1Zxe+J7FuWdQsuJL6CTtcqYiLZtOyQ1j6dqxPTlCkxffFzlLi4QbbiKmRqrE2KEfvnwcR4fgVe6mDudomfr4LftbTsPJyHUTvX+PEQldYC+Zj/aaVSIoJw3SBBZxm78BD7mVimqJDWqNdh8Z8++YLzf2MxQ02AQ6F6OB7J2Hrt8uRsNCP+CkPnokXUa8Rl3R92HAfo97fcBxjkKEpbx05ZiLCUjdh965MLJlqaVR0/P2x1Iy/mKtj8UNs8F2Jm6aD56gzuqKj7xKWWFkh8vRwRp5Az5WlcOAngn0br2oJa0WQZpC/y0KcUxB+UkRpyBp/RRjPAxsfiSGtUiyTrviNVP7BQAjmn0AzcS7F6qBEQBQoI1UrzkTYwm35dcWCSKJ8pKqWOBZBKCRn7MnDMgdbRJ/l7hGQ1eFwkAuSc3uYrX8H8m7kL3fDlPQibrQtQsvrajKSJs7JrM7onoY7qiojdch3Rup1psZE+H255vLgErze68cthc3sPBLbDeHNkRAIlKuIkpzU17Wwf6mWU1euBy5rwC8htqrVKTFQjzpmMTIN5K0nsWjuT6jX6YD1GMxGAglKquW8RVU4EsqHzexDbOctyteYLhYJ0W+uTuSdyEscD8eIU3irKKL2ktVEtJ6Yx9OoEyn+2uMLW050yLuvI9V1MtYXcUN4UQsqq5lRiHpZ9DJlZeogLtmIQCK0FLbgMJcfglYZdWwq6hOy536XFQvX2UTQsGnI0PjrXPAnZ6BEZMx3yKl17WaSHlyNs4Mg8RpJQY6u3ES42i/EaXWmiZ3Ul1d68pLgLIhHDucC0ld7EOj5PR6JTOSVOdRQGzfgp9r1IDPimyM5F0HyGvt9eZie+Sc3+BrCw+88wA84gBrS4X9IWt6byti0RlLXpuInUyZm1V9PQTAOVHTh8dYQzN9XoRLvg9nEdwQrcFPpO1WHEWZjhZBDtSTH2qJDuw5JykZ9WyeOGLSHJuqZDsXlFZLn/FTSybpi7R1mPsaQD2uj1cfonl8njsk7c5HsJEDUqbektTIMISfOyEzHZxFLyR5m/MVkHZN+8b8L5+FwnbngObqMquiQd5xBlCUjOhRLAJtDXLgW7rxYXOkjGwYqpz8vAY782Vi7j4zavktDahxRs+N4WHy+G5KnW+DDm4tjjIQlzaD5aBjsfPehkthFeDUe9laLcUk1CJDi1e6ZsPHIANtW39/ASk1DsQhxK9UVDlHn2Jtr5C0nEem+DNeZvP1bGLyOFQI7JOfp3j0uRM5SPviLs9SrVEpfYu8MK3hmlJANMW6u0GwoQPeFaNi6rsN9toMdme2EBWvhwZuE6B3XUKkx96kfUIW4s3Yi+BOjsCuvUmuaVMXgVST5b4fZS9w6y3mTs6H1+ALYMMtik+rQmy42VydsXaqX62bQFh26dSJFzf4AlegYvL4cTrYkGOqaguTLrOi4nYbZ3z/QDiLm8kPQLqO+TZkyX0uwhyAwDQfIKC8jLQUJAW7gWS3CxWZjvmPIbqYQ4+5aV9jGXCZnG0T+MoF6GXsGHdGBPhJUxzsg6SqzhxQvd/nBbztzfdpEXpldDbVxgwFYux4M++ZIz9WNrEXWmJh+jzsPs/T8bDJi34ZyycelNZK6NtUGWeS9KM6YDodJXvCLOoYajTYkIsfaa4gORkSfnG8Fu/gc9vKLKV8y7ts6PmeqQ2TRFR2E94VId7bC7H2VZMOQD2uj1ccY2F8zjrH51liy3qTo+ExiqVnfM1nHg8hJ8MeOZ+aC5+gyujMdxBDL7SwxY5uxm2Bk6Cg9hcyUpYhPTMHKCG/YGhUdJPieWAC+cwpyGprR3Kz8MKt9Eg8UlWNfwHgEfJuNkkc52ODvjgU/M9OXiuNs7JYhX+WJMjQcDoGNcxoKGcMaFB0k+3fTMdluES68k6H70hJMTblOXOjfAzMrsNDKGWsLdNyPKN5TJKA4Jl9XN15ZA34OtoLbmjtkQ7+h9GUtJg0lHfcMNhQztiNjg5rcH7DIwwbWznOw42674ihDAXWgGnk/RMLT2hJuc7ahSPcC5GAOkmf9gKcjFh0kPFyKBd9K4X96osNMnTB1GWHliNU31ekNX3Rw9TN+jYGbq4chOm6ugt932qLDbH4IZkUHW2Ye3FKy8UZlM+bTgb5mI75DMNsRyjpQdmozCZZxSF6+AlFe1uAzooM7n3PqLXVZdEUHaYEFq1wxPiEHPeIK7PILwU81RLWZyGs/42IfKDoM+uaIz9WHS4uZwF/EnUeGNyT+8L22ovz9x6U1fNFhrg0q6Lv3LbwtLDF9/T30aDQtPdFB7HAlhqewG9ky7kumfFunrk12iAwGRIfkMTKn8uC76wXZMODDpvoYA/ur4xiXb4eVuK3Kt3HR8dnEUnO+Z7KOB5Gb6IutT/7JokPWiOPzeLD22Y5ytReokHfnItnBDpFH69kKF981NNNRqqqcvitLYc+LwWWVZNRG1pKL9Qnp2P/TSeSWtaiO689NgINy5MAiQflWb/Bn7sYrZobKiOiA6AEyJtsj5lwDri/3xqrf/02Sg9CXjQQbKyw82UpcWRMh8hLswI86rx5xSsqx3YsHv90vycZwG8rwbcfy/i3y00hQ+HoXu6kKqOw8szbit9eRTjorRbBRI+84i9ig/ahSzDwaR090SFG9z181raknOszVSU8WYnk8RJ1Rz+oZEh3M6EZxRu2ZDrZ+LA09vqoWHcb6FfH9b+G/+raqrlnM5YdgVnSQgHU1jg/bmEvqUZoSo75j2m5MebpzE+FsG45jdcyZxChSzXT0kABJOrKIM+hQZ1pHdJDQSEarkx0ScKVoG2ZHnIRi9XYTeWUwKTrUfmq4HghavjnSc5kQHZKPS8t0XWtjrg3Ku+7g29mxOJG/D3MEHki7ofYdPdEhrcIBf/W0vSlfMu7bOnVt0B6aGBAdfblIsrdF3CWmVerbzmQfY2B/zTjWQ/7mWy3EWbUzGp/p+Fxi6bBFh4E6lnfiXHQwDjCXB8aQ0RUdpPq7bq7GlHE8TE86jpKmQc4gcog6O/B/3/yCMEsHJF5WOLfoThrclNNZ8i5ciOTBJSVf9d4Bxb0ZdgjZUYIupdNJRRCxwkyG2h9D4L38HEqZu67Ly/Gipp01pLztIpYIxiPpCndvyVAFdvvaInDPC7bBQHQDqQIbJOXo3kEjxp+ZXnBcmIrkmatw81+mOZgp0vNRAth4r0fhO6WjSSGRkI7uYgzGO8XjKjeTMFSxEwF8P+x7wdSYCDdTBLCLz1Vd8+25EA2+Sxrusg1lJLaTovJGHl5xl3sHfk+B20xOdHSdRzTPCan5XMVLK3Ez7yV3zXQAN1Jc4KcjOiTl2xAUf5kN4PKuP5H1E/EHVdDQQEd0yDoKsH6aDXx3PmMbI/sIIHOpReUSZupEVosjwaTD9MvEQ+5xEHbmxH45fmfbfy/pXGxhP/8Y3rBOJ8ar3b7gz9iFl6Tq5S3nsNjeCl9/cwdqU0iIf5JO+lwU+I4pMKZ5ZXWHEBZ+Ai2axTSbH3UZ89gyKm2ao7IpSQTNzPVo2yDsKukkWwqkIhEkRn3HgN20kKHxl1DYCOKRzdpFhMI1LtwlFdKGfyKdMc8PPzzgztd3GXE8AVaopynJIcX4bpIDAgICkJil7BhN5JX5w1AbN+Cn6npgfNuYbw7zXCrn6UFWNA/uaYVcoJeh/lAQ+NOYGbmPS0uvrkmZnlw4jPMlasGgxGT8lLUgJ2kGFp9qIHmQoPboAox3S0AOc1McQVt0yNBRsA7TrWdid7miRIZ9SREfjPu2ThwxaA9NdEXHAP46NA+OLsvwG/uIor4PyxpN9DG65ydoxjFZ7WGEEuEeuPkBOtnzKWZ3HJflkyN1+CxiKfnXnO+ZqmMihnb4x+OKInga9aPRZpRFB8MQqi9/hwgPO/D+jyXsHVzh4TUHK34sxjtJC66t8iYq2BHeAdH4bmsyfCwEmLOzBD1yKWpPLIQb2Z4WtASZ2dXEPGI0XF2HYGcebMd7YtaMAESmn8Vz9rFJEaqPLMZ0r+mYMZ18vDzgShzGZ+NDDBLjN17PwLwp3pi7eAkifb0RvPoiqlm7SFF/JRGe48Zh4sKDeh2UhDjILJ4VJq+6zXV2/y6kTTfxQ6grCfQu8J4VjJi1R1DM3JwpbUR+xhx4eYUgNjYCAV6BWHuxim0Y0rpsJHtYwMo9FmcriSsPvcTxhS6wspiG1FwmaI3EdiLcT5+A8T7RWLUqAeGzI7G7iHv8UVqDUxHOsBZMwZzYTch5eQvr3R0wMzoVaQnzEbJwJ+4rn4dmkaHpWDjmHagmOSDdeulmeFswo482/YbDiA5rIobnJyJ+0TzMdHNFwMrzqGQLWI+riR7gfeWGRQdL1KNuE3XCMPDiJJKm2sCajMynBydie/pcOApmYtXlevKrHD3F2xHsYMmWPyB8DbYtmwmBy1xsJ+WVkxw33cxEmAupH2dP+AdFY93h+2hlTFFzElHjLeHkEYylG7NRoxvx3hfj+xnL8ZvOyMdkflRlnIC4M5UYVNrUNRKHNAONuAE56YFws7KG29Sv4esfgfVnKsA0OeO+o2O3au0My5rzkObFh42DJ4Kj12N7kjfZNxi7S3ogH3iBU/GesLMgI0rPECRvXYcwewF8U69wRzOIUZLhAWunFOSzI1YOo3k11sb1/bRfy7eFxn1zGOeaHHMGVaTjGHp5DIucx8HaMwV5DTLIe8qwb44AlrxZ2FDY9lFp6beRYmROtYSNwRduGWmDPe9QtMEXAgtPbHyouCdhqGQjpo/7Cg6+G3DnHRkkEtFhZ+WFiMQ4xMz1wSRXP6w5X6nwfWO+pIwPRny7sUZ/P/24oQkRHdv94D4rCknxixHpPxluHlHYX8y0H3K0IR8mYspYH9NZq3N+vTg2gJcn4uFtTdqs0zSEJm7F+lABnGakIlv56lUN/v5YKjHvLybqWNZ0HJFzmJubyYa4zIQfjS6fQHQokWCgoxWt73oh1iqEDEPdnRCysl4KYRf5nf2eQQ5xbye6h3RKLRtEVwtzDYs9iCBFzdFw+K8r0lBv3J3n4f9VVxp3XOeAvsMYhal8Tw+sL1J2Lf9GpOjvaEPXIOOU2sgGO9Ha0omRVJmC4dqOQULO34LWDiH5Swe5GL0d3VAlIxGigzmeNDA93ldgd1A4jirvvpa+xD5fD3xryHaqmQ4h+ttb0W4oPSOYrhOJ2offD0GkU6VycR86uwaId5LsDQ1p+DqHlJSvrRO6ppCLe9HZPaQWA1qIUbYpALGnm9h0tTGdn+GiKHMH+vWqyYjv6NpNF9kQujs5e5Myd/dq14SkrwuKr8QYGmGmjefVEEb8VIUJ3ySM7Fym+eC0tOpaild7/OC57p5KDOthsA2aRjXTIRSivbWdi9cjxIhva2PaHpL3YtbHZUNdaGvrgciY2bQw1ccMAxJzlP4pHmKeaTLF3x1Lh4Oh9MSo2BmMyF/qufINw49GiU8oOj4lIhSsHA/n8J/xkr3DXIremnxkhszAqmsGRrlmGUDFuS3Y/1sd2u5+h4CQA3j9IY2MMnbIu/DwhzkI3VbG3k3PIv4TZ366a/hlNwPZiOfZYbni2bl/PPKOG1hLRnLHlNcCKF8oYjw5fVj/BuuPZCA7DnzbZI2b8Sn/HuTofvAD5gVvx2N18PwkfmSIf6joIKLvXQlObUhGdFgYIiNjkZy+C1lP2on8+BCEKD2wFGFBcxHLTJG1flgqlLFD1nQVu3bfRvOwTCVGbVYawv0DELHqBJ5yLzj6pyOqvoJtBwrxLykO5XNBXINLafMR5L8AacefUP/6tyFrQs6O3SgYXvAcdf6xooNCoVAoFMo/Cyo6KBQKhUKhjAlUdFAoFAqFQhkTqOigUCgUCoUyJlDRQfkwJN2of3wTOfffGH6kbKgJLyqa1E+WfCKGmp7jedPonuVTpKmNGE2lZXgzouf4/imI0V3zAL/dq+Nu6h5C0/MKmK/O4e6nQD7Yilf38nDree8HPK328Ui66/HnzasofmP6gcrhIu6qwcO8+zDwOojRxVy7/ccygKqScnDvxaN8xlDRQfkgRJWnEeduYXTZ577LcbCzMvQq5NGkD9lLbNjluUfvhTafIk1NJKg/H4/gxb/i+b/tjbcEae1FJEy0UC9z3ncF8dY8g69P12K4+7HI0X4/E8E2Vph75O/oPEWoOh2LyeO0X9f+wUhrkRU3CTxrzdfwfxrMtdt/LPJO/LFtPoLTb7ILdlI+X6jooHwgQmTH8owHL3EH6us6P3lgE3fUo55ZX/0DET3ahdRD2gsUfmyappA1nkGs/7e41/tvjYyK1zyr15YQo6OuHp1mq1N3PxFKdqXgsLHlgyVPsc2L9zeJDoLwCpbqrBHzMbCvFdda+8c4hnx2+Jhpt5+Ij8uzLkZ8Q96CKwkB+KbAyGIzlM8CKjq+QMSd1Si9cwt3Suu1louXD7Whur4T0oFW/PWoCH+8aOU6DjWS7jo8LizAvaeVOBtrZDEkFhHaq+rU053yIbRVNaBLOoC2V49wr/gF2rQSl6O/qQJ/FNzEneJyvGVfdU++HWxFdUMXJH2NqHhwH49rdISMqB3VdR2qjkdVBmEjyoufoIl7vZ7BMg9V4USkMyYvO4fHT5/iWU2HIm2dNNmyvH6EwoJiVDR0a5/fbLk0kaJqXwgW/qrbUcox1FaFhk4pBlpfoaSoGC9bdRMxnofh2M0wYnRWlaDwViEe1/WweZL3vcWLcmYtowr8jxFGkk7UstuVaOUufZi2if6CVqL2KtRpzXvLMdD8HA9v30LBw1d4x+2oud9Q1XFEj5+AFWfLUP70GWp1RaCkAjt8rInoaMBQZw0e33uIF81CjVkSdZ32Nz7FH0+auDctitFVXYrCmwUoq+vVsMNwbCBBd10Z7t4uQnnlGdOiQ+UXQjQ+LcZTpSMaqHP2W70FB8l3I/FZgrijiux/G3fL6tGjWd2E4bdbgnwALc8foIDU0aNX79S+RNpF5aM7pH1W4E239tEmfdBong3XhTlbmPIN8ZMtCF5y0fALAimfBVR0fGH0V5zHptQUrFoeDV9HK7jHnkcjae3SmrOIc7eEQ+g67EhfhqToQEzi2cJ/exkXrGVoyltHjpmIsNRN2L0rE0umWhoOXtIanI+ZAGvldDHZPsds287F+m3rkJIQjWA3HgSzdqCMTVyKujOxmBX6DX4+dgBp/q5IyhFB/NdxLHKxhFPYOmSmxmPJPC84jRMgZPsD9oVF0ppzbJ6VU/nKMjjO/QY7kgMxkSdAym8DRsosQ8vt3YicSPb3T8LGDRux5UQpuqq008T7KpxL8ILnnDTs3LMVKX7u8FmRjf8x197NlksHeRv+GxmKn2o1ewQpaknZJ1vYISx9O9YnJyA2wB18vi92lnKJmMiDebsZQdKA7NQABMdmYOeWFQh2dsWiEzWQ9P6JQ/OdYGm1AKeYFeXEz7Fnpg2mr7gCZpFYczZhOhK16CBlO8uUzUa9Cqa8HUVbwzA7cgMOHdqISDdLuK26qb2frAUFuyMwxUKA2YkZ2LwhE6dKdEavrOjg4evEH/D9sqVY5OsGvpUHki/Wk7Mq69Qe89dtQ0qAG2wFy5A/IMTzcxuIH6QiNXomXCxdsfR8I/HsYdhA1oTf0skxE0KxauNO7MmMgbeFEdGh9Au7efh26zIEu1rDKfk6BozUOeNKuqJjJD7bK5eg4fJKBAUswcbtW7AywAXuC0+yqxmPqN0S5O13sX2eP6IzDuLwhnBMsnAmZRyCuOoskqZ5IGzNDuwjZQp088bKK2/YvJv2QSN5fm+sLszYwpxviB9ig+9K3DTp/JS/Eyo6vmB6riyFAz8RijeDi/D7cs0RqgSv9/qpln6Xd+Yi2UmAqFNv2UBDxhvGl30miPK1p4t1tyV/7UOAlScyy0jisgb8EmKLmAvcYtAD9ahjFk7CIHsOpxU3uHOIUP3TXNhbBuEw23Hr5ll7W9Qn1MubVplVyz6XaeynmQYJmMyKoO5puKNc1LP1NKL4zki9rgh0Jsuli7gUm/1IQOT2VSHKR6rm8tSS19jvq1xG3FweTNvNMHK8y4qF6+wfVR1T469zwZ+cAWbFdOYV62keAszZV4Husm0Inbsfz1VB3JxNdGY6tMomR/f1FEyctA73uLe3i5orUcOMVHXqQLWEu7H1/VUzHdyskbwDv6eSjt41DYXMjIxWeiIIhbrp9OBqnB0EidcM5JOgZQM5unIT4Wq/EKffKrzf0BL8mmj5hUiIfrHpOjc006HEnM/K32UhzimIiFlF3mSNvyKM54GNj8Qja7fybuQvd8OU9CJusUsRWl5Xo2OoBWci7DF5TQG31pUcbcQnBeNTkM82AzM+qJdn03Vh2hZMciZ8Q96K/y6ch8PK9Zgonx1UdHzBiAvXwp0Xiyvsyp360+LdF6Jh67oO99+Trub6cjiplohmMC06dIOoXlDtvoAYnhvWFzFHC3Fn7UTwJ0ZhV16lxiUfEa4l8DU6OBJTWk4gwpKMiHOYnkU3z/pl0EWrzAZFh2YaQuQs5YO/OItdOp9F+hJ7Z1jBM6OE3TRdLh3eF2Ct//d4qPvT+xtYqRlk0Y2sRdaYmH6P5MZcHkzbjVkcrK+zE50d3KezB4NSIalXewgC03CAjHwz0lKQEOAGntUiXGTtK0fv/Qx8bTsZ02cuwvFqTfUyQptolW0Q+csEcCAdvd5DKjp1MGLRQRAXpsHN0h8HKklPplenuohxd60rbGMukxommLSBIt+K5fg5zIgOfRFhus5NiQ5zPtuflwBH/mys3bcLW75LQ2pcICaO42Hx+e6RtdvB61ghsENyno51+q4i0YaH2CyVBxIX3A1fSyJsWJVgzgd182zG/0zawpxvEFGc4I8dz4wqbsrfDBUdXxQydJSeQmbKUsQnpmBlhDdsTYiOvqzFJHCk4957MrI5sQB8h5W4zQQRlo8UHX1ZiCWd8zfKznmgGnk/RMLT2hJuc7ZxCw/pd3Dou4w4Kx7iLjFdhW6e9ctgsszmRAcZNZ2abwXH5Ovq9GQN+DnYCm5r7rCbZsulyfubWDPzu2GIjj5cWswE2SKIzebBlN3IRnc2lrk6wtmB+zjPxU+vmkiaPLilZONNczOaVZ8O9Ct78L77+H6qJaw9v8X9Hva6CccIbaJZNqYsC8h5VxvwGZ06+BDRIXm8Gd5WM7HnhRHRIetA2anNpFOOQ/LyFYjysgbfqOjQtQEPzqm31Pkeqejg0jBW59r7j8RnubbpnIKcBs10mdVI/9+I2q289SQWWjljbYH2L8z3EZb2SLmurktZ/RGEWrpg7R1mXzM+qJtnM3Vh0hZky5zoyE30xdYnVHR8rlDR8QUh785FsoMdIo/Ws8FBfNf0TIdm4Oghf/OtFuJsh7IDGmXRwSF+ex3ppDPw3fWCbOl3cNKq/Zitunyhm2f9MpgssyoYlmqUQTMNIfIS7MCPOq8e4UrKsd2LB7/dL9nNEYkOcTG+n7UGBaoOgMNkkDWXBzMB3yB9uBrHJ6P8S+rZE03kXShcF4S4Y/nYHySA56obUJmdnGVENtEqm+K8NoYeR9apA1XHwo6kDWBAdAhzmRF/LC4bHC3L0Z2bCGfbcBxjbk4h+SwyOdOhaYMe8jcP/Igz6noY8UyH6TrX3H+kPtt3ZSnseTG4bCDhEbXbvmwk2FjpP7YszEWSrWLmRImkfCt8rGZh70vm+ogZH9TLsxn/M2kLM74h78S56GDFbBfls4SKji8IWeMvCLN0QOLlDjaoiO6kwU019ap41NEuPpeEJQU9F6LBd0nDXRI4ZLWHEcrjIXDzA3SyUV6IKzE8OC7LVwUaTdhHAK3jkcclprtNEiedsyvSC0ngkFbiZt5L7jryAG6kuMDPkOggI9U76V6wm7ETz9gvdPOs3M5RlcFkmUnneiGSB5eUfO5aNYNmmmQUeTEG453icZW7HX6oYicC+H7Y90IxkjJZLl1kdTgcGoGTzVohnUkEqQIbJOWqEkFWNA/uaYWk3ObyYNpuhpGhmblPxDYIu0o6VZ22VCRS3ENyNRm+UafAvPdKUnMMCwXuSMpu4fYboU20yiZH69lFcLScju/uvOPuMSDnlZBy6NSBvOs8onlOSM1nJYE+uqJj4BUOz7WHe/I1dLGG5tLLUdaKDI2/hMJGEI9stgMWoXCNi/qSiUkbyFD7Uwj4PD/88ICrL2Z2hyfACiNrvyv9QpUcOcp4nav3Z/xopD4raz6NKDs7hOwoQZc6YYhIwiNqt/IWnI8SwMZ7PQrfqawDyfs2ZMU4wDU+m3sqZAjPd/pB4LcXL9lmYMYH9fJsui5M28KMbxBBvsM/HlcYNSPvwMOj27D/Wp0iXcpnARUdXxKyFlxb5Q17S0d4B0Tju63J8LEQYM7OEnTWZiPZwwJW7rE4W0ma9tBLHF/oAiuLaUjNbSCBYQAvT8TD29oStk7TEJq4FetDBXCakYps3dcoSutxNdEDvK8mIO5MJcS62yQ0vToaCbevLDF9eS7eDN3DencHzIxORVrCfIQs3In7nYqO4VqCDfjTFiB5STTm+7hjgu8qXHytCEbSOu08q7ZdI3GoRBGwTZW5Ry5F7YmFcCPb04KWIDO7Gv06aULaiPyMOfDyCkFsbAQCvAKx9mKVIriaK5cymqoQo3j9TKzI0xzfSVF/JRGe48ZhcswZVJEgPfTyGBY5j4O1ZwryGkgiJvKgWwf6djOCuAE56YFws7KG29Sv4esfgfVnylF/ZyP8+ZbwzniouO9iqBSbPS1gaeuHTQXvyBcjscmgXtkgbcKtzXPhzp7XF3MWrcXP994a2K8GpyKcYS2Ygjmxm5BTrdNFEtGx09cV/pEJSFocjqBJLpgWuQ9/sIJCXacTFx5EKTfKlzXnIc2LDxsHTwRHr8f2JG+SfjB2k46v1pwNBl7gVLwn7Cys4eoZguSt6xBmL4Bv6hU2bS1UfuGGRQdL1LMjBuu8An0SHT8aoc+KiF81XF2HYGcebMd7YtaMAESmn8Vz9rHzEbRbgrTpJn4IdSUCywXes4IRs/YIiltkxAWvY+OcqfAJWYyl4X7wCViDrCrD7VDfBw3k2VhdkPKZbw/GfUPWdByRcw6ghina+wKkOX4FfvipT/SiP8qHQEXHF4cMQ92dELLSXwphVy87ehg2EiG6exVHiIeY5ztGCZJuR0sLOvo0xyTqUXW/sB1t7cIPHLGYKrMc4t5OdA+ZjkqywU60tnRiQD9Ojwhx6WYERZ9G0wdU3GjlQRNFmh3oH3bFjo5NpMIOtHUOmvYfuRi9Hd0wbBoJxO+Zo4ltu9rQ1iNSiExzyIbQ3cnlWar25eEi6euC4hAiMUUf5v3Dq/MP8FnZILqYNqQ4SJsRtVsp+jva0DWou5cMg50taO0YIHuMFMN5Hrn/cRj0DTEqdgYj8pd6rnwy9NRXoLp9ZDamfFqo6KB8xgwgZwkPDkkaN1H+05F34uaaQMT++oq7nPRP419oE8q/ADm6H/yAecHb8Vjv0SjK5wQVHZTPFnFNFtLDAhA0fzVOPuke3kj2n4CoGtlbDuCu4m1a/yj+tTah/LORNSFnx24UNI/iNCDlk0BFB4VCoVAolDGBig4KhUKhUChjAhUdFAqFQqFQxgQqOigUCoVCoYwJVHSMEHFXDR7m3YeBR9yZH1H74BqKVT8Ooel5BZq4u6lNHvsvhlkK/dW9PNx63vu33Xg4+PYRck4cxuFfsvFUa5n1vwk9X/k0jKbP/e3+a6Z9jVadSrrr8efNqyjWf9GKEcTornmA3+7VfcCjpBTKl8Xoig5pPXK+icK8kFCEh0cgMjwc0QnrcDC/Rn+Bp38i0lpkxU0CT7lkuxZS1F5ciinjbNSv7+27gnhrnuK1wiaPHSNU9lmA73OVb5gkyDtRsi8BYXOWYMedVu7L0UKO9vuZCLax0npl9Vgifn4A83wScPy3E1g5azq+udHD/fJ3YcBXPgWj6XN/u/+aaV+jVqciVJ2OxeRxxl9xrou09iISJlrATuM14BR9ZPXnsTo0DJtu0KeevmRGfaZDdH0ZHK3CcZp5BZx8EPVZSZhsMQFrb7MLfHx6RI+wZ/lPeD7sl82IULIrBYcrhncA+7pirTUVNGBf36u5ZoAYHXX16ORil8ljxwjWPjxr2LkmIKdV3fSlr/cjyDMDxtbX+igkT7HNi/c3iQ4J/tw8DfZLsj+v92Lo+cqnYTR97m/3XzPta9TqVHgFS00tW/9oF1IPVWi8FE3xGnDNtUcoBujLRrztBHx3/1MEGco/hVEXHezCRUrRwX5Rgo0elpjy/SPFNgkUXdWlKLxZgLK6Xu1O6H0nakqLUFRSha73YvS21OBFbSf3Izmyowqld27jblk9egz2XkOoPhYFN/flOF/2FOXlNehQBaR2VD66gzvFFXjTrXb6oarjiB4/ASvOlqH86TPUKg8Qk7yU3MHtgjLUq9daN7CQkwZ6CxUxp61CHTedr3WsvAv15SSPT8vxqkm5hoAYnVUlKLxViMd1PVp1Ixc2oaK4ALcKilH+1sh6FMOAyYN7+DdY78PDpORreMeZSVZ3CHN9MqFcnFEmbEb1mx71iETSgzfVzaqOWz7Uhur6TkgHWvHXo0LcL29mZ7Pkg22oLClEQfFrqF4EqFonowFDnTV4fO8hXjQLdUY7xsoux1BbFRo6pehvfIo/njSxr//Ww4h95V1VOB4jgG34jygtr0Sr3pSbHIOtVXjTJUFfYwUe3itT+4AK43Yxdl4G5rJSdUMXJH2NqHhwH49rOklKHAZ8xeR5WMRor37G+sxfzUpLkO9qnmltv6si+5S/QGOfXO1zQ4No+6sE9x+8RJuu75oogybDSUvcWU3a6C3cKa2HstkMtVaSPBNf/6uF8x85uuuYcjDtjXM40t6qSXsrKCTtzXDjNtu+tH9XnoOc92WT4neC8RgiIfuX4e7tIpRXnjEuOoaqcCLSGZOXncNjkvazmg5S4+oFz4aI/78uuYeHL1v1BIj5+MUhH0DL8wcoIDHy0at3GumI0P76EQpJDKho6CZnVTOi9shABoRtVQ3olvSh8dkDFJfVoJN5/bwK43Fa+1xF+OOFsqxDaKssV/gniWls+5Z3K+IcaXttfcyr6yNwqoVr+XIhmp4V4w45xx/lbyHUDggc5tunIZ9TQNpTdRnu3S1BNVGm4t4W1D6vBbvCAvvzMHyOMup8etEheYwfPC0xNaOEbAjx/NwGrFqeitTomXCxdMXS842sQ8vbbuB73+mI2nQEP2+OgAdvIuYlJCJhbzGTCBour0RQwBJs3L4FKwNc4L7wJGp1LqDKmguwN3wSrO39sSxjIzZnnkRpLwm8VWeRNM0DYWt2YN/WZQh088bKK28glbWgYHcEplgIMDsxA5s3ZOJUSS/JZgUuZJA8pqYgdoYTbFyW4GKjwim1hIMuWkFPitqzsZhsoZ7u1TqWWfwr0AqO/t8hr5aEB0kDslMDEBybgZ1bViDY2RWLTtSQVEhKdWcQ5zMX3x4+joOrAjAhIYdN70Ng8uAek4XWhxvxtdVErPq9kw0OmqJD+Oc+zBVYqpailnfcxcaZNrAOOMjWubTmLOLcLeE47zvs/SYFydGBmMTjwzd1D/asJ/WWuAh+TpZwCj2CSqZPYUUHD18n/oDvly3FIl838K08kHyxni2f8bKTOjzD1KE95q/bhpQAN9gKliFfZ8rCqH2Z3yrIb9N5sJ62GBs2/4Q7zZrBRYzXxyLhTuwfnr4Zq+NjsGCaADxBEHY+4KaATdjF5Hn/Oo5FLqQOwtYhMzUeS+Z5wWmcACHbH4B9J5huB2riPGrEqPk5DA7jJiC9gJs5HCzAWtdxsIs8xwlIEcq3+sDGYx3u9nCiwyoY3+z5FqkJ0Qh248Fh1g6UccrNVBl0MZdWf8V5bCJtZtXyaPg6WsE99jyYZiN6dRCh1hbw+raYW/BLjtbTC+HgEI2zb6SQ1F/Bav9ALM3YgW0rAuHmEolT7OIZOphpX9q/y1B3aDZs7APwfW4t2TYRQ2RN+C2dxKMJoVi1cSf2ZMbA28KQ6JCh5fZuRE4kvu+fhI0bNmLLiVL0yhWigx+Ujn3rU5DEtgc7+G8v4wTy8OIXg7z9LrbP80d0xkEc3hCOSRbOJB8klfdVOJfgBc85adi5ZytS/NzhsyIb/yNpjLg9vn+NEwtdYS2Yj/WbViIpJgzTBRZwmr0DD1nnNB6nledyCF2HHenLuLLacmUV4a+DIbD/ipnZ5tYXkrfgdDgffP/dqBgS4c3jcrSxCdXhbMzXCFt3BCf2r0aQawJyOTOqMd8+jfkcs7LtzfV+mBGxGT8fzkTkBB485iQgOW4f/iBmHbbPUUadTyw65Ogp/h5f8zyx4YHuELMHV+PsIEi8RlxViur9AbAN+FHREKU1OBRgi4jjzQpB8i4LcU5B+IlrpbLGXxHG88DGR7pBQY62U+Gw9diIMuVPRFicibDH5DUFqoDXRgKeYHwK8km7UC2TbOy6Qk82EmxtkWxIOOii25GI8rWme9XHytD6G2lo83ajlHQMTJ7eZcXCdTZXflLqxl/ngj85AyViGd4cCYFAuRomGSvW17Wwf30ITB4Y0dEn78Mf33uDP2kNbnfJtWc6SKA4MY+nEh1MgP9rjy+xj0J0MB3b78s1p5MleL3XD3xP9UzJ0IPv4GkViB+ryQG6K4LKO/B76gRYu6ahcNBU2cmmVh2KIBTq2MmMfZnApbvsthaDxL48AVbe4NIVVeFIKB82sw+hVmYib0PmzjvILiGuXgJehOqf5sLeMgiHa0ktaPmKmTrQpO8aljvYYUmWQiyKir6Bj68/fARLcEWxvCrurp2MsCOKxd50/VXy1z4EWHlhK2Mos3Wnjcm0dOi5shQO/ET8xu7bg2uJjnCKv8r5MONPfpj+/UOI5O9wKWY8Qn6sVQgdWSOOhfLIIOURV28amGlfmr/LWq4jzT8Me0sUs3XGY4gIXbmJcLVfiNNvFb+ZXLZetUy7sm0w6PoY1x6m/YCnpGqGHb/k3chf7oYp6UXcjJAILa+r0UFiQAuxi6N7Gu5wk5zy1tOI4jsj9TpjqBG2R8Jg9lIi4FfgJje7Iao6jDAbK4QcqlW0URWacZrByLmmbsZj5lw9eVjmYIvos+/YemcHV0EuSM7Vvo9K1vAz5vKVK1yTqFZXh1btEysw2T4VXynR9Dlp1QEE8QK5OicC9WAgBPNPgB1zjMTnKKPOJxIdC3Aw/7/4YUUMIhemYN+NBs5BNRGT4OgK25jLRFdLUL7FG7ahvypUqqwZx+fZIGBvJesU/XkJcOTPxtp9u7DluzSkxgVi4jgeFp/nPFaFAdHRdxWJNjzEZqmjqPTlbvhakkZPIrpZ0fG+EOtcrBF3SdHadQOvFrpBUWdbeez5op0ID9uGR6rXYAtxLcEegsA0HNiViYy0FCSQUT3PahEukiIKC9bCgzcJ0TuuoVJ7/nDEMHlgRQf5W957D99PJeIi/Q66ajVFh25glaKGFYVK0aHfkXdfiIat6zrc54IYI2KCedOxo5wkqCs6COLCNLhZ+uNAJemQTJRdr051MWNfQ3nVQpSHJBuNoEZ8qPX4Atgwy5IPmrDLW3Pn1VkCniBvOYEISzIyzyECXKtcpu2vTQ/yEhzgvOw6EQpilGTMQPzZu6R+x2NZHrGquAyZ3qH4uV5R03r+2n0BMTx3rC8iuTJbd9qYTEsHceFauPNicYWbkBHmp8BNkIAcpjzSF9jjOws7nxHfEJL6t7NF8Jr92JP5HdJTliLY1QL8qPOcQNHATPtSbZ+9h11h87HjofqGReMxpBn5ywTqJe4ZPlp0cO3BjbQHstOw49fgdawQ2JEBju4ATYicpXzwF2dBZSnpS+ydYQVPdgZ5hO2RICJ5stcQHcxA4+R8K9jF5+jc9K8ZpxXbps8lxK1UVzhEKWbe5C0nEem+DNd1b+nrK8C6CTxMidyJ317rXGbXxGT75L7i0PQ5ydMt8OHNxTFFh4Lmo2Gw892HSiZ+jcTnKKPOp7+8oomsA2WnNpNGF4fk5SsQ5WUNPufMovK9CHbyw/fZj1CS8z2C3MLwKzsXSITEiQXgO6cgp6EZzc3KD7Oaoq6r6osOeetJEujtkXJd2URINuqPINTSBWvvGBYdso4ynN5EAv+SRKSuWEiclzeKoiMW2zbNhP3UdNxRXlyUt+LUfB7cUrLxRlU+5tOBfraIA6jJ/QGLPGxg7TwHO+62s4d9CEwelKKDqa+ewnWYxpuGb/+7A6EfITr6shaTwJOOe8og10DqmOeN7UZEh+TxZnhbzcSeiibTZdetUx3M2ddQXrXQC2okJl2KBd+KBK8e43bpazZ3Xn3Rgb7LiLPifEmzXGbtr4kc3dnxcHInQV74GD/MisGFdjEeb5yGCak30ftiN4Lm/IQ67jg9f+3LQizPDd8QoWC+7rQxlRY5Eh2lp5BJAnh8YgpWRpBBhIbogPA20lwdiODqgbhiJwJDFLM6bB6sXJCa3aBR7ma0dAj1OyIz7Uu5HbdlM3xtPPFNgWI2iKkzozGkt5mte+fUW2o7jYLoULeH4ccvpi4WWjljbYHOeVn/sIJjssYie7IG/BxsBbc1d8jGCNsjQU90kCh8JYaniMcm4vRwzjV4Nx2T7RbhwjsZui8twdSU69yx2gxU52LrQg/YWbhg3ta7aDfQZZhsn30mfE5Ujn0B4xHwbTZKHuVgg787FvxcSYa3I/Q5yqgzhqKDBMvcRDjbhuNYHeOuYhRpKWgZWnPXISl9H46czMHjZrWT9V1ZCnteDC6rB2RGUIsOlYYQ5iLJVntUISnfCh+rWdj7UqoWHcqRnbwbeYmOcAg/inomm+/vjvpMx7WuP7Fjlg0mJ+Uqrm8SCXA1jk/q4pJ6JGOI92+Rn0Ya1te7uC9GDpMHteggyLtQkOYBvusETPTSFh3MKEpRK6MvOoS5zOgvFpe7zZRdt051MWNfQ3nVQi+oSVG9z5+bLjaRN7Pn1Rcd0qr9mG3licwyUida5Rqm/TnknZcQJ/DCphOZCFp0BkxTE99fjynuaTi9bx7mHqxmZwgZ9PxVUyiYLYM2ptKSd+ci2cEOkUfr2XoW39We6WAuN91dOwHOCZdxf6s/ok40KXyhLxsJNtZYcmkYJTfTvtTbXXiyzRd27snI4+bsjceQHlxaTDrbiDPoUIasYYmOUpVdDfmYZnsYdvxi68KKewRYEyHyEuy0R+KScmz34sFv90uyMQqiQ1qFA/48eG8qwTuTcdr8uSB6gIzJ9og514Dry72x6ndDkkOJGG+vp5GB3QzseaHvc6baZ+k70z4na8nF+oR07P/pJHLLWsiZOEbic5RRZ9RFB/tYndUCnFTeoaxChsZfQmEjiEc227pFKFzjop7WlNXip2BPpJ4tUdxxXv4cte0Kt5Y1n0aUnR1CdpSgS9lrSUUQKdqPBkTYnIsC3zEFKj8nQSIrxgGu8dmckh7C851+EPjtxUtyvLzrPKJ5TkjN5w6QNeLoHCuMX3pFEYREd7DWmYeYC4rmzpbPOh55hh6hYB/Zs0FSLvejzrbmsUPluzHbZjxiTtcT9S1DM3PN1jYIu0o6VR2zVCQiv0lReSMPr7ibJwd+T4HbzA8XHUwe3BdfIKFWjbzzJtImjgNvmvIacC/pBG1hP/8Y3rDbYrza7Qv+jF1Q9EWKRwTt4nNVT5L0XIgG3yUNd5VBru4nhPC46/26omPgFQ7PtYd78jV0yU2VnaCswxxDFU4wY191XnNUedVCJ6jJOgqwfpoNfHc+I6U2kbdhnFdLdJDR4510L9jN2IlnzBdavmGmDnSRdyArWoDJk6Yh6mSLooMaKsBatwmY4hGEA+wcsgI9f+25QISCK9ILSSbMlkEbU2nJGn9BmKUDEi93sPkR3UmDG099zZ5BxAgjgR+C/eNxSdnDy5rZ+0ocZu9Eaaeq5BDpN26dOjOzPVSOvf58uC46jXqSlPEYIkPtTyHg8/zwwwOu7pkZKZ4AK/KV3aoGRKRfiOTBJSWfuw+GwXR7GHb8krfgfJQANt7rUfhOaUMpJBIymLoYg/FO8bjKTQcMVexEAN8P+14wiYywPRK0RYcMHQXrMN16JnaXD5mO08M4FxMv/sz0guPCVCTPXIWbBjSH9PUNXHupCmpIdZ41LNGh2T6HTPocseuPIfBefg6lbH9Sjhc17ST3zE8mfI60rYdHt2H/tTrDbY/y0Yyu6JDW42qiB3j/ccDczALFTTsayJrzkObFh42DJ4Kj12N7kjesBcHYzdzsJarCL4u94DN9OmaQj4/HePCtvJH5kLlwJ0bD1XUIJp2/7XhPzJoRgMj0s3jexwUuDaQ1JxE13hJOHsFYujEbNcTLpI3XsXHOVPiELMbScD/4BKxBVhXXZKQ1OBXhTPIxBXNiNyGnegAteavhQ0YczlMDEfvNViz3IukFMQ5aqyjfVxMQd6ZS0ZmokKL+SiI8x43D5JgzqHqvsz3A1Y3qWBGe7w2EvbUP1l1vJkVsQE56INysrOE29Wv4+kdg/ZkK9MnFuJ8+AeN9orFqVQLCZ0did5H6MeIRwdnH2iUKx18qQwaDHB35qZiinOkg2z3F2xHsYMnWd0D4GmxbNhMCl7nYTs4tqctGsocFrNxjcbaS1MLQSxxf6AIri2lIzW2ATN6Dx3vmwOk/1vD7vhBt75lH5VzhH5mApMXhCJrkgmmR+/CHsuMxWnZ1HU5ceBClyv11MGVfqTKvrpE4VKIITlowQc2ah+nzExG/aB5murkiYOV5VCqrx2jeTJ+XCc7XEmzAn7YAyUuiMd/HHRN8V+Hia+Z3XV8hX5k4jz5yvDsbRUbPYTjepGxkQuQvd4K17168VvVXuj43hFdHI+H2lSWmL88F88JN02XQwFxakhZcW+UNe0tHeAdE47utyfCxEGDOzhKw90ozvH/EPj7vuvy6eqaNIK6/ivUBpGPjOcPbZyaCwtfhXEWfjq3MtC+9bWKBin0ItrHBzLXXyfEmYsjAC5yK94SdhTVcPUOQvHUdwuwF8E29oji1FlLUnlgIN1K2aUFLkJldjX5z7cHUuXWQNt3ED6GupC5c4D0rGDFrj6C4hTUU8jPmwMsrBLGxEQjwCsTai1Vsx6/y8eG2R3JaRnTYWXkhIjEOMXN9MMnVD2vOV7LpmYrTZts+WwpmnLETs3hWmLzqtuoxe03EReswWeCD2NTVSAoLwqKd98gAhPtRE1PtU2bK50SoPrIY070U/ckMLw+48njw2fiQvWfFqM+9L0Ca41fgh59i64ky+oz6TIdZZEPo7mRuHSVIhejuJY4rrcaxcF98W6QhiWUN+CXEFpH/beO+IMgG0dXCXAs1rUHl4l50dg/pBC0ZBjtb0NoxQMKGDqRj7+3oxpDGAbKhbnT1Kc4j7etCr0rFf1pkg51obelAv1YRJejvYPLO1dsnQQaJWKpVZ3JxHzq7BthAIh0aIqHzQ5FA/J5JRYahrja09Yj0O3+C4bIPFxP2NYVqJCVEf3sr2jmb62I8b8bOq57p6Be2o619eLb7uDr4UD6w7vQg9u3uhKJ5SiHs6h2Bzyjz8Cl9nGAihkiYds5mmEgqkbL7NIQc4t5OdGsGjOEwzPjF1F1/Rxu6BvXzoPCPTgx8nKFY0cHOdAiFaG9t52ymgaE4PRKYG5o9PbC+yICA5ZAIO1hfN1kdZtunIZ+TouZoOPzXFWnMRnFPAYb/V0NMGPI5GXrqK1Ct9VITymgy9qLDEKLbWOPkiMgjLxQvd5H2ojZ/M+Z+nYrrVG5SPiUD2Yjn2WG54tnOUWQAOUt4cEjSuPmPQvlMGMiOA982GYauIH04A6g4twX7f6tD293vEBByAK9NCYrh8EHtU4SClePhHP4zXio6FPTW5CMzZAZWXWszOOChjB2fh+gg6vJdyUlsTopC+LxwRMck4ptdF/G0/SPlPIViEjFqs9IQ7h+AiFUn8FT1CPPHI67JQnpYAILmr8bJJ3StCcpnhLgGl9LmI8h/AdKOP1G8rG5UEKL0wFKEBc1FLHNZqPVj4/eHt0/ZuxKc2pCM6LAwREbGIjl9F7KetBP5Qfm7+UxEB4VCoVAolH87VHRQKBQKhUIZE6jooFAoFAqFMiZQ0UH5DBnE20fZOPXTIRy98gTKRUT/jYibyvC4YTh3yg+h6XkFmnTfkG0EcVcNHubdR91oXsQWd6H2wTUUj2qiFJahJryoaNJ5BbkSZgXcx7h1tRj/++i2MICqkvJ/dZuifN6MougQo2RPBOaGzEPkosVYFBaCufMiEBsdiYg5IViw6bbWs/mUseafYh8xXhyYg5kJx5B/fAX8p6fjpvZaUf8aJHXnkRSwGMcqFI+KM+9b+C5yDrFLAnbe5t7YqaTvCuKteQbeVmkAaS2y4iaBZ23kzbnGkNYj55sozAsJRXh4BCLDwxGdsA4H82tIZyhF7cWlmDLOxvjbYccMOfpeXMIPCfMREhiEIN8AhMXsxj3VC0E+H2T1F7F2PmlrC9KQpSnW5F0o3h2LeXNisPd+N/oux8HOagH+22qgDKJKnImZAJ7TahR87KP78k78sW0+gtNvcqsSUyhjyyiKDhFupIdjJ7uqowi/M4sohZ9m3+o5+NcviE3RWFCJ8jfwD7GP5DF+8OQjPtvQK4U+HaJHu5B6qGLU3hFhNj1ZI84uDsD3Rb0aIkKE/GR72CgXPtRCjI66enQO8/UB7NtDjb2u3wSi68vgqFzGQD6I+qwkTLZglionkpR946eJV9KbQ/QIe5b/hOcfWcnynt+xyt0NiecaFC/H6ijBgcgk/Jd7C/LIbClCya4UHK4YLcvrIkTBajdYu3+DYi3BIEPT0XmwDzgIdkV1cQfq6zqJlQ3Tf3kJ+KMhOhjkLbiSEIBvCuhrwCljz6heXhGLxFwA1e7UGMT/9394Xc68jvYVmoSKL+Xd9XjGvKK2UvECMPlgK6obuiDpa0TFg/t4XKPfCMUdVSi9cxt3y+rRQ6cIR8TH2UeOwdYqvOmSoK+xAg/vlaG2Q8866KwqQeGtQjyu69Eeqesgaq9EyZ0C/PGsAd2qZOTorjqGJQJrRP5YivLXLYanm+UDaHn+AAU3C/Do1TtSGg5ROyof3cGd4gq8USfKIh9qQ3V9J6QDrfjrURH+eNGqPm6oCicinTF52Tk8JuV9VtOh8jtj/vah6SmRVu4no99fdabLFetaGHsboqi9CnXKeXH5ENqqGtAlHUDbq0e4V/wCbRpaQGudFDKqrmds+7Qcr5oMvJNaA/Y4zbWTxCXsW0SnfP9IY22TIQy2vUZp0QO8atU4KYdh2w6h+lgU3NyX43wZ42c1ULqP4f2NIy7dBC9eKI6+1ag8iRhiJstG616MrupSFBKfKatTr2o6VHUc0eMnYMXZMlI/zziflqG/uQr/05g5kfQ0oKZZKYTl6G+qwB8FN4mvleOt4dfGqhAVf4cpFlO1V7KWNePkAgdEHFfOaInQXlWnfdlD0o26skIUFD1F1ZklsNUVHeJOVJfcQUFhGep1gqG5OhU/2YLgJRcNL7JGoXxCPtE9HfqdGkSvcCiEDyv3NCgFtrzlv4i04WH27gqI/zqORS6WcApbh8zUeCyZ5wWncQKEbH/APUcuQcPllQgKWIKN27dgZYAL3Bee5BYgo4yMkdrnMV4fi4S7hQDh6ZuxOj4GC6YJwBMEYecD7h0UkgZkpwYgODYDO7esQLCzKxadqDHwXLwY1WcSMN0jFGu378X2ZD9M8lqBq2/Y4R6en4nHDCtLTF/8PX44VADmDdCayNvvYvs8f0RnHMThDeGYZOGMtNtDEFedRdI0D4St2YF9W5ch0M0bK6+8Yc8vrTmLOHdLOISuw470ZUiKDsQkni38t5eRrlCGltu7ETnREo7+Sdi4YSO2nChFr9y4v31Yeor8K5Cj7WQUwn6sVXV+CoyJDilqz8ZisgV3aUNag3MxE2BtOxfrt61DSkI0gt14EMzagTLuBZBaokNWh8OBViQ/3yGv1vRNIXqig515ssRUZgl1VnTwMCd9D75fnoDYAHfwbX2xs1T51knjtpU1F2Bv+CRY2/tjWcZGbM48idJekQlfMI6s8TgirK3h9+0taKwLSTBW90I8P7cBq5anIjV6JlwsXbH0fCNkshYU7I4ggkCA2YkZ2LwhE6dKmvFkbwicLJQrT8vRcTcDftaWCD7I+LMUdWdiMSv0G/x87ADS/F2RlKMvvLQQl2IzEW7em9Qr08oajyF8fAyymF6f2PM8Y0+Ny2GypmtYP8MJHnNSkblzF7bEeMJaQ3RI6q9gtX8glmbswLYVgXBzicQpxZTJ8OpU/BAbfFfipvEXhlIon4SxEx2EnrwkOPOjcJ67mMgsQjTHORF57DX7QeTEWWusykkC0k9zYW8ZhMO1MsjfZSHOKQg/cSpD1vgrwnge2PjIgIynmOED7DOYjQSexmqPoiocCeXDZvYh1MrkeJcVC9fZiuXKyZFo/HUu+JMzoFy8V4li8asJWFvAjbjlrTgTYQu35dcVK6zqrhyqibwb+cvdMCW9iFvPQYSW19XoGGphF3CavKaAe+0x6dRPL4RgfAry2URJeZdrrowpweu9ftxKsmRTtXKoulMw7W8jT08bMUo3+GH1Dd0ympjpEOVrXdoQ5WtfPpH8tQ8ByhVsCWrRIUPrb6sRNG83Sodxz4O26GDW4PkeX/M8seEBESu6tpG8xn5fHqb/8IS9lGHatuoVoMu4SjHrC0YZxF+nkzDdZhwcfZJxuKhZXc9m674HV+PsIEi8xtpOtcq0xiyEvPk4Fmh+J32FfbOsFaKDW55BuQAkBupRp6uM9ZDgSaYXbFQLKsrwv1/mYVLSNdXCi1r2lHciL3E8HCNO4S2nFYauLlXPdMjf4VLMeIQQ0apobo04FsojwvARhoZbp+T7/y6ch8N15vJOoYwuYyo6ILyJ1S52WHz2HQlBcrSeDMfk5N+4Gxj1lwKXt5xAhCUZ3eUMoj+PWQp9NtbuI6r/uzSkxgVi4jjtZbkpw+UD7KOz2iOxDlqPL4CNdTxyB4XEdvYQBKbhwK5MZKSlICHADTyrRbioYx7h1XjYWy2GelVpKV7tngkbjwywMd6U6Bi8jhUCOyTn6YzW+64i0YaH2Cx1WJW+3A1fSyISWNWjvxx394Vo2Lquw302iOt3VKb9beTpaSNGwRp/0pHr/mpCdOjUi9ZMBkP3BcTw3LCeWbKeoPz9fNFOhIdtw6Nhvs1RIToW4GD+f/HDihhELkzBvhsNinLq2aYbWYusMSn9HltO07bVFx1mfcEMA3W/Y0+MJ+y+ckDo9mLFgmHDqPu7Gku1GxQdut9Jq3HQnxMd5Kg7ayeCPzEKu/IqFcs2DANJ+TbMsPLGtqdEdRDh8vMcD6QXqO9b0rIn6+fqla0ZtESHkLRFO1sEr9mPPZnfIT1lKYJdLdil798Ou07JIC/BHzueKUQqhTJWjK3oII5elD4BjqRxvJN14XKsB1Kvc4qcHKMrOtglpq14iCMtqO3EAvCdU5DT0IzmZuWHWTyJKvWR8wH20RMdJPZdigXfKhZXelpxaj4PbinZeKOyDfPpQL+WeUjHQ+xoY7dMY80HGRoOh8DGOQ2FTEA1ITrkrSex0MqZjOK0oif7fYSlPVKuq4+R1R9BqKUL1t5h9tUXCX1Zi4lISMc9gyJBkU/j/jbS9HQR49bKWcgYTdHRl4VYIjq+0RIdsdi2aSbsp6bjTudIRIfG5RVN9GzTh0uLrTExvYjk3JxtdUXHMHxhWAyg8ng03CymYcufpAM1VPeyDpSd2kyEYxySl69AlJc1+B8sOggD1cj7IRKe1pZwm7MNRcO5MUL6Antm8OCztRyiukOY65WBEo0yatqT9WcrR6y+qc6TpuhQ/O6C1OwGDd9sRktHL5qHXaeDyE30VS11T6GMFWMsOsgvD77DVLtoXKj/Daleqbihek5TX3RIq/ZjNjdl3HdlKex5MbisHsxSPpgPsI+e6JCiep8/d0mhD1fj+GT0eMnMtDjQn5sAB60ZEAnKt3qDP3M3XjER3YToQF82Emys9B8bFeYiyVZ71ktSvhU+VrOw9yWT6HBFQqnK90z728jT00aM4vW+WHtL99fRFh3k964/sWOWDSYn5aJtGPr8w0WHOduqRYeyLzfrC8NlkNjf2hqJVwcN1L0c3bmJcLYNx7E6Jt9iFBma6dC4Dqj4zgOblN/pig4O8dvrSCcCxnfXC+4bU0hRuc8P/OlbcHVvMAK2az9do2XPHsaWPESd6VD5udZMB9sOrLFEPZ2hYth1Ku/EuehgHKgcSUVTKB/PJxMd+Ul2bKemNwgQP8aWaQIsSk2E38obGksP64gOMjq5k+4Fuxk78Yx8obj+a4eQHSXoUgZPqQgiKtQ/gA+wj47okHUUYP00G/jufEbsJUPz6YVwtA3CrpJOsqVAKhJpBVYGedtFLBGMR9KVdkVAHarAbl9bBO55odiXfSyTuaRm4A43eQvORwlg470ehe+UwVIKyfs2ZMU4wDU+myvPEJ7v9IPAby9eKhLFzRQB7OJz2UcsGXouRIPvkoa7rEjowoVIHlxS8lXlNe1vI09PGxnqDs1F5PEWbfHEpaspOvqfH8fqrbcxqKyXXMUZ2UdireORp84A6ahckV6osI/m70PluzHbZjxiTteTOiad8J8XcORsqZ7gZGCPs1qAk9zjp1ro5IG5PyIrmgf3tEK2zZq2LTnvuSjwHVPwOzd5ZnZ/I/nszt6I9XlNKt/qe/A9fGxm46cq4hN6dS9D4y+hsBHEI5tNSITCNS7gL1I8Ii7vOo9onhNS85UzroRe0qnz+Yg42qA4h/gl9s7iseJCKq3EzbyX3D1FA7iR4gI/RnSQ8z65cBjnS9RCQRdpzUEEW42Hu1sQDlVrd/Za9pTV4kgwD3y/TDzkHmdhZxXtl+N3RpTImtl7mBxm70Rpp8o5ISLOabZ9KZGUY4d/PK4wukXegYdHt2H/tTrtfSiUT8AnEB0kWDz+GTHu42DpOA87i1pVnZACCZ7v+Bp8ywlIu6W+pskEg2sJNuBPW4DkJdGY7+OOCb6rcPG1MsCJ0XB1HYKdebAd74lZMwIQmX4Wz808rkbR5QPtw4gOax6mz09E/KJ5mOnmioCV51GpMk8DctID4WZlDbepX8PXPwLrz1RA3zxSNF7PwLwp3pi7eAkifb0RvPoiqtl0pKi/kgjPceMwceFBlBroFaVNN/FDqCv4PBd4zwpGDLOaZYsM0sbr2DhnKnxCFmNpuB98AtYgq0qROealW8keFrByj8XZStI9Dr3E8YUusLKYhtTcBlJ+KWpPLISbhQDTgpYgM7uaeKNxf/uw9LQR3/8Wvsuuac0MKdO1FEzDnNC5CAueiUmkziNPNqKWq5fJMWdQNVCPq4ke4H01AXFnKklOh/DqaCTcvrLE9OW5eCPW/V2E53sDYW/tg3XXG1C2yRPWlgvwX93ZDCl33H8cMDezAM1ajqG2DZsHIq6GXh7DIudxsPZMQV4Ds7Mp25Jfa04iarwlnDyCsXRjNmpEpvYXG81nz9VEjLd0xMzwJYgLD8B073BsulrD1bF+3Q805yHNiw8bB08ER6/H9iRvWAuCsZt5Z420BqcinMn2FMyJ3YScapKKvAd/bJsNZwvGl/0QuXoLVsywhXvoVtxvvov17g6YGZ2KNOblZAt34j5z6UpchsyplrBZcFJ/lkqJrJ6ICSvYhh3Tfg+Lst5V9iJy5sVJJE21gTVvPKYHJ2J7+lw4CmZi1eV69hBx/VWsDyDiiecMb5+ZCApfh3MVfaR1m7aBElnTcUTOOaB4R8j7AqQ5fmV4ho1CGWU+0UyHaZjn7KdPXof7Wg1BPdPRL2xHW7vQsOqWDaKrhbm2TjX5p8KgfVQzHUL0t7eivc9w/csGO9Ha0oF+c+bh7Ng58CHTu1L0d7Sha1BbLpFEMdjZgtaOAbLHSJFD3NuJ7iGdqPvB/mYkPSXvSSflH40zTbpl+PRIX+5BgMc3Ou1vFDFhW7m4F53dQ6R2NDCyv6l8ysVCdLU2o4XECcXcjiYG6l42hO5OLqZIheju1ThKLkZvRze0TUXS6CNpDCjE1NCQxv4SIToYn9BqA1K82uMHz3X3VLNfH48Ewq5eRfneD0Gk5ypKfzcQK022LzEqdgYj8pd6bsAhQ099Barb9WuSQhltxk50DFTgwpZ9yK9rRdG3fph74LVOQxlAzhIeHJKu640KKWOAOfsMZCOeZ4flv1HrjA5ydN5IIyPvX/GX5oTfGCD+8zSO3OWm3z9j/in5VCDGk9OHh3dT6d+KHN0PfsC84O14bPqVLRTKJ2HsREdfCX6MC8Wc0MVYd7gYbToCXFyThfSwAATNX42TT7gXTlHGDpP2EaM2Kw3h/gGIWHUCT4f5+CXFHCLUXN6CHwupv1PGCFkTcnbsRkGzoRkQCuXT87dcXqFQKBQKhfLlQUUHhUKhUCiUMYGKDgqFQqFQKGMCFR0UCoVCoVDGBCo6KGOMGN01D/DbvboPeKxVgbirBg/z7qOO3gv3aZEPou3lfVy7+VxnlVwlurYcQtPzCjSZeSpi9OwnQXfdY9y6Woz/mXnyWNxUhscN9JFQTeSDrXh1Lw+3njPL8VGGC40/HwcVHV8S0nrkfBOFeSEhCEs6CeYFjtoIUbxjIft75Mr/4tUneKROWnsRCRMtYKfxCvERIa1FVtwk8DSWAad8GuTtxdgSwIdNyM8GO3U9W/ZdQbw1T/819ZqMpv1ElTgTMwE8jSXfDSGpO4+kgMU4VsG++Bxdj/YjKTQE86I34fe/4T0po46qXYdi/vwFiJg/H2FzQjA3fDeML8ItR/v9TATbWGHukTfc+zr+KUhRn70e0UwZQ5NxysCr3Pvv7UQUWwercPrlKAYyGn8+Gio6vjBE15dhvMc0eFpNx45ynVcK9eQhxccb0+14iD7bOSqjH9GjXUg9pLnOhOJV35rrlphE9Ah7lv+E5xpZZV8ZrbnuyGeGfpn/qUhQvsUbfCOiQ9+WYnTU1aPTzITCaNqv//IS8E2JDlkjzi4OwPdFGqN5aSUO+Flh8rr7JMf/Dph27aixZo60oxjb5q9VvDbdGJKn2ObF+weKDoLoOlIEHpjuwcPXW8t12loPriV/DR9Pe/AjzylWHx5FPvf487lDRccXBrOw1ISYbdgykwevjZqroMrReSkeAd9sR4oDD7EXNV/QLUL760coLChGRUO3VqCWD7Whur4T0oFW/PWoCH+8aFWLiaEqnIh0xuRl5/D46VM8q+kgx6oXSxsabMPrknt4+FLjGC2GUH0sCm7uy3G+7CnKy2vQQU6uWhxraBBtf5Xg/oOXaNNNQNyJ6pI7KCgsQ32PsZAqx2BrFd50SdDXWIGH98pQy5xAC+Nlh1yIpmfFuHOzAH+Uv4WQCW4Gy6xEjPbqZyh/Wo6/mpVvBCPf1TzT2n5XRfYpf4FG7h3y4s5qlN65hTul9TpLqcvR31SBPwpu4k5xOd4aXBLATBllQjRXvUGP6lAJehqqociOBBXbfGBLRMeboU7Ult3Ho+fN6Fftq7/wnai9CnXceiEMcmETKooLcIvUX/lbxfomH20/STfqygpRUPQUVWeWqBdCM4C0cj/mLvhVWzTJ6nB4Ng9Tv3+ktg05Xw053+0Ccj6tSpZjqK0KDZ1SDLS+QklRMV62amZWhv7mKvxPXYGQ9DSgRmVPE/aTD6GtqgFdUiEanxbjaU09qsoZP3+FJtaZyC7d9XhG/Ki8so3dNoahhfrk75nWpkDcUUXycBt3y+qhqk5JBXb4WBPR0YChzho8vvcQL5qFpMRK1GXvb3yKP540sW9blQmbUf2mR72fpAdvqpu59WgYxOiqLkUhaRdldb0agkY3vRo0VJYr2kMTd155N+rZOqjU9wlNmMUHXWOwI3MW+FM2cSsXK5B3XEaS73rsSHYEP/qixlIDxvJFjlHGMWEjyoufoEn5Wln5AFqeP0ABOebRq3esnw/LfylGoaLjC4MVHXGXUHEwEPyJ61GsbCzyNpwnI8LtJflYoyk63lfhXIIXPOekYeeerUjxc4fPimz8T0oCes1ZxLlbwiF0HXakL0NSdCAm8Wzhv72MBCcZWm7vRuRESzj6J2Hjho3YcqIUvXJuJdWgdOxbn8IdY8cdo42suQB7wyfB2t4fyzI2YnPmSZT2yrkAG4xv9nyL1IRoBLvx4DBrB8q4BCT1V7DaPxBLM3Zg24pAuLlE4hS7yIQmYrw+Fgl3CwHC0zdjdXwMFkwTgCcIws4H3Mu6TJQd0jqcjfkaYeuO4MT+1QhyTUCuyFiZmcQYxKj5OQwO4yYgvYBbvnewAGtdx8GOjMjesfuJUL7VBzYe63CXdGT9FeexKTUFq5ZHw9fRCu6x57l1O6SoOxOLWaHf4OdjB5Dm74qkHN3IZ6aMfX9if4gA1srl5uUdKMqYBTuLQBxi60shOvjeSdj67XIkLPTDRB4PnokXUc9Wp6bokKL2bCwmW9ioVqGV1p1BnM9cfHv4OA6uCsCEhBz2+4+xn6zpGtbPcILHnFRk7tyFLTGesDYqOuRoOxmFsB9rtUfyuqJDWIELGalIJfUcS9K2cVmCi2wlkzKROp5sYYew9O1Yn5yA2AB38Pm+2FnKZFaIJ3tD4GShXAZfjo67GfCztlStSGvUftIanIuZAGu7efh26zIEu1rDKeEw9obwYeWehgKu+clb/otIGx5m765QfGEEXdEh721FGyccGy6vRFDAEmzcvgUrA1zgvvAkalnzMqKDh68Tf8D3y5Zika8b+FYeSL5YT/KuLLs95q/bhpQAN9gKluFy8T7MFVhi2gbFgEXecRcbZ9rAOuCgIk1SJ8/PbSDlJfUZPRMulq5Yer6R1L+h9BLx8+4Q2H81AWtvqwqM0+F88P13o0I3IGjCio6luPzsIIJ5k/DdfVUgQ9vZxQjaWoLfV2qKDmP5YkyhiGOOc78hQiWQ+LgAKb8NQN5+F9vn+SM64yAObwjHJAtnpN0eMuu/FNNQ0fGFoRAd2RA2/IIwnhtp7IrxiazpJKJm78GrgdsaooN0oszqsSQI3lGuDNp6GlF8Z6ReZ34X4fflmiNdCV7v9eOWu2d2Vi4zrjmjojs65o6Z9gOe6l2PUC+HrjmSYRu9xvSm5K99CLDywtYnJAH5O1yKGY8Q0tGwMVDWiGOhpIPJ0BjVKhnMRgIJMKrl+kVVOBLKh83sQ6iVmS67rOFnzOVHI4tbQnygrg6tTAQzWGYN+q5huYMdlmQpLl+Jir6Bj68/fARLcIWdBxbh7trJCCOjT62OktBzZSkc+Ilg30Qva8AvIbaIuaDMQD3qWnSPIJgsoxwtx8LA16hf6au98Odpiw5mpkMxU0A61fxU0nG4Yu0d5jq5ji1F+UhVLX0vw5sjIRBwq7kyyxzU17Wwf32w/eSdyEscD8eIU3jL/gjtJd/1EKN0gx9W3+BOpMTQTIeSHlJftrZIVi7fr1UmguQ19vvy4L2pjNQOyW7zcSxglsZXrtcvfYV9s/SXwWfQsh9BlK8xTS8Sop8k0ZOXBGd+FM4rFCjJ6k+Y45yIvB520yhsnVpMxdKtB3Bw7xYs8wvGrmcSUp1ZiHMKwk8KRUCq81fS7j2wkbnZQzXTwV1eIaLz91QihFzTUMiYV6vsIgiF5BgiCk7M42n4txR/7fGFrUp0aNKDq3F2ECReM+AfXHo9eVjmYIvos+/Y9sDaJsgFyblmCsyJjqt9DTg6xxoTVxcoZlpkTTgVEYR9LwdQoCU6NNHJF/m/ZhwT9QmJr3Ujf7kbpqQXcTM4IrS8rtaeaVUcrO2/FLNQ0fGFoRQdAzLFiMJ1+XX0kZDT8PMChDGB8r2m6BAiZykZdSzOUjdc6UvsnWEFz4wSsqE/vd59IRq2rutwn+kEhiU6uGPcyDHqnTiGJzpIAojhuWN9EdlJmIckO1sEr9mPPZnfIT1lKRlFWoAfdZ7r/DTQWa6fOV/r8QWwsY5H7qCZsvcVYN0EHqZE7sRvrzWmas2JDhLw8hIc4LzsOvrJHiUZMxB/9i4J/uOxLK+PFK4Mmd6h+LleX0CIC9fCnReLK+wkiRB31k4Ef2IUduVV6lx20cBkGfXrV1p9AEFGRQfhfSHSna0we18l2dCxJdMRaHTQwoK18CCj0Ogd11CpkcEPtt/gdawQ8NRCi2BOdBSs8ceGBzqWMCU6SPnWuVgj7hKnNHXKRDKLrEWkk0u/xx4rbzuFSC3RUY2D/oZFh7b9DNQDg/AmVrvYYTHbCRNbnQzH5OTfSBs1DZuWhR825BSi6HYODpER+D4iOvrzEuDIn421+3Zhy3dpSI0jI/lxPCw+T+pQV3Qw6RSmwc3SHweYmzP1yk7Q828pavYHGBEdYiKgXWEbc5l4K8FQeuSXW6mucIhSzPTJW04i0n0ZrpsrsFJ0DJDBAfFhe6cU5JNjZPU/I2IOkxdie6OiQydfZFs3JoH1NTsiPvVvQjXpvxSzUNHxhcE0GFZ0kIDWTjp7R0ECcjqq8OOcBTj6hoQeTdEhb8Wp+VZwTNZYhI+MsH8OtoLbmjtkQ7+x9mUtJqIjHfdGIDq0jtFimKKjLwuxPDd8Qxq9vPUkIqxckJrdgObmZtWnpUOoFgZK9DpkEgIvxYJvRTqGHnNlJ2P36lxsXegBOwsXzNt6F+xaX2ZFhxzd2fFwciciS/gYP8yKwYV2MR5vnIYJqTfR+2I3gub8hDo2szJ0lJ5CJul44xNTsDLCG7YanRbJAPJ+iISntSXc5mwzvNiYqTL2fYDokDxG5lQefHe9IBumRQczu1GT+wMWedjA2nkOdtxtZ7/9UPv9P/Y3R6y+qS6LOdFxa+UsZJgRHbKOMpzelIKEJYlIXbEQPjyeCdHRh0uLGdFRxB5rWnSYtp9ePbAMoih9AhyJyHon68LlWA+kXufyYgI2Lc17OuQyyOTEvicWgO+cgpwGdV02NzOrJhODGhAdkseb4W01E3tefKDokHWg7NRmIm7ikLx8BaK8rME3KTpIie+mY7LdIlx4J0P3pSWYmnKdEwMmUIkOkqX2C4i1c0DS1Q5UHwjFwl+Y8uiIDlP5IvvqxiTGDxdaOWNtgY7vEEz5L8U8VHR8YTANRiE6SMPqykaSwB4xZEQZHHkKLUy80pnpyEuw054lkJRjuxcPfrtfko3hio5SLkAxfJjoUMZ0BpONvi8bCTbWWHJJf3yjh16HLEX1Pn/u8pC5sisR4+31NNJRzVAEaoNl1kbeeQlxAi9sOpGJoEVnwPQT4vvrMcU9Daf3zcPcg9XsKFnenYtkBztEHq1n60p8V3ukrET89jrSSRBVCAEdTJZRWb8bVPVrVnT05SLJ3pZ0ykytmBMdHO/fIj+NdLhf72I3P9h+Pcx+PESd6SCeocCc6Che74u1t3QsoSk65N3IS3SEQ/hR1DP5eX/XzEyHIdHhgU0lqgpUiQ6JGfvp1QOH6MF3mGoXjQv1vyHVKxU3dOxtCDYtnRtJGfquLIU9LwaXDTUHA6JDmMvMjMTiMmNeE6KDme1TlFhTdBBBnZsIZ9twHKtjS4wiszMdBNEDZEwmcehcA64v98aq381KDkVanOgggQw5///2zsMriqR923/K9+4CAwMMIEkFRcBVSRJEFAURVIKCiALqmlFUzK6ru2tcc0JBcQ2IgVUBXREVJeOrpJ+kg4ww48w7M+f+qnt6cgAVWXet6xzOoWemuys89dRd1dVPxQvgOCsLK4OicbSZKQNt0TFAusixvk9S2qGV0de/zdovZUCo6BgSPj/g1XDBvO7lPkcpOhgHeiXZmYy+RiDuFLeF+IdrSBMQ0XGKeaZKOqXTsRjhFI8L3ChaVJGDQL4/djxjnl8qX5m0i89TLwLtORUDvks6brGiowunonhwSbmC98qvCQOcowNxFieiwXdMgbYfYl9Zs45HvuYCpNG7IrOINHp5M47NsIfD5ByUdqpcqQxisZHnrXodsryjEMvH2cAv5wmpUfN5l728ikvPlaWIvj+Q6jyJEx3G8qyHogNnYgTwGD0O0YdblOUuKkSG20iM8QxWTm0T5G9+RYSlAxLPKTtZ8c10uPG4dSSyKlzLf87VYx+uprjAfxCiQzePwDvSKQlspuNgo7J8JM+3IoDHjXQNREcfXuyZCkeXBbjcyaZIty7FV5EqsEFSHnMkQ9XVfFSqiygFbhOVouOT609eh30hPPD9s3Cfe0OGnbWxTzbxaqgc9XvCEXWQK2MV2qJD/gb7w6wwYt55dCgLGRnOWo9wdPLE0EPqjgf39CK2/PCOdE58Pmbsb2TXeJACxPZJypkgibn6Y465clBfWoXkITaME2BWaiL8F13l7Ii0hUensO94qTKderDXspqOw+zIQYO8+Sii7ewQurkEXeriFINtDvqio68Se8Pt4T7/kvI1U1XeL2on8B0uzLWF/bQDeKXMMCq3+oE/YQuey+R48+sU2AjikassTBQtcQFfta7H6PUYJHiU5Q3HmamYPzEN11RtnbSlv07txckSjchUw1zLZa5SdBB6C4h98azhOvuUcsaRXPN6qgMRHadIjQ2QLrUdX9QsZle04GS0ADY+y1H0VuXVZZCSPJu1X3NpJvepyt2Kzb8/VL8tJm24ir3bjuGh6r1eeQvu/rYNh4q5NS5mr/fPZGhFh1aQmsjIGYiKjERMwlLsvlKLLxBn6qvhswNeDRekfi4kesLabTaOvlSmtO/GEox2iMdF1uhlqD+XCK/vv8fI6IPK4GCyN7iyKgze3qGIi5uBQO8gZJyuZhunrD4X8z0tYOUeh+NVpMGJnuPgTBdYWYxDah6zEFKGukMz4WYhwLjgOcjKrcH7Ac/RRVZ7GNEjLOHkGYJ5a3JR+16ZB953IzH3WBVxLSJU7o+C23eW8E3OA/OESNJwAcsDiVPhOcNn/EQERy7FiYpeI46LdMjWPPhOS0T8rKmY6OaKwEUnUaVyJmbyLrm9FB6C8YhLXYykiGDMyrnDxQMwzLOhTSjw9ng0GYFG4KA6OJWQCEAnWPttx0uVjyMO6FKaD+wtHeETGIMV2fMxnlw3LKcEPeI7WO7ugIkxqUhPmIbQmTm4ywoBPQbIo6KnGJuDHGHNlJVfJDI2JMOP74qI7DvoVBDRsckf7pOikRQ/G1EBHnDzjMbOYuUiWN3670fDeaXteMQeQ/UHCe5mjsSI8TFIS0tA5OQobL3dSU76vPrre3YYSWNtSHpHwDckEZsyw+EomIi0cw1sfvSR3P0Rfgsu6T7X50SHcrQuR0v+Yowno1rnsUGIW5aNZG9ib8FE9PRI9fLEmOsBzHL+HtZeKchvJIlV9ODPjZPhbGENt7H+iFq8AQsn2MJ9Sjbu/l+T6fqTqsrBDbN2l+gJCSmebv4BfMuRSL/O9aokpWVrvWBtOR2/681mqMv0Pw4IzypEs04jkqDxwlKEECFlO8ILkyYEIirzOJ4yr1cT0ZHj54qAqAQkzY5E8GgXjIvagT/ZxMjUeR81czdK1QlUoKd4E0IcLNnrBUYuwcYFEyFwCccmUr//a85HujcfNg5eCIlZjk1JPrAWhGBrSSfqjF5PiZQI+kk8K3ik3eCENIFZ3zTWEjbTD7OzgRq4tFm4I+5IlbJ99TGi3RFJuV2cbZ5X2qbrLBx63k/El6l09UCqsmPXKOzR6txlTdewfoorsUMX+EwKQWzGPhS/rjVvvyJTaSbIarEn0BJW6seZcjTtnwqb/7hi6S32A6CLETD/gUPiJWWfabIM/rkM+UyHTpAaBXFEZ5LgYcG8EjWIOUJTGAkQ9bdikB79IEn/PuT9nWht6USfqkMcNApI3nWiW/TpLUYheYfObpHaGQwOOfo7W9DaIVSOQI2hngUQ4n17K9p7jf/SVN6lwg7yeQeEBqd9fp41yCHq7uTuIYOw6x1xdBxSITpaWtBhIt0sg8mjQoLeji70MZ2VTASR+gbkFkQ8MB/LRV1oa+uB+KOyJMX7jgHqwCTm6k+qKYcPIoh1Olk9PhCnHRCDY9qRRxnREaQbVEou6kYXVzay3i68M/q4xhSkvntJfSsLECLtAjRXf2aQlK6Fr8dS3FUJYILs+TYEei7T+WzQyPvRxdiKjrFKIfnA1i5EXW1o6xEPuo0pJL3o7OpjbUMmEunmSS5CdydXbzIhut8NIsdM5+rlieW3tTMnQ+U2f3gtvcMK/c/mU9JF0vC+ow1d/eaMTBvzae5vfolKVUwShv4mPH1Ui2715cVoeVKCF+2qehriMvgKGHLRYfBsUVKCNZ6WGLPygfKYIG6vQsnNQvz5pBHdOvVuLNiR8QBRumiCzrABfIru4EkzoxMV6G+rQmkRudeLdoPGbjId6qA9fWirfIA7xc+0gr8YS4/mmeDAAa8oXw19uYjn2SFZ9Q7jv5FvIY9mUaDzajoZ3f6GZ7W38NuuXFR1FWOlJzOLMIi1A8NJXwVObdiBK/WtuP2jP8J3vVSLIgbJo6PYd4t7DPqvoA8VJzZg5+V6tN1agcDQXXipnWHisf86utf4AumvlqFO8z+xDMzz5UWH9CHWe1liLPeKZc2xBPh6TkHGpu3YNN8fo70X4sIrZghpPNiR3ESAKA2aoDPTf9yKFcmJygA+NhORtm0LVqamYEH0JLhaCBCxt4prxGbSoQraYxuO5RuXIoUL/iLggr8YT4+YFR2DCXhF+VqQoO5MOiIDAjEj7RAed/97GrWGbyGPg0GM2nMbsOvgXiSHhyBy9kJkn64wsYnd30hvCX6aOwVhU2Zj6d5itH30rOI/DSFKd81DRHA44phHF63/+gxTCF9YdDDP/1biB54XVt9jnqsxi5pGIqOQG2EoWnFshi3ckgvwzmSwI80bDNqvTepgIoCPb9YjTmSIcH+FJ/iBu8AsyjebDnKoE7SHoAz+4oWsMuZqxtKjv/rZXMArCoVCoVC+Tb6Q6JiO3Vd+x/qFsYiamYIdVxvZzlh4IR72VrOheRtOhsqtE2HjuQqlElPBjgYhOgxexdIN4MM8s6zfMxl8n41g9jgznw4uD9qvRLHBX9y44C+DER3MKaYCXlEoFAqF8m3y5R+vqCGd9aHpsLFbgCuqnpmIgca9obBxTkcRs3DLaLCjTxEduu/SM/d5Re7D984momPgdBiIDp33sAcnOkzHnqBQKBQK5dtkGEUH8D4vAQ5Ws3Cae4LCPIYoz/YBf+JWVGo9ztMNdqTp5LUDROnwUaJj4HQMVnRo0kNFB4VCoVAoAzHkosNUkBoGRdtpzBGMQNJ5bgW2qAJb/WwRtO0ZpCaDHRkPEKXDQAF8iOho2BOsXmNhNh3k0GzwF6Pp+ZiAV5SBUPS3ovJOPq4/ZWIJDgV9qC4ph9aO6xQKhUL5Gxha0WE2SA2DDG8KVmHqGB+Ez56DKD8fhCw+jRqmp/5gOtiRQYAo1XQCiyaIjakAPoqeMuwIE8CSNwmri9rYc0ymYxDBi/TTU/Xi4wJe/W2QvLHB20JCER4aiqlh4YiMjEPq6v0oqleH5PmbUaD9bhZCbKx0wjN/FopO/LlxGkIyr3Hbx1MoFArl72DIZzoGBReoptMw2pLJYEefFiBqAEylYxB8kfQMA2zwNsvpOMwoQrkYXfX3cSIzAE72k7Ht4VcSt0D6GBu9eUMnOhgULTifEIhlhcY2oaBQKBTKcPD3iA7K34bRNTfyNzg2UwB+wC5Uq/WXBJ3VJSi6XoSH9czuBdoo0Nf8FPdvXEfh/Uq81Zp5knRUo/TmDdwqa0CP+qSPDN6m3hOiEaLOWjy8cx/PmrWi+LGYSJ86sJsQbx4X43GT6oEXOeOvDQiZc5rbm4FCoVAoww0VHd8Yxhf6KtB1KgZ2FqH4lXl+JG1EbmogQuJWIWfDQoQ4u2LWIWarbuan7bidHYHJUauxZ88aRLlZwi2tkHwhReO5RQgOnIM1mzZgUaAL3GceRp3sE4K3saKDhx8S12PlgnmY5ecGvpUn5p9uUKbBVPpUgd3spuLH7AUIcbWG0/wCrb0c7mO13yJc0+gQCoVCoQwjVHR8Y5h6u0hS/CM8LTyxpkSMt2fi4Dr5JyIYmG/kePNbOPgeq1AiUaC7IAWjRi/FHa4nFzdXobZDAsXbM5jrFIyflSdB/uY3RPDI9R5IyI8+Lnibwe6Xig78kUrEhGs6ivoVZtLH3EorsJtYiPfq6ROCohW/z5yKvfW68zYUCoVCGR6o6PjGMCk67i6Hh4U3sv/qxqUEewiC0rFrSxZWpacgIdANPPYV435cWSDQ7ICoxfv8BDjyJyNjxxZsWJGO1LlBGPU9D7NPdn908DYD0UGQFKXDzTIAu6p6zKSPy5/268469ONiQgA2PzFcM0ShUCiULw8VHd8YJh+vnIyBHS8aJ9+24Mg0HtxScvGquRnN6r8OvP9fK45MJ98tLtSsv2BRBlzjO6fgYqP2OcyulkQ2fGQcFWOiQ/pwHXysJmJbRZPp9JEfDyQ68hL9iLCiooNCoVD+Dqjo+MYwKjoUrTgzWwDHqGNoUfTiwlw+bGPPsvvQ6KL8zmb6YehNlKD3/DzY82JxztjLIUMgOoR5zExKHM51m0vfAKJD0YkTMSHYVaV8BEShUCiU4YWKjm8MZfA2LdEhbsHd7ZEY6RyJgy8ZCSBH89GZcLQNxpaSTnWnLxOLIYUCrcdnwdHSFytuvlUu6mS+k0q5TfTsELq5BF2akyBmRMRHBm8zEB19ldgbbg/3+ZfQpTCXPi5/1vFQ30obaTk2B8TjPKtWFOi4dwCbt19GPZ34oFAolGGBio5vCXXwNgG8g6ZiengogicFIXrJbtyo1+qlJY24mBkENytruI39AX4BM7D8WAV6GZ0ia8L1deFwZ7/zQ9isDPxyp4U5CY0XliLEmQfbEV6YNCEQUZnH8bRX+vHB24joyPFzRUBUApJmRyJ4tAvGRe3Anx2cUDKVPqkqsJsbZu0ugernKuRNBxEVxi1WJektTHMi9yQCrFXvhxQKhUL5IlDRQTGJvL8TrS0deG9kJkAm7EBbZ796pkENF3CtQ/g50wdSSD4wV5ZD1NWGth4xjMkCc+kzRIKKnBBE/dqgTrO8pxFPq7Xig1AoFArli0JFB+UbQIHue+sxNWQTHuq/dkOhUCiUYYOKDsq/H3kTLm7eisJmuoCUQqFQ/k6o6KBQKBQKhTIsUNFBoVAoFAplWKCig0KhUCgUyrBARQeFQqFQKJRh4d8hOiRdqLt3CcX1dKHgPxcJumvv4fKdenXQMcoXQtGPtud3cenaU7wzGqJEvy5EaHpagaYB3vyRdNXifv5dfH4zlKK7/iGuXyjGfw3eydZGgqbSMryi7zz/s+irQml5h+Hr9pRvgiEWHTI05C5HTFgoIiIiERVJ/qISsHznFdR9sVcVZag7PQ9jvrfRCrNNMYqsAReXRWNq6DQs/OWxMtgXQfH2DrbPm4LwsDnYXNiq/HCYkdWdRsIoC9gl5IPW4pdF0V6MDYF82IT+YrRTN6iL3vOIt+Zh5uFWo/FSWGR1ODN3NHjWpva9+QjEVTgWOxI8p8Uo/MB9ZoAUDSfjETL7NzwVch8R3leew/r46YggPig8MhU/324ZtIhV9Nbgymbir860DK5D7K3E+fWJmBk2BdPDJiM0IhEbz7/Ee+5rk8hbcOenxYiZMhVRMyMxPXIBtl6uI9Lu41B03sTaIG8kn3lrul6+BAPkW95yGz+nRSMifAZmRUYgan4OrtRpcqfoKMbmiMlYfm2Y0035Khj6mQ5xAVLseIg60kYMSoH++jNY4G4JjyWF3A8+AfEDbEv+GU9NBYFiw2xr7+1BMYW4YAEcLafiQJO2W5WiPNsXNp6rUDpco0aDOhXjWooA9l+t6BCjZEsK9lZ8TtCzrwVS3xt8wDchOgzrQoKO+gZ0DmAbbAh6k5vtfRzvz80B34zokL85hriAH3FHa6pG0ZGPFDdXxP1eS1IsR9ft5RgvCMdvyhC0phFW4uLmNMQEecLpO0tE/Pp6UKJDcn8DAsfPx5lGpmBkaLu0EGMsPPDjHfMjLEV7LlJ9QrGxuJt4SDne5ibAjReIXS8/YoqICJe8pLEQ8HiIPNgyrJ23+Xwr0J6bgh9CN+DPbpIq+VtcTHABP2AntLc8UrScQ1JAJm4a20CJ8q9m6EUHu7mXSnQwSFC6yhPWo1eyRwzi9iqU3CzEn08a0a3jyBR431SBPwuv4WZxOV6zQ3ERag5Ew809GSfLHqO8vBYd+s5PvaGYCP1tL1F6+x4qW/U9nxjtLx+gqLAYFY3dJFUa5MJm1Lzq0TRcaQ9e1TSjjztUiNpQ09AJmfANyov/QtPHDkm+IozvMitD5daJ4I/LgvYGrKbrSY73zdX4b4/mGtKeRtQ2cyWmEKGtuhFdMiHePC7GY4MCM1anElxbqOzoRP1teFlyB/eftxoKEEknakpuorCoDA09proGInZbq/GqS4reNxW4f6cMdfpGI25H1YObxM4q8Eo3c+R0IZqeFOPmNZL38tcQkmyKqg8iZsRILDxehvLHT/SuJ0F7zRPyeTleqMqA+az2ic7x22rym/JneMNNMUk6a1B68zpuljbgnU5WjLUDfQbIo1yI5upX0FSRFD2NNVAmR4qKjeNhS0THK1En6sru4sHTZrxX/1ZTF6ryF7dXo75Dk0iFsAkVxYW4TtpT+WvlVIN6sz1RP9pelODuvedo069Ac/Un7UZ9WREKbz9G9bE5sDUpOmSo3hGKmb9pNgRkbPLVL2Gw9VytEc7MHj6+PEzcVMF9YAJZP/rEJPOSu1juxhu06DBAVIBkO0v4b6sc9OwKg7xhL6ZYjkD6DT07NIkMDb/HYPLC7Vjuaz3sosMAs/mWo/HnUNgY1KUEjzcEIf50+9+bdsqwMwyiQ4pH68bB2mMV+V+CmmMJ8PWcgoxN27Fpvj9Gey/EhVeMqcpQfywOk6Yswy8HdiE9wBVJF8WQNxdie+RoWNsHYMGqNViXdRil+g+iuXuGZW7DyuQExAW6g2/rh5xSrrP7UI0TCd7wCktHzrZspPi7Y/zCXPyX3Fb4aAfCBZYYt7qMpI44045bWDPRBtaBu1FHvpfVHsdcd0s4hi/D5vlBGMUTIOWyqiP55zE40WGunoT4a3sonCzGYB3r3RXouLUK/taWCNldC5msFidiR8Labip+zF6AEFdrOM0vUAs4BuN1SkbXpKPjB2dix/IUJMUEYTTPDgGbytTTztKG81gcEIR5qzZj48IguLlE4YjBKFaClwei4G4hQGTmOiyOj8X0cQLwBMHIuceMLMkvqo8jaZwnIpZsxg6SxiA3Hyw6/0rpMGX1OB77AyKW7sOhnYsR7JqAvL4WFG6dQUZzAkxOXIV1q7NwpER7iCZB7S8RcPh+JDILe5Uf9Rciw/V72EWdwFu2qMUozx4PG8+luEWUwPuKk1ibmoK05Bj4OVrBPe4k3rA9nfF2oMsAeex9hJ2hAlh7rkGZ0qhxe9Uk2FkEYQ9bXkrRwfdJQvaPyUiY6U/smgevxNNoYAtBW3TIUHc8Dh4WmseXsvpjmDs+HD/uPYjdaYEYmXCR/VxpWyFYtu1HpCbEIIR04A6TNqOMq0Bz9SdvuoTlE5zgGZaKrJwt2BDrBWtTokPRht+jpuDnOm1p0I/LiXbgRx7hypuhB2dm8cCPPskdDwARHT+6f4bo6D2PedY8zPgoEaBA9+UUjHKOxwVNws0ifvYTpgeswN2OCmwZ/xWIDnP5VnThSrIb3OJztepFieT+SgSmXv3ox0qUfzZfXHQoeoqx2scaPivvcTuRjkRGIfcQVtGKYzNs4ZZcQEZ6jfg11Baxp7qV3/U1oL6FafoKtB2JJCMYzoEaQz3TwTln6Uvs9OPBd/1fxL3K0cLsSuqejpvq25J08J2RWkA6DkULDk3lqUUH4/RfbPODLSc6mM7ij2TNqE/cK+R+98+E7RgsxiFp2y/4dZ/qby/Wz3CDNSc6zNYTc9h8ENN5KtFBkFVixyRrpeggh+IrWtPsYiHeGxSYsTrVH11L8XK7v2bnWcVbnI0dgdCf6pTiQP4GB6bwMHbVA8P66M9FAhGHi65y34irsW8KHzaT96BO2kLyYs8+7lM+gyZpIfYhGJGCKyRz8sZfEM6PwRmVGdbXo5WYoaLtCKK086xP7yUkO9hhzplO1u7Ft5dhvF8Axgvm4HwX+wluZXggYl+jQYfWc34eHPiJuMxk3GQ70MNcHuUKtByIAF+rfGWV2xHA0xUdzEyH8vEKEY5XUomwcEXGTWaKXK8uxFe0Hl/K8WpfKASzTkGZwj401DMb/nG2pfV4RfpiBwKtvJHNGJW5+lN0Ij9xBBxnHMFr9ksyeL4wz/RMh6QU6/wX4Rp3Hxa2HVuCH3dea02FmAgRPqyD93LHA/BZooOIh/z5cLOPxO+vB3O2FFV527Fh8QwEBqXg9/Je1m4GpLcUG4MmY1MpaZvSr0F0mMi3tAr527KQEemPkJTDeGJktk7Rehizwn9Gw8cXNuUfzBcTHTN2XsHRdQsxJzIKqduu4hVxEMIL8bC3mo2z6kGicoStXEsgxM2MUeCPisaW/Cqt6eZPEB3EHZ6ZZY3RmXeI+xTi4jw++LPPsB0mi+w5tk+wgteqEnL5NhyNtNYRHbU7A7VEh+FU8z8Zpej4ARmHz+PC+Vzu7xx+njdaLTrM1xNTZHodsKwGuwM0okO/8zFkMKKD1OKpGNi6LcVd5jfCfCTZ2SJkyU5sy1qBzJR5CHG1YEexXPesQUx+a6PVIZP7tR6cDhtmy/v/u4BEGx7izqgzR8xhK/wsPbGmhPy+txBLR/IwJioHl1++U3c+A4oOMqrOT3CA84IC0ulJULJqAuKP38Lm8SOwIL+XZK8MWT5T8IsRDyspyoA7Lw7n2UkSU+1AD3N57DcsX1nNLgSbFB2ED0XIdLbC5B1V5ECvLvTal7AwA5680YjZfAlVWgk0qPfuU4jluWP5bZIIc/XXX4CFxGeohRbBrOj4UIiMgJW4r10VrIghoiP+otbImRMdk3/mjgfgM0SHorMQy8e5IGp/FedHBkKOtieFuJZ/CntS/TF6fDou6ayzMgIRZzcz/RCxo0JZL1+B6DCZb3kbKgqv4vKp3Ujzc8ekJfkwyF7/BSQFbMK/YpkUZdAMw+MVFcQRHiJO0W4BrqicEml4jXtDYeOcjiLGufTVIH99FLysLeEWthG325krfIro6MXZ2dYYlXmbjKJacWSaFRznF2hEAxlN/hJiBbclN8nlv0HRYfbxysD1NFyio/fMbNi6ZuIOc08yKpph5YLU3EY0Nzer/1o6hIYdhEGHTPq8s3HgW8XhbA25jqU9Ugo0iZM37MMUSxcyylf+vq8mD9kzPWFn4YKp2bfAmOHAooOM+HLj4eRORJLwIdZPisWpdgkerhmHkanX8O7ZVgSH/Yx6NrFydJQeQRbpeOMTU7Bohg9s1aKDYLQd6GEmj+fJqPKjRYf0IbLG8uC35Rk5MC86mNmN2rz1mOVpA2vnMGy+1c5+alDvvWcQx3PDMiI6zNXf/9jvHLH4miYv5kXHNSyZuEJXdCi6cCrKCvxZ2iL0Hc7EDMPjFeET7J3miZCsu2AntT4W6SNsGGeFCRufkJoxBbGvPxbBgz8e8SvWYN1q8rcqBaGOlvCcnomNZyu53w0jg8y39FEWfC19sblcL3f9FzF/EjeTSflmGEbRAbzPS4CD1SycVnsF5q0JH/AnbkUl28ErkbwuQKa3NecANQ7UpL83JzrIyDE/wU53RCwtxyZvHvy3Pmd6E1Z0MLMeyst/66Jj4HpSdsCeWMvMDDB8hujQ1Kl50YHeXCTYWGOOZvrFNAYdsgw1OwLAH7sOD7vzkGTLw+yTmq5JWp6N8VaTsP25lhGS9LwuSMd43gRseybTiA5Vno2g6DyLuQJvrD2UheBZx8AUseTucoxxT8fRHVMRvruGLR8FScN8BzsyOmxg8yq5pT3ToUG3HehhLo+McGTLV7OockDR0UvKxd4Wc88y5TKQ6OD48BpX0olg+mELe2hOdJitvx7mdzxEH+tQ+wzzj1eKsXLSEr3vJHiw0gM2E7dpfAk7E8DD+A2PuQ8G4FNER99T/DbTFxE59z5NcDCwjyetuJlZUxDR8TgXB9SPRMnfz2sR5WoJn3lbcfBGA/e7YeIj8i2r3IYAS27GSwtFx3HEBe9EtXazo/zrGXrRwb6+anxRkaLtNOYIRiDpPLdiWVSBrX62CNr2DFJZFa7lP+cWHPbhaooL/DnR0X0iGnzHFPzBLTEwgL2nDZLyVBOrPewIxz29iDRi4oBPx2KEUzwucCNGUUUOAvn+2PGMkdjvcGGuLeynHcArVnFLSAfsB/6ELVD2QcrXB+10pm3/ubCvNVpNx5EW7dqR4tnmH2DDdlgD1BNz/I50IHw+ZuxvVB5LnmP7JOUomSky9h7MNL/JAjNWp6pyzlOXc8+pGPBd0nGL6VzkzexaDIfJOSjtVHUJMojFbAp00euQ5R3MFLAN/HKeQEJE5plYB7jG57IzGCRzeJrjD4H/djwnl5K9vIpLz7llr31/INV5klJ0dJ1EDM8JqVdMGSFB0UHsTgCP0eMQfZizf1EhMtxGYoxnMHZx7wzK3/yKCEsHJJ5TdrLim+lw43HrSEy2Az3M5ZEcvzs/DwKb6TjYqCwfyfOtCOBNZPNiKDr68GLPVDi6LMDlTjZFunWh075kqLqaj0p1EaXAbaJSdKjqPV9TgURMuCKziKTIXP3J67AvhAe+fxbuc2/IsLM29sn4Q0/nsMjrsXfKDBxuZktYTf8dIvBswvBLnTLP7x+uxyQbrp0ruvDXqb04WaIRNgZ8uI3lrjyE79Vad2PuPNFLHI6diJnb7uB1Ryc6O9rx+tFxLFt1Fm8VxMYfncK+46Xo0DlRDmH3O2W7YelHw9kFGGPhjiXXGEFm6jwjSJ9gs681pu1vJlc1f574ZS62b/wdj1SvM0kbcW3Pdhwv6+LyJUfr7d+w40Axt+DTzPXM5ft/QnS/0+QO/Q04N98D1m5puK6nN6XlGxEcf065TqzjHg5m70BBvda5lH8lQyw6ZGg4nwiv77/DiNAs3GxWN10OGd4UrMLUMT4Inz0HUX4+CFl8GjWMk/pwB8vdHTAxJhXpCdMQOjMHd1kHSM6qPYzoEZZw8gzBvDW5qNVxRKp7fg+P2GOoJh2U6PkBzHL+HtZeKchvJGmQvcGVVWHw9g5FXNwMBHoHIeN0Nde5KdBTvAkhDpawHeGFwMgl2LhgIgQu4dh0uxPS+lzM97SAlWsU9phzWP8EZA24kOgJ3n+cELn7L63gYLeRFcCHJRnVr2SDg5mpJwZFD/7cOBnOFtZwG+uPqMUbsHCCLdynZONuW53yHt+5YdbuEpOOU79Oq15w5eweh+NVpJMSPcfBmS6wshiH1DxlJyBpuIDlgS7g85zhM34igiOX4kSFkQV4TIdszYPvtETEz5qKiW6uCFx0ElVc+mVvCrAmbCzGh87GvEh/jA9cgjPVyi8lt5fCQzAecamLkRQRjFk5d5QjOVktjsxwhrVgDMLi1uJijbHeUIG3x6Nhz4vAQfUDbCGuJDvB2m871GEY5C24lOYDe0tH+ATGYEX2fIy3ECAspwQ9YtPtQIcB8sgs4N4c5Ahrpqz8IpGxIRl+fFdEZN9Bp4KIjk3+cJ8UjaT42YgK8ICbZzR2FisXwcpUNs/WBekUddqXBHczR2LE+BikpSUgcnIUtpJ2orat70Zi7jHm+b4Ilfuj4PadJXyT8/CKFIe5+ut7dhhJY21IekfANyQRmzLD4SiYiLRzxkbwEhQvn4iF+Xq9mKITf26bCd8xQZg9ZyYCxwViyakq5WwNs6ZmrCVsph9mZ6AMULxDxZF41nc5Bq3CDeWrRGbOk+P1b1PB/3//gYXOnyX8tj4nLUiCsrVesLacjt91TpTj7Z2fsCQqBEETJ8DX1R4C10Ck7v+Le73Z1Hn6iFGXm4aJvO/gxPpakZnzZKjbHQTr7zSPB+VN+zHN8juMzLjFilSgix2oWdgm4jIbZsR0+s3mW/4WxT+lISbYH/4/jMNIO1uMCkjBwb+0QhKwyNF0IBJTdyln/yQ3FsPlP8wMuZkAdJR/BUM/0zEY5P3oamlBZ5/KC3NIheggn3f0GqpdheQdOrtFn2WQ8v5OtLZ0Qv+2DApJLzq7+tjOTSYScQ3xG8dUPbEoIOntRHcfW2IQiT6+xD6tTuXo72xBa4dQa7Soh3oWQIj37a1oN2JPmuv0sU5PG6mwg9hJB4T6pykkeNfRDdGQeEU5RN2d3D1kEHa909icmXagZjB5JOnt7eiCsopE0K4iKREPzMdyURfa2nrAhKkYPFK87xigDkxirv6kmnL4IIKY6/eNISldh+CYo4aLEwlycTfaWjvwXucGMlRu84fX0jvqmbTB8annkTOfb0Og5zLcNXoiU/9taOsSsfWgjfnzTGP2vP4WvHzepBWLpR9NFY9Q1625u7i5AqWV7ep6+dR0sMhF6G5rRbfIRCV+qMDW4EjsVy5yIr/vQWNFNdqp4/3X8/eIDgrlS9KXi3ieHZLZd1D/pXwLeTSHohPXlgQh7rdK7lHUQEjw19G9xhflmuVTzyNnPjqKfbc+PvjVcJ9niqG+nhpFF+6vD8OUjWVE+lC+NajooPzLkKDuTDoiAwIxI+0QHjOhmP91fAt5HATiGuRu2IVb32r+/6HImy5gy9YbaDY2gUr510NFB4VCoVAolGGBig4KhUKhUCjDAhUdFAqFQqFQhgUqOigUCoVCoQwLVHRQviASdNfew+U79QavpRoiRXf9Q1y/UKyJkvmFkHTV4n7+XdTThWxfFkU/2p7fxaVrT6G/MbQSQ/sQNT3F06YB3mmQdKHu3iUUD0EFSrsb8OjaBRQzgUTMIGkqw8PG4X+fc7Dp+8ci7UbDw2u4ePeVwavDlH8nVHR8MzBblKdiWmgYZq0qgPbGpfI3Z5EZtRl3td89FFXgQGI4ps7MQuGAoRGNI6s7jYRRFrAbTAh5cRWOxY4Ez1To66FCVoczc0eDZ20uTDtlKFC0F2NDIB822uHWtTC0j17kzrEB31QALxZix6fnYcz3mq32Px0xqo/GweP7EUi/YVpQSOtPIilwNg5UqKLRKtD77CzWM8HbgoIR7BeIiNituKOK9jlkDC59n4WsAReXRWNqaCgikg4bCUkuRPHmmez3UYt+R+UQv+MqrjqKue4WcE0rJBKU8i1ARcc3hKL7IpIEluyeMxrfwkQGnAb+f1yRUajtUZg9axzww4bHn+EMlOG0B7tvzftzc8AfctEhRsmWFOzV2sqSDddtdm+Yvxfxgy1I3VPxCYG3vjakKN/gA74J0WHMPiQdDWjoGMDi2LDsRvaC+RSE5zGPZ6ZTl7/B8dmBWHn7nTpehaLnD6S5uyHxRCMbMEzWUYJdUUn4XWdrgSFioPQNAeKCBRjhOQ5eVkY2ZevJR8p4H/ja8RBzXBmxdmgRIjeOR0XHNwQVHd8UPbiYIAA/7Fe8VnUCihYcneEF3zF28Mi8oxEH4ltYNtIXG7W2gJR0VKP05g3cKmtAj14nYvw73Y3DFF0NePL4McrLn6NJyLkvaTfqy4pQePsxqo/N0dvkS4KumlIUXStEWb1qm3kR2qrKUf64HC+ahEonqOhGQzlz3Sq06fVDouqDiBkxEguPl5FznqCOdGjqjclE/Wh7UYK7954bnMfcu7O6BEXXi/CwvsfE1K8C/a3VeNUlRe+bCty/U8ZeXxcx2l8+QFFhMSoau3Udq0KIpifFuEny92f5a7BFIqrGoShneCw4gYekrJ7UduicI2mvUZZhZbM6KJakvRZPtI/fVpPflOP5G24HOUknaktu4kZhGRp09spX4H1TBf4svIabxeV4rYqLr8NAeZTjfXM1/qs1ypf2NKK2mUmNZo+XV6JO1JXdxYOnzVpRMY1spihuR019h7q8FcImVBQX4jopv/LX3EyDegM6EfrbXqL09j1UtupXoLn6Yx7lleHWjdsorzpmtlOXVe1E+PTfdESTpHQtvHlTsF/diAhSYldcvuTCZtS80gr7Le3BqxpV/SggaqtGY6cMfa2VKLldjOcGaR8gfUbqU9RaReybsQtV1FEFucYTtp1UGxq3Dkx7GBm7ERsm8uC9RrXbNoMCnWfjEbhsE1IceIg7rR123rRdK0RtqGnohKyvFS8e3Mafz1o19csh7a7Hw6JC3HlcheNx1nqiw0i7F7Wimm3jlWrfoejm/ElVG3tM+WdARcc3hQJdZ+PgYB2NE8pdnaBoO47ZXhk4fyAaDh4r8YBr+ZLSNfAdt5bbGl2KxnOLEBw4B2s2bcCiQBe4zzzM7cJr7jvdTkVevwchlgIE/5iHun5y3HQJyyc4wTMsFVk5W7Ah1gvWatEhxNMTq5GWnIrUmIlwsXTFvJNviAMS48XuUNh/NxIZNzgnyAinSD74AVtRoR2yWd6Cwq0zMMZCgMmJq7BudRaOlLzjdtoNwbJtPyI1IQYhbjw4TNqMMtW50kbkpgYiJG4VcjYsRIizK2YdUu6gq0GClwei4E6uHZm5DovjYzF9nAA8QTBy7nUrO5wP1TiR4A2vsHTkbMtGir87xi/MxX+ZC8nqcTz2B0Qs3YdDOxcj2DUBeWI5Wm5sRdQoSzgGJGHN6jXYcKhUZz2EpOYXTLe1gEd6IZSSoh83l7jCitTpSa5OxY+zMdHSE8uLekgxVuDUKlKGqSmII2Vt4zIHp9l9RWSoPxaHSVOW4ZcDu5Ae4Iqki4Ydt/k8CvHX9lA4Waj29FCg49Yq+FtbcjsOK0UH3ycJ2T8mI2GmP0bxePBKPI0GI/Yhqz2Bue6W6sctsvpjmDs+HD/uPYjdaYEYmXCROYkTHTyEZW7DyuQExAW6g2/rh5xSrgLN1Z+8CZcziT2NnIK0NTnYlhULHwtTokOBtsPRiPipTke0yN8cxAxra/j/eB3NeqcJH+1AuMAS41YrO29Fxy2smWgDa3bXahnqSJl7WNghInMTls/n0s7XSvtA6TNRn+LK3Qi3+R4eSwrZDdSYtLf+PgP2vABsf6LdKAxhRcfcs6jYHQT+qOUoVpmBog0nZwdiU8kVLNEWHWbsWlZ7nK1DhylLsTlzAZJigjCaZ4uATWVcGHk5mvKXws9xFCJS12LrlizMGWupJTpMtHtxJfaE8mHlno5CdbP/HVE2PEzeWqH8gPKPgIqObwzF2xOIsREg6QLTckkncSoWvqQDe998GDNtxmE9s80scc/Pt/jBe8V9peN8ewZznYLxs1JJEKf7GyJ4nlhDFIq573Q6FSIArpCOY/rWUuXGVopO5CeOgOOMI3itPNXMduY9uDDXDoLES8oRU08+FjjYIub4W5IDArPraLAL5ueRTlYP9Zb0mj30DbZgl77YgUArb2Qz+/qTK749EwfXyT9xwkmON7+Fg++xCga72vfnIoGntb28uBr7pvBhM3kP6uREQBydCUfiJG9yA3RF61FE852RWkBGb42/IJzP7SxL6KuvRyvTsxFHfzTSWt1pGdKLy0mOcIg9o9yITnwHP3r7Y7K3APPOKncMFRdlYEzYL+wmazr0kPTa2mI+81hC3ohfQ20Re0qVgAbUay/0UWE2jyS5zQcxXbt82W3arXVEh2Y3W2JvV1JJp+uKjJvMozz9mQ4x/khWHcvxal8oBLNOQZnCPjTUt7D/GWy1L32JnX48+K7/i9zRXP0R0Z2XCFf7mTiqMTqSP1OiQ4LS1f5YfJW7j5p+vDiaBF/SyTuOn4+9t5s1dUUE8KGpPK36k+HFNj/YsqKDHIqv6D4a4tLus7aMTftHpU+7PkkbuZToCEHUCW6XWDnq94TALTGPfGMepejIhbDxV9J23YiYV87JyJsOI3ryNlT23dASHebtWrcOGaR4ud0ffNUO1p15mO8kQPSR10oRSKTIxbn6Mx0qdNt9T34SnPkacS2v/xlhzonIHyiDlK8KKjq+NYhT/D3SBm6LrqOfdPzn545DxnXiZOSv8FuYDSZkP4GU6cRDyEj5ttJtvM9PgCN/MjJ2bMGGFelInRuEUd/zMPtkt9nvNJ3KCdzdPA2R2fehjljdX4CFZLSq7vQIpkWHBLcyXGEbe46MgxiEuJ7qCodopYNVtBxGlPsCFHBPE7QZjOhA9ynE8txJfpnfCHEpwR6CoHTsIqOwVekpSAh0A89qFk5rkqpEb3t5cje0HpwOG2Zb/34hLs7jgz/7DDfyJMieY/sEK3itKiHaoRBLR/IwJioHl1+qHh0RBhQdxPnmJWCEQzKYXfYlD1bBb84J3M7+Aa7EOfeSs8rW+CJCe3t2FR+KsNTFGnPPMqUoxM2MUWRkG40t+VXQeeqijdk8GilfWQ12B5gSHQSShkxnK0zeUUUO9EWH7rGwMAOevNGI2XwJVdoJ1BcdRJacmWWN0Zl3yBXM1V8/riwQgK8WMoQBREfhkgCsvme8Jvrq/8C2WC/YfeeAKZuKlSLQoP5kqN0ZqBEdJtI+ik37R6ZPpz5JO722CO62s5SdMtvORyLlkpFGoYdKdPSRgQEzY+iaXEDsSI7GX6YjgqnHD9qiYwC71qtDhu5TMbB1XYq7pF33FyTDiacR2+ZFh167F17DYhc7zGYHG8QOD0fCY/5lbsaP8k+Bio5vDuXW1LajVuDPt7lI8koDozkY58hsf207cRuevyGduEc6ith1pQq0HZoOvnMKLjY2o7lZ9deCDuH/zHzHdBKcA4rdgKwJfPhkFiodM3PV1sOYYeWIxdc0rkZHdMg7UHZkHRExczE/eSGiva3BV4sO4rxuZcLDbhZOvZWj++wcjE0pUH+nzaBER+8ZxJER3jJGdChacWQaD24puXilzg/z14H3+h2zQYdM/OLZOPCt4nC+h7mOFRznF6idLzO78EuIFdyW3GQP+2rykD3TE3YWLpiafQvsnmKDEB2K7lwkCkYSkSTEo3V+mHOiHZKytfB1TcX1d8+wPSAMe7ndO+UdZTi6lnS8cxKRunAmxvN46k6KJAD566PgZW0Jt7CNxjc1M5dH4u0/WnRIHyJrLA9+W56RA/Oig5ndqM1bj1meNrB2DsPmW+3sp4Yddy/OzmY67tuQmKu//ym/c069rinbAUTH9UWTsMqE6FDSh6qDMXCzGIcNj5ih/MeKDsO0m0uf2frsv4Vl7vaYfeIt5F1nMc8jBVcG0SOrRQdp6+1EIDgKEnCxoxo/hU3Hfma6TFt0sGk0Z9eGoqP3zGwiOjJx5wPnSxwW4YZ6YKEnOsy2+37czhwJx+iTeCvvwrk4T6QWGGv1lK8ZKjq+QeT1exHG88HK7AT4pv6B99znssrtCOAFYv2m2Ri36Bq38I04jfPzYM+LxTn10EaDue+0HVD3o00IsB6J5LxW5Qi8h+noeYg+1kFcnRKN6FCgOy8RzraROFDPuC4JbuvMdBDE97DKwx6xJxpRkOyDtD+MOx91p6j1bMSs6CCdwIW5fHKvs5qRnCkMOmQZanYEcFPJzNs/duATB6ke1EnLscmbx749pEGC1wXppPOYgG3PSK+k7rRKlU7YGIpOnIsVwHfVYWwIiMFx5v3SD8VYMXokMn/fiWmhu1HLdHCKbuQnOsIhcj8amLx+uKUzMlYheV2ATOLclUJAD7N5VJWvJ9aqyncg0dGbhyR7W5IGplQGEh0cH17jSroPbH/Ywh2b6bjN1l8P+R0P/BnHoH4LfADRUbzcDxnXTdaEkn6SJ2trJF5gp37Y+mNG/cqzPkJ0DJS+AetTjPsrPOE46yQaL6VgPGnbg+mSNaKD3KKLDEQEpF1lrUBI1BGwL+TozXSYt2tzooNp9rOJYJ2J45oMaomOgdu9+N4KjLWLwamGy0j1TsVVOs3xj4OKjsHyMQGJvvaAN7Jq7AqwgpPDWN2RgvQJNvuSUYxAdwQhbz6KaDs7hG4uQZcqQzIxxKTTMfcd4wSZVyLt4vOIaxGhfGsA7J1icKyeObEO+0KIg/XPwv0O5YnsCNo+GX+I5Xjz6xTYCOKRyzonMYqWuOhOOxOH9CjLG44zUzF/YhqumfCuiq6TiOE5IZV5FsHBvjJrHY981fq6nlNEdLgis4jpJuRoZp5Z2wZjS0mnuv5kYjHpQvXQ65DlHYVYPs4GfjlPWAfadjoWI5zicYGbQRBV5CCQ748dz6SQvbyKS885Wdf3B1KdJ3GiowunonhwSbmiFoOGMGtxyIjU3QO+Mw4rOwZSvjeXuMNjtCdCd1SRro4gf4P9YVYYMe+8shMT30SGM/dIS1aFa/nPOWHZh6spLvAfhOjQzSPhXS4S+HzM2N+oLB/Jc2yfpJzJMBQdfXixZyocXRbgcqeyXjX2waB9LEPV1XxUqosoBW4TOdHBvjJrg6Q8dQXiTAwP7ulFJE3m6k+Oup9Dwef5Y/097rvec5jLE2DhFVUXqQ2zLiIcUQdb1MKYoTt3DZbnN6ntoffeSoy3mYyf2SAX74josYX9tAN4pSwQVG71A3/CFjxnvh4g7WbTZ64+OSQPs+BrH4W0xElYclVl86Qzf3QK+46XasSMFkx7cJ+jFB2MCLqS7AxbInTiTnHb2n+4hjQBER2nmMUT5u1atw6V9BBb5buk4xYRHfK6vZhCBhtB6+6hk82gEOdjeXBccIWcOYh2L3mIDeMEmJWaCP9FV7k2MkD+XuZi+8bf8Uj1hpW0Edf2bMfxMuUaKKaeW2//hh0Hirn1MOavR/k8hlh0yNCQuxwxYaGIiIhEVCT5i0rA8p1X2LcV/rl8XEAi8Vcf8EZGHOFEWAvm47LOSEGKh2u9yOcJyNcZJkrQeGEpQoiDsx3hhUkTAhGVeRxP2VcsTX8nq8/FfE8LWLnH4XgVKQlxBXYG8mE3PgNXmuXoe3YYSWNtYE0cnG9IIjZlhhPBMxFp5xqImMlHujcfNg5eCIlZjk1JPiRdIdhaonkVUUqc3SSeFTzSbnAO0wiyWhyZ4UzOHYOwuLW4+PIFLiR6gvfdSMw9VkVSL0Ll/ii4fWcJ3+Q85eJLSSMuZgbBzcoabmN/gF/ADCw/VgGDN0qZDtmaB99piYifNRUT3VwRuOgkqlTeVvYGV1aFwds7FHFxMxDoHYSM09WsM5bcXgoPwXjEpS5GUkQwZuXc4R49EVs7NBNuFgKMC56DrNwa4noNUS4I5mH6/iZl50QQFqTAxYI4/xcqYSxHS/5i0iFawXlsEOKWZSPZ2xJOwTkofXsLy90dMDEmFelMkKuZObjLCgE9Bsqjogd/bpwMZwumrPwRtXgDFk6whfuUbNzt+ICKTf5wnxSNpPjZiArwgJtnNHYWK+M96NuH7rEQdzNHYsT4GKSlJSBychS23u5kzkLD+UR4ff89PGKPoZp0ZKLnBzDL+XtYe6Ugv5GUhrn663uGI/FesCPpdfUKxfzspYiwF8Av9TyTGwMkd3+E34JLOrMmPRcSMcLSERMj52BuZCB8fSKx9kItV08K9BRvQoiDJdseAiOXYOOCiRC4hGPT7f9D3UBpN5s+M/Wp7lArsGU8Dzbui1GobhQSlDHt2nI6ftePuiZrYNuDtdtsHH2pzEHfjSUY7RCPi6xBylB/TpnmkdEHlcHBzNi1QZsXPcfBmS6wshiH1DxmnVEfnh+Kh481KR+ncZiSmI3lUwRwmpCKXDKgG7jdS/F08w/gW45EuvK5MMFM/pj2tDsI1t9pHgHKm/ZjmuV3GJlxi5zJ0MUKPwvbRFxm+ylz16N8LkM/0yEuQIodD1FH2oiRKNBffwYL3C3BvMr1yYgfYFvyz3hqMNQcRj4qING/NOCNvB9dLcx6DSMVYe47s0gh7HqnLKcPIohVPSiDXITuTqFyRCkTovudXmlKypDlxSx4VfWAJlBI8K6jG6KP9B/y/k60tnTgvaksqWcBhHjf3or2XuM/VF6nE30qLcAhFXaw1zcsMgUk7zrR/bEJNoFc1I0uLm2y3i68Uz1PlwrRwdSZiXSzDCqPJL29JL19TOXJIBJp6kn6gRm/M2noQltbD8QflSUp3ne0oLWDs4GPxFz9SZlyYJNJZKeO0enxgdhYQAyONen+RiERoqu1GS3tQqNtXCHpRWdXH5t3mUj00X7AXPpM1icLs5B4HMZm3lHPNDDInm9DoOcy3B2gqXwMpux6UBDbU7VniYiZ49BigHbPxEnx9Viqkxez+etvwcvnqvglDP1oqniEum7NXcXNFSitbFfb2ZcoL4qSoRcd7DNLlehgkKB0FVHSo1eyRwzi9iqU3CzEn08a0a1jT8aCFYlQcyAabu7JOFnGBIephU5sog/tqOWCxrDxiBgk7ajTPv7wFjXMb5694T4gP/nYQFc6z2IVXOAdck1izCpowJvhoA8VJzZg5+V6tN1agcDQXXj5KT3SUNCXi3ieHZIvD0aI/kP5FvJoFgU6r6aTUfdveGFyOu3vp+/JSWzcXoD61ltY6ReKn17oNgrJo6PYd4t7XPJPpK8CpzbswJX6Vtz+0R/hu17qCNGhzt8/vry+YoZBdEjxaN04WHusIv9LUHMsAb6eU5CxaTs2zffHaO+FuPCKkcrGgxXJmwuxPXI0rO0DsGDVGqzLOoxS3WhJ+G2qHXjMe+Pco4L+wnSM/M5GE8dB/BibxlvBK7OIHHxioCsd0cE8650MG/tArMyrY49pwJvhQojSXfMQERyOuIx9KG79lGHWUCBB3Zl0RAYEYkbaITxWvwv8b+JbyONgEKP23Ab8VMQFffsKEZbsQkJYCCJmZ+CXu63Em/7L6C3BT3OnIGzKbCzdW4y2f10Gvx2+uOhQ9BRjtY81fFbe4xYdjkRGIbfASdGKYzNs4ZZcgHcmgxUp0HYkEraea7jomIb05s+Hs20sznKL0+4u9UFggA+c4s4p40KIi7B09BT82ij/9EBXWqJD3lJARFEEtnPPGWnAGwqFQqFQBuaLiY4ZO6/g6LqFmBMZhdRtV/GK9LDCC/Gwt5qNs+pVWcoFjTaeq1AqMRWsaGDRgZ48JAkcsZB540LyAGt+mIuTtzZiklMSu1CSeQb4Q9g+MOu0PjnQlUp0HL+DLRHTsPm+ZtRDA95QKBQKhTIww/B4RYUyMIyN3QJo3k6To3FvKGyc01HELIYyGqxoEKJD0Y2L8wTshmXvH2YhIPYk2pkFYF6uSLv2Ds+3BmLqnnpyN2UaPinQFSc65m5YBz8bLywrVO24yF2TBryhUCgUCsUswyg6gPd5CXDQCSctRXm2D/gTt6JS6xmdbrAijejQCiqph3IjM6dxq3EkKxCxx5h7S1C8zAMe6b9jV3go9tQob/DJga5UMx35Xfhrox/s3Ocjn90sAzTgDYVCoVAog2DoRQf7aikPM/QC6jAo2k5jjmAEks5zq4JFFdjqZ4ugbc8gNRmsiHTaJ6LBd0yBiaCTLIqOU4izH4kxXjPxe7PyzqLCdIx294DX5J1g4/YQPjnQlXZQH1E5tgfw4TrrKBqY875IwJtvgCEMotZXVYJyLsgYhUKhUL5Ohlh0qAL3fIcRoVm42azfCcjwpmAVpo7xQfjsOYjy80HI4tOoYd6F/nDHZLAiWe1hRI+whJNnCOatyUWt+vGMFoq3OBnFB3/qAahfqe8tQKqjJQK3vdRazf0pga6kBgGJxBU7EGJjg4kZBeS8LxHw5sug6H2Gc+uYYEuTERrgj+Apcdh+WxNwazgZuiBqCnQWb0Jk0FJc5xbkUigUCuXrY+hnOgYDF0iq0zBakslgRQrJO3R2i4auc/wSga6GOODNkKPowdXUkRg17yQamfvIOlC6IxoLDhvOSukjfrAFqXsqlOkfMoYyiJoCrWcTEJxZOPCeKRQKhUL5W/h7RAdFyQABb4YcJoLnGB4ifn2tJYikkEg0kkPSWYPSm9dxs7RB8waRqBqHopzhseAEHj5+jCe1HUQkyPG+uRr/VYVfJkh7GlGrjsimgKitGo2dMrx/8xh//tUElZ76YkHUJH9hY+BcnDG2WyqFQqFQ/nao6Pg7Ge6AN/I3ODTNBrYTV+BGs+HcwvuKk1ibmoK05Bj4OVrBPe4k3sjlaLmxFVGjLOEYkIQ1q9dgw6Ei3NkWCicL1X4GCnTcWgV/a0tud1EZ6o7FwcPCHtOWbkRKoBtsBQtwpe9LB1GT4MFKfyy++iWniygUCoXyqVDR8Y3RX3kUC8aRDtz+ByTvuQ0j2oOl5/w8OPATwUa/Vm+3XqaekVA0H8R0Zst41StFskrsmKTa0pwgvqK1V40YQqFkGIKoKdB2OArT9jR89sJUCoVCoQw9VHR8i/TV4+qWWPhYf48RIZtRbGR3UUlRBtx5cTjPvL5rTHS0HUGUjuiowe4ALdGhfsVYs+p3OIKo9V9IwOSNQ732hEKhUChDARUd3zB9Lw8hztkSvlmPSCctR0fpEWSlzEN8YgoWzfCB7ZCKjuEJotZ/MREB6/+iooNCoVC+Qqjo+KbpR36CDWznXcD77jzMd7BD1P4G9nGG5JaxmY5SPdHhibUlgxUdwxFETYHOYzEI21HFPb6hUCgUytcEFR3fEt25WJd5CU2qaYDee1jtzUfIT9WQvPkVEZYOSDzXQbpu0sHfTIeb6lGIogunonhwSbmiCVz2LhcJfD5m7G9UzipInmP7JB4bRZbt8FXB1C5qFnV++SBqTITbQCSxm/so0HHvADZvv4x6Ou1BoVAoXwVUdHxL9FzAfIEVnMdHYl7sDASP80XUqguoYyYW5C24lOYDe0tH+ATGYEX2fIy3ECAspwQ9ChnqDs2EGzkeFzwHWbk1ECt68OfGyXC2sIbbWH9ELd6AhRNs4T4lG3c7NMHURs3cjVL1zMYXDqImb8KhyDD8xIa8l6AwzQmWvEgcbVXdn0KhUCh/J1R0fGsoJHjf2Yrm5nYIVc9K1Mgh6u6EMiaaDMKud+rHKczMgeRdJ7pF2h04+ayXfNbHTFvIIBIZXNA4XyiImuRJDsIif0UDd0F5TyOeVrdr5YFCoVAofydUdFC+fgYRRE3RdQ/ZYaHYXNbPfUKhUCiUrw0qOihfPwMGUZOj6UIOtl9vpgtIKRQK5SuGig4KhUKhUCjDAhUdFAqFQqFQhgUqOigUCoVCoQwLX5HoEKHpaQWaTKwDlHY34NG1Cyh+RXfVGHL6X6Mk9zD27fkVF/7q0H2bxAAJumvv4fKderp+YrgQNeFZRROMNg1pNxoeXsPFu68GqLevGQX6W5+jOP8anr0b+tebJV21uJ9/F/WDNNj+1w9w8dBe7P01F487hq9Uh9/Hmfe5aszZ3xAhaSrDw8Z/3ntmfVUlKB9GG/k3MMSiQ4aG3OWICQtFREQkoiLJX1QClu+8grqBLLb3POKteZh5uJWLyaCNGNVH4+Dx/Qik36AvQH4ysgZcXBaNqaHTsPCXx+hlCvrDU/wUNh5J+wtweKEfJmRehc4eanrI6k4jYZQF7BLy2cillC9P77m5sLOajt+NxBsRVx3FXHcLE/vXfCZqe5mCadOmY8a0aYggbTs8ciseDOXNFO0ozgqCvWUofh3qDldWhzNzR4NnnYBLgzBYydNdmDo+AQcvH8KiSb5YdtVcaxhK/gYfZ9bnajBnf0OBtP4kkgJn40CF4bYGXzcKdBZvQmTQUlznNqKkDMzQz3SIC5Bix0PUkTZSJWQEU38GC9wt4bGkkPuBKSToqG9Ap6n2JjyPeTwqOj4XccECOFpOxYEmpXOXPsyCr81cXDQSa4tB/GALUvdob6AmxrUUAeyp6Bg+JB1oqO80ISqEyI3jmRYd4gfYlvwznn5iVFbWXqwicbRN6VRlHcXYOC0Dfwxx5Usfb8B43hcQHQTx1RQ42QxGdEjxaN042M/JhYnm8GX5wj7OsC0P4HNVmLW/z0T+BsdnB2Ll7Xdmhc/XiwKtZxMQnFkIJg4yZWCGXnSwe26oRAeDBKWrPGE9eiV7xBx31ZSi6Fohyurf6UwJi9urUa8zVSVFd30Zbt24jfKqY1R0DAGSqwvhpOpEFF2o2R8LJ14kfi4pR1WL3nSUqBqHopzhseAEHj5+jCe1HaT2JLi2UCk6RP1teFlyB/eftxoIEElHNUpv3sCtsgb0mOtHFH1oeXoPhcQeHlS+1VxH3I6qBzdxs7gCr7p161whakNNQydkfa148aAId8ub2alfBUlPVUkRCotfol3rFEV/K2oauyDtfYOKe3fxsFbfgZqySQVEbdVo7JShr7USJbeL8byVS6GoFdXlj1FeXokmodLSFd0NeELKqbyqjT3WhXmEUI1XXVL0vqnA/TtlqOvQS0VnDSmz67hZ2oB3OmUmRnt1PbSbhrS7Hg+LCnHncRWOx5naqVeEmgPRcHNPxskyJq21UN/STPlqo2MvHIoPjBUwmG7LTH77mp/i/o3rKLxfibdaBmLMNqRPNmEiIzoaReiqLUPx/ado5spVzQBpFrdXoeRmIf580gjtr9k8qEQHsfkGpt4el6OySXdkreiqxsFYAWwjf0JpeRVaVc1hMLYofIPy4r/QZCRoHalY1JbcxI3CMjToVizBuI8TtVaRNJJ0vmjhBJCC/O4J+ewJsRuVbJCgs7oERdeL8LC+x6jdvn/zGH/+1QSR0bbMZE3X5yqETagoLsT1wmKUv1bveqRrfwoR2qob0SXrQ1vlA9wpfoY2PQcg6ahB2e1bKK0mbe3DO7TWPiXp1qtPgqxqJ8Kn/4b/qpNArl1VztbPC1I/7BmKbmWdkTpR3cekf1EI0fSkGDeJTf5Z/hr6JmTAIPLC5v/lAxSRMqlo7DZsZ5K/sDFwLs60D3QzCsMwiA7l6MHaYxX5X4inJ1YjLTkVqTET4WLpinkn35DGIkPd8Th4WNhoNgiTN+FyJvnNyClIW5ODbVmx8LGgouNz0elEJBU4Ee8LvoU34lZmYW9hi5bjkqPlxlZEjbKEY0AS1qxegw2HSvFOoRQd/OBM7FiegqSYIIzm2SFgUxlxFwxSNJ5bhODAOVizaQMWBbrAfeZh1Bl5nq5ov4VNUwMQs2o39q6OxGgLZ1K/IkiqjyNpnCcilmzGjuwFCHLzwaLzr9g1JLLa45jrTtI0dQW2L0vBfPb+fPilbsO25cSuEmfB38kSTlP2oYr4ZsmLg5jlQo4jliIrNR5zpnrD6XsBQjfdQzdroGZs8hhjk3aIyNyE5fMTEBfoDj7fDzmlJKfiSuwJ5cPKPR2F3BBH0fI7omx4mLy1QvmBGgleHoiCu4UAkZnrsDg+FtPHCcATBCPnXjfbTt5XnMTa1BSSjhj4OVrBPe4k3jCVIavFydiRsFY/HpCjKX8p+c0oRKSuxdYtWZgz1tKo6JA3F2J75GhY2wdgwao1WJd1GKXvFGbLVx990aF414o2thc0VW7Mj9pxOzsCk6NWY8+eNYhys4QbSZ8522BFh5UvFqxfgYVzoxDoygPfMxFnuIUY5tMsQc2xBPh6TkHGpu3YNN8fo70X4sIr7ltt0SGvx94gK2LTK5Cv98xXUkHu4cuD9bjZWL3uZ9xslg/OFsOXYfP8IIziCZByWW+ORFiBU6tIGZG6jZvgBBuXOTjNVizBjI8TV+7GFGsLeP9YzO0xREbUR2fCwSEGx5l8SRuRmxqIkLhVyNmwECHOrph1iNlsUWW39pi2dCNSAt1gK5iPo5f02/J9PGZ/p/G5svpjmDs+HD/uPYjdaYEYmXDR0P7I8Qnm2DYcyzcuRUpCDELceBBM2owy1gEo0Hb1RwT6zkTW3n1YHzkK/JFhSEqch53F+hZKfns4GhE/1Wn5HTFe7A6F/XcjkXFD3bBwNJIPfsBWVIjM+BdZPY7H/oCIpftwaOdiBLsmII/rTowyYF4IH6pxIsEbXmHpyNmWjRR/d4xfmIv/Kk2LQ4IHK/2x+KoxxUnR54uLDkVPMVb7WMNn5T3l92p6cGGuHQSJl5SjW/EVpKp3JVWgKy8RrvYzcfQ1V7uiC0igMx2fjX4nouOQ9TGypT3TwFQzHcpTpHi53R/8cevxmHTyirdnMNcpGD9zKkP+5jdE8DyxRn8RABm9XEl2w5jM29xIToyWlzXoELXg2Ax79nGcytm2EWcrGJGCK6wPEuOPZCP398rCX9wAUHRvBbysgrg9WPrZnWydFl7l8iBGzc/hsLcMxt46jatTYs4mCdKX2OnHg8/aMnJX8uv8JDjzo3GSe54rr/8ZYc6JyDe2DKA/l9ivAIuucuUgrsa+KXzYTN4D/WT0nJ8HB34iLnO3FV/RPB5QdOZhvpMA0Udecx2u9k69+pCyOxIJW881KFN9KR+ofHVh7cNiLOZl78Lu7RuwwD8EW56oRtoqtMuNjMgLUjBq9FLc4fpfcXMVajskZm1DPdPBPV5RdFxBGunQRy65OWCa5c1HEW1HOqlCbmSuaCW/t4VbcgE75a2xcTlaL5POaOpWlPYo60wXPdsesKx0bVHcKzRSB1r0EBuwtcX8Qfm4HlxKdIRT/AVuw0MZXmzzh+/K+2wZvz0TB9fJP3FiXo43v4WDTwZ27KbPOnYrhpDZ78BYW9b5nRyv9oVCoN5gsQ8N9S3sf9r2Z+xY+mIHAq28kFVG7EJWrdxtmggJJmmy2t0I4U/HYSLgDJGgdDXTWXMXUtGTjwUOtog5/pbklMAIxWAXzM/rMWtD8sZfEM7nNqkk9NXXo9XYbbUwmxdSJi2kvh3JwOKm2rSIrfGdkVqg3ViIXRyOwrQ9DVriiWKKLyY6Zuy8gqPrFmJOZBRSt13FKz27YgzulvbW5TpboffjygIymtbeYZSKjiFh6EUH0H0qBrZuS3GX/Oh9fgIc+ZORsWMLNqxIR+pcMgL8nofZJ9U1qaS/AAsFdsQB6z3S6b2ARBse4s5oGrXs+Vb4WRLHwnpUE/d3Jff/oDyW1+9BCM8Xm8sZxyHGpQS+lugg2Wo5hBmWzA64evc2a5MM3TgzyxqjMu8oryW8hsUudpjNOkcyEj0cCY/5l2Gw4z6DOB9JNlqig/n9wemwsY5Hnl4yJEUZcOfF4Tx3Ie066i9IhpNq91+WjxQdA5avLkrR4Y/VF4tw+8ZF7CGjwR0GokO73JRt14EIEP3SNWcb+qKDvWa6C2wCdg6YZuGFeNhbzQa7uTCLDJVbJ8LGcxVKSZZU5Xfydg4iIzbigXKKywh6tvUJtmiWD0VY6mKNuWcZ6xrYxwlJh+gmSMBF5geyZ9jmNwk5bNkLiU3bQxCUjl1bsrAqPQUJgW7gWc3Caea3BnZLMNaW9X4nLMyAJ280YjZfQpXWYyB9H2HgM7pPIZbnhuW3yZWlj7HR2xoRvylnveTNBzDd2h87X3LCSgcJCpcEYPU9dYo4hLie6gqH6BNg9Lyi5TCi3BeggLQHs/6ltxBLR/IwJioHl1/qP+4zjtm8kHRcnMcHf/YZzXoN2XNsn2AFr1Ul3AdK+i8kYPJG7fUyFFMMw+MVLeQdKDuyjhjKXMxPXohoYpx8Yw6ejFSOTOPBOfW6poFQ0TEksI1siEVH75nZpNPPxJ0PpJM7NB185xRcbGxGc7PqrwUdQl0XoGg9jJlWzmR0qlufzOczLO2RUqBJkLxhH6ZYuiDjJvNbc/dXHssbye95PthkQnSg9xzmWvGUzn+wNsnSi7OzGdFxm7tWP25njoRj9Em8lXfhXJwnGQGxZxpiIDqISzsbB74VIy7k6Cg9gqyUeYhPTMGiGT6wNSo6uPJ1WIQbXF4/VnQMXL666NsLFHLImX9NlRvTdqfz4LZYPz3mbcNQdEjxaK0X+BO2DJBmMXtdG7sFuKL+Wo7GvaGwcU5HESknZfnFYePaibAfm4mbnQaeiUPXtj7FFvWRd5Th6FoiCuYkInXhTIzncXY3GB8nvIF0VwcijnsgqchBUCg3s8Gd65aSi1fqcmT+OvCeKb5PFB3M7EZt3nrM8rSBtXMYNt9qZz/V9xEGPqP3DOJIR72M7ajFKN8WBFe/Fbj44AHyVgZi9NRfUG20N5bg+qJJWGUgOkjLupUJD7tZOPVWju6zczA2pYC0yYH9S19NHrJnesLOwgVTs29hoGUWZvPClrMVHOcXaOpX3ohfQqzgxszAadF/MREB6/+iomMQDKPoUKA7LxHOtpE4UM9UoQS3TY4qe4hz54E/4xjUa4+o6BgS9DsRg0anjdpRlWocFfnPXKffe34e7HmxOKcZHBqnNxcJNlaGr+sJ85BkqzszIi3PxnirSdj+nPG4ny86ZNU7MZmdQv3wETbJoC86yNXvrcBYuxicariMVO9UXDU6zUEwEB0y1OwIAH/sOpS+zcN8BztE7W9g8yS5ZXqmo4fklW81E8c1DWNQooMZ8bMMWL666NuLEnNtuRcX5vJhM/0wdE4hmLMNQ9EhRH6CAILYswOm+X1eAhxUo3wWKcqzfcCfuBWVJEvq8ut6hM2TbOCRlIc2XQ3MoWdbn2CLOii6kZ/oCIfI/WhgfvDhltZMx2B8XD9uZYyEc8I53M0OQPShJm70rixjW1I2RpuZWdGh1ZaN/Y7hw2tcSSfC94ct7KG+jzDwGTqigyBvQX5mApZt34vfL5ahRS2Q9ZGgeLkfMq4bWi5pWFjlYY/YE40oSPZB2h9KMT84/yLB64J0IvAmYNszQ5vWxnxeGBu0A58MKjSmVY5N3jz4b33OfcCgQOexGITtqOIeeVLMMfSiQ3wVqczjlYMtup0JaS5vfp0CG0E8ctlWJkbREhfN9CJ7ng2S8pjFOHLU/RwKPs8f6+91KhsaMzrlCbBQM5yhfALs64NW03GkRVk77DEzxW9sDZSiC6eieHBJucI902ZQvjJrF5/HLRwl7vNUDPgu6bhFnIvy+bodQjeXoEvl2GViiPWHAIoWnIwWwMZnOYreqpqqDNIPbTgT6wDX+FxulCLC0xx/CPy34zl7DfP3Z2DWVoTyvJHNLvLQEx1khH4z0xt2E3LwRPIxNsnQgzMxPLinF2kct+QhNowTYFZqIvwXXdUqJz30RIe8oxDLx9nAL+cJRG9+RYSlAxLPdbBtRnwzHW5aj1BUdZRPkiGv20sEFQ9B6+6hky1fIc7H8uC44ApJvT5EHJyIBt8xBZzPZjsf8+Wri8peDnP2osRcuSnQenwWHC19seLmW7UTlkmlZm1DX3T0Ve7BNDtXpOR3DphmRdtpzBGMQNL5dqXPEVVgq58tgrY9Y0ee2uUnKt+KyTYjEHu0wcioVGVbF5W2NWBZ6f1eH/kb7A+zwoh555XCQnwTGc48xJ5iKnZwPk58dznGCPwREhCPs2p1Ikczs9bANhhbSrhzCTKxWJknld1e1EqVsbasY98yVF3NRyW3DqfvjxS4TVSKDu3yM3ZMGiDpqF2RWcTZdt1PmDI2BSdLlG8JlT+tRbtRty1H/Z5wRBn0FQwSPMryhuPMVMyfmIZrnP2asyHZy6u49FydAaQ6T2JFh4KIzTM/n0Cpuvw0mM8LEe2nYzHCKR4XuCkTUUUOAvn+2PFM23oYkRuIJPb5ngId9w5g8/bLqDc0MAphiEWHDA3nE+H1/XcYEZrFrv7WRt6cj3RvMgpy8EJIzHJsSvKBtSAEW0nDqWPP+x4escdQzXQefc9wJN4LdhZkFOcVivnZSxFhL4Bf6nnlxSgfj6wBFxI9wfuPEyJ3/4VeKXf8nRtm7S7RjLjUyFB3aCbcLAQYFzwHWbk1eF+fi/meFrByj8PxKtIwRc9xcKYLrCzGITWvkbgRCRovLEUIca62I7wwaUIgojKP4ykbiUwXWdM1rJ/iShyvC3wmhSA2Yx+KW+SQvSnAmrCxGB86G/Mi/TE+cAnOVCu9gmyg+yt68HBbGJz+Yw3/lUVktM2IDhvwx03H/DkxmDbeHSP90nD6pfJ6H2OToucHMMv5e1h7pSC/UWXbUjzd/AP4liORfp1zeMZgRIc1D77TEhE/ayomurkicNFJVDHJICPDS2k+sLd0hE9gDFZkz8d4UuZhOSXoUdfRSMw9VkVKtw/PD8XDx9oStk7jMCUxG8unCOA0IRW5RkJuymoPI3qEJZw8QzBvTS5qifM3V746qO3FAeFZhdBuzqbLrQcKWROurwuHu5U13Mb6IWxWBn65wyxKNG0b0iebEejih5iEeMRFBmKM8xjEbC+G6kmI+TTL8KZgFaaO8UH47DmI8vNByOLTqGG+VuVBXX5iPN0eBHvr8Vha0Kw8nUNtW65R2FOiFICDskWt3+siR0v+Yoy3sYLz2CDELctGsjepi+Ac5ULWwfi4Dw+wxtMSrskFumuFJI24mBkEN7aMf4BfwAwsP1aBXoXKB3+PUTN3a3W0+m35JV7q2LcEdzNHYsT4GKSlJSBychS23iaCT7/8DMpThMr9UXD7zhK+yXlgNKO4+hfEjfPBBF9f8ucDLyce+N5r8UB/kQ9BcvdH+C24ZHTGRko6+Ek8K3ik3eAWmzOYtiHJ7aXwEIxHXOpiJEUEY1bOHXSR7EtK18HHgplV1Zt9H0ReiAHgyqoweHuHIi5uBgK9g5BxulpXZMqbcCgyjFu4LkFhmhMseZE4+oWCqf3TGfqZjoGQi9DdKVQqcpkQ3e+U6tgU0t4uKH9CTEKsK2IowwFpzO860S36yAYk70dXC/OsdSC5L8P7jjZ09evXrRz9nS1o7egjv/gcNDMd74XtaGvnbE+bj7RJfSSla+HrsRR3jfTbatQzHUK8b29Fe69+KuQQdXdCWVwyCLveEYs3g1STTolITM42jULyDp3dIr1OcQjKd4Bykwk70NbZb5g2Y7YhlUDC/JC5ZlsbesTG7G2ANHPX7ez7PIsx5PPKSi7qRhdX3zLGn+k9bvgcHyfv70RrSwfe65uTUQZqy1LSFpl8Gmkjg0RWsx9Rk5bhjmpmjaB8q0T/ER3HhzJkBcTgGBesUAcJ+c7LE8tvG2lYJvyLlNgcUx46H8ueY4efJ340dp1BoiznThgzLcmTHIRF/ooGLgvynkY8rW43336/YYZfdFAow0ofLs7hwSFJazHYUNBXgVMbduBKfStu/+iP8F0vzTvqvlzE8+yQrHoPlkL5FyK+ngZXhxn49Zny7RHZu1r8sTYUfqmXDdb4KFGg82o6QmJ+wwt2OqMPFSc2YOflerTdWoHA0F14+akKSIXkEY79PPCi0k9B0XUP2WGh2FxmZBqHYhQqOij/aiS1Z5AZEYjgaYtx+C9lIK4hobcEP82dgrAps7F0bzHazA6BJag7k47IgEDMSDuExyZf2aRQ/uHI36L00BokR03D9MhozE3MxLbTf6HdbPsQo/bcBvxUxLRPIUp3zUNEcDjimMetrUM9azWUyNF0IQfbrzd/5mzstwUVHRQKhUKhUIYFKjooFAqFQqEMC1R0UCgUCoVCGRao6KBQKBQKhTIsUNFBoVAoFAplWKCig0KhUCgUyrBgVnRY/L//0D/6R//oH/2jf/SP/pn8+xjoTAeFQqFQKJRhgYoOCoVCoVAowwIVHRQKhUKhUIYFKjooFAqFQqEMC1R0UCgUCoVCGRao6KBQKBQKhTIsUNFBoVAoFAplGAD+P++3f4exM0kkAAAAAElFTkSuQmCC)"
      ],
      "metadata": {
        "id": "y9ZLSotOJULi"
      }
    },
    {
      "cell_type": "code",
      "source": [
        "X = df[['Category','Page total likes','Type','Post Month','Post Hour','Post Weekday','Paid']]\n",
        "X.head()"
      ],
      "metadata": {
        "colab": {
          "base_uri": "https://localhost:8080/",
          "height": 206
        },
        "id": "JC5uYA-VJiaa",
        "outputId": "589fe124-7677-4b17-a96d-50931ae7211c"
      },
      "execution_count": 4,
      "outputs": [
        {
          "output_type": "execute_result",
          "data": {
            "text/plain": [
              "   Category  Page total likes    Type  Post Month  Post Hour  Post Weekday  \\\n",
              "0         2            139441   Photo          12          3             4   \n",
              "1         2            139441  Status          12         10             3   \n",
              "2         3            139441   Photo          12          3             3   \n",
              "3         2            139441   Photo          12         10             2   \n",
              "4         2            139441   Photo          12          3             2   \n",
              "\n",
              "   Paid  \n",
              "0   0.0  \n",
              "1   0.0  \n",
              "2   0.0  \n",
              "3   1.0  \n",
              "4   0.0  "
            ],
            "text/html": [
              "\n",
              "  <div id=\"df-213eb038-5b66-4bfc-90c3-727ad923717a\">\n",
              "    <div class=\"colab-df-container\">\n",
              "      <div>\n",
              "<style scoped>\n",
              "    .dataframe tbody tr th:only-of-type {\n",
              "        vertical-align: middle;\n",
              "    }\n",
              "\n",
              "    .dataframe tbody tr th {\n",
              "        vertical-align: top;\n",
              "    }\n",
              "\n",
              "    .dataframe thead th {\n",
              "        text-align: right;\n",
              "    }\n",
              "</style>\n",
              "<table border=\"1\" class=\"dataframe\">\n",
              "  <thead>\n",
              "    <tr style=\"text-align: right;\">\n",
              "      <th></th>\n",
              "      <th>Category</th>\n",
              "      <th>Page total likes</th>\n",
              "      <th>Type</th>\n",
              "      <th>Post Month</th>\n",
              "      <th>Post Hour</th>\n",
              "      <th>Post Weekday</th>\n",
              "      <th>Paid</th>\n",
              "    </tr>\n",
              "  </thead>\n",
              "  <tbody>\n",
              "    <tr>\n",
              "      <th>0</th>\n",
              "      <td>2</td>\n",
              "      <td>139441</td>\n",
              "      <td>Photo</td>\n",
              "      <td>12</td>\n",
              "      <td>3</td>\n",
              "      <td>4</td>\n",
              "      <td>0.0</td>\n",
              "    </tr>\n",
              "    <tr>\n",
              "      <th>1</th>\n",
              "      <td>2</td>\n",
              "      <td>139441</td>\n",
              "      <td>Status</td>\n",
              "      <td>12</td>\n",
              "      <td>10</td>\n",
              "      <td>3</td>\n",
              "      <td>0.0</td>\n",
              "    </tr>\n",
              "    <tr>\n",
              "      <th>2</th>\n",
              "      <td>3</td>\n",
              "      <td>139441</td>\n",
              "      <td>Photo</td>\n",
              "      <td>12</td>\n",
              "      <td>3</td>\n",
              "      <td>3</td>\n",
              "      <td>0.0</td>\n",
              "    </tr>\n",
              "    <tr>\n",
              "      <th>3</th>\n",
              "      <td>2</td>\n",
              "      <td>139441</td>\n",
              "      <td>Photo</td>\n",
              "      <td>12</td>\n",
              "      <td>10</td>\n",
              "      <td>2</td>\n",
              "      <td>1.0</td>\n",
              "    </tr>\n",
              "    <tr>\n",
              "      <th>4</th>\n",
              "      <td>2</td>\n",
              "      <td>139441</td>\n",
              "      <td>Photo</td>\n",
              "      <td>12</td>\n",
              "      <td>3</td>\n",
              "      <td>2</td>\n",
              "      <td>0.0</td>\n",
              "    </tr>\n",
              "  </tbody>\n",
              "</table>\n",
              "</div>\n",
              "      <button class=\"colab-df-convert\" onclick=\"convertToInteractive('df-213eb038-5b66-4bfc-90c3-727ad923717a')\"\n",
              "              title=\"Convert this dataframe to an interactive table.\"\n",
              "              style=\"display:none;\">\n",
              "        \n",
              "  <svg xmlns=\"http://www.w3.org/2000/svg\" height=\"24px\"viewBox=\"0 0 24 24\"\n",
              "       width=\"24px\">\n",
              "    <path d=\"M0 0h24v24H0V0z\" fill=\"none\"/>\n",
              "    <path d=\"M18.56 5.44l.94 2.06.94-2.06 2.06-.94-2.06-.94-.94-2.06-.94 2.06-2.06.94zm-11 1L8.5 8.5l.94-2.06 2.06-.94-2.06-.94L8.5 2.5l-.94 2.06-2.06.94zm10 10l.94 2.06.94-2.06 2.06-.94-2.06-.94-.94-2.06-.94 2.06-2.06.94z\"/><path d=\"M17.41 7.96l-1.37-1.37c-.4-.4-.92-.59-1.43-.59-.52 0-1.04.2-1.43.59L10.3 9.45l-7.72 7.72c-.78.78-.78 2.05 0 2.83L4 21.41c.39.39.9.59 1.41.59.51 0 1.02-.2 1.41-.59l7.78-7.78 2.81-2.81c.8-.78.8-2.07 0-2.86zM5.41 20L4 18.59l7.72-7.72 1.47 1.35L5.41 20z\"/>\n",
              "  </svg>\n",
              "      </button>\n",
              "      \n",
              "  <style>\n",
              "    .colab-df-container {\n",
              "      display:flex;\n",
              "      flex-wrap:wrap;\n",
              "      gap: 12px;\n",
              "    }\n",
              "\n",
              "    .colab-df-convert {\n",
              "      background-color: #E8F0FE;\n",
              "      border: none;\n",
              "      border-radius: 50%;\n",
              "      cursor: pointer;\n",
              "      display: none;\n",
              "      fill: #1967D2;\n",
              "      height: 32px;\n",
              "      padding: 0 0 0 0;\n",
              "      width: 32px;\n",
              "    }\n",
              "\n",
              "    .colab-df-convert:hover {\n",
              "      background-color: #E2EBFA;\n",
              "      box-shadow: 0px 1px 2px rgba(60, 64, 67, 0.3), 0px 1px 3px 1px rgba(60, 64, 67, 0.15);\n",
              "      fill: #174EA6;\n",
              "    }\n",
              "\n",
              "    [theme=dark] .colab-df-convert {\n",
              "      background-color: #3B4455;\n",
              "      fill: #D2E3FC;\n",
              "    }\n",
              "\n",
              "    [theme=dark] .colab-df-convert:hover {\n",
              "      background-color: #434B5C;\n",
              "      box-shadow: 0px 1px 3px 1px rgba(0, 0, 0, 0.15);\n",
              "      filter: drop-shadow(0px 1px 2px rgba(0, 0, 0, 0.3));\n",
              "      fill: #FFFFFF;\n",
              "    }\n",
              "  </style>\n",
              "\n",
              "      <script>\n",
              "        const buttonEl =\n",
              "          document.querySelector('#df-213eb038-5b66-4bfc-90c3-727ad923717a button.colab-df-convert');\n",
              "        buttonEl.style.display =\n",
              "          google.colab.kernel.accessAllowed ? 'block' : 'none';\n",
              "\n",
              "        async function convertToInteractive(key) {\n",
              "          const element = document.querySelector('#df-213eb038-5b66-4bfc-90c3-727ad923717a');\n",
              "          const dataTable =\n",
              "            await google.colab.kernel.invokeFunction('convertToInteractive',\n",
              "                                                     [key], {});\n",
              "          if (!dataTable) return;\n",
              "\n",
              "          const docLinkHtml = 'Like what you see? Visit the ' +\n",
              "            '<a target=\"_blank\" href=https://colab.research.google.com/notebooks/data_table.ipynb>data table notebook</a>'\n",
              "            + ' to learn more about interactive tables.';\n",
              "          element.innerHTML = '';\n",
              "          dataTable['output_type'] = 'display_data';\n",
              "          await google.colab.output.renderOutput(dataTable, element);\n",
              "          const docLink = document.createElement('div');\n",
              "          docLink.innerHTML = docLinkHtml;\n",
              "          element.appendChild(docLink);\n",
              "        }\n",
              "      </script>\n",
              "    </div>\n",
              "  </div>\n",
              "  "
            ]
          },
          "metadata": {},
          "execution_count": 4
        }
      ]
    },
    {
      "cell_type": "code",
      "source": [
        "df['Type'].value_counts()"
      ],
      "metadata": {
        "colab": {
          "base_uri": "https://localhost:8080/"
        },
        "id": "F9zq1Uy1vWGb",
        "outputId": "f531dd6b-1840-40be-9a74-f64204a94b8a"
      },
      "execution_count": 5,
      "outputs": [
        {
          "output_type": "execute_result",
          "data": {
            "text/plain": [
              "Photo     426\n",
              "Status     45\n",
              "Link       22\n",
              "Video       7\n",
              "Name: Type, dtype: int64"
            ]
          },
          "metadata": {},
          "execution_count": 5
        }
      ]
    },
    {
      "cell_type": "markdown",
      "source": [
        "Asi como se indica, como variable de salida unicamente utilizaremos: Lifetime post consumers”, “Lifetime People who have liked a Page and engaged with a post” y “Likes”"
      ],
      "metadata": {
        "id": "_qY3ogpGJ_uj"
      }
    },
    {
      "cell_type": "code",
      "source": [
        "Y = df[['Lifetime Post Consumers','Lifetime People who have liked your Page and engaged with your post','like']]\n",
        "Y.head()"
      ],
      "metadata": {
        "colab": {
          "base_uri": "https://localhost:8080/",
          "height": 206
        },
        "id": "HLK8Mdg8KM1C",
        "outputId": "10ea77ee-1892-44be-d411-07918429e418"
      },
      "execution_count": 6,
      "outputs": [
        {
          "output_type": "execute_result",
          "data": {
            "text/plain": [
              "   Lifetime Post Consumers  \\\n",
              "0                      109   \n",
              "1                     1361   \n",
              "2                      113   \n",
              "3                      790   \n",
              "4                      410   \n",
              "\n",
              "   Lifetime People who have liked your Page and engaged with your post    like  \n",
              "0                                                119                      79.0  \n",
              "1                                               1108                     130.0  \n",
              "2                                                132                      66.0  \n",
              "3                                               1386                    1572.0  \n",
              "4                                                396                     325.0  "
            ],
            "text/html": [
              "\n",
              "  <div id=\"df-c45f3018-ac83-402f-bd01-9521007aaba4\">\n",
              "    <div class=\"colab-df-container\">\n",
              "      <div>\n",
              "<style scoped>\n",
              "    .dataframe tbody tr th:only-of-type {\n",
              "        vertical-align: middle;\n",
              "    }\n",
              "\n",
              "    .dataframe tbody tr th {\n",
              "        vertical-align: top;\n",
              "    }\n",
              "\n",
              "    .dataframe thead th {\n",
              "        text-align: right;\n",
              "    }\n",
              "</style>\n",
              "<table border=\"1\" class=\"dataframe\">\n",
              "  <thead>\n",
              "    <tr style=\"text-align: right;\">\n",
              "      <th></th>\n",
              "      <th>Lifetime Post Consumers</th>\n",
              "      <th>Lifetime People who have liked your Page and engaged with your post</th>\n",
              "      <th>like</th>\n",
              "    </tr>\n",
              "  </thead>\n",
              "  <tbody>\n",
              "    <tr>\n",
              "      <th>0</th>\n",
              "      <td>109</td>\n",
              "      <td>119</td>\n",
              "      <td>79.0</td>\n",
              "    </tr>\n",
              "    <tr>\n",
              "      <th>1</th>\n",
              "      <td>1361</td>\n",
              "      <td>1108</td>\n",
              "      <td>130.0</td>\n",
              "    </tr>\n",
              "    <tr>\n",
              "      <th>2</th>\n",
              "      <td>113</td>\n",
              "      <td>132</td>\n",
              "      <td>66.0</td>\n",
              "    </tr>\n",
              "    <tr>\n",
              "      <th>3</th>\n",
              "      <td>790</td>\n",
              "      <td>1386</td>\n",
              "      <td>1572.0</td>\n",
              "    </tr>\n",
              "    <tr>\n",
              "      <th>4</th>\n",
              "      <td>410</td>\n",
              "      <td>396</td>\n",
              "      <td>325.0</td>\n",
              "    </tr>\n",
              "  </tbody>\n",
              "</table>\n",
              "</div>\n",
              "      <button class=\"colab-df-convert\" onclick=\"convertToInteractive('df-c45f3018-ac83-402f-bd01-9521007aaba4')\"\n",
              "              title=\"Convert this dataframe to an interactive table.\"\n",
              "              style=\"display:none;\">\n",
              "        \n",
              "  <svg xmlns=\"http://www.w3.org/2000/svg\" height=\"24px\"viewBox=\"0 0 24 24\"\n",
              "       width=\"24px\">\n",
              "    <path d=\"M0 0h24v24H0V0z\" fill=\"none\"/>\n",
              "    <path d=\"M18.56 5.44l.94 2.06.94-2.06 2.06-.94-2.06-.94-.94-2.06-.94 2.06-2.06.94zm-11 1L8.5 8.5l.94-2.06 2.06-.94-2.06-.94L8.5 2.5l-.94 2.06-2.06.94zm10 10l.94 2.06.94-2.06 2.06-.94-2.06-.94-.94-2.06-.94 2.06-2.06.94z\"/><path d=\"M17.41 7.96l-1.37-1.37c-.4-.4-.92-.59-1.43-.59-.52 0-1.04.2-1.43.59L10.3 9.45l-7.72 7.72c-.78.78-.78 2.05 0 2.83L4 21.41c.39.39.9.59 1.41.59.51 0 1.02-.2 1.41-.59l7.78-7.78 2.81-2.81c.8-.78.8-2.07 0-2.86zM5.41 20L4 18.59l7.72-7.72 1.47 1.35L5.41 20z\"/>\n",
              "  </svg>\n",
              "      </button>\n",
              "      \n",
              "  <style>\n",
              "    .colab-df-container {\n",
              "      display:flex;\n",
              "      flex-wrap:wrap;\n",
              "      gap: 12px;\n",
              "    }\n",
              "\n",
              "    .colab-df-convert {\n",
              "      background-color: #E8F0FE;\n",
              "      border: none;\n",
              "      border-radius: 50%;\n",
              "      cursor: pointer;\n",
              "      display: none;\n",
              "      fill: #1967D2;\n",
              "      height: 32px;\n",
              "      padding: 0 0 0 0;\n",
              "      width: 32px;\n",
              "    }\n",
              "\n",
              "    .colab-df-convert:hover {\n",
              "      background-color: #E2EBFA;\n",
              "      box-shadow: 0px 1px 2px rgba(60, 64, 67, 0.3), 0px 1px 3px 1px rgba(60, 64, 67, 0.15);\n",
              "      fill: #174EA6;\n",
              "    }\n",
              "\n",
              "    [theme=dark] .colab-df-convert {\n",
              "      background-color: #3B4455;\n",
              "      fill: #D2E3FC;\n",
              "    }\n",
              "\n",
              "    [theme=dark] .colab-df-convert:hover {\n",
              "      background-color: #434B5C;\n",
              "      box-shadow: 0px 1px 3px 1px rgba(0, 0, 0, 0.15);\n",
              "      filter: drop-shadow(0px 1px 2px rgba(0, 0, 0, 0.3));\n",
              "      fill: #FFFFFF;\n",
              "    }\n",
              "  </style>\n",
              "\n",
              "      <script>\n",
              "        const buttonEl =\n",
              "          document.querySelector('#df-c45f3018-ac83-402f-bd01-9521007aaba4 button.colab-df-convert');\n",
              "        buttonEl.style.display =\n",
              "          google.colab.kernel.accessAllowed ? 'block' : 'none';\n",
              "\n",
              "        async function convertToInteractive(key) {\n",
              "          const element = document.querySelector('#df-c45f3018-ac83-402f-bd01-9521007aaba4');\n",
              "          const dataTable =\n",
              "            await google.colab.kernel.invokeFunction('convertToInteractive',\n",
              "                                                     [key], {});\n",
              "          if (!dataTable) return;\n",
              "\n",
              "          const docLinkHtml = 'Like what you see? Visit the ' +\n",
              "            '<a target=\"_blank\" href=https://colab.research.google.com/notebooks/data_table.ipynb>data table notebook</a>'\n",
              "            + ' to learn more about interactive tables.';\n",
              "          element.innerHTML = '';\n",
              "          dataTable['output_type'] = 'display_data';\n",
              "          await google.colab.output.renderOutput(dataTable, element);\n",
              "          const docLink = document.createElement('div');\n",
              "          docLink.innerHTML = docLinkHtml;\n",
              "          element.appendChild(docLink);\n",
              "        }\n",
              "      </script>\n",
              "    </div>\n",
              "  </div>\n",
              "  "
            ]
          },
          "metadata": {},
          "execution_count": 6
        }
      ]
    },
    {
      "cell_type": "markdown",
      "metadata": {
        "id": "X25brD-gQdZM"
      },
      "source": [
        "#**Ejercicio-1.** "
      ]
    },
    {
      "cell_type": "markdown",
      "source": [
        "En esta tarea considera únicamente la siguiente variable de salida que se concluye que es una de las mejores en el artículo antes citado:  ‘Lifetime People who have liked a Page and engaged with a post'. Renombra dicha variable como “LPE” . Como variables de entrada selecciona las 7 variables que indican los autores en la Tabla 3 del artículo citado"
      ],
      "metadata": {
        "id": "tDzxmmp6K2AD"
      }
    },
    {
      "cell_type": "markdown",
      "source": [
        "Previamente ya seleccionamos las 7 variables de la tabla 3"
      ],
      "metadata": {
        "id": "tAXnnZp5K9X6"
      }
    },
    {
      "cell_type": "code",
      "source": [
        "X.info()"
      ],
      "metadata": {
        "id": "3nU2GuWYCy6C",
        "colab": {
          "base_uri": "https://localhost:8080/"
        },
        "outputId": "062ff339-3dbe-4a13-c12f-fb5d0f9c8b67"
      },
      "execution_count": 7,
      "outputs": [
        {
          "output_type": "stream",
          "name": "stdout",
          "text": [
            "<class 'pandas.core.frame.DataFrame'>\n",
            "RangeIndex: 500 entries, 0 to 499\n",
            "Data columns (total 7 columns):\n",
            " #   Column            Non-Null Count  Dtype  \n",
            "---  ------            --------------  -----  \n",
            " 0   Category          500 non-null    int64  \n",
            " 1   Page total likes  500 non-null    int64  \n",
            " 2   Type              500 non-null    object \n",
            " 3   Post Month        500 non-null    int64  \n",
            " 4   Post Hour         500 non-null    int64  \n",
            " 5   Post Weekday      500 non-null    int64  \n",
            " 6   Paid              499 non-null    float64\n",
            "dtypes: float64(1), int64(5), object(1)\n",
            "memory usage: 27.5+ KB\n"
          ]
        }
      ]
    },
    {
      "cell_type": "markdown",
      "source": [
        "A pimera vista salta que la variable de \"Paid\" tiene un valor nulo"
      ],
      "metadata": {
        "id": "Z-CJokEVNfGq"
      }
    },
    {
      "cell_type": "markdown",
      "source": [
        "Y trabajamos con la variable de salida \"Lifetime People who have liked a Page and engaged with a post\":"
      ],
      "metadata": {
        "id": "bvcJJHmALHer"
      }
    },
    {
      "cell_type": "code",
      "source": [
        "Y = df[['Lifetime People who have liked your Page and engaged with your post']]\n",
        "Y = Y.rename(columns = {'Lifetime People who have liked your Page and engaged with your post':'LPE'})\n",
        "Y.info()"
      ],
      "metadata": {
        "id": "0ulkqXVGCy97",
        "colab": {
          "base_uri": "https://localhost:8080/"
        },
        "outputId": "3709119f-9b8e-4068-bb2b-698309d0f062"
      },
      "execution_count": 8,
      "outputs": [
        {
          "output_type": "stream",
          "name": "stdout",
          "text": [
            "<class 'pandas.core.frame.DataFrame'>\n",
            "RangeIndex: 500 entries, 0 to 499\n",
            "Data columns (total 1 columns):\n",
            " #   Column  Non-Null Count  Dtype\n",
            "---  ------  --------------  -----\n",
            " 0   LPE     500 non-null    int64\n",
            "dtypes: int64(1)\n",
            "memory usage: 4.0 KB\n"
          ]
        }
      ]
    },
    {
      "cell_type": "markdown",
      "source": [
        "#**Ejercicio-2.**"
      ],
      "metadata": {
        "id": "xZhr2hkECzVv"
      }
    },
    {
      "cell_type": "markdown",
      "source": [
        "Realiza una partición de los datos con 100 datos de Prueba y el resto para entrenamiento y validación"
      ],
      "metadata": {
        "id": "cUbYzUjHNq6C"
      }
    },
    {
      "cell_type": "code",
      "source": [
        "Xtv, Xtest, ytv, ytest = train_test_split(X, Y, test_size=100,random_state=1)\n",
        "print(Xtv.shape, ': dimensión de datos de entrada de entrenamiento y validación')\n",
        "print(Xtest.shape, ': dimensión de datos de entrada de prueba')  \n",
        "print(ytv.shape, ': dimensión de variable de salida para entrenamiento y validación')\n",
        "print(ytest.shape, ': dimensión de variable de salida para prueba')"
      ],
      "metadata": {
        "id": "kGfAoOPkC1PP",
        "colab": {
          "base_uri": "https://localhost:8080/"
        },
        "outputId": "6a148d88-0ebe-49c4-f709-1e679ed89a23"
      },
      "execution_count": 9,
      "outputs": [
        {
          "output_type": "stream",
          "name": "stdout",
          "text": [
            "(400, 7) : dimensión de datos de entrada de entrenamiento y validación\n",
            "(100, 7) : dimensión de datos de entrada de prueba\n",
            "(400, 1) : dimensión de variable de salida para entrenamiento y validación\n",
            "(100, 1) : dimensión de variable de salida para prueba\n"
          ]
        }
      ]
    },
    {
      "cell_type": "markdown",
      "source": [
        "#**Ejercicio-3.**"
      ],
      "metadata": {
        "id": "NCunuooTC2W3"
      }
    },
    {
      "cell_type": "markdown",
      "source": [
        "Definirás tus propias funciones de errores para este problema de regresión. Los errores que utilizarás son la raíz cuadrada del error cuadrático medio RMSE, el error absoluto medio MAE y el error porcentual absoluto medio MAPE. "
      ],
      "metadata": {
        "id": "H7xTlMXlOgAR"
      }
    },
    {
      "cell_type": "code",
      "source": [
        "def mi_RMSE(y_val,yhat_val):\n",
        "  return np.sqrt(np.square(np.subtract(y_val,yhat_val)).mean())\n",
        "\n",
        "def mi_MAE(y_val,yhat_val):\n",
        "  return np.abs(np.subtract(y_val,yhat_val)).mean()\n",
        "\n",
        "def mi_MAPE(y_val,yhat_val):\n",
        "  return np.abs(np.subtract(y_val,yhat_val)/y_val).mean()"
      ],
      "metadata": {
        "id": "YXlcSWA-C4Dj"
      },
      "execution_count": 10,
      "outputs": []
    },
    {
      "cell_type": "markdown",
      "source": [
        "#**Ejercicio-4.**"
      ],
      "metadata": {
        "id": "chqk9jIDC5Pq"
      }
    },
    {
      "cell_type": "markdown",
      "source": [
        "En la página de la UCI, así como en el artículo de los autores previamente citado encuentras información en relación al significado de cada variable. Haz una análisis de tus datos y lleva a cabo las transformaciones que consideres adecuadas tanto en los datos de entrada, como en las de salida. \n",
        "Utiliza un Pipeline para evitar el filtrado de información. "
      ],
      "metadata": {
        "id": "BpWLDv1RPVh5"
      }
    },
    {
      "cell_type": "markdown",
      "source": [
        "Comenzamos definiendo el tipo de variables para las variables de entrada:"
      ],
      "metadata": {
        "id": "TQgfAFyBPmWJ"
      }
    },
    {
      "cell_type": "code",
      "source": [
        "#valores numéricos\n",
        "num_nombres = ['Page total likes']\n",
        "#valores binarios\n",
        "bin_nombres = ['Paid']\n",
        "#valores ordinales\n",
        "ord_nombres = ['Post Hour','Post Weekday','Post Month']\n",
        "#valores categoricos\n",
        "cat_nombres = ['Category','Type']"
      ],
      "metadata": {
        "id": "RBVSFwK4C6g9"
      },
      "execution_count": 11,
      "outputs": []
    },
    {
      "cell_type": "markdown",
      "source": [
        "Sabemos del analisis previo que la variable de 'Paid' tiene un valor nulo"
      ],
      "metadata": {
        "id": "FBef5LAvRii4"
      }
    },
    {
      "cell_type": "code",
      "source": [
        "df['Paid'].isnull().values.any()"
      ],
      "metadata": {
        "id": "7KXnlNzAC69Y",
        "colab": {
          "base_uri": "https://localhost:8080/"
        },
        "outputId": "e3b80e4b-b49e-48f6-a8cb-d9ae1beb75cf"
      },
      "execution_count": 12,
      "outputs": [
        {
          "output_type": "execute_result",
          "data": {
            "text/plain": [
              "True"
            ]
          },
          "metadata": {},
          "execution_count": 12
        }
      ]
    },
    {
      "cell_type": "markdown",
      "source": [
        "Observamos si la variable numerica tiene valores negativos o no, para saber si podemos utilizar box-cox"
      ],
      "metadata": {
        "id": "TiAgcl-7bI_g"
      }
    },
    {
      "cell_type": "code",
      "source": [
        "df['Page total likes'].describe()"
      ],
      "metadata": {
        "colab": {
          "base_uri": "https://localhost:8080/"
        },
        "id": "ppwVTDCeZbZx",
        "outputId": "17729fca-7914-4637-8ff8-633e169293c3"
      },
      "execution_count": 13,
      "outputs": [
        {
          "output_type": "execute_result",
          "data": {
            "text/plain": [
              "count       500.000000\n",
              "mean     123194.176000\n",
              "std       16272.813214\n",
              "min       81370.000000\n",
              "25%      112676.000000\n",
              "50%      129600.000000\n",
              "75%      136393.000000\n",
              "max      139441.000000\n",
              "Name: Page total likes, dtype: float64"
            ]
          },
          "metadata": {},
          "execution_count": 13
        }
      ]
    },
    {
      "cell_type": "markdown",
      "source": [
        "Hacemos lo mismo para la variable de salida:"
      ],
      "metadata": {
        "id": "-RK5im9PbuXH"
      }
    },
    {
      "cell_type": "code",
      "source": [
        "Y.describe()"
      ],
      "metadata": {
        "colab": {
          "base_uri": "https://localhost:8080/",
          "height": 300
        },
        "id": "rLAlQnXlbrqH",
        "outputId": "cdb88b99-eaa9-4d25-fed8-d0f2975561a5"
      },
      "execution_count": 14,
      "outputs": [
        {
          "output_type": "execute_result",
          "data": {
            "text/plain": [
              "               LPE\n",
              "count   500.000000\n",
              "mean    609.986000\n",
              "std     612.725618\n",
              "min       9.000000\n",
              "25%     291.000000\n",
              "50%     412.000000\n",
              "75%     656.250000\n",
              "max    4376.000000"
            ],
            "text/html": [
              "\n",
              "  <div id=\"df-fbebae05-f4d6-4066-8173-0bc4ad3c232f\">\n",
              "    <div class=\"colab-df-container\">\n",
              "      <div>\n",
              "<style scoped>\n",
              "    .dataframe tbody tr th:only-of-type {\n",
              "        vertical-align: middle;\n",
              "    }\n",
              "\n",
              "    .dataframe tbody tr th {\n",
              "        vertical-align: top;\n",
              "    }\n",
              "\n",
              "    .dataframe thead th {\n",
              "        text-align: right;\n",
              "    }\n",
              "</style>\n",
              "<table border=\"1\" class=\"dataframe\">\n",
              "  <thead>\n",
              "    <tr style=\"text-align: right;\">\n",
              "      <th></th>\n",
              "      <th>LPE</th>\n",
              "    </tr>\n",
              "  </thead>\n",
              "  <tbody>\n",
              "    <tr>\n",
              "      <th>count</th>\n",
              "      <td>500.000000</td>\n",
              "    </tr>\n",
              "    <tr>\n",
              "      <th>mean</th>\n",
              "      <td>609.986000</td>\n",
              "    </tr>\n",
              "    <tr>\n",
              "      <th>std</th>\n",
              "      <td>612.725618</td>\n",
              "    </tr>\n",
              "    <tr>\n",
              "      <th>min</th>\n",
              "      <td>9.000000</td>\n",
              "    </tr>\n",
              "    <tr>\n",
              "      <th>25%</th>\n",
              "      <td>291.000000</td>\n",
              "    </tr>\n",
              "    <tr>\n",
              "      <th>50%</th>\n",
              "      <td>412.000000</td>\n",
              "    </tr>\n",
              "    <tr>\n",
              "      <th>75%</th>\n",
              "      <td>656.250000</td>\n",
              "    </tr>\n",
              "    <tr>\n",
              "      <th>max</th>\n",
              "      <td>4376.000000</td>\n",
              "    </tr>\n",
              "  </tbody>\n",
              "</table>\n",
              "</div>\n",
              "      <button class=\"colab-df-convert\" onclick=\"convertToInteractive('df-fbebae05-f4d6-4066-8173-0bc4ad3c232f')\"\n",
              "              title=\"Convert this dataframe to an interactive table.\"\n",
              "              style=\"display:none;\">\n",
              "        \n",
              "  <svg xmlns=\"http://www.w3.org/2000/svg\" height=\"24px\"viewBox=\"0 0 24 24\"\n",
              "       width=\"24px\">\n",
              "    <path d=\"M0 0h24v24H0V0z\" fill=\"none\"/>\n",
              "    <path d=\"M18.56 5.44l.94 2.06.94-2.06 2.06-.94-2.06-.94-.94-2.06-.94 2.06-2.06.94zm-11 1L8.5 8.5l.94-2.06 2.06-.94-2.06-.94L8.5 2.5l-.94 2.06-2.06.94zm10 10l.94 2.06.94-2.06 2.06-.94-2.06-.94-.94-2.06-.94 2.06-2.06.94z\"/><path d=\"M17.41 7.96l-1.37-1.37c-.4-.4-.92-.59-1.43-.59-.52 0-1.04.2-1.43.59L10.3 9.45l-7.72 7.72c-.78.78-.78 2.05 0 2.83L4 21.41c.39.39.9.59 1.41.59.51 0 1.02-.2 1.41-.59l7.78-7.78 2.81-2.81c.8-.78.8-2.07 0-2.86zM5.41 20L4 18.59l7.72-7.72 1.47 1.35L5.41 20z\"/>\n",
              "  </svg>\n",
              "      </button>\n",
              "      \n",
              "  <style>\n",
              "    .colab-df-container {\n",
              "      display:flex;\n",
              "      flex-wrap:wrap;\n",
              "      gap: 12px;\n",
              "    }\n",
              "\n",
              "    .colab-df-convert {\n",
              "      background-color: #E8F0FE;\n",
              "      border: none;\n",
              "      border-radius: 50%;\n",
              "      cursor: pointer;\n",
              "      display: none;\n",
              "      fill: #1967D2;\n",
              "      height: 32px;\n",
              "      padding: 0 0 0 0;\n",
              "      width: 32px;\n",
              "    }\n",
              "\n",
              "    .colab-df-convert:hover {\n",
              "      background-color: #E2EBFA;\n",
              "      box-shadow: 0px 1px 2px rgba(60, 64, 67, 0.3), 0px 1px 3px 1px rgba(60, 64, 67, 0.15);\n",
              "      fill: #174EA6;\n",
              "    }\n",
              "\n",
              "    [theme=dark] .colab-df-convert {\n",
              "      background-color: #3B4455;\n",
              "      fill: #D2E3FC;\n",
              "    }\n",
              "\n",
              "    [theme=dark] .colab-df-convert:hover {\n",
              "      background-color: #434B5C;\n",
              "      box-shadow: 0px 1px 3px 1px rgba(0, 0, 0, 0.15);\n",
              "      filter: drop-shadow(0px 1px 2px rgba(0, 0, 0, 0.3));\n",
              "      fill: #FFFFFF;\n",
              "    }\n",
              "  </style>\n",
              "\n",
              "      <script>\n",
              "        const buttonEl =\n",
              "          document.querySelector('#df-fbebae05-f4d6-4066-8173-0bc4ad3c232f button.colab-df-convert');\n",
              "        buttonEl.style.display =\n",
              "          google.colab.kernel.accessAllowed ? 'block' : 'none';\n",
              "\n",
              "        async function convertToInteractive(key) {\n",
              "          const element = document.querySelector('#df-fbebae05-f4d6-4066-8173-0bc4ad3c232f');\n",
              "          const dataTable =\n",
              "            await google.colab.kernel.invokeFunction('convertToInteractive',\n",
              "                                                     [key], {});\n",
              "          if (!dataTable) return;\n",
              "\n",
              "          const docLinkHtml = 'Like what you see? Visit the ' +\n",
              "            '<a target=\"_blank\" href=https://colab.research.google.com/notebooks/data_table.ipynb>data table notebook</a>'\n",
              "            + ' to learn more about interactive tables.';\n",
              "          element.innerHTML = '';\n",
              "          dataTable['output_type'] = 'display_data';\n",
              "          await google.colab.output.renderOutput(dataTable, element);\n",
              "          const docLink = document.createElement('div');\n",
              "          docLink.innerHTML = docLinkHtml;\n",
              "          element.appendChild(docLink);\n",
              "        }\n",
              "      </script>\n",
              "    </div>\n",
              "  </div>\n",
              "  "
            ]
          },
          "metadata": {},
          "execution_count": 14
        }
      ]
    },
    {
      "cell_type": "code",
      "source": [
        "def Sqrt_cx(x):\n",
        "  c = x.max()\n",
        "  tmp = np.power(c+1-x,1/2)\n",
        "  return tmp"
      ],
      "metadata": {
        "id": "O9TqrxprofTN"
      },
      "execution_count": 15,
      "outputs": []
    },
    {
      "cell_type": "markdown",
      "source": [
        "Graficamos los histogramas de la variable numerica con sus transformaciones"
      ],
      "metadata": {
        "id": "3NWgeV3mbQB3"
      }
    },
    {
      "cell_type": "code",
      "source": [
        "df_transform = Xtv[num_nombres].append(ytv)\n",
        "sns.set(rc={'figure.figsize':(10,25)})\n",
        "k=0\n",
        "fig, axes = plt.subplots(6, 2)   \n",
        "for k in range(0,2):  \n",
        "  plt.subplot(6, 2,k+1) \n",
        "\n",
        "  Transf0 = df_transform.iloc[:,k].to_numpy().reshape(-1, 1) \n",
        "  plt.hist(Transf0, bins=30) \n",
        "  plt.xlabel(df_transform.columns[k])\n",
        "  if k==0:\n",
        "    plt.ylabel('Sin transformación')\n",
        "  \n",
        "  plt.subplot(6, 2,k+3)    \n",
        "  Transf1 = np.sqrt(Transf0)       \n",
        "  plt.hist(Transf1, bins=30)                      \n",
        "  plt.xlabel(df_transform.columns[k])\n",
        "  if k==0:\n",
        "    plt.ylabel('Raíz Cuadrada')\n",
        "\n",
        "  plt.subplot(6, 2,k+5)    \n",
        "  Transf2 = np.log(Transf0)       \n",
        "  plt.hist(Transf2, bins=30)                   \n",
        "  plt.xlabel(df_transform.columns[k])\n",
        "  if k==0:\n",
        "    plt.ylabel('Logarítmica')\n",
        "\n",
        "  plt.subplot(6, 2,k+7)  \n",
        "  Transf3 = np.power(Transf0,2)     \n",
        "  plt.hist(Transf3, bins=30)                   \n",
        "  plt.xlabel(df_transform.columns[k])\n",
        "  if k==0:\n",
        "    plt.ylabel('Potencia 2')\n",
        "\n",
        "  plt.subplot(6, 2,k+9)    \n",
        "  Transf4 = power_transform(Transf0,method='box-cox')          \n",
        "  plt.hist(Transf4, bins=30)                   \n",
        "  plt.xlabel(df_transform.columns[k])\n",
        "  if k==0:\n",
        "    plt.ylabel('Box-Cox')  \n",
        "\n",
        "  plt.subplot(6, 2,k+11)    \n",
        "  Transf5 = Sqrt_cx(df_transform.iloc[:,k])        \n",
        "  plt.hist(Transf5, bins=30)                   \n",
        "  plt.xlabel(df_transform.columns[k])\n",
        "  if k==0:\n",
        "    plt.ylabel('Raiz de (C-X)')  "
      ],
      "metadata": {
        "colab": {
          "base_uri": "https://localhost:8080/",
          "height": 1000
        },
        "id": "w562P4HuSUio",
        "outputId": "703324fa-0cc4-43ac-bbfc-551e57f2e1c7"
      },
      "execution_count": 16,
      "outputs": [
        {
          "output_type": "display_data",
          "data": {
            "text/plain": [
              "<Figure size 720x1800 with 12 Axes>"
            ],
            "image/png": "[encoded data removed]"
          },
          "metadata": {}
        }
      ]
    },
    {
      "cell_type": "markdown",
      "source": [
        "Mientras que ninguna transformacion logra una distribucion gaussiana para 'Page total likes', podemos ver que la mejor resultado tiene es box-cox. "
      ],
      "metadata": {
        "id": "XHuXwzwjbVHo"
      }
    },
    {
      "cell_type": "markdown",
      "source": [
        "Comenzamos creando el pipeline:"
      ],
      "metadata": {
        "id": "MQeHV4eEc-Ej"
      }
    },
    {
      "cell_type": "code",
      "source": [
        "########################################################################\n",
        "#viejo no usar este\n",
        "#########################################################################\n",
        "\n",
        "# Transformaciones a factores numéricos de entrada:\n",
        "num_pipeline = Pipeline(steps = [('impMedia', SimpleImputer(strategy='mean')),\n",
        "                                 ('box-cox', FunctionTransformer(power_transform,kw_args={'method':'box-cox'})),\n",
        "                                 ('escalaNum', MinMaxScaler(feature_range=(0, 3)))\n",
        "                                 ]) \n",
        "num_pipeline_nombres = num_nombres\n",
        "\n",
        "# Transformaciones a variables binarias de entrada:\n",
        "binImp_pipeline = Pipeline(steps = [('impModa', SimpleImputer(strategy='most_frequent'))])  \n",
        "binImp_pipeline_nombres = bin_nombres\n",
        "\n",
        "# Transformaciones de ordinal encoder a categoricas con string:\n",
        "catOHE_pipeline = Pipeline(steps = [('impModa', SimpleImputer(strategy='most_frequent')),\n",
        "                                    ('encoder', OrdinalEncoder())])\n",
        "catOHE_pipeline_nombres = cat_nombres\n",
        "\n",
        "\n",
        "\n",
        "\n",
        "# Conjuntamos las transformaciones que se estarán aplicando a los datos de entrada:\n",
        "columnasTransformer_X = ColumnTransformer(transformers = [('numpipe', num_pipeline, num_pipeline_nombres),\n",
        "                                                        ('binimp', binImp_pipeline, binImp_pipeline_nombres),\n",
        "                                                        ('catohe', catOHE_pipeline, catOHE_pipeline_nombres)],\n",
        "                                        remainder='passthrough')\n",
        "\n",
        "# Transformaciones a factores numéricos de salida:\n",
        "num_pipeline2 = Pipeline(steps = [('impMedia', SimpleImputer(strategy='mean')),\n",
        "                                  #('box-cox', FunctionTransformer(power_transform,kw_args={'method':'box-cox'}))\n",
        "                                  ('Sqrt', FunctionTransformer(np.sqrt))\n",
        "                                  #('escalaNum', MinMaxScaler(feature_range=(0, 1)))\n",
        "                                  ]) \n",
        "num_pipeline_nombres2 = ['LPE']\n",
        "# Conjuntamos las transformaciones que se estarán aplicando a los datos de salida:\n",
        "columnasTransformer_Y = ColumnTransformer(transformers = [('numpipe', num_pipeline2, num_pipeline_nombres2)],\n",
        "                                        remainder='passthrough')"
      ],
      "metadata": {
        "id": "vbIlx0G7dACO"
      },
      "execution_count": 110,
      "outputs": []
    },
    {
      "cell_type": "code",
      "source": [
        "# Transformaciones a factores numéricos de entrada:\n",
        "num_pipeline = Pipeline(steps = [('impMedia', SimpleImputer(strategy='mean')),\n",
        "                                 ('MaxSqrt', FunctionTransformer(Sqrt_cx)),\n",
        "                                 ('escalaNum', StandardScaler())\n",
        "                                 ]) \n",
        "num_pipeline_nombres = num_nombres\n",
        "\n",
        "# Transformaciones a variables binarias y ordinales de entrada:\n",
        "Imp_pipeline = Pipeline(steps = [('impModa', SimpleImputer(strategy='most_frequent'))])  \n",
        "Imp_pipeline_nombres = bin_nombres + ord_nombres\n",
        "\n",
        "# Transformaciones de ordinal encoder a categoricas con string:\n",
        "ordenco_pipeline = Pipeline(steps = [('impModa', SimpleImputer(strategy='most_frequent')),\n",
        "                                    ('encoder', OrdinalEncoder(handle_unknown='use_encoded_value',unknown_value=4))])\n",
        "ordenco_pipeline_nombres = cat_nombres\n",
        "\n",
        "\n",
        "# Conjuntamos las transformaciones que se estarán aplicando a los datos de entrada:\n",
        "columnasTransformer_X = ColumnTransformer(transformers = [('numpipe', num_pipeline, num_pipeline_nombres),\n",
        "                                                        ('impmoda', Imp_pipeline, Imp_pipeline_nombres),\n",
        "                                                        ('ordenco', ordenco_pipeline, ordenco_pipeline_nombres)],\n",
        "                                        remainder='passthrough')\n",
        "\n",
        "# Transformaciones a factores numéricos de salida:\n",
        "num_pipeline2 = Pipeline(steps = [('impMedia', SimpleImputer(strategy='mean')),\n",
        "                                  ('Sqrt', FunctionTransformer(np.sqrt))\n",
        "                                  ]) \n",
        "num_pipeline_nombres2 = ['LPE']\n",
        "# Conjuntamos las transformaciones que se estarán aplicando a los datos de salida:\n",
        "columnasTransformer_Y = ColumnTransformer(transformers = [('numpipe', num_pipeline2, num_pipeline_nombres2)],\n",
        "                                        remainder='passthrough')"
      ],
      "metadata": {
        "id": "gxcp9ANquthV"
      },
      "execution_count": 18,
      "outputs": []
    },
    {
      "cell_type": "markdown",
      "source": [
        "Utilizamos el método de imputar por la media en los valores numéricos. Así la media de cada variable se mantiene, y aunque se reduciría la desviación estándar un poco, podemos hacerlo asumiendo que los valores faltantes sean muy pocos comparados con el total de estos. Mientras que, para las variables categóricas y binarias, imputamos la moda. Esta representa el valor mas frecuente en cada variable, por lo que es valido utilizarlo.\n",
        "\n",
        "De igual manera, para los valores numéricos, se utiliza el método de MinMaxScaler para transformarlos a un rango entre 0 y 1. Mientras que para los valores categóricos se utiliza one-hot encoder, lo cual los transforma los categóricos a variables dummies con valores de 0 y 1. La unica variable binaria ya se encuentra con valores de 0 y 1, por lo que la dejamos tal cual. Lo que finalmente nos deja todas las variables en la misma magnitud."
      ],
      "metadata": {
        "id": "BdrDO1ENdkYW"
      }
    },
    {
      "cell_type": "markdown",
      "source": [
        "#**Ejercicio-5.**"
      ],
      "metadata": {
        "id": "Rv7KFq-mC7PS"
      }
    },
    {
      "cell_type": "markdown",
      "source": [
        "Utiliza la función Dummy para modelos de regresión de scikit-learn con el conjunto que tienes de datos de entrenamiento y validación. Para ello particiónalos en 100 para validación y 300 para entrenamiento. Encuentra los errores RMSE, MAE y MAPE para los conjuntos de entrenamiento y validación. Estos serán tus errores máximos que deberás tomar como referencia en el resto de la actividad. Consulta su documentación correspondiente: \n",
        " \n",
        "[https://scikit-learn.org/stable/modules/generated/sklearn.dummy.DummyRegressor.html](https://scikit-learn.org/stable/modules/generated/sklearn.dummy.DummyRegressor.html)"
      ],
      "metadata": {
        "id": "8ulohjudkYbB"
      }
    },
    {
      "cell_type": "code",
      "source": [
        "X_train, X_val, y_train, y_val = train_test_split(Xtv, ytv, train_size=300)\n",
        "\n",
        "print(X_train.shape, ': dimensión de datos de entrada de entrenamiento')\n",
        "print(X_val.shape, ': dimensión de datos de entrada de validación')\n",
        "print(Xtest.shape, ': dimensión de datos de entrada de prueba')  \n",
        "print(y_train.shape, ': dimensión de variable de salida para entrenamiento')\n",
        "print(y_val.shape, ': dimensión de variable de salida para validación')\n",
        "print(ytest.shape, ': dimensión de variable de salida para prueba')"
      ],
      "metadata": {
        "id": "jaDj3kawC9B6",
        "colab": {
          "base_uri": "https://localhost:8080/"
        },
        "outputId": "8b7f4cd8-0388-4ebf-f470-0387316d1973"
      },
      "execution_count": 19,
      "outputs": [
        {
          "output_type": "stream",
          "name": "stdout",
          "text": [
            "(300, 7) : dimensión de datos de entrada de entrenamiento\n",
            "(100, 7) : dimensión de datos de entrada de validación\n",
            "(100, 7) : dimensión de datos de entrada de prueba\n",
            "(300, 1) : dimensión de variable de salida para entrenamiento\n",
            "(100, 1) : dimensión de variable de salida para validación\n",
            "(100, 1) : dimensión de variable de salida para prueba\n"
          ]
        }
      ]
    },
    {
      "cell_type": "markdown",
      "source": [
        "Creamos y entrenamos le modelo:"
      ],
      "metadata": {
        "id": "k_R7nRiWuhFc"
      }
    },
    {
      "cell_type": "code",
      "source": [
        "#creamos el modelo dummy\n",
        "dummy_regr = DummyRegressor()\n",
        "\n",
        "#transformamos los datos en X y en Y\n",
        "Xct = columnasTransformer_X.fit(X_train)\n",
        "Xtt = Xct.transform(X_train)\n",
        "Xvt = Xct.transform(X_val)\n",
        "Xtvt = Xct.transform(Xtv)   #conjuto imputado para crossvalidation donde usamos train y validation\n",
        "Xpt = Xct.transform(Xtest)\n",
        "\n",
        "#dado que en Y solo imputamos para la media, sobrescribimos. En este caso sabemos que no tiene ningun valor nulo\n",
        "Yct = columnasTransformer_Y.fit(y_train)\n",
        "Ytt = Yct.transform(y_train)\n",
        "Yvt = Yct.transform(y_val)\n",
        "Ytvt = Yct.transform(ytv)   #conjuto imputado para crossvalidation donde usamos train y validation\n",
        "Ypt = Yct.transform(ytest)\n",
        "\n",
        "#entrenamos el modelo\n",
        "dummy_regr.fit(Xtt, np.ravel(Ytt))"
      ],
      "metadata": {
        "id": "4tQxQROVC9Us",
        "colab": {
          "base_uri": "https://localhost:8080/"
        },
        "outputId": "47e9919b-81ae-46ff-8690-c86fe45a488f"
      },
      "execution_count": 20,
      "outputs": [
        {
          "output_type": "execute_result",
          "data": {
            "text/plain": [
              "DummyRegressor()"
            ]
          },
          "metadata": {},
          "execution_count": 20
        }
      ]
    },
    {
      "cell_type": "markdown",
      "source": [
        "Encontramos los errores:"
      ],
      "metadata": {
        "id": "CVCh3nhKui9m"
      }
    },
    {
      "cell_type": "code",
      "source": [
        "#realizamos las predicciones con los datos de validacion\n",
        "yhat_train = dummy_regr.predict(Xtt)\n",
        "yhat_validation = dummy_regr.predict(Xvt)\n",
        "\n",
        "\n",
        "print('RMSE train: ', mi_RMSE(Ytt,yhat_train), 'RMSE validation: ', mi_RMSE(Yvt,yhat_validation))\n",
        "print('MAE train: ', mi_MAE(Ytt,yhat_train), 'MAE validation: ', mi_MAE(Yvt,yhat_validation))\n",
        "print('MAPE train: ', mi_MAPE(Ytt,yhat_train), 'MAPE validation: ', mi_MAPE(Yvt,yhat_validation))"
      ],
      "metadata": {
        "colab": {
          "base_uri": "https://localhost:8080/"
        },
        "id": "WwqeQ18pulkD",
        "outputId": "bdcfb6a5-125f-4322-ac9b-d6801d66055d"
      },
      "execution_count": 21,
      "outputs": [
        {
          "output_type": "stream",
          "name": "stdout",
          "text": [
            "RMSE train:  9.528144820118248 RMSE validation:  10.61752244056211\n",
            "MAE train:  6.783740064212761 MAE validation:  7.3672483223363585\n",
            "MAPE train:  0.34735280755653036 MAPE validation:  0.39811960947688124\n"
          ]
        }
      ]
    },
    {
      "cell_type": "markdown",
      "source": [
        "Donde el valor de MAPE nos da un valor arriba de 100%, lo cual claramente esta mal, pero es nuestro punto de partida"
      ],
      "metadata": {
        "id": "Jxiktrzhx8AW"
      }
    },
    {
      "cell_type": "markdown",
      "source": [
        "#**Ejercicio-6.**"
      ],
      "metadata": {
        "id": "W2S7LI0NC9wE"
      }
    },
    {
      "cell_type": "markdown",
      "source": [
        "Usando los modelos de regresión lineal múltiple, el bosque aleatorio y el perceptrón multicapa con sus valores predeterminados, lleva a cabo su entrenamiento con repeticiones de validación cruzada (RepeatedKFold) y desplegando los errores RMSE, MAE y MAPE. Recuerda evitar el filtrado de \n",
        "información usando los datos que obtuviste en el ejercicio 2. Incluye las conclusiones sobre el mejor modelo encontrado en esta primera aproximación. En particular ¿hay alguno sobreentrenado o subentrenado? NOTA: Recuerda que puedes aumentar en dado caso el número máximo de iteraciones para que todos los modelos converjan. "
      ],
      "metadata": {
        "id": "BD5FyQZIybp8"
      }
    },
    {
      "cell_type": "code",
      "source": [
        "#creamos una función para obtener los modelos a utilizar\n",
        "def get_models():\n",
        "  modelos = list()\n",
        "  nombres = list()\n",
        "\n",
        "  # LR - Regresión Logística:\n",
        "  modelos.append(LinearRegression())\n",
        "  nombres.append('LR')\n",
        "  \n",
        "  # RF - Bosque Aleatorio:\n",
        "  modelos.append(RandomForestRegressor())\n",
        "  nombres.append('RF')\n",
        "\n",
        "  # MLP - Multi-layer Perceptron:\n",
        "  modelos.append(MLPRegressor(max_iter=100000000000))\n",
        "  nombres.append('MLP')\n",
        "\n",
        "  return modelos, nombres"
      ],
      "metadata": {
        "id": "x6uBleJUC_AU"
      },
      "execution_count": 22,
      "outputs": []
    },
    {
      "cell_type": "markdown",
      "source": [
        "Para cross_validate utilizaremos los datos que inicialmente particionamos como train y validate"
      ],
      "metadata": {
        "id": "vKP5qJVH5zBC"
      }
    },
    {
      "cell_type": "code",
      "source": [
        "modelos, nombres = get_models()  # cargamos los modelos a comparar\n",
        "resultados = list()   \n",
        "\n",
        "cv = RepeatedKFold(n_splits=5, n_repeats=3, random_state=0) #indicamos 5 particiones y 3 repeticiones\n",
        "\n",
        "\n",
        "for i in range(len(modelos)):     #iteramos para cada modelo\n",
        "  pipeline = Pipeline(steps=[('ct',columnasTransformer_X),('m',modelos[i])])\n",
        "  mismetricas = {'RMSE':make_scorer(mi_RMSE), 'MAE':make_scorer(mi_MAE), 'MAPE':make_scorer(mi_MAPE)}\n",
        "  resultadosOU = cross_validate(pipeline, Xtv, np.ravel(Ytvt), scoring=mismetricas, cv=cv)\n",
        "  resultados.append(resultadosOU)\n",
        "\n",
        "  print('%s:\\nmean RMSE: %.3f (%.4f)\\nmean MAE: %.3f (%.4f)\\nmean MAPE: %.3f (%.4f)\\n' % (nombres[i],\n",
        "                                                                          np.mean(resultadosOU['test_RMSE']),\n",
        "                                                                          np.std(resultadosOU['test_RMSE']), \n",
        "                                                                          np.mean(resultadosOU['test_MAE']),\n",
        "                                                                          np.std(resultadosOU['test_MAE']),\n",
        "                                                                          np.mean(resultadosOU['test_MAPE']),\n",
        "                                                                          np.std(resultadosOU['test_MAPE'])\n",
        "                                                                          ))"
      ],
      "metadata": {
        "id": "n0P_AcyjC_Dh",
        "colab": {
          "base_uri": "https://localhost:8080/"
        },
        "outputId": "c0df16e7-997b-424e-ebdd-35ae51d6e6a6"
      },
      "execution_count": 23,
      "outputs": [
        {
          "output_type": "stream",
          "name": "stdout",
          "text": [
            "LR:\n",
            "mean RMSE: 8.494 (0.8661)\n",
            "mean MAE: 5.970 (0.5825)\n",
            "mean MAPE: 0.313 (0.0488)\n",
            "\n",
            "RF:\n",
            "mean RMSE: 8.394 (0.7982)\n",
            "mean MAE: 5.803 (0.4562)\n",
            "mean MAPE: 0.304 (0.0563)\n",
            "\n",
            "MLP:\n",
            "mean RMSE: 8.616 (0.8008)\n",
            "mean MAE: 5.992 (0.5146)\n",
            "mean MAPE: 0.311 (0.0556)\n",
            "\n"
          ]
        }
      ]
    },
    {
      "cell_type": "markdown",
      "source": [
        "Todos los modelos son malos ya que dan un MAPE arriba del 100%. Especialmente el MLP que es el que mayor error da. Todos los modelos estan subentrenados"
      ],
      "metadata": {
        "id": "P0r6v2UYJ8hf"
      }
    },
    {
      "cell_type": "markdown",
      "source": [
        "#**Ejercicio-7.**"
      ],
      "metadata": {
        "id": "iCNGx4TQ8CFI"
      }
    },
    {
      "cell_type": "markdown",
      "source": [
        "Obtener los diagramas de caja y bigote para los errores MAPE de los conjuntos de validación obtenidos. En particular compara estos primeros resultados de MAPE con el mejor resultado que encuentran los autores del artículo citado al inicio. Incluye tus conclusiones. "
      ],
      "metadata": {
        "id": "Js5-jmmVH-D3"
      }
    },
    {
      "cell_type": "code",
      "source": [
        "sns.set(rc={'figure.figsize':(8,4)})\n",
        "\n",
        "bprecall = list()\n",
        "for i in range(len(resultados)):\n",
        "  rr = resultados[i]['test_MAPE']\n",
        "  bprecall.append(rr)\n",
        "\n",
        "plt.boxplot(bprecall, labels=nombres, showmeans=True)\n",
        "\n",
        "plt.show()"
      ],
      "metadata": {
        "id": "ewvwUcJX78y1",
        "colab": {
          "base_uri": "https://localhost:8080/",
          "height": 268
        },
        "outputId": "1c5d56c6-778a-46f0-f38d-b44ab5cc1704"
      },
      "execution_count": 24,
      "outputs": [
        {
          "output_type": "display_data",
          "data": {
            "text/plain": [
              "<Figure size 576x288 with 1 Axes>"
            ],
            "image/png": "[encoded data removed]"
          },
          "metadata": {}
        }
      ]
    },
    {
      "cell_type": "markdown",
      "source": [
        "Citando al articulo:\n",
        "\n",
        "*Twelve performance metrics were modeled with these input features, from which the two models achieving the best performance modeled the “Lifetime Post Consumers” and the “Lifetime People who have liked a Page and engaged with a post” output features, with a mean absolute percentage error of 27.2% and of 26.9%, respectively.*\n",
        "\n",
        "Ellos utilizaron 12 input features, mientras nosotros solo 7. Sin embargo, para la variable de salida LPE, ellos obtuvieron un MAPE del 26.9%. Nuestros modelos aun tienen bastante trabajo por delante. "
      ],
      "metadata": {
        "id": "fq6FSd94KK_I"
      }
    },
    {
      "cell_type": "markdown",
      "source": [
        "#**Ejercicio-8.**"
      ],
      "metadata": {
        "id": "tzQn5NR78GFg"
      }
    },
    {
      "cell_type": "markdown",
      "source": [
        "Usando una búsqueda de malla con validación cruzada (GridSearchCV), busca los mejores hiperparámetros para el modelo MLP. Al menos deberás realizar la búsqueda en los hiperparámetros “hidden_layer_sizes”, “alpha” y “learning_rate_init”. Además aplica la validación cruzada con repeticiones (RepeatedKFold). Muestra los mejores hiperparámetros encontrados"
      ],
      "metadata": {
        "id": "Y3FqiSu7ITab"
      }
    },
    {
      "cell_type": "markdown",
      "source": [
        "Utilizamos MAPE como scoring ya que no se ha indicado ningun otro, pero es el que mas se ha usado"
      ],
      "metadata": {
        "id": "SP-nni_uMWiP"
      }
    },
    {
      "cell_type": "code",
      "source": [
        "#obtenemos el modelo y los parametros \n",
        "modeloMLP_iter = MLPRegressor(max_iter=100000000)\n",
        "cvLR = RepeatedKFold(n_splits=5, n_repeats=3, random_state=0)\n",
        "\n",
        "dicc_grid = [{'hidden_layer_sizes':[(5,5),(7,7),(9,9),(11,11),(13,13),(15,15)],\n",
        "             'alpha':[0.0001, 0.001, 0.005],\n",
        "             'learning_rate_init': [0.001, 0.005, 0.01]\n",
        "             }]\n",
        "             \n",
        "grid = GridSearchCV(estimator=modeloMLP_iter, \n",
        "                    param_grid=dicc_grid, \n",
        "                    cv=cvLR, \n",
        "                    scoring=make_scorer(mi_MAPE,greater_is_better=False),\n",
        "                    #scoring='neg_mean_absolute_percentage_error',\n",
        "                    error_score='raise')"
      ],
      "metadata": {
        "id": "EBKcp0278IQV"
      },
      "execution_count": 25,
      "outputs": []
    },
    {
      "cell_type": "code",
      "source": [
        "#X y Y ya se transformaron previamente\n",
        "grid.fit(Xtvt, np.ravel(Ytvt))\n",
        "\n",
        "print('Mejor valor de MAPE obtenido con la mejor combinación:', grid.best_score_)\n",
        "print('Mejor combinación de valores encontrados de los hiperparámetros:', grid.best_params_)\n",
        "print('Métrica utilizada:', grid.scoring)"
      ],
      "metadata": {
        "id": "vp8S0PFs8IMR",
        "colab": {
          "base_uri": "https://localhost:8080/"
        },
        "outputId": "1a18ba5f-428d-431f-b373-fa017bbfc0d8"
      },
      "execution_count": 26,
      "outputs": [
        {
          "output_type": "stream",
          "name": "stdout",
          "text": [
            "Mejor valor de MAPE obtenido con la mejor combinación: -0.29678847774123085\n",
            "Mejor combinación de valores encontrados de los hiperparámetros: {'alpha': 0.0001, 'hidden_layer_sizes': (11, 11), 'learning_rate_init': 0.005}\n",
            "Métrica utilizada: make_scorer(mi_MAPE, greater_is_better=False)\n"
          ]
        }
      ]
    },
    {
      "cell_type": "markdown",
      "source": [
        "#**Ejercicio-9.**"
      ],
      "metadata": {
        "id": "mASNrZWs8JTh"
      }
    },
    {
      "cell_type": "markdown",
      "source": [
        "Con los mejores valores de los hiperparámetros encontrados realiza un análisis de la importancia de los factores. Muestra un diagrama de barras de los resultados e incluye tus conclusiones. "
      ],
      "metadata": {
        "id": "SuF33TXgIXJH"
      }
    },
    {
      "cell_type": "code",
      "source": [
        "# Una vez inicializado y entrenada la MLP, veamos qué factores considera más importantes:\n",
        "\n",
        "modelo_MLP = MLPRegressor(hidden_layer_sizes=grid.best_params_['hidden_layer_sizes'],\n",
        "                            alpha=grid.best_params_['alpha'],\n",
        "                            learning_rate_init=grid.best_params_['learning_rate_init'],\n",
        "                            max_iter=100000000)  \n",
        "\n",
        "modelo_MLP.fit(Xtvt, np.ravel(Ytvt))\n",
        "\n",
        "\n",
        "\n",
        "importance = permutation_importance(modelo_MLP, Xtvt, np.ravel(Ytvt), n_repeats=10)\n",
        "\n",
        "# visualicemos la importancia de cada métrica, de las cuales sabemos\n",
        "# cuáles son las más importantes, de acuerdo a como se definieron al inicio:\n",
        "\n",
        "for i,v in enumerate(importance['importances_mean']):\n",
        "\tprint('Feature: %0d, Score: %.5f' % (i,v))\n",
        "\n",
        "\n",
        "f = plt.figure()\n",
        "plt.bar([x for x in range(len(importance['importances_mean']))], importance['importances_mean'])\n",
        "plt.show()"
      ],
      "metadata": {
        "id": "X6HJP9hb8LCp",
        "colab": {
          "base_uri": "https://localhost:8080/",
          "height": 390
        },
        "outputId": "99725b68-7dd8-4c38-cb08-8d7a59d9607c"
      },
      "execution_count": 27,
      "outputs": [
        {
          "output_type": "stream",
          "name": "stdout",
          "text": [
            "Feature: 0, Score: 0.22719\n",
            "Feature: 1, Score: 0.03449\n",
            "Feature: 2, Score: 0.16036\n",
            "Feature: 3, Score: 0.11999\n",
            "Feature: 4, Score: 0.13756\n",
            "Feature: 5, Score: 0.02648\n",
            "Feature: 6, Score: 0.71726\n"
          ]
        },
        {
          "output_type": "display_data",
          "data": {
            "text/plain": [
              "<Figure size 576x288 with 1 Axes>"
            ],
            "image/png": "[encoded data removed]"
          },
          "metadata": {}
        }
      ]
    },
    {
      "cell_type": "markdown",
      "source": [
        "#**Ejercicio-10.**"
      ],
      "metadata": {
        "id": "VUIcDshs8MzG"
      }
    },
    {
      "cell_type": "markdown",
      "source": [
        "Repite el ejercicio 8 y 9 para el modelo de bosque aleatorio para buscar sus mejores hiperparámetros (realiza la búsqueda con aquellos hiperparámetros que consideres más adecuados) y usando el conjunto de Prueba. Y realiza igualmente el análisis de importancia de factores con este modelo con un diagrama de barras. "
      ],
      "metadata": {
        "id": "KhNYxnQjIaXn"
      }
    },
    {
      "cell_type": "code",
      "source": [
        "#obtenemos el modelo y los parametros\n",
        "modeloRF_iter = RandomForestRegressor(random_state=0)\n",
        "cvRF = RepeatedKFold(n_splits=5, n_repeats=3, random_state=0)\n",
        "\n",
        "dicc_grid2 = [{'ccp_alpha':[0.0001,0.01,0.1,1.0,10.,100],'criterion':['squared_error','absolute_error','poisson'],\n",
        "             'max_depth':[1,2,3,4,5],'min_samples_split':[2,3,4],'max_features':['sqrt', 'log2', None]}]\n",
        "             \n",
        "grid2 = GridSearchCV(estimator=modeloRF_iter, \n",
        "                    param_grid=dicc_grid2, \n",
        "                    cv=cvRF, \n",
        "                    scoring=make_scorer(mi_MAPE,greater_is_better=False),\n",
        "                    #scoring='neg_mean_absolute_percentage_error',\n",
        "                    error_score='raise')"
      ],
      "metadata": {
        "id": "0lKNJNIt8N88"
      },
      "execution_count": 28,
      "outputs": []
    },
    {
      "cell_type": "code",
      "source": [
        "#X y Y ya se transformaron previamente\n",
        "grid2.fit(Xtvt, np.ravel(Ytvt))\n",
        "\n",
        "print('Mejor valor de MAPE obtenido con la mejor combinación:', grid2.best_score_)\n",
        "print('Mejor combinación de valores encontrados de los hiperparámetros:', grid2.best_params_)\n",
        "print('Métrica utilizada:', grid2.scoring)"
      ],
      "metadata": {
        "id": "Inkq5YQe8PED",
        "colab": {
          "base_uri": "https://localhost:8080/"
        },
        "outputId": "e1a13db7-6ae0-4ed0-a0b4-ea0281270512"
      },
      "execution_count": 29,
      "outputs": [
        {
          "output_type": "stream",
          "name": "stdout",
          "text": [
            "Mejor valor de MAPE obtenido con la mejor combinación: -0.25130875310757667\n",
            "Mejor combinación de valores encontrados de los hiperparámetros: {'ccp_alpha': 0.0001, 'criterion': 'absolute_error', 'max_depth': 3, 'max_features': None, 'min_samples_split': 3}\n",
            "Métrica utilizada: make_scorer(mi_MAPE, greater_is_better=False)\n"
          ]
        }
      ]
    },
    {
      "cell_type": "markdown",
      "source": [
        "Con los mejores valores de los hiperparámetros encontrados realiza un análisis de la importancia de los factores. Muestra un diagrama de barras de los resultados e incluye tus conclusiones."
      ],
      "metadata": {
        "id": "WIMVmrbZUy6G"
      }
    },
    {
      "cell_type": "code",
      "source": [
        "# Una vez inicializado y entrenada la MLP, veamos qué factores considera más importantes:\n",
        "modelo_RF = RandomForestRegressor(ccp_alpha=grid2.best_params_['ccp_alpha'], \n",
        "                            criterion=grid2.best_params_['criterion'], \n",
        "                            max_depth=grid2.best_params_['max_depth'],\n",
        "                            min_samples_split=grid2.best_params_['min_samples_split'],\n",
        "                            max_features=grid2.best_params_['max_features'])  \n",
        "\n",
        "modelo_RF.fit(Xtvt, np.ravel(Ytvt))\n",
        "\n",
        "importance = permutation_importance(modelo_RF, Xtvt, np.ravel(Ytvt), n_repeats=10)\n",
        "\n",
        "# visualicemos la importancia de cada métrica, de las cuales sabemos\n",
        "# cuáles son las más importantes, de acuerdo a como se definieron al inicio:\n",
        "\n",
        "for i,v in enumerate(importance['importances_mean']):\n",
        "\tprint('Feature: %0d, Score: %.5f' % (i,v))\n",
        " \n",
        "plt.bar([x for x in range(len(importance['importances_mean']))], importance['importances_mean'])\n",
        "plt.show()"
      ],
      "metadata": {
        "colab": {
          "base_uri": "https://localhost:8080/",
          "height": 390
        },
        "id": "s15o6P9sU0V1",
        "outputId": "02fa351b-299c-409b-df3f-608b622068b4"
      },
      "execution_count": 30,
      "outputs": [
        {
          "output_type": "stream",
          "name": "stdout",
          "text": [
            "Feature: 0, Score: 0.12736\n",
            "Feature: 1, Score: 0.00282\n",
            "Feature: 2, Score: 0.03376\n",
            "Feature: 3, Score: 0.04535\n",
            "Feature: 4, Score: 0.00394\n",
            "Feature: 5, Score: 0.00717\n",
            "Feature: 6, Score: 0.83530\n"
          ]
        },
        {
          "output_type": "display_data",
          "data": {
            "text/plain": [
              "<Figure size 576x288 with 1 Axes>"
            ],
            "image/png": "[encoded data removed]"
          },
          "metadata": {}
        }
      ]
    },
    {
      "cell_type": "markdown",
      "source": [
        "#**Ejercicio-11.**"
      ],
      "metadata": {
        "id": "5LJl6oql8Pc8"
      }
    },
    {
      "cell_type": "markdown",
      "source": [
        "Repite el ejercicio 8 y 9 para el modelo de regresión lineal múltiple para buscar sus mejores hiperparámetros (realiza la búsqueda con aquellos hiperparámetros que consideres más adecuados) y usando el conjunto de Prueba. Y realiza igualmente el análisis de importancia de factores con este modelo con un diagrama de barras. "
      ],
      "metadata": {
        "id": "Jk1S5_xQIhVx"
      }
    },
    {
      "cell_type": "code",
      "source": [
        "#obtenemos el modelo y los parametros\n",
        "modeloLR_iter = LinearRegression()\n",
        "cvLR = RepeatedKFold(n_splits=5, n_repeats=3, random_state=0)\n",
        "\n",
        "dicc_grid3 = [{'fit_intercept':[True,False]}]\n",
        "             \n",
        "grid3 = GridSearchCV(estimator=modeloLR_iter, \n",
        "                    param_grid=dicc_grid3, \n",
        "                    cv=cvLR, \n",
        "                    scoring=make_scorer(mi_MAPE,greater_is_better=False),\n",
        "                    #scoring='neg_mean_absolute_percentage_error',\n",
        "                    error_score='raise')"
      ],
      "metadata": {
        "id": "-YiSnt9t8RfN"
      },
      "execution_count": 31,
      "outputs": []
    },
    {
      "cell_type": "code",
      "source": [
        "#X y Y ya se transformaron previamente\n",
        "grid3.fit(Xtvt, np.ravel(Ytvt))\n",
        "\n",
        "print('Mejor valor de MAPE obtenido con la mejor combinación:', grid3.best_score_)\n",
        "print('Mejor combinación de valores encontrados de los hiperparámetros:', grid3.best_params_)\n",
        "print('Métrica utilizada:', grid3.scoring)"
      ],
      "metadata": {
        "id": "2iRA78ZC8Rbm",
        "colab": {
          "base_uri": "https://localhost:8080/"
        },
        "outputId": "4e6d1426-08d0-4435-94ed-cb45cb194751"
      },
      "execution_count": 32,
      "outputs": [
        {
          "output_type": "stream",
          "name": "stdout",
          "text": [
            "Mejor valor de MAPE obtenido con la mejor combinación: -0.3124818906905059\n",
            "Mejor combinación de valores encontrados de los hiperparámetros: {'fit_intercept': True}\n",
            "Métrica utilizada: make_scorer(mi_MAPE, greater_is_better=False)\n"
          ]
        }
      ]
    },
    {
      "cell_type": "markdown",
      "source": [
        "Con los mejores valores de los hiperparámetros encontrados realiza un análisis de la importancia de los factores. Muestra un diagrama de barras de los resultados e incluye tus conclusiones."
      ],
      "metadata": {
        "id": "ZNc4HraaWRqU"
      }
    },
    {
      "cell_type": "code",
      "source": [
        "# Una vez inicializado y entrenada la MLP, veamos qué factores considera más importantes:\n",
        "modelo_LR = LinearRegression(fit_intercept=grid3.best_params_['fit_intercept'])  \n",
        "\n",
        "modelo_LR.fit(Xtvt, np.ravel(Ytvt))\n",
        "\n",
        "importance = permutation_importance(modelo_LR, Xtvt, np.ravel(Ytvt), n_repeats=10)\n",
        "\n",
        "# visualicemos la importancia de cada métrica, de las cuales sabemos\n",
        "# cuáles son las más importantes, de acuerdo a como se definieron al inicio:\n",
        "\n",
        "for i,v in enumerate(importance['importances_mean']):\n",
        "\tprint('Feature: %0d, Score: %.5f' % (i,v))\n",
        " \n",
        "plt.bar([x for x in range(len(importance['importances_mean']))], importance['importances_mean'])\n",
        "plt.show()"
      ],
      "metadata": {
        "colab": {
          "base_uri": "https://localhost:8080/",
          "height": 390
        },
        "id": "7dpAqZuWWTS8",
        "outputId": "329f91e4-73fd-4610-f6f5-f9e28ee1bbcd"
      },
      "execution_count": 33,
      "outputs": [
        {
          "output_type": "stream",
          "name": "stdout",
          "text": [
            "Feature: 0, Score: 0.40855\n",
            "Feature: 1, Score: 0.00252\n",
            "Feature: 2, Score: 0.00065\n",
            "Feature: 3, Score: -0.00015\n",
            "Feature: 4, Score: 0.66571\n",
            "Feature: 5, Score: 0.00009\n",
            "Feature: 6, Score: 0.56420\n"
          ]
        },
        {
          "output_type": "display_data",
          "data": {
            "text/plain": [
              "<Figure size 576x288 with 1 Axes>"
            ],
            "image/png": "[encoded data removed]"
          },
          "metadata": {}
        }
      ]
    },
    {
      "cell_type": "markdown",
      "source": [
        "#**Ejercicio-12.**"
      ],
      "metadata": {
        "id": "IKW72uyk8Sbc"
      }
    },
    {
      "cell_type": "markdown",
      "source": [
        "Compara tus resultados con los obtenidos por los autores del artículo de Moro-Rita-Vala con respecto a MAPE. Incluye tus conclusiones finales de la actividad. "
      ],
      "metadata": {
        "id": "J4Xvduy7Ik6o"
      }
    },
    {
      "cell_type": "code",
      "source": [
        "None"
      ],
      "metadata": {
        "id": "gwpz77W38Uq0"
      },
      "execution_count": null,
      "outputs": []
    },
    {
      "cell_type": "code",
      "source": [],
      "metadata": {
        "id": "8v8HL02W8UmW"
      },
      "execution_count": null,
      "outputs": []
    },
    {
      "cell_type": "markdown",
      "source": [
        "###**Fin de la Actividad de la semana 7.**"
      ],
      "metadata": {
        "id": "7ql_r2G-DB_m"
      }
    }
  ]
}